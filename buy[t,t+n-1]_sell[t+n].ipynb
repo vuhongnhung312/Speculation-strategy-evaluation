{
 "cells": [
  {
   "cell_type": "code",
   "execution_count": 8,
   "metadata": {},
   "outputs": [],
   "source": [
    "import pandas as pd\n",
    "import numpy as np"
   ]
  },
  {
   "cell_type": "code",
   "execution_count": 2,
   "metadata": {},
   "outputs": [],
   "source": [
    "xls_CDNB = pd.ExcelFile(r'/Users/hongnhungvu/Desktop/Thesis_Data/CDNB_cleaned.xlsx')\n",
    "df_NB = pd.read_excel(xls_CDNB)\n",
    "xls_NLQ = pd.ExcelFile(r'/Users/hongnhungvu/Desktop/Thesis_Data/NLQ_cleaned.xlsx')\n",
    "df_NLQ = pd.read_excel(xls_NLQ)\n",
    "df_IT = df_NB.append(df_NLQ,ignore_index=True,sort=False) "
   ]
  },
  {
   "cell_type": "code",
   "execution_count": 3,
   "metadata": {},
   "outputs": [],
   "source": [
    "df_IT = df_IT.drop(df_IT[(df_IT.RegisterBuyVolume.isnull())&(df_IT.BuyVolume == 0)].index)\n",
    "df_IT = df_IT.drop(df_IT[(df_IT.RegisterSellVolume.isnull())&(df_IT.SellVolume == 0)].index)"
   ]
  },
  {
   "cell_type": "code",
   "execution_count": 4,
   "metadata": {},
   "outputs": [],
   "source": [
    "xls_1220 = pd.ExcelFile('/Users/hongnhungvu/Desktop/Thesis_Data/Data_IT/Data_Trading_2012_2020.xlsx')\n",
    "xls_11 = pd.ExcelFile('/Users/hongnhungvu/Desktop/Thesis_Data/Data_IT/Data_Trading_2011.xlsx')\n",
    "xls_21 = pd.ExcelFile('/Users/hongnhungvu/Desktop/Thesis_Data/Data_IT/Data_Trading_2021.xlsx')\n",
    "\n",
    "df1_1220 = pd.read_excel(xls_1220, '1')\n",
    "df2_1220 = pd.read_excel(xls_1220, '2')\n",
    "df3_1220 = pd.read_excel(xls_1220, '3')\n",
    "df4_11 = pd.read_excel(xls_11)\n",
    "df5_21 = pd.read_excel(xls_21)\n",
    "\n",
    "#Merge all into df_1121\n",
    "df_1121 = df1_1220.append([df2_1220,df3_1220,df4_11,df5_21],ignore_index=True,sort=False)\n",
    "df_1121_dup = df_1121.copy()\n",
    "df_1121_dup.rename(columns={\"TradingDate\":\"RegisterDate\"}, inplace=True)\n",
    "\n",
    "#Calculate daily ret of securities\n",
    "df_1121_dup['Pi_ret'] = df_1121_dup.groupby('StockCode')['CloseAdj'].pct_change(-1)"
   ]
  },
  {
   "cell_type": "code",
   "execution_count": 5,
   "metadata": {},
   "outputs": [],
   "source": [
    "#Map 'Exchange' & 'KLCPGD' values using cols\n",
    "cols =['StockCode','RegisterDate']\n",
    "df_IT['Exchange'] = df_IT.set_index(cols).index.map(df_1121_dup.set_index(cols)['Exchange'])\n",
    "df_IT['KLCPLH'] = df_IT.set_index(cols).index.map(df_1121_dup.set_index(cols)['KLCPLH'])\n",
    "\n",
    "#Calculate date difference\n",
    "from datetime import datetime\n",
    "A = [d.date() for d in df_IT['DateStartExpected']]\n",
    "B = [d.date() for d in df_IT['RegisterDate']]\n",
    "df_IT['Diff_days'] = np.busday_count(B, A)\n",
    "\n",
    "#Recalculate percentage values\n",
    "df_IT['RegisterVolumeBeforePercent'] = df_IT['RegisterVolumeBefore']/df_IT['KLCPLH']\n",
    "df_IT['RegisterVolumeAfterPercent'] = df_IT['RegisterVolumeAfter']/df_IT['KLCPLH']\n",
    "df_IT['VolumeBeforePercent'] = df_IT['VolumeBefore']/df_IT['KLCPLH']\n",
    "df_IT['VolumeAfterPercent'] = df_IT['VolumeAfter']/df_IT['KLCPLH']\n",
    "\n",
    "#Cleaning data: drop all percentage values>1\n",
    "df_IT = df_IT[(df_IT['RegisterVolumeBeforePercent'] < 1) &\n",
    "               (df_IT['RegisterVolumeAfterPercent'] < 1) &\n",
    "               (df_IT['VolumeBeforePercent'] < 1) & (df_IT['VolumeAfterPercent']<1)]"
   ]
  },
  {
   "cell_type": "code",
   "execution_count": 6,
   "metadata": {},
   "outputs": [],
   "source": [
    "#Match Securities Ret\n",
    "\n",
    "df_IT['Ri_T1_0'] = df_IT.set_index(cols).index.map(df_1121_dup.set_index(cols)['Pi_ret'])\n",
    "\n",
    "for x in range(1,12):\n",
    "    df_IT['Ri_T1_' + str(x)] = df_IT.set_index(cols).index.map(df_1121_dup.set_index(cols).groupby('StockCode')['Pi_ret'].shift(x))"
   ]
  },
  {
   "cell_type": "code",
   "execution_count": 7,
   "metadata": {},
   "outputs": [],
   "source": [
    "df_IT.to_excel(r'/Users/hongnhungvu/Desktop/preview_12_all.xlsx',index=False)\n",
    "\n",
    "#Here I export the file to clear all stock prices that does not belong [t,t+n], the file above is [t,t+12) and n is in [0,10]\n",
    "#I use filter in Excel and clear manually\n",
    "#Since I don't know how to do it in Python"
   ]
  },
  {
   "cell_type": "code",
   "execution_count": 9,
   "metadata": {},
   "outputs": [],
   "source": [
    "xls_new = pd.ExcelFile(r'/Users/hongnhungvu/Desktop/preview_12_all.xlsx')\n",
    "df_new = pd.read_excel(xls_new)"
   ]
  },
  {
   "cell_type": "code",
   "execution_count": 10,
   "metadata": {},
   "outputs": [],
   "source": [
    "df_new_buy = pd.DataFrame(df_new[(df_new['RegisterSellVolume'].isnull())])\n",
    "df_new_sell = pd.DataFrame(df_new[(df_new['RegisterBuyVolume'].isnull())])"
   ]
  },
  {
   "cell_type": "code",
   "execution_count": 11,
   "metadata": {
    "scrolled": true
   },
   "outputs": [
    {
     "data": {
      "text/html": [
       "<div>\n",
       "<style scoped>\n",
       "    .dataframe tbody tr th:only-of-type {\n",
       "        vertical-align: middle;\n",
       "    }\n",
       "\n",
       "    .dataframe tbody tr th {\n",
       "        vertical-align: top;\n",
       "    }\n",
       "\n",
       "    .dataframe thead th {\n",
       "        text-align: right;\n",
       "    }\n",
       "</style>\n",
       "<table border=\"1\" class=\"dataframe\">\n",
       "  <thead>\n",
       "    <tr style=\"text-align: right;\">\n",
       "      <th></th>\n",
       "      <th>StockCode</th>\n",
       "      <th>RegisterDate</th>\n",
       "      <th>ResultReportDate</th>\n",
       "      <th>DateStartExpected</th>\n",
       "      <th>DateEndExpected</th>\n",
       "      <th>DateActionFrom</th>\n",
       "      <th>DateActionTo</th>\n",
       "      <th>TypeName</th>\n",
       "      <th>RegisterVolumeBefore</th>\n",
       "      <th>RegisterVolumeBeforePercent</th>\n",
       "      <th>...</th>\n",
       "      <th>Ri_T1_1</th>\n",
       "      <th>Ri_T1_2</th>\n",
       "      <th>Ri_T1_3</th>\n",
       "      <th>Ri_T1_4</th>\n",
       "      <th>Ri_T1_5</th>\n",
       "      <th>Ri_T1_6</th>\n",
       "      <th>Ri_T1_7</th>\n",
       "      <th>Ri_T1_8</th>\n",
       "      <th>Ri_T1_9</th>\n",
       "      <th>Ri_T1_10</th>\n",
       "    </tr>\n",
       "  </thead>\n",
       "  <tbody>\n",
       "    <tr>\n",
       "      <th>1</th>\n",
       "      <td>DHA</td>\n",
       "      <td>2012-01-05</td>\n",
       "      <td>2012-02-06</td>\n",
       "      <td>2012-01-10</td>\n",
       "      <td>2012-03-09</td>\n",
       "      <td>2012-01-10</td>\n",
       "      <td>2012-02-03</td>\n",
       "      <td>GD CD noi bo</td>\n",
       "      <td>275206</td>\n",
       "      <td>0.018272</td>\n",
       "      <td>...</td>\n",
       "      <td>0.000000</td>\n",
       "      <td>-0.011765</td>\n",
       "      <td>-0.142857</td>\n",
       "      <td>NaN</td>\n",
       "      <td>NaN</td>\n",
       "      <td>NaN</td>\n",
       "      <td>NaN</td>\n",
       "      <td>NaN</td>\n",
       "      <td>NaN</td>\n",
       "      <td>NaN</td>\n",
       "    </tr>\n",
       "    <tr>\n",
       "      <th>2</th>\n",
       "      <td>REE</td>\n",
       "      <td>2012-01-04</td>\n",
       "      <td>2012-02-13</td>\n",
       "      <td>2012-01-09</td>\n",
       "      <td>2012-03-09</td>\n",
       "      <td>2012-01-09</td>\n",
       "      <td>2012-02-13</td>\n",
       "      <td>GD CD noi bo</td>\n",
       "      <td>7742346</td>\n",
       "      <td>0.032308</td>\n",
       "      <td>...</td>\n",
       "      <td>0.000000</td>\n",
       "      <td>-0.017241</td>\n",
       "      <td>-0.105263</td>\n",
       "      <td>NaN</td>\n",
       "      <td>NaN</td>\n",
       "      <td>NaN</td>\n",
       "      <td>NaN</td>\n",
       "      <td>NaN</td>\n",
       "      <td>NaN</td>\n",
       "      <td>NaN</td>\n",
       "    </tr>\n",
       "    <tr>\n",
       "      <th>7</th>\n",
       "      <td>PNC</td>\n",
       "      <td>2012-02-03</td>\n",
       "      <td>2012-02-17</td>\n",
       "      <td>2012-02-08</td>\n",
       "      <td>2012-03-08</td>\n",
       "      <td>2012-02-08</td>\n",
       "      <td>2012-02-15</td>\n",
       "      <td>GD CD noi bo</td>\n",
       "      <td>310000</td>\n",
       "      <td>0.031575</td>\n",
       "      <td>...</td>\n",
       "      <td>0.046512</td>\n",
       "      <td>0.022222</td>\n",
       "      <td>-0.130435</td>\n",
       "      <td>NaN</td>\n",
       "      <td>NaN</td>\n",
       "      <td>NaN</td>\n",
       "      <td>NaN</td>\n",
       "      <td>NaN</td>\n",
       "      <td>NaN</td>\n",
       "      <td>NaN</td>\n",
       "    </tr>\n",
       "    <tr>\n",
       "      <th>8</th>\n",
       "      <td>LSS</td>\n",
       "      <td>2012-02-13</td>\n",
       "      <td>2012-02-17</td>\n",
       "      <td>2012-02-16</td>\n",
       "      <td>2012-02-28</td>\n",
       "      <td>2012-02-16</td>\n",
       "      <td>2012-02-16</td>\n",
       "      <td>GD CD noi bo</td>\n",
       "      <td>23462</td>\n",
       "      <td>0.000469</td>\n",
       "      <td>...</td>\n",
       "      <td>0.013889</td>\n",
       "      <td>-0.018265</td>\n",
       "      <td>-0.027907</td>\n",
       "      <td>NaN</td>\n",
       "      <td>NaN</td>\n",
       "      <td>NaN</td>\n",
       "      <td>NaN</td>\n",
       "      <td>NaN</td>\n",
       "      <td>NaN</td>\n",
       "      <td>NaN</td>\n",
       "    </tr>\n",
       "    <tr>\n",
       "      <th>9</th>\n",
       "      <td>DDM</td>\n",
       "      <td>2012-02-07</td>\n",
       "      <td>2012-02-20</td>\n",
       "      <td>2012-02-10</td>\n",
       "      <td>2012-03-31</td>\n",
       "      <td>2012-02-10</td>\n",
       "      <td>2012-02-16</td>\n",
       "      <td>GD CD noi bo</td>\n",
       "      <td>0</td>\n",
       "      <td>0.000000</td>\n",
       "      <td>...</td>\n",
       "      <td>0.037037</td>\n",
       "      <td>0.035714</td>\n",
       "      <td>0.103448</td>\n",
       "      <td>NaN</td>\n",
       "      <td>NaN</td>\n",
       "      <td>NaN</td>\n",
       "      <td>NaN</td>\n",
       "      <td>NaN</td>\n",
       "      <td>NaN</td>\n",
       "      <td>NaN</td>\n",
       "    </tr>\n",
       "    <tr>\n",
       "      <th>...</th>\n",
       "      <td>...</td>\n",
       "      <td>...</td>\n",
       "      <td>...</td>\n",
       "      <td>...</td>\n",
       "      <td>...</td>\n",
       "      <td>...</td>\n",
       "      <td>...</td>\n",
       "      <td>...</td>\n",
       "      <td>...</td>\n",
       "      <td>...</td>\n",
       "      <td>...</td>\n",
       "      <td>...</td>\n",
       "      <td>...</td>\n",
       "      <td>...</td>\n",
       "      <td>...</td>\n",
       "      <td>...</td>\n",
       "      <td>...</td>\n",
       "      <td>...</td>\n",
       "      <td>...</td>\n",
       "      <td>...</td>\n",
       "      <td>...</td>\n",
       "    </tr>\n",
       "    <tr>\n",
       "      <th>11907</th>\n",
       "      <td>TVC</td>\n",
       "      <td>2020-12-11</td>\n",
       "      <td>2020-12-23</td>\n",
       "      <td>2020-12-14</td>\n",
       "      <td>2021-01-08</td>\n",
       "      <td>2020-12-14</td>\n",
       "      <td>2020-12-21</td>\n",
       "      <td>GD cua nguoi lien quan</td>\n",
       "      <td>16104073</td>\n",
       "      <td>0.349739</td>\n",
       "      <td>...</td>\n",
       "      <td>0.016000</td>\n",
       "      <td>NaN</td>\n",
       "      <td>NaN</td>\n",
       "      <td>NaN</td>\n",
       "      <td>NaN</td>\n",
       "      <td>NaN</td>\n",
       "      <td>NaN</td>\n",
       "      <td>NaN</td>\n",
       "      <td>NaN</td>\n",
       "      <td>NaN</td>\n",
       "    </tr>\n",
       "    <tr>\n",
       "      <th>11910</th>\n",
       "      <td>PGC</td>\n",
       "      <td>2020-11-19</td>\n",
       "      <td>2020-12-24</td>\n",
       "      <td>2020-11-23</td>\n",
       "      <td>2020-12-22</td>\n",
       "      <td>2020-11-23</td>\n",
       "      <td>2020-12-22</td>\n",
       "      <td>GD cua nguoi lien quan</td>\n",
       "      <td>5066456</td>\n",
       "      <td>0.083966</td>\n",
       "      <td>...</td>\n",
       "      <td>0.022026</td>\n",
       "      <td>0.077586</td>\n",
       "      <td>NaN</td>\n",
       "      <td>NaN</td>\n",
       "      <td>NaN</td>\n",
       "      <td>NaN</td>\n",
       "      <td>NaN</td>\n",
       "      <td>NaN</td>\n",
       "      <td>NaN</td>\n",
       "      <td>NaN</td>\n",
       "    </tr>\n",
       "    <tr>\n",
       "      <th>11911</th>\n",
       "      <td>DTL</td>\n",
       "      <td>2020-12-11</td>\n",
       "      <td>2020-12-24</td>\n",
       "      <td>2020-12-17</td>\n",
       "      <td>2021-01-16</td>\n",
       "      <td>2020-12-23</td>\n",
       "      <td>2020-12-24</td>\n",
       "      <td>GD cua nguoi lien quan</td>\n",
       "      <td>235000</td>\n",
       "      <td>0.003876</td>\n",
       "      <td>...</td>\n",
       "      <td>0.068562</td>\n",
       "      <td>0.068858</td>\n",
       "      <td>0.068814</td>\n",
       "      <td>-0.279452</td>\n",
       "      <td>NaN</td>\n",
       "      <td>NaN</td>\n",
       "      <td>NaN</td>\n",
       "      <td>NaN</td>\n",
       "      <td>NaN</td>\n",
       "      <td>NaN</td>\n",
       "    </tr>\n",
       "    <tr>\n",
       "      <th>11920</th>\n",
       "      <td>CC4</td>\n",
       "      <td>2020-11-13</td>\n",
       "      <td>2020-12-28</td>\n",
       "      <td>2020-11-17</td>\n",
       "      <td>2020-12-15</td>\n",
       "      <td>2020-11-16</td>\n",
       "      <td>2020-12-15</td>\n",
       "      <td>GD cua nguoi lien quan</td>\n",
       "      <td>2880000</td>\n",
       "      <td>0.180000</td>\n",
       "      <td>...</td>\n",
       "      <td>0.000000</td>\n",
       "      <td>-0.000000</td>\n",
       "      <td>NaN</td>\n",
       "      <td>NaN</td>\n",
       "      <td>NaN</td>\n",
       "      <td>NaN</td>\n",
       "      <td>NaN</td>\n",
       "      <td>NaN</td>\n",
       "      <td>NaN</td>\n",
       "      <td>NaN</td>\n",
       "    </tr>\n",
       "    <tr>\n",
       "      <th>11931</th>\n",
       "      <td>VDP</td>\n",
       "      <td>2020-12-23</td>\n",
       "      <td>2020-12-29</td>\n",
       "      <td>2020-12-28</td>\n",
       "      <td>2020-12-29</td>\n",
       "      <td>2020-12-28</td>\n",
       "      <td>2020-12-28</td>\n",
       "      <td>GD cua nguoi lien quan</td>\n",
       "      <td>1826264</td>\n",
       "      <td>0.113789</td>\n",
       "      <td>...</td>\n",
       "      <td>0.003135</td>\n",
       "      <td>-0.003125</td>\n",
       "      <td>-0.056426</td>\n",
       "      <td>NaN</td>\n",
       "      <td>NaN</td>\n",
       "      <td>NaN</td>\n",
       "      <td>NaN</td>\n",
       "      <td>NaN</td>\n",
       "      <td>NaN</td>\n",
       "      <td>NaN</td>\n",
       "    </tr>\n",
       "  </tbody>\n",
       "</table>\n",
       "<p>5286 rows × 43 columns</p>\n",
       "</div>"
      ],
      "text/plain": [
       "      StockCode RegisterDate ResultReportDate DateStartExpected  \\\n",
       "1           DHA   2012-01-05       2012-02-06        2012-01-10   \n",
       "2           REE   2012-01-04       2012-02-13        2012-01-09   \n",
       "7           PNC   2012-02-03       2012-02-17        2012-02-08   \n",
       "8           LSS   2012-02-13       2012-02-17        2012-02-16   \n",
       "9           DDM   2012-02-07       2012-02-20        2012-02-10   \n",
       "...         ...          ...              ...               ...   \n",
       "11907       TVC   2020-12-11       2020-12-23        2020-12-14   \n",
       "11910       PGC   2020-11-19       2020-12-24        2020-11-23   \n",
       "11911       DTL   2020-12-11       2020-12-24        2020-12-17   \n",
       "11920       CC4   2020-11-13       2020-12-28        2020-11-17   \n",
       "11931       VDP   2020-12-23       2020-12-29        2020-12-28   \n",
       "\n",
       "      DateEndExpected DateActionFrom DateActionTo                TypeName  \\\n",
       "1          2012-03-09     2012-01-10   2012-02-03            GD CD noi bo   \n",
       "2          2012-03-09     2012-01-09   2012-02-13            GD CD noi bo   \n",
       "7          2012-03-08     2012-02-08   2012-02-15            GD CD noi bo   \n",
       "8          2012-02-28     2012-02-16   2012-02-16            GD CD noi bo   \n",
       "9          2012-03-31     2012-02-10   2012-02-16            GD CD noi bo   \n",
       "...               ...            ...          ...                     ...   \n",
       "11907      2021-01-08     2020-12-14   2020-12-21  GD cua nguoi lien quan   \n",
       "11910      2020-12-22     2020-11-23   2020-12-22  GD cua nguoi lien quan   \n",
       "11911      2021-01-16     2020-12-23   2020-12-24  GD cua nguoi lien quan   \n",
       "11920      2020-12-15     2020-11-16   2020-12-15  GD cua nguoi lien quan   \n",
       "11931      2020-12-29     2020-12-28   2020-12-28  GD cua nguoi lien quan   \n",
       "\n",
       "       RegisterVolumeBefore  RegisterVolumeBeforePercent  ...   Ri_T1_1  \\\n",
       "1                    275206                     0.018272  ...  0.000000   \n",
       "2                   7742346                     0.032308  ...  0.000000   \n",
       "7                    310000                     0.031575  ...  0.046512   \n",
       "8                     23462                     0.000469  ...  0.013889   \n",
       "9                         0                     0.000000  ...  0.037037   \n",
       "...                     ...                          ...  ...       ...   \n",
       "11907              16104073                     0.349739  ...  0.016000   \n",
       "11910               5066456                     0.083966  ...  0.022026   \n",
       "11911                235000                     0.003876  ...  0.068562   \n",
       "11920               2880000                     0.180000  ...  0.000000   \n",
       "11931               1826264                     0.113789  ...  0.003135   \n",
       "\n",
       "        Ri_T1_2   Ri_T1_3   Ri_T1_4  Ri_T1_5  Ri_T1_6  Ri_T1_7  Ri_T1_8  \\\n",
       "1     -0.011765 -0.142857       NaN      NaN      NaN      NaN      NaN   \n",
       "2     -0.017241 -0.105263       NaN      NaN      NaN      NaN      NaN   \n",
       "7      0.022222 -0.130435       NaN      NaN      NaN      NaN      NaN   \n",
       "8     -0.018265 -0.027907       NaN      NaN      NaN      NaN      NaN   \n",
       "9      0.035714  0.103448       NaN      NaN      NaN      NaN      NaN   \n",
       "...         ...       ...       ...      ...      ...      ...      ...   \n",
       "11907       NaN       NaN       NaN      NaN      NaN      NaN      NaN   \n",
       "11910  0.077586       NaN       NaN      NaN      NaN      NaN      NaN   \n",
       "11911  0.068858  0.068814 -0.279452      NaN      NaN      NaN      NaN   \n",
       "11920 -0.000000       NaN       NaN      NaN      NaN      NaN      NaN   \n",
       "11931 -0.003125 -0.056426       NaN      NaN      NaN      NaN      NaN   \n",
       "\n",
       "       Ri_T1_9  Ri_T1_10  \n",
       "1          NaN       NaN  \n",
       "2          NaN       NaN  \n",
       "7          NaN       NaN  \n",
       "8          NaN       NaN  \n",
       "9          NaN       NaN  \n",
       "...        ...       ...  \n",
       "11907      NaN       NaN  \n",
       "11910      NaN       NaN  \n",
       "11911      NaN       NaN  \n",
       "11920      NaN       NaN  \n",
       "11931      NaN       NaN  \n",
       "\n",
       "[5286 rows x 43 columns]"
      ]
     },
     "execution_count": 11,
     "metadata": {},
     "output_type": "execute_result"
    }
   ],
   "source": [
    "for i in range(len(df_new_buy)):\n",
    "    k = df_new_buy['Diff_days'].iloc[i]\n",
    "    df_new_buy.iloc[i,32+k] = (df_new_buy.iloc[i,32+k]*(-1))*k\n",
    "df_new_buy"
   ]
  },
  {
   "cell_type": "code",
   "execution_count": 12,
   "metadata": {},
   "outputs": [
    {
     "data": {
      "text/plain": [
       "array([-0.15462185, -0.09595586, -0.08442821, ..., -0.00345109,\n",
       "        0.12403101, -0.05641654])"
      ]
     },
     "execution_count": 12,
     "metadata": {},
     "output_type": "execute_result"
    }
   ],
   "source": [
    "ret_buy = np.nansum(df_new_buy.iloc[:,32:43],axis=1)\n",
    "ret_buy"
   ]
  },
  {
   "cell_type": "code",
   "execution_count": 13,
   "metadata": {},
   "outputs": [
    {
     "data": {
      "text/html": [
       "<div>\n",
       "<style scoped>\n",
       "    .dataframe tbody tr th:only-of-type {\n",
       "        vertical-align: middle;\n",
       "    }\n",
       "\n",
       "    .dataframe tbody tr th {\n",
       "        vertical-align: top;\n",
       "    }\n",
       "\n",
       "    .dataframe thead th {\n",
       "        text-align: right;\n",
       "    }\n",
       "</style>\n",
       "<table border=\"1\" class=\"dataframe\">\n",
       "  <thead>\n",
       "    <tr style=\"text-align: right;\">\n",
       "      <th></th>\n",
       "      <th>StockCode</th>\n",
       "      <th>RegisterDate</th>\n",
       "      <th>ResultReportDate</th>\n",
       "      <th>DateStartExpected</th>\n",
       "      <th>DateEndExpected</th>\n",
       "      <th>DateActionFrom</th>\n",
       "      <th>DateActionTo</th>\n",
       "      <th>TypeName</th>\n",
       "      <th>RegisterVolumeBefore</th>\n",
       "      <th>RegisterVolumeBeforePercent</th>\n",
       "      <th>...</th>\n",
       "      <th>Ri_T1_2</th>\n",
       "      <th>Ri_T1_3</th>\n",
       "      <th>Ri_T1_4</th>\n",
       "      <th>Ri_T1_5</th>\n",
       "      <th>Ri_T1_6</th>\n",
       "      <th>Ri_T1_7</th>\n",
       "      <th>Ri_T1_8</th>\n",
       "      <th>Ri_T1_9</th>\n",
       "      <th>Ri_T1_10</th>\n",
       "      <th>ret_buy</th>\n",
       "    </tr>\n",
       "  </thead>\n",
       "  <tbody>\n",
       "    <tr>\n",
       "      <th>1</th>\n",
       "      <td>DHA</td>\n",
       "      <td>2012-01-05</td>\n",
       "      <td>2012-02-06</td>\n",
       "      <td>2012-01-10</td>\n",
       "      <td>2012-03-09</td>\n",
       "      <td>2012-01-10</td>\n",
       "      <td>2012-02-03</td>\n",
       "      <td>GD CD noi bo</td>\n",
       "      <td>275206</td>\n",
       "      <td>0.018272</td>\n",
       "      <td>...</td>\n",
       "      <td>-0.011765</td>\n",
       "      <td>-0.142857</td>\n",
       "      <td>NaN</td>\n",
       "      <td>NaN</td>\n",
       "      <td>NaN</td>\n",
       "      <td>NaN</td>\n",
       "      <td>NaN</td>\n",
       "      <td>NaN</td>\n",
       "      <td>NaN</td>\n",
       "      <td>-0.154622</td>\n",
       "    </tr>\n",
       "    <tr>\n",
       "      <th>2</th>\n",
       "      <td>REE</td>\n",
       "      <td>2012-01-04</td>\n",
       "      <td>2012-02-13</td>\n",
       "      <td>2012-01-09</td>\n",
       "      <td>2012-03-09</td>\n",
       "      <td>2012-01-09</td>\n",
       "      <td>2012-02-13</td>\n",
       "      <td>GD CD noi bo</td>\n",
       "      <td>7742346</td>\n",
       "      <td>0.032308</td>\n",
       "      <td>...</td>\n",
       "      <td>-0.017241</td>\n",
       "      <td>-0.105263</td>\n",
       "      <td>NaN</td>\n",
       "      <td>NaN</td>\n",
       "      <td>NaN</td>\n",
       "      <td>NaN</td>\n",
       "      <td>NaN</td>\n",
       "      <td>NaN</td>\n",
       "      <td>NaN</td>\n",
       "      <td>-0.095956</td>\n",
       "    </tr>\n",
       "    <tr>\n",
       "      <th>7</th>\n",
       "      <td>PNC</td>\n",
       "      <td>2012-02-03</td>\n",
       "      <td>2012-02-17</td>\n",
       "      <td>2012-02-08</td>\n",
       "      <td>2012-03-08</td>\n",
       "      <td>2012-02-08</td>\n",
       "      <td>2012-02-15</td>\n",
       "      <td>GD CD noi bo</td>\n",
       "      <td>310000</td>\n",
       "      <td>0.031575</td>\n",
       "      <td>...</td>\n",
       "      <td>0.022222</td>\n",
       "      <td>-0.130435</td>\n",
       "      <td>NaN</td>\n",
       "      <td>NaN</td>\n",
       "      <td>NaN</td>\n",
       "      <td>NaN</td>\n",
       "      <td>NaN</td>\n",
       "      <td>NaN</td>\n",
       "      <td>NaN</td>\n",
       "      <td>-0.084428</td>\n",
       "    </tr>\n",
       "    <tr>\n",
       "      <th>8</th>\n",
       "      <td>LSS</td>\n",
       "      <td>2012-02-13</td>\n",
       "      <td>2012-02-17</td>\n",
       "      <td>2012-02-16</td>\n",
       "      <td>2012-02-28</td>\n",
       "      <td>2012-02-16</td>\n",
       "      <td>2012-02-16</td>\n",
       "      <td>GD CD noi bo</td>\n",
       "      <td>23462</td>\n",
       "      <td>0.000469</td>\n",
       "      <td>...</td>\n",
       "      <td>-0.018265</td>\n",
       "      <td>-0.027907</td>\n",
       "      <td>NaN</td>\n",
       "      <td>NaN</td>\n",
       "      <td>NaN</td>\n",
       "      <td>NaN</td>\n",
       "      <td>NaN</td>\n",
       "      <td>NaN</td>\n",
       "      <td>NaN</td>\n",
       "      <td>-0.036891</td>\n",
       "    </tr>\n",
       "    <tr>\n",
       "      <th>9</th>\n",
       "      <td>DDM</td>\n",
       "      <td>2012-02-07</td>\n",
       "      <td>2012-02-20</td>\n",
       "      <td>2012-02-10</td>\n",
       "      <td>2012-03-31</td>\n",
       "      <td>2012-02-10</td>\n",
       "      <td>2012-02-16</td>\n",
       "      <td>GD CD noi bo</td>\n",
       "      <td>0</td>\n",
       "      <td>0.000000</td>\n",
       "      <td>...</td>\n",
       "      <td>0.035714</td>\n",
       "      <td>0.103448</td>\n",
       "      <td>NaN</td>\n",
       "      <td>NaN</td>\n",
       "      <td>NaN</td>\n",
       "      <td>NaN</td>\n",
       "      <td>NaN</td>\n",
       "      <td>NaN</td>\n",
       "      <td>NaN</td>\n",
       "      <td>0.176200</td>\n",
       "    </tr>\n",
       "    <tr>\n",
       "      <th>...</th>\n",
       "      <td>...</td>\n",
       "      <td>...</td>\n",
       "      <td>...</td>\n",
       "      <td>...</td>\n",
       "      <td>...</td>\n",
       "      <td>...</td>\n",
       "      <td>...</td>\n",
       "      <td>...</td>\n",
       "      <td>...</td>\n",
       "      <td>...</td>\n",
       "      <td>...</td>\n",
       "      <td>...</td>\n",
       "      <td>...</td>\n",
       "      <td>...</td>\n",
       "      <td>...</td>\n",
       "      <td>...</td>\n",
       "      <td>...</td>\n",
       "      <td>...</td>\n",
       "      <td>...</td>\n",
       "      <td>...</td>\n",
       "      <td>...</td>\n",
       "    </tr>\n",
       "    <tr>\n",
       "      <th>11907</th>\n",
       "      <td>TVC</td>\n",
       "      <td>2020-12-11</td>\n",
       "      <td>2020-12-23</td>\n",
       "      <td>2020-12-14</td>\n",
       "      <td>2021-01-08</td>\n",
       "      <td>2020-12-14</td>\n",
       "      <td>2020-12-21</td>\n",
       "      <td>GD cua nguoi lien quan</td>\n",
       "      <td>16104073</td>\n",
       "      <td>0.349739</td>\n",
       "      <td>...</td>\n",
       "      <td>NaN</td>\n",
       "      <td>NaN</td>\n",
       "      <td>NaN</td>\n",
       "      <td>NaN</td>\n",
       "      <td>NaN</td>\n",
       "      <td>NaN</td>\n",
       "      <td>NaN</td>\n",
       "      <td>NaN</td>\n",
       "      <td>NaN</td>\n",
       "      <td>0.040590</td>\n",
       "    </tr>\n",
       "    <tr>\n",
       "      <th>11910</th>\n",
       "      <td>PGC</td>\n",
       "      <td>2020-11-19</td>\n",
       "      <td>2020-12-24</td>\n",
       "      <td>2020-11-23</td>\n",
       "      <td>2020-12-22</td>\n",
       "      <td>2020-11-23</td>\n",
       "      <td>2020-12-22</td>\n",
       "      <td>GD cua nguoi lien quan</td>\n",
       "      <td>5066456</td>\n",
       "      <td>0.083966</td>\n",
       "      <td>...</td>\n",
       "      <td>0.077586</td>\n",
       "      <td>NaN</td>\n",
       "      <td>NaN</td>\n",
       "      <td>NaN</td>\n",
       "      <td>NaN</td>\n",
       "      <td>NaN</td>\n",
       "      <td>NaN</td>\n",
       "      <td>NaN</td>\n",
       "      <td>NaN</td>\n",
       "      <td>0.113005</td>\n",
       "    </tr>\n",
       "    <tr>\n",
       "      <th>11911</th>\n",
       "      <td>DTL</td>\n",
       "      <td>2020-12-11</td>\n",
       "      <td>2020-12-24</td>\n",
       "      <td>2020-12-17</td>\n",
       "      <td>2021-01-16</td>\n",
       "      <td>2020-12-23</td>\n",
       "      <td>2020-12-24</td>\n",
       "      <td>GD cua nguoi lien quan</td>\n",
       "      <td>235000</td>\n",
       "      <td>0.003876</td>\n",
       "      <td>...</td>\n",
       "      <td>0.068858</td>\n",
       "      <td>0.068814</td>\n",
       "      <td>-0.279452</td>\n",
       "      <td>NaN</td>\n",
       "      <td>NaN</td>\n",
       "      <td>NaN</td>\n",
       "      <td>NaN</td>\n",
       "      <td>NaN</td>\n",
       "      <td>NaN</td>\n",
       "      <td>-0.003451</td>\n",
       "    </tr>\n",
       "    <tr>\n",
       "      <th>11920</th>\n",
       "      <td>CC4</td>\n",
       "      <td>2020-11-13</td>\n",
       "      <td>2020-12-28</td>\n",
       "      <td>2020-11-17</td>\n",
       "      <td>2020-12-15</td>\n",
       "      <td>2020-11-16</td>\n",
       "      <td>2020-12-15</td>\n",
       "      <td>GD cua nguoi lien quan</td>\n",
       "      <td>2880000</td>\n",
       "      <td>0.180000</td>\n",
       "      <td>...</td>\n",
       "      <td>-0.000000</td>\n",
       "      <td>NaN</td>\n",
       "      <td>NaN</td>\n",
       "      <td>NaN</td>\n",
       "      <td>NaN</td>\n",
       "      <td>NaN</td>\n",
       "      <td>NaN</td>\n",
       "      <td>NaN</td>\n",
       "      <td>NaN</td>\n",
       "      <td>0.124031</td>\n",
       "    </tr>\n",
       "    <tr>\n",
       "      <th>11931</th>\n",
       "      <td>VDP</td>\n",
       "      <td>2020-12-23</td>\n",
       "      <td>2020-12-29</td>\n",
       "      <td>2020-12-28</td>\n",
       "      <td>2020-12-29</td>\n",
       "      <td>2020-12-28</td>\n",
       "      <td>2020-12-28</td>\n",
       "      <td>GD cua nguoi lien quan</td>\n",
       "      <td>1826264</td>\n",
       "      <td>0.113789</td>\n",
       "      <td>...</td>\n",
       "      <td>-0.003125</td>\n",
       "      <td>-0.056426</td>\n",
       "      <td>NaN</td>\n",
       "      <td>NaN</td>\n",
       "      <td>NaN</td>\n",
       "      <td>NaN</td>\n",
       "      <td>NaN</td>\n",
       "      <td>NaN</td>\n",
       "      <td>NaN</td>\n",
       "      <td>-0.056417</td>\n",
       "    </tr>\n",
       "  </tbody>\n",
       "</table>\n",
       "<p>5286 rows × 44 columns</p>\n",
       "</div>"
      ],
      "text/plain": [
       "      StockCode RegisterDate ResultReportDate DateStartExpected  \\\n",
       "1           DHA   2012-01-05       2012-02-06        2012-01-10   \n",
       "2           REE   2012-01-04       2012-02-13        2012-01-09   \n",
       "7           PNC   2012-02-03       2012-02-17        2012-02-08   \n",
       "8           LSS   2012-02-13       2012-02-17        2012-02-16   \n",
       "9           DDM   2012-02-07       2012-02-20        2012-02-10   \n",
       "...         ...          ...              ...               ...   \n",
       "11907       TVC   2020-12-11       2020-12-23        2020-12-14   \n",
       "11910       PGC   2020-11-19       2020-12-24        2020-11-23   \n",
       "11911       DTL   2020-12-11       2020-12-24        2020-12-17   \n",
       "11920       CC4   2020-11-13       2020-12-28        2020-11-17   \n",
       "11931       VDP   2020-12-23       2020-12-29        2020-12-28   \n",
       "\n",
       "      DateEndExpected DateActionFrom DateActionTo                TypeName  \\\n",
       "1          2012-03-09     2012-01-10   2012-02-03            GD CD noi bo   \n",
       "2          2012-03-09     2012-01-09   2012-02-13            GD CD noi bo   \n",
       "7          2012-03-08     2012-02-08   2012-02-15            GD CD noi bo   \n",
       "8          2012-02-28     2012-02-16   2012-02-16            GD CD noi bo   \n",
       "9          2012-03-31     2012-02-10   2012-02-16            GD CD noi bo   \n",
       "...               ...            ...          ...                     ...   \n",
       "11907      2021-01-08     2020-12-14   2020-12-21  GD cua nguoi lien quan   \n",
       "11910      2020-12-22     2020-11-23   2020-12-22  GD cua nguoi lien quan   \n",
       "11911      2021-01-16     2020-12-23   2020-12-24  GD cua nguoi lien quan   \n",
       "11920      2020-12-15     2020-11-16   2020-12-15  GD cua nguoi lien quan   \n",
       "11931      2020-12-29     2020-12-28   2020-12-28  GD cua nguoi lien quan   \n",
       "\n",
       "       RegisterVolumeBefore  RegisterVolumeBeforePercent  ...   Ri_T1_2  \\\n",
       "1                    275206                     0.018272  ... -0.011765   \n",
       "2                   7742346                     0.032308  ... -0.017241   \n",
       "7                    310000                     0.031575  ...  0.022222   \n",
       "8                     23462                     0.000469  ... -0.018265   \n",
       "9                         0                     0.000000  ...  0.035714   \n",
       "...                     ...                          ...  ...       ...   \n",
       "11907              16104073                     0.349739  ...       NaN   \n",
       "11910               5066456                     0.083966  ...  0.077586   \n",
       "11911                235000                     0.003876  ...  0.068858   \n",
       "11920               2880000                     0.180000  ... -0.000000   \n",
       "11931               1826264                     0.113789  ... -0.003125   \n",
       "\n",
       "        Ri_T1_3   Ri_T1_4  Ri_T1_5  Ri_T1_6  Ri_T1_7  Ri_T1_8  Ri_T1_9  \\\n",
       "1     -0.142857       NaN      NaN      NaN      NaN      NaN      NaN   \n",
       "2     -0.105263       NaN      NaN      NaN      NaN      NaN      NaN   \n",
       "7     -0.130435       NaN      NaN      NaN      NaN      NaN      NaN   \n",
       "8     -0.027907       NaN      NaN      NaN      NaN      NaN      NaN   \n",
       "9      0.103448       NaN      NaN      NaN      NaN      NaN      NaN   \n",
       "...         ...       ...      ...      ...      ...      ...      ...   \n",
       "11907       NaN       NaN      NaN      NaN      NaN      NaN      NaN   \n",
       "11910       NaN       NaN      NaN      NaN      NaN      NaN      NaN   \n",
       "11911  0.068814 -0.279452      NaN      NaN      NaN      NaN      NaN   \n",
       "11920       NaN       NaN      NaN      NaN      NaN      NaN      NaN   \n",
       "11931 -0.056426       NaN      NaN      NaN      NaN      NaN      NaN   \n",
       "\n",
       "       Ri_T1_10   ret_buy  \n",
       "1           NaN -0.154622  \n",
       "2           NaN -0.095956  \n",
       "7           NaN -0.084428  \n",
       "8           NaN -0.036891  \n",
       "9           NaN  0.176200  \n",
       "...         ...       ...  \n",
       "11907       NaN  0.040590  \n",
       "11910       NaN  0.113005  \n",
       "11911       NaN -0.003451  \n",
       "11920       NaN  0.124031  \n",
       "11931       NaN -0.056417  \n",
       "\n",
       "[5286 rows x 44 columns]"
      ]
     },
     "execution_count": 13,
     "metadata": {},
     "output_type": "execute_result"
    }
   ],
   "source": [
    "df_new_buy['ret_buy'] = np.array(ret_buy)\n",
    "df_new_buy"
   ]
  },
  {
   "cell_type": "code",
   "execution_count": 14,
   "metadata": {},
   "outputs": [],
   "source": [
    "df_new_buy['year']=df_new_buy['RegisterDate'].dt.year\n",
    "df_new_buy['month']=df_new_buy['RegisterDate'].dt.month"
   ]
  },
  {
   "cell_type": "code",
   "execution_count": 15,
   "metadata": {},
   "outputs": [
    {
     "data": {
      "text/plain": [
       "(5842201.0, 1.904908759205769e-06, -4.621496505763976, 0.0)"
      ]
     },
     "execution_count": 15,
     "metadata": {},
     "output_type": "execute_result"
    }
   ],
   "source": [
    "import scipy\n",
    "from scipy.stats import norm\n",
    "from scipy.stats import wilcoxon\n",
    "\n",
    "w, p = wilcoxon(df_new_buy['ret_buy'], alternative='greater')\n",
    "w, p, norm.ppf(p), df_new_buy['ret_buy'].median()"
   ]
  },
  {
   "cell_type": "code",
   "execution_count": 16,
   "metadata": {},
   "outputs": [
    {
     "data": {
      "text/plain": [
       "Ttest_1sampResult(statistic=3.012053478201232, pvalue=0.0013035761358723128)"
      ]
     },
     "execution_count": 16,
     "metadata": {},
     "output_type": "execute_result"
    }
   ],
   "source": [
    "import scipy.integrate \n",
    "\n",
    "from scipy import stats\n",
    "result = scipy.stats.ttest_1samp(df_new_buy['ret_buy'],0, alternative='greater')\n",
    "result"
   ]
  },
  {
   "cell_type": "code",
   "execution_count": 17,
   "metadata": {},
   "outputs": [
    {
     "data": {
      "text/plain": [
       "(26837.0, 0.025824506081636448, -1.9460476825671702, 0.0017849011189177214)"
      ]
     },
     "execution_count": 17,
     "metadata": {},
     "output_type": "execute_result"
    }
   ],
   "source": [
    "df_VNI_12 = df_new_buy[(df_new_buy['Exchange']=='HOSE')&(df_new_buy['year']==2012)]\n",
    "\n",
    "w_VNI_12, p_VNI_12 = wilcoxon(df_VNI_12['ret_buy'], alternative='greater')\n",
    "w_VNI_12, p_VNI_12, norm.ppf(p_VNI_12), df_VNI_12['ret_buy'].median()"
   ]
  },
  {
   "cell_type": "code",
   "execution_count": 18,
   "metadata": {},
   "outputs": [
    {
     "data": {
      "text/plain": [
       "(17737.0, 0.11469641874088077, -1.2019243546513068, 0.010445891456683178)"
      ]
     },
     "execution_count": 18,
     "metadata": {},
     "output_type": "execute_result"
    }
   ],
   "source": [
    "df_VNI_13 = df_new_buy[(df_new_buy['Exchange']=='HOSE')&(df_new_buy['year']==2013)]\n",
    "\n",
    "w_VNI_13, p_VNI_13 = wilcoxon(df_VNI_13['ret_buy'], alternative='greater')\n",
    "w_VNI_13, p_VNI_13, norm.ppf(p_VNI_13), df_VNI_13['ret_buy'].median()"
   ]
  },
  {
   "cell_type": "code",
   "execution_count": 19,
   "metadata": {},
   "outputs": [
    {
     "data": {
      "text/plain": [
       "(17613.0, 0.4181925405652328, -0.20651956799942653, 0.0028432224947252463)"
      ]
     },
     "execution_count": 19,
     "metadata": {},
     "output_type": "execute_result"
    }
   ],
   "source": [
    "df_VNI_14 = df_new_buy[(df_new_buy['Exchange']=='HOSE')&(df_new_buy['year']==2014)]\n",
    "\n",
    "w_VNI_14, p_VNI_14 = wilcoxon(df_VNI_14['ret_buy'], alternative='greater')\n",
    "w_VNI_14, p_VNI_14, norm.ppf(p_VNI_14), df_VNI_14['ret_buy'].median()"
   ]
  },
  {
   "cell_type": "code",
   "execution_count": 20,
   "metadata": {},
   "outputs": [
    {
     "data": {
      "text/plain": [
       "(18306.0, 0.16068895507437908, -0.9916302851752318, 0.0041753835425383246)"
      ]
     },
     "execution_count": 20,
     "metadata": {},
     "output_type": "execute_result"
    }
   ],
   "source": [
    "df_VNI_15 = df_new_buy[(df_new_buy['Exchange']=='HOSE')&(df_new_buy['year']==2015)]\n",
    "\n",
    "w_VNI_15, p_VNI_15 = wilcoxon(df_VNI_15['ret_buy'], alternative='greater')\n",
    "w_VNI_15, p_VNI_15, norm.ppf(p_VNI_15), df_VNI_15['ret_buy'].median()"
   ]
  },
  {
   "cell_type": "code",
   "execution_count": 21,
   "metadata": {},
   "outputs": [
    {
     "data": {
      "text/plain": [
       "(26045.0, 0.014027677260117274, -2.196511478160663, 0.007328912218576568)"
      ]
     },
     "execution_count": 21,
     "metadata": {},
     "output_type": "execute_result"
    }
   ],
   "source": [
    "df_VNI_16 = df_new_buy[(df_new_buy['Exchange']=='HOSE')&(df_new_buy['year']==2016)]\n",
    "\n",
    "w_VNI_16, p_VNI_16 = wilcoxon(df_VNI_16['ret_buy'], alternative='greater')\n",
    "w_VNI_16, p_VNI_16, norm.ppf(p_VNI_16), df_VNI_16['ret_buy'].median()"
   ]
  },
  {
   "cell_type": "code",
   "execution_count": 22,
   "metadata": {},
   "outputs": [
    {
     "data": {
      "text/plain": [
       "(29344.0, 0.42154979710125723, -0.1979303037775547, 8.140008139978071e-06)"
      ]
     },
     "execution_count": 22,
     "metadata": {},
     "output_type": "execute_result"
    }
   ],
   "source": [
    "df_VNI_17 = df_new_buy[(df_new_buy['Exchange']=='HOSE')&(df_new_buy['year']==2017)]\n",
    "\n",
    "w_VNI_17, p_VNI_17 = wilcoxon(df_VNI_17['ret_buy'], alternative='greater')\n",
    "w_VNI_17, p_VNI_17, norm.ppf(p_VNI_17), df_VNI_17['ret_buy'].median()"
   ]
  },
  {
   "cell_type": "code",
   "execution_count": 23,
   "metadata": {},
   "outputs": [
    {
     "data": {
      "text/plain": [
       "(58814.0, 0.08910573124053461, -1.3462823911753647, 0.002329023931679556)"
      ]
     },
     "execution_count": 23,
     "metadata": {},
     "output_type": "execute_result"
    }
   ],
   "source": [
    "df_VNI_18 = df_new_buy[(df_new_buy['Exchange']=='HOSE')&(df_new_buy['year']==2018)]\n",
    "\n",
    "w_VNI_18, p_VNI_18 = wilcoxon(df_VNI_18['ret_buy'], alternative='greater')\n",
    "w_VNI_18, p_VNI_18, norm.ppf(p_VNI_18), df_VNI_18['ret_buy'].median()"
   ]
  },
  {
   "cell_type": "code",
   "execution_count": 24,
   "metadata": {},
   "outputs": [
    {
     "data": {
      "text/plain": [
       "(65350.0, 0.04071407384845693, -1.7424590687785169, 0.00576512024812725)"
      ]
     },
     "execution_count": 24,
     "metadata": {},
     "output_type": "execute_result"
    }
   ],
   "source": [
    "df_VNI_19 = df_new_buy[(df_new_buy['Exchange']=='HOSE')&(df_new_buy['year']==2019)]\n",
    "\n",
    "w_VNI_19, p_VNI_19 = wilcoxon(df_VNI_19['ret_buy'], alternative='greater')\n",
    "w_VNI_19, p_VNI_19, norm.ppf(p_VNI_19), df_VNI_19['ret_buy'].median()"
   ]
  },
  {
   "cell_type": "code",
   "execution_count": 25,
   "metadata": {},
   "outputs": [
    {
     "data": {
      "text/plain": [
       "(60244.0, 0.2032331821970616, -0.8301280943149283, 0.00026172651772138344)"
      ]
     },
     "execution_count": 25,
     "metadata": {},
     "output_type": "execute_result"
    }
   ],
   "source": [
    "df_VNI_20 = df_new_buy[(df_new_buy['Exchange']=='HOSE')&(df_new_buy['year']==2020)]\n",
    "\n",
    "w_VNI_20, p_VNI_20 = wilcoxon(df_VNI_20['ret_buy'], alternative='greater')\n",
    "w_VNI_20, p_VNI_20, norm.ppf(p_VNI_20), df_VNI_20['ret_buy'].median()"
   ]
  },
  {
   "cell_type": "code",
   "execution_count": 26,
   "metadata": {},
   "outputs": [
    {
     "data": {
      "text/plain": [
       "(349.0, 0.6224033302371749, 0.31179892703917605, 0.0)"
      ]
     },
     "execution_count": 26,
     "metadata": {},
     "output_type": "execute_result"
    }
   ],
   "source": [
    "df_HNX_12 = df_new_buy[(df_new_buy['Exchange']=='HNX')&(df_new_buy['year']==2012)]\n",
    "\n",
    "w_HNX_12, p_HNX_12 = wilcoxon(df_HNX_12['ret_buy'], alternative='greater')\n",
    "w_HNX_12, p_HNX_12, norm.ppf(p_HNX_12), df_HNX_12['ret_buy'].median()"
   ]
  },
  {
   "cell_type": "code",
   "execution_count": 27,
   "metadata": {},
   "outputs": [
    {
     "data": {
      "text/plain": [
       "(1390.5, 0.7134882645675222, 0.5636042836906145, 0.0)"
      ]
     },
     "execution_count": 27,
     "metadata": {},
     "output_type": "execute_result"
    }
   ],
   "source": [
    "df_HNX_13 = df_new_buy[(df_new_buy['Exchange']=='HNX')&(df_new_buy['year']==2013)]\n",
    "\n",
    "w_HNX_13, p_HNX_13 = wilcoxon(df_HNX_13['ret_buy'], alternative='greater')\n",
    "w_HNX_13, p_HNX_13, norm.ppf(p_HNX_13), df_HNX_13['ret_buy'].median()"
   ]
  },
  {
   "cell_type": "code",
   "execution_count": 28,
   "metadata": {},
   "outputs": [
    {
     "data": {
      "text/plain": [
       "(5901.0, 0.11485938605663437, -1.2010836048698508, 0.0)"
      ]
     },
     "execution_count": 28,
     "metadata": {},
     "output_type": "execute_result"
    }
   ],
   "source": [
    "df_HNX_14 = df_new_buy[(df_new_buy['Exchange']=='HNX')&(df_new_buy['year']==2014)]\n",
    "\n",
    "w_HNX_14, p_HNX_14 = wilcoxon(df_HNX_14['ret_buy'], alternative='greater')\n",
    "w_HNX_14, p_HNX_14, norm.ppf(p_HNX_14), df_HNX_14['ret_buy'].median()"
   ]
  },
  {
   "cell_type": "code",
   "execution_count": 29,
   "metadata": {},
   "outputs": [
    {
     "data": {
      "text/plain": [
       "(9568.0, 4.57626141850131e-05, -3.9120255434806963, 0.0182516706195891)"
      ]
     },
     "execution_count": 29,
     "metadata": {},
     "output_type": "execute_result"
    }
   ],
   "source": [
    "df_HNX_15 = df_new_buy[(df_new_buy['Exchange']=='HNX')&(df_new_buy['year']==2015)]\n",
    "\n",
    "w_HNX_15, p_HNX_15 = wilcoxon(df_HNX_15['ret_buy'], alternative='greater')\n",
    "w_HNX_15, p_HNX_15, norm.ppf(p_HNX_15), df_HNX_15['ret_buy'].median()"
   ]
  },
  {
   "cell_type": "code",
   "execution_count": 30,
   "metadata": {},
   "outputs": [
    {
     "data": {
      "text/plain": [
       "(3963.0, 0.5960182721743073, 0.24305414173728462, 0.0)"
      ]
     },
     "execution_count": 30,
     "metadata": {},
     "output_type": "execute_result"
    }
   ],
   "source": [
    "df_HNX_16 = df_new_buy[(df_new_buy['Exchange']=='HNX')&(df_new_buy['year']==2016)]\n",
    "\n",
    "w_HNX_16, p_HNX_16 = wilcoxon(df_HNX_16['ret_buy'], alternative='greater')\n",
    "w_HNX_16, p_HNX_16, norm.ppf(p_HNX_16), df_HNX_16['ret_buy'].median()"
   ]
  },
  {
   "cell_type": "code",
   "execution_count": 31,
   "metadata": {},
   "outputs": [
    {
     "data": {
      "text/plain": [
       "(2028.0, 0.726904685012225, 0.6034781754422118, 0.0)"
      ]
     },
     "execution_count": 31,
     "metadata": {},
     "output_type": "execute_result"
    }
   ],
   "source": [
    "df_HNX_17 = df_new_buy[(df_new_buy['Exchange']=='HNX')&(df_new_buy['year']==2017)]\n",
    "\n",
    "w_HNX_17, p_HNX_17 = wilcoxon(df_HNX_17['ret_buy'], alternative='greater')\n",
    "w_HNX_17, p_HNX_17, norm.ppf(p_HNX_17), df_HNX_17['ret_buy'].median()"
   ]
  },
  {
   "cell_type": "code",
   "execution_count": 32,
   "metadata": {},
   "outputs": [
    {
     "data": {
      "text/plain": [
       "(1180.0, 0.825715536079878, 0.9373687149428296, 0.0)"
      ]
     },
     "execution_count": 32,
     "metadata": {},
     "output_type": "execute_result"
    }
   ],
   "source": [
    "df_HNX_18 = df_new_buy[(df_new_buy['Exchange']=='HNX')&(df_new_buy['year']==2018)]\n",
    "\n",
    "w_HNX_18, p_HNX_18 = wilcoxon(df_HNX_18['ret_buy'], alternative='greater')\n",
    "w_HNX_18, p_HNX_18, norm.ppf(p_HNX_18), df_HNX_18['ret_buy'].median()"
   ]
  },
  {
   "cell_type": "code",
   "execution_count": 33,
   "metadata": {},
   "outputs": [
    {
     "data": {
      "text/plain": [
       "(2571.0, 0.10089223623413718, -1.2764840191006814, 0.0)"
      ]
     },
     "execution_count": 33,
     "metadata": {},
     "output_type": "execute_result"
    }
   ],
   "source": [
    "df_HNX_19 = df_new_buy[(df_new_buy['Exchange']=='HNX')&(df_new_buy['year']==2019)]\n",
    "\n",
    "w_HNX_19, p_HNX_19 = wilcoxon(df_HNX_19['ret_buy'], alternative='greater')\n",
    "w_HNX_19, p_HNX_19, norm.ppf(p_HNX_19), df_HNX_19['ret_buy'].median()"
   ]
  },
  {
   "cell_type": "code",
   "execution_count": 34,
   "metadata": {},
   "outputs": [
    {
     "data": {
      "text/plain": [
       "(2188.0, 0.003221639900414161, -2.7243263780916607, 0.009208133184844815)"
      ]
     },
     "execution_count": 34,
     "metadata": {},
     "output_type": "execute_result"
    }
   ],
   "source": [
    "df_HNX_20 = df_new_buy[(df_new_buy['Exchange']=='HNX')&(df_new_buy['year']==2020)]\n",
    "\n",
    "w_HNX_20, p_HNX_20 = wilcoxon(df_HNX_20['ret_buy'], alternative='greater')\n",
    "w_HNX_20, p_HNX_20, norm.ppf(p_HNX_20), df_HNX_20['ret_buy'].median()"
   ]
  },
  {
   "cell_type": "code",
   "execution_count": 35,
   "metadata": {},
   "outputs": [
    {
     "data": {
      "text/plain": [
       "(1538.0, 0.864679937836385, 1.1015896169800565, 0.0)"
      ]
     },
     "execution_count": 35,
     "metadata": {},
     "output_type": "execute_result"
    }
   ],
   "source": [
    "df_UPCOM_16 = df_new_buy[(df_new_buy['Exchange']=='UPCOM')&(df_new_buy['year']==2016)]\n",
    "\n",
    "w_UPCOM_16, p_UPCOM_16 = wilcoxon(df_UPCOM_16['ret_buy'], alternative='greater')\n",
    "w_UPCOM_16, p_UPCOM_16, norm.ppf(p_UPCOM_16), df_UPCOM_16['ret_buy'].median()"
   ]
  },
  {
   "cell_type": "code",
   "execution_count": 36,
   "metadata": {},
   "outputs": [
    {
     "data": {
      "text/plain": [
       "(3890.0, 0.422948144513845, -0.1943570866752046, 0.0)"
      ]
     },
     "execution_count": 36,
     "metadata": {},
     "output_type": "execute_result"
    }
   ],
   "source": [
    "df_UPCOM_17 = df_new_buy[(df_new_buy['Exchange']=='UPCOM')&(df_new_buy['year']==2017)]\n",
    "\n",
    "w_UPCOM_17, p_UPCOM_17 = wilcoxon(df_UPCOM_17['ret_buy'], alternative='greater')\n",
    "w_UPCOM_17, p_UPCOM_17, norm.ppf(p_UPCOM_17), df_UPCOM_17['ret_buy'].median()"
   ]
  },
  {
   "cell_type": "code",
   "execution_count": 37,
   "metadata": {},
   "outputs": [
    {
     "data": {
      "text/plain": [
       "(3303.0, 0.28306670542348844, -0.5737552855115068, 0.0)"
      ]
     },
     "execution_count": 37,
     "metadata": {},
     "output_type": "execute_result"
    }
   ],
   "source": [
    "df_UPCOM_18 = df_new_buy[(df_new_buy['Exchange']=='UPCOM')&(df_new_buy['year']==2018)]\n",
    "\n",
    "w_UPCOM_18, p_UPCOM_18 = wilcoxon(df_UPCOM_18['ret_buy'], alternative='greater')\n",
    "w_UPCOM_18, p_UPCOM_18, norm.ppf(p_UPCOM_18), df_UPCOM_18['ret_buy'].median()"
   ]
  },
  {
   "cell_type": "code",
   "execution_count": 38,
   "metadata": {},
   "outputs": [
    {
     "data": {
      "text/plain": [
       "(2871.0, 0.023608580497311873, -1.984347081230126, 0.0)"
      ]
     },
     "execution_count": 38,
     "metadata": {},
     "output_type": "execute_result"
    }
   ],
   "source": [
    "df_UPCOM_19 = df_new_buy[(df_new_buy['Exchange']=='UPCOM')&(df_new_buy['year']==2019)]\n",
    "\n",
    "w_UPCOM_19, p_UPCOM_19 = wilcoxon(df_UPCOM_19['ret_buy'], alternative='greater')\n",
    "w_UPCOM_19, p_UPCOM_19, norm.ppf(p_UPCOM_19), df_UPCOM_19['ret_buy'].median()"
   ]
  },
  {
   "cell_type": "code",
   "execution_count": 39,
   "metadata": {},
   "outputs": [
    {
     "data": {
      "text/plain": [
       "(3414.0, 0.10397750856517546, -1.2592085417001995, 0.0)"
      ]
     },
     "execution_count": 39,
     "metadata": {},
     "output_type": "execute_result"
    }
   ],
   "source": [
    "df_UPCOM_20 = df_new_buy[(df_new_buy['Exchange']=='UPCOM')&(df_new_buy['year']==2020)]\n",
    "\n",
    "w_UPCOM_20, p_UPCOM_20 = wilcoxon(df_UPCOM_20['ret_buy'], alternative='greater')\n",
    "w_UPCOM_20, p_UPCOM_20, norm.ppf(p_UPCOM_20), df_UPCOM_20['ret_buy'].median()"
   ]
  },
  {
   "cell_type": "code",
   "execution_count": 40,
   "metadata": {},
   "outputs": [
    {
     "data": {
      "text/plain": [
       "(2.4745996902426426,\n",
       " 0.006934944383521355,\n",
       " 0.014386649362089929,\n",
       " 0.102855346945238)"
      ]
     },
     "execution_count": 40,
     "metadata": {},
     "output_type": "execute_result"
    }
   ],
   "source": [
    "tstat_VNI_12, pval_VNI_12 = scipy.stats.ttest_1samp(df_VNI_12['ret_buy'],0, alternative='greater')\n",
    "tstat_VNI_12, pval_VNI_12, df_VNI_12['ret_buy'].mean(), df_VNI_12['ret_buy'].std()"
   ]
  },
  {
   "cell_type": "code",
   "execution_count": 41,
   "metadata": {},
   "outputs": [
    {
     "data": {
      "text/plain": [
       "(1.2655003932047484,\n",
       " 0.10341683347776345,\n",
       " 0.010917260905580364,\n",
       " 0.13883574242183866)"
      ]
     },
     "execution_count": 41,
     "metadata": {},
     "output_type": "execute_result"
    }
   ],
   "source": [
    "tstat_VNI_13, pval_VNI_13 = scipy.stats.ttest_1samp(df_VNI_13['ret_buy'],0, alternative='greater')\n",
    "tstat_VNI_13, pval_VNI_13, df_VNI_13['ret_buy'].mean(), df_VNI_13['ret_buy'].std()"
   ]
  },
  {
   "cell_type": "code",
   "execution_count": 42,
   "metadata": {},
   "outputs": [
    {
     "data": {
      "text/plain": [
       "(0.3228026957743863,\n",
       " 0.37354960957146294,\n",
       " 0.002269659942668591,\n",
       " 0.11467386708387317)"
      ]
     },
     "execution_count": 42,
     "metadata": {},
     "output_type": "execute_result"
    }
   ],
   "source": [
    "tstat_VNI_14, pval_VNI_14 = scipy.stats.ttest_1samp(df_VNI_14['ret_buy'],0, alternative='greater')\n",
    "tstat_VNI_14, pval_VNI_14, df_VNI_14['ret_buy'].mean(), df_VNI_14['ret_buy'].std()"
   ]
  },
  {
   "cell_type": "code",
   "execution_count": 43,
   "metadata": {},
   "outputs": [
    {
     "data": {
      "text/plain": [
       "(0.5934281225107048,\n",
       " 0.27670233578647807,\n",
       " 0.0033309715136108876,\n",
       " 0.09120208320034608)"
      ]
     },
     "execution_count": 43,
     "metadata": {},
     "output_type": "execute_result"
    }
   ],
   "source": [
    "tstat_VNI_15, pval_VNI_15 = scipy.stats.ttest_1samp(df_VNI_15['ret_buy'],0, alternative='greater')\n",
    "tstat_VNI_15, pval_VNI_15, df_VNI_15['ret_buy'].mean(), df_VNI_15['ret_buy'].std()"
   ]
  },
  {
   "cell_type": "code",
   "execution_count": 44,
   "metadata": {},
   "outputs": [
    {
     "data": {
      "text/plain": [
       "(2.3250578371094854,\n",
       " 0.010366820766479627,\n",
       " 0.014698117465286892,\n",
       " 0.10985793331827172)"
      ]
     },
     "execution_count": 44,
     "metadata": {},
     "output_type": "execute_result"
    }
   ],
   "source": [
    "tstat_VNI_16, pval_VNI_16 = scipy.stats.ttest_1samp(df_VNI_16['ret_buy'],0, alternative='greater')\n",
    "tstat_VNI_16, pval_VNI_16, df_VNI_16['ret_buy'].mean(), df_VNI_16['ret_buy'].std()"
   ]
  },
  {
   "cell_type": "code",
   "execution_count": 45,
   "metadata": {},
   "outputs": [
    {
     "data": {
      "text/plain": [
       "(-0.24228610703462708,\n",
       " 0.5956481481794402,\n",
       " -0.001377920656613941,\n",
       " 0.10532773834534405)"
      ]
     },
     "execution_count": 45,
     "metadata": {},
     "output_type": "execute_result"
    }
   ],
   "source": [
    "tstat_VNI_17, pval_VNI_17 = scipy.stats.ttest_1samp(df_VNI_17['ret_buy'],0, alternative='greater')\n",
    "tstat_VNI_17, pval_VNI_17, df_VNI_17['ret_buy'].mean(), df_VNI_17['ret_buy'].std()"
   ]
  },
  {
   "cell_type": "code",
   "execution_count": 46,
   "metadata": {},
   "outputs": [
    {
     "data": {
      "text/plain": [
       "(0.5241478015090361,\n",
       " 0.3002098586953421,\n",
       " 0.002327605729257521,\n",
       " 0.09698729312110763)"
      ]
     },
     "execution_count": 46,
     "metadata": {},
     "output_type": "execute_result"
    }
   ],
   "source": [
    "tstat_VNI_18, pval_VNI_18 = scipy.stats.ttest_1samp(df_VNI_18['ret_buy'],0, alternative='greater')\n",
    "tstat_VNI_18, pval_VNI_18, df_VNI_18['ret_buy'].mean(), df_VNI_18['ret_buy'].std()"
   ]
  },
  {
   "cell_type": "code",
   "execution_count": 47,
   "metadata": {},
   "outputs": [
    {
     "data": {
      "text/plain": [
       "(0.7189217488097018,\n",
       " 0.23626521734088607,\n",
       " 0.003525181865284961,\n",
       " 0.10887379588407989)"
      ]
     },
     "execution_count": 47,
     "metadata": {},
     "output_type": "execute_result"
    }
   ],
   "source": [
    "tstat_VNI_19, pval_VNI_19 = scipy.stats.ttest_1samp(df_VNI_19['ret_buy'],0, alternative='greater')\n",
    "tstat_VNI_19, pval_VNI_19, df_VNI_19['ret_buy'].mean(), df_VNI_19['ret_buy'].std()"
   ]
  },
  {
   "cell_type": "code",
   "execution_count": 48,
   "metadata": {},
   "outputs": [
    {
     "data": {
      "text/plain": [
       "(0.36491959723417067,\n",
       " 0.35766541173380023,\n",
       " 0.0020183204538784883,\n",
       " 0.12180463195841583)"
      ]
     },
     "execution_count": 48,
     "metadata": {},
     "output_type": "execute_result"
    }
   ],
   "source": [
    "tstat_VNI_20, pval_VNI_20 = scipy.stats.ttest_1samp(df_VNI_20['ret_buy'],0, alternative='greater')\n",
    "tstat_VNI_20, pval_VNI_20, df_VNI_20['ret_buy'].mean(), df_VNI_20['ret_buy'].std()"
   ]
  },
  {
   "cell_type": "code",
   "execution_count": 49,
   "metadata": {},
   "outputs": [
    {
     "data": {
      "text/plain": [
       "(-0.8593807131893851,\n",
       " 0.8037672377930754,\n",
       " -0.010822313993674351,\n",
       " 0.11880358082811239)"
      ]
     },
     "execution_count": 49,
     "metadata": {},
     "output_type": "execute_result"
    }
   ],
   "source": [
    "tstat_HNX_13, pval_HNX_13 = scipy.stats.ttest_1samp(df_HNX_13['ret_buy'],0, alternative='greater')\n",
    "tstat_HNX_13, pval_HNX_13, df_HNX_13['ret_buy'].mean(), df_HNX_13['ret_buy'].std()"
   ]
  },
  {
   "cell_type": "code",
   "execution_count": 50,
   "metadata": {},
   "outputs": [
    {
     "data": {
      "text/plain": [
       "(1.3917729311974874,\n",
       " 0.08298619343841866,\n",
       " 0.016091384247929035,\n",
       " 0.14486879447308848)"
      ]
     },
     "execution_count": 50,
     "metadata": {},
     "output_type": "execute_result"
    }
   ],
   "source": [
    "tstat_HNX_14, pval_HNX_14 = scipy.stats.ttest_1samp(df_HNX_14['ret_buy'],0, alternative='greater')\n",
    "tstat_HNX_14, pval_HNX_14, df_HNX_14['ret_buy'].mean(), df_HNX_14['ret_buy'].std()"
   ]
  },
  {
   "cell_type": "code",
   "execution_count": 51,
   "metadata": {},
   "outputs": [
    {
     "data": {
      "text/plain": [
       "(2.4087830569874624,\n",
       " 0.008472924310702836,\n",
       " 0.02178948027258907,\n",
       " 0.12599405360075316)"
      ]
     },
     "execution_count": 51,
     "metadata": {},
     "output_type": "execute_result"
    }
   ],
   "source": [
    "tstat_HNX_15, pval_HNX_15 = scipy.stats.ttest_1samp(df_HNX_15['ret_buy'],0, alternative='greater')\n",
    "tstat_HNX_15, pval_HNX_15, df_HNX_15['ret_buy'].mean(), df_HNX_15['ret_buy'].std()"
   ]
  },
  {
   "cell_type": "code",
   "execution_count": 52,
   "metadata": {},
   "outputs": [
    {
     "data": {
      "text/plain": [
       "(0.6697779962952117,\n",
       " 0.25203595015078284,\n",
       " 0.007567511551678311,\n",
       " 0.13605240330330806)"
      ]
     },
     "execution_count": 52,
     "metadata": {},
     "output_type": "execute_result"
    }
   ],
   "source": [
    "tstat_HNX_16, pval_HNX_16 = scipy.stats.ttest_1samp(df_HNX_16['ret_buy'],0, alternative='greater')\n",
    "tstat_HNX_16, pval_HNX_16, df_HNX_16['ret_buy'].mean(), df_HNX_16['ret_buy'].std()"
   ]
  },
  {
   "cell_type": "code",
   "execution_count": 53,
   "metadata": {},
   "outputs": [
    {
     "data": {
      "text/plain": [
       "(-0.6792636292117439,\n",
       " 0.7508437893306592,\n",
       " -0.007788526557872922,\n",
       " 0.12455407695865772)"
      ]
     },
     "execution_count": 53,
     "metadata": {},
     "output_type": "execute_result"
    }
   ],
   "source": [
    "tstat_HNX_17, pval_HNX_17 = scipy.stats.ttest_1samp(df_HNX_17['ret_buy'],0, alternative='greater')\n",
    "tstat_HNX_17, pval_HNX_17, df_HNX_17['ret_buy'].mean(), df_HNX_17['ret_buy'].std()"
   ]
  },
  {
   "cell_type": "code",
   "execution_count": 54,
   "metadata": {},
   "outputs": [
    {
     "data": {
      "text/plain": [
       "(1.251257639002068,\n",
       " 0.10668996606231483,\n",
       " 0.01650380835132182,\n",
       " 0.1420582382827457)"
      ]
     },
     "execution_count": 54,
     "metadata": {},
     "output_type": "execute_result"
    }
   ],
   "source": [
    "tstat_HNX_19, pval_HNX_19 = scipy.stats.ttest_1samp(df_HNX_19['ret_buy'],0, alternative='greater')\n",
    "tstat_HNX_19, pval_HNX_19, df_HNX_19['ret_buy'].mean(), df_HNX_19['ret_buy'].std()"
   ]
  },
  {
   "cell_type": "code",
   "execution_count": 55,
   "metadata": {},
   "outputs": [
    {
     "data": {
      "text/plain": [
       "(-1.4995308714431108,\n",
       " 0.9318508343580943,\n",
       " -0.0319283773811882,\n",
       " 0.2371003960390449)"
      ]
     },
     "execution_count": 55,
     "metadata": {},
     "output_type": "execute_result"
    }
   ],
   "source": [
    "tstat_UPCOM_16, pval_UPCOM_16 = scipy.stats.ttest_1samp(df_UPCOM_16['ret_buy'],0, alternative='greater')\n",
    "tstat_UPCOM_16, pval_UPCOM_16, df_UPCOM_16['ret_buy'].mean(), df_UPCOM_16['ret_buy'].std()"
   ]
  },
  {
   "cell_type": "code",
   "execution_count": 56,
   "metadata": {},
   "outputs": [
    {
     "data": {
      "text/plain": [
       "(0.4979784080659804,\n",
       " 0.3095587072373583,\n",
       " 0.0049850265544394675,\n",
       " 0.13355709517282602)"
      ]
     },
     "execution_count": 56,
     "metadata": {},
     "output_type": "execute_result"
    }
   ],
   "source": [
    "tstat_UPCOM_17, pval_UPCOM_17 = scipy.stats.ttest_1samp(df_UPCOM_17['ret_buy'],0, alternative='greater')\n",
    "tstat_UPCOM_17, pval_UPCOM_17, df_UPCOM_17['ret_buy'].mean(), df_UPCOM_17['ret_buy'].std()"
   ]
  },
  {
   "cell_type": "code",
   "execution_count": 57,
   "metadata": {},
   "outputs": [
    {
     "data": {
      "text/plain": [
       "(-0.9257086013394045,\n",
       " 0.8221047297079527,\n",
       " -0.02034177906514355,\n",
       " 0.3012961336353891)"
      ]
     },
     "execution_count": 57,
     "metadata": {},
     "output_type": "execute_result"
    }
   ],
   "source": [
    "tstat_UPCOM_18, pval_UPCOM_18 = scipy.stats.ttest_1samp(df_UPCOM_18['ret_buy'],0, alternative='greater')\n",
    "tstat_UPCOM_18, pval_UPCOM_18, df_UPCOM_18['ret_buy'].mean(), df_UPCOM_18['ret_buy'].std()"
   ]
  },
  {
   "cell_type": "code",
   "execution_count": 58,
   "metadata": {},
   "outputs": [
    {
     "data": {
      "text/plain": [
       "(1.3118463975105197,\n",
       " 0.09560762588293512,\n",
       " 0.019867634497778435,\n",
       " 0.20543388830242384)"
      ]
     },
     "execution_count": 58,
     "metadata": {},
     "output_type": "execute_result"
    }
   ],
   "source": [
    "tstat_UPCOM_19, pval_UPCOM_19 = scipy.stats.ttest_1samp(df_UPCOM_19['ret_buy'],0, alternative='greater')\n",
    "tstat_UPCOM_19, pval_UPCOM_19, df_UPCOM_19['ret_buy'].mean(), df_UPCOM_19['ret_buy'].std()"
   ]
  },
  {
   "cell_type": "code",
   "execution_count": 59,
   "metadata": {},
   "outputs": [
    {
     "data": {
      "text/plain": [
       "(1.6296598076416218,\n",
       " 0.05232567970592972,\n",
       " 0.021956070450414145,\n",
       " 0.1970899810064331)"
      ]
     },
     "execution_count": 59,
     "metadata": {},
     "output_type": "execute_result"
    }
   ],
   "source": [
    "tstat_UPCOM_20, pval_UPCOM_20 = scipy.stats.ttest_1samp(df_UPCOM_20['ret_buy'],0, alternative='greater')\n",
    "tstat_UPCOM_20, pval_UPCOM_20, df_UPCOM_20['ret_buy'].mean(), df_UPCOM_20['ret_buy'].std()"
   ]
  },
  {
   "cell_type": "code",
   "execution_count": null,
   "metadata": {},
   "outputs": [],
   "source": []
  },
  {
   "cell_type": "code",
   "execution_count": null,
   "metadata": {},
   "outputs": [],
   "source": []
  }
 ],
 "metadata": {
  "kernelspec": {
   "display_name": "Python 3",
   "language": "python",
   "name": "python3"
  },
  "language_info": {
   "codemirror_mode": {
    "name": "ipython",
    "version": 3
   },
   "file_extension": ".py",
   "mimetype": "text/x-python",
   "name": "python",
   "nbconvert_exporter": "python",
   "pygments_lexer": "ipython3",
   "version": "3.8.5"
  }
 },
 "nbformat": 4,
 "nbformat_minor": 4
}
