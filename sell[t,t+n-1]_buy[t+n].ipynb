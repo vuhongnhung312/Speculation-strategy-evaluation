{
 "cells": [
  {
   "cell_type": "code",
   "execution_count": 1,
   "metadata": {},
   "outputs": [],
   "source": [
    "import pandas as pd\n",
    "import numpy as np"
   ]
  },
  {
   "cell_type": "code",
   "execution_count": 2,
   "metadata": {},
   "outputs": [],
   "source": [
    "xls_new = pd.ExcelFile(r'/Users/hongnhungvu/Desktop/preview_12_all.xlsx')\n",
    "df_new = pd.read_excel(xls_new)"
   ]
  },
  {
   "cell_type": "code",
   "execution_count": 3,
   "metadata": {},
   "outputs": [],
   "source": [
    "df_new_buy = pd.DataFrame(df_new[(df_new['RegisterSellVolume'].isnull())])\n",
    "df_new_sell = pd.DataFrame(df_new[(df_new['RegisterBuyVolume'].isnull())])"
   ]
  },
  {
   "cell_type": "code",
   "execution_count": 4,
   "metadata": {},
   "outputs": [
    {
     "data": {
      "text/html": [
       "<div>\n",
       "<style scoped>\n",
       "    .dataframe tbody tr th:only-of-type {\n",
       "        vertical-align: middle;\n",
       "    }\n",
       "\n",
       "    .dataframe tbody tr th {\n",
       "        vertical-align: top;\n",
       "    }\n",
       "\n",
       "    .dataframe thead th {\n",
       "        text-align: right;\n",
       "    }\n",
       "</style>\n",
       "<table border=\"1\" class=\"dataframe\">\n",
       "  <thead>\n",
       "    <tr style=\"text-align: right;\">\n",
       "      <th></th>\n",
       "      <th>StockCode</th>\n",
       "      <th>RegisterDate</th>\n",
       "      <th>ResultReportDate</th>\n",
       "      <th>DateStartExpected</th>\n",
       "      <th>DateEndExpected</th>\n",
       "      <th>DateActionFrom</th>\n",
       "      <th>DateActionTo</th>\n",
       "      <th>TypeName</th>\n",
       "      <th>RegisterVolumeBefore</th>\n",
       "      <th>RegisterVolumeBeforePercent</th>\n",
       "      <th>...</th>\n",
       "      <th>Ri_T1_1</th>\n",
       "      <th>Ri_T1_2</th>\n",
       "      <th>Ri_T1_3</th>\n",
       "      <th>Ri_T1_4</th>\n",
       "      <th>Ri_T1_5</th>\n",
       "      <th>Ri_T1_6</th>\n",
       "      <th>Ri_T1_7</th>\n",
       "      <th>Ri_T1_8</th>\n",
       "      <th>Ri_T1_9</th>\n",
       "      <th>Ri_T1_10</th>\n",
       "    </tr>\n",
       "  </thead>\n",
       "  <tbody>\n",
       "    <tr>\n",
       "      <th>0</th>\n",
       "      <td>JVC</td>\n",
       "      <td>2012-01-13</td>\n",
       "      <td>2012-02-04</td>\n",
       "      <td>2012-01-19</td>\n",
       "      <td>2012-02-29</td>\n",
       "      <td>2012-01-16</td>\n",
       "      <td>2012-02-03</td>\n",
       "      <td>GD CD noi bo</td>\n",
       "      <td>13310000</td>\n",
       "      <td>5.500000e-01</td>\n",
       "      <td>...</td>\n",
       "      <td>-0.045226</td>\n",
       "      <td>-0.047368</td>\n",
       "      <td>-0.049724</td>\n",
       "      <td>-0.005814</td>\n",
       "      <td>NaN</td>\n",
       "      <td>NaN</td>\n",
       "      <td>NaN</td>\n",
       "      <td>NaN</td>\n",
       "      <td>NaN</td>\n",
       "      <td>NaN</td>\n",
       "    </tr>\n",
       "    <tr>\n",
       "      <th>3</th>\n",
       "      <td>MPC</td>\n",
       "      <td>2012-02-09</td>\n",
       "      <td>2012-02-16</td>\n",
       "      <td>2012-02-16</td>\n",
       "      <td>2012-03-16</td>\n",
       "      <td>2012-02-16</td>\n",
       "      <td>2012-02-16</td>\n",
       "      <td>GD CD noi bo</td>\n",
       "      <td>7800</td>\n",
       "      <td>1.114286e-04</td>\n",
       "      <td>...</td>\n",
       "      <td>-0.010695</td>\n",
       "      <td>-0.048649</td>\n",
       "      <td>-0.017045</td>\n",
       "      <td>-0.023121</td>\n",
       "      <td>-0.023669</td>\n",
       "      <td>NaN</td>\n",
       "      <td>NaN</td>\n",
       "      <td>NaN</td>\n",
       "      <td>NaN</td>\n",
       "      <td>NaN</td>\n",
       "    </tr>\n",
       "    <tr>\n",
       "      <th>4</th>\n",
       "      <td>MPC</td>\n",
       "      <td>2012-02-10</td>\n",
       "      <td>2012-02-16</td>\n",
       "      <td>2012-02-16</td>\n",
       "      <td>2012-03-16</td>\n",
       "      <td>2012-02-16</td>\n",
       "      <td>2012-02-16</td>\n",
       "      <td>GD CD noi bo</td>\n",
       "      <td>17166</td>\n",
       "      <td>2.452286e-04</td>\n",
       "      <td>...</td>\n",
       "      <td>-0.048649</td>\n",
       "      <td>-0.017045</td>\n",
       "      <td>-0.023121</td>\n",
       "      <td>-0.023669</td>\n",
       "      <td>NaN</td>\n",
       "      <td>NaN</td>\n",
       "      <td>NaN</td>\n",
       "      <td>NaN</td>\n",
       "      <td>NaN</td>\n",
       "      <td>NaN</td>\n",
       "    </tr>\n",
       "    <tr>\n",
       "      <th>5</th>\n",
       "      <td>MPC</td>\n",
       "      <td>2012-02-09</td>\n",
       "      <td>2012-02-17</td>\n",
       "      <td>2012-02-16</td>\n",
       "      <td>2012-03-16</td>\n",
       "      <td>2012-02-16</td>\n",
       "      <td>2012-02-17</td>\n",
       "      <td>GD CD noi bo</td>\n",
       "      <td>8166</td>\n",
       "      <td>1.166571e-04</td>\n",
       "      <td>...</td>\n",
       "      <td>-0.010695</td>\n",
       "      <td>-0.048649</td>\n",
       "      <td>-0.017045</td>\n",
       "      <td>-0.023121</td>\n",
       "      <td>-0.023669</td>\n",
       "      <td>NaN</td>\n",
       "      <td>NaN</td>\n",
       "      <td>NaN</td>\n",
       "      <td>NaN</td>\n",
       "      <td>NaN</td>\n",
       "    </tr>\n",
       "    <tr>\n",
       "      <th>6</th>\n",
       "      <td>MPC</td>\n",
       "      <td>2012-02-09</td>\n",
       "      <td>2012-02-17</td>\n",
       "      <td>2012-02-16</td>\n",
       "      <td>2012-03-16</td>\n",
       "      <td>2012-02-17</td>\n",
       "      <td>2012-02-17</td>\n",
       "      <td>GD CD noi bo</td>\n",
       "      <td>7150</td>\n",
       "      <td>1.021429e-04</td>\n",
       "      <td>...</td>\n",
       "      <td>-0.010695</td>\n",
       "      <td>-0.048649</td>\n",
       "      <td>-0.017045</td>\n",
       "      <td>-0.023121</td>\n",
       "      <td>-0.023669</td>\n",
       "      <td>NaN</td>\n",
       "      <td>NaN</td>\n",
       "      <td>NaN</td>\n",
       "      <td>NaN</td>\n",
       "      <td>NaN</td>\n",
       "    </tr>\n",
       "    <tr>\n",
       "      <th>...</th>\n",
       "      <td>...</td>\n",
       "      <td>...</td>\n",
       "      <td>...</td>\n",
       "      <td>...</td>\n",
       "      <td>...</td>\n",
       "      <td>...</td>\n",
       "      <td>...</td>\n",
       "      <td>...</td>\n",
       "      <td>...</td>\n",
       "      <td>...</td>\n",
       "      <td>...</td>\n",
       "      <td>...</td>\n",
       "      <td>...</td>\n",
       "      <td>...</td>\n",
       "      <td>...</td>\n",
       "      <td>...</td>\n",
       "      <td>...</td>\n",
       "      <td>...</td>\n",
       "      <td>...</td>\n",
       "      <td>...</td>\n",
       "      <td>...</td>\n",
       "    </tr>\n",
       "    <tr>\n",
       "      <th>11932</th>\n",
       "      <td>PPC</td>\n",
       "      <td>2020-12-17</td>\n",
       "      <td>2020-12-30</td>\n",
       "      <td>2020-12-22</td>\n",
       "      <td>2021-01-19</td>\n",
       "      <td>2020-12-22</td>\n",
       "      <td>2020-12-25</td>\n",
       "      <td>GD cua nguoi lien quan</td>\n",
       "      <td>77396260</td>\n",
       "      <td>2.414008e-01</td>\n",
       "      <td>...</td>\n",
       "      <td>0.008404</td>\n",
       "      <td>0.000000</td>\n",
       "      <td>0.035417</td>\n",
       "      <td>NaN</td>\n",
       "      <td>NaN</td>\n",
       "      <td>NaN</td>\n",
       "      <td>NaN</td>\n",
       "      <td>NaN</td>\n",
       "      <td>NaN</td>\n",
       "      <td>NaN</td>\n",
       "    </tr>\n",
       "    <tr>\n",
       "      <th>11933</th>\n",
       "      <td>PDR</td>\n",
       "      <td>2020-12-10</td>\n",
       "      <td>2020-12-30</td>\n",
       "      <td>2020-12-14</td>\n",
       "      <td>2021-01-12</td>\n",
       "      <td>2020-12-14</td>\n",
       "      <td>2020-12-28</td>\n",
       "      <td>GD cua nguoi lien quan</td>\n",
       "      <td>92106</td>\n",
       "      <td>2.324912e-04</td>\n",
       "      <td>...</td>\n",
       "      <td>0.000000</td>\n",
       "      <td>0.045455</td>\n",
       "      <td>NaN</td>\n",
       "      <td>NaN</td>\n",
       "      <td>NaN</td>\n",
       "      <td>NaN</td>\n",
       "      <td>NaN</td>\n",
       "      <td>NaN</td>\n",
       "      <td>NaN</td>\n",
       "      <td>NaN</td>\n",
       "    </tr>\n",
       "    <tr>\n",
       "      <th>11934</th>\n",
       "      <td>VCB</td>\n",
       "      <td>2020-12-15</td>\n",
       "      <td>2020-12-30</td>\n",
       "      <td>2020-12-18</td>\n",
       "      <td>2021-01-15</td>\n",
       "      <td>2020-12-28</td>\n",
       "      <td>2020-12-29</td>\n",
       "      <td>GD cua nguoi lien quan</td>\n",
       "      <td>2523</td>\n",
       "      <td>6.802597e-07</td>\n",
       "      <td>...</td>\n",
       "      <td>0.021472</td>\n",
       "      <td>-0.039039</td>\n",
       "      <td>0.030208</td>\n",
       "      <td>NaN</td>\n",
       "      <td>NaN</td>\n",
       "      <td>NaN</td>\n",
       "      <td>NaN</td>\n",
       "      <td>NaN</td>\n",
       "      <td>NaN</td>\n",
       "      <td>NaN</td>\n",
       "    </tr>\n",
       "    <tr>\n",
       "      <th>11935</th>\n",
       "      <td>VTH</td>\n",
       "      <td>2020-12-11</td>\n",
       "      <td>2020-12-30</td>\n",
       "      <td>2020-12-14</td>\n",
       "      <td>2021-01-08</td>\n",
       "      <td>2020-12-24</td>\n",
       "      <td>2020-12-24</td>\n",
       "      <td>GD cua nguoi lien quan</td>\n",
       "      <td>249700</td>\n",
       "      <td>4.994000e-02</td>\n",
       "      <td>...</td>\n",
       "      <td>0.010638</td>\n",
       "      <td>NaN</td>\n",
       "      <td>NaN</td>\n",
       "      <td>NaN</td>\n",
       "      <td>NaN</td>\n",
       "      <td>NaN</td>\n",
       "      <td>NaN</td>\n",
       "      <td>NaN</td>\n",
       "      <td>NaN</td>\n",
       "      <td>NaN</td>\n",
       "    </tr>\n",
       "    <tr>\n",
       "      <th>11936</th>\n",
       "      <td>NAF</td>\n",
       "      <td>2020-12-10</td>\n",
       "      <td>2020-12-31</td>\n",
       "      <td>2020-12-16</td>\n",
       "      <td>2021-01-15</td>\n",
       "      <td>2020-12-16</td>\n",
       "      <td>2020-12-31</td>\n",
       "      <td>GD cua nguoi lien quan</td>\n",
       "      <td>44210</td>\n",
       "      <td>9.294104e-04</td>\n",
       "      <td>...</td>\n",
       "      <td>-0.015000</td>\n",
       "      <td>0.055838</td>\n",
       "      <td>-0.014423</td>\n",
       "      <td>0.000000</td>\n",
       "      <td>NaN</td>\n",
       "      <td>NaN</td>\n",
       "      <td>NaN</td>\n",
       "      <td>NaN</td>\n",
       "      <td>NaN</td>\n",
       "      <td>NaN</td>\n",
       "    </tr>\n",
       "  </tbody>\n",
       "</table>\n",
       "<p>6651 rows × 43 columns</p>\n",
       "</div>"
      ],
      "text/plain": [
       "      StockCode RegisterDate ResultReportDate DateStartExpected  \\\n",
       "0           JVC   2012-01-13       2012-02-04        2012-01-19   \n",
       "3           MPC   2012-02-09       2012-02-16        2012-02-16   \n",
       "4           MPC   2012-02-10       2012-02-16        2012-02-16   \n",
       "5           MPC   2012-02-09       2012-02-17        2012-02-16   \n",
       "6           MPC   2012-02-09       2012-02-17        2012-02-16   \n",
       "...         ...          ...              ...               ...   \n",
       "11932       PPC   2020-12-17       2020-12-30        2020-12-22   \n",
       "11933       PDR   2020-12-10       2020-12-30        2020-12-14   \n",
       "11934       VCB   2020-12-15       2020-12-30        2020-12-18   \n",
       "11935       VTH   2020-12-11       2020-12-30        2020-12-14   \n",
       "11936       NAF   2020-12-10       2020-12-31        2020-12-16   \n",
       "\n",
       "      DateEndExpected DateActionFrom DateActionTo                TypeName  \\\n",
       "0          2012-02-29     2012-01-16   2012-02-03            GD CD noi bo   \n",
       "3          2012-03-16     2012-02-16   2012-02-16            GD CD noi bo   \n",
       "4          2012-03-16     2012-02-16   2012-02-16            GD CD noi bo   \n",
       "5          2012-03-16     2012-02-16   2012-02-17            GD CD noi bo   \n",
       "6          2012-03-16     2012-02-17   2012-02-17            GD CD noi bo   \n",
       "...               ...            ...          ...                     ...   \n",
       "11932      2021-01-19     2020-12-22   2020-12-25  GD cua nguoi lien quan   \n",
       "11933      2021-01-12     2020-12-14   2020-12-28  GD cua nguoi lien quan   \n",
       "11934      2021-01-15     2020-12-28   2020-12-29  GD cua nguoi lien quan   \n",
       "11935      2021-01-08     2020-12-24   2020-12-24  GD cua nguoi lien quan   \n",
       "11936      2021-01-15     2020-12-16   2020-12-31  GD cua nguoi lien quan   \n",
       "\n",
       "       RegisterVolumeBefore  RegisterVolumeBeforePercent  ...   Ri_T1_1  \\\n",
       "0                  13310000                 5.500000e-01  ... -0.045226   \n",
       "3                      7800                 1.114286e-04  ... -0.010695   \n",
       "4                     17166                 2.452286e-04  ... -0.048649   \n",
       "5                      8166                 1.166571e-04  ... -0.010695   \n",
       "6                      7150                 1.021429e-04  ... -0.010695   \n",
       "...                     ...                          ...  ...       ...   \n",
       "11932              77396260                 2.414008e-01  ...  0.008404   \n",
       "11933                 92106                 2.324912e-04  ...  0.000000   \n",
       "11934                  2523                 6.802597e-07  ...  0.021472   \n",
       "11935                249700                 4.994000e-02  ...  0.010638   \n",
       "11936                 44210                 9.294104e-04  ... -0.015000   \n",
       "\n",
       "        Ri_T1_2   Ri_T1_3   Ri_T1_4   Ri_T1_5  Ri_T1_6  Ri_T1_7  Ri_T1_8  \\\n",
       "0     -0.047368 -0.049724 -0.005814       NaN      NaN      NaN      NaN   \n",
       "3     -0.048649 -0.017045 -0.023121 -0.023669      NaN      NaN      NaN   \n",
       "4     -0.017045 -0.023121 -0.023669       NaN      NaN      NaN      NaN   \n",
       "5     -0.048649 -0.017045 -0.023121 -0.023669      NaN      NaN      NaN   \n",
       "6     -0.048649 -0.017045 -0.023121 -0.023669      NaN      NaN      NaN   \n",
       "...         ...       ...       ...       ...      ...      ...      ...   \n",
       "11932  0.000000  0.035417       NaN       NaN      NaN      NaN      NaN   \n",
       "11933  0.045455       NaN       NaN       NaN      NaN      NaN      NaN   \n",
       "11934 -0.039039  0.030208       NaN       NaN      NaN      NaN      NaN   \n",
       "11935       NaN       NaN       NaN       NaN      NaN      NaN      NaN   \n",
       "11936  0.055838 -0.014423  0.000000       NaN      NaN      NaN      NaN   \n",
       "\n",
       "       Ri_T1_9  Ri_T1_10  \n",
       "0          NaN       NaN  \n",
       "3          NaN       NaN  \n",
       "4          NaN       NaN  \n",
       "5          NaN       NaN  \n",
       "6          NaN       NaN  \n",
       "...        ...       ...  \n",
       "11932      NaN       NaN  \n",
       "11933      NaN       NaN  \n",
       "11934      NaN       NaN  \n",
       "11935      NaN       NaN  \n",
       "11936      NaN       NaN  \n",
       "\n",
       "[6651 rows x 43 columns]"
      ]
     },
     "execution_count": 4,
     "metadata": {},
     "output_type": "execute_result"
    }
   ],
   "source": [
    "df_new_sell"
   ]
  },
  {
   "cell_type": "code",
   "execution_count": 5,
   "metadata": {},
   "outputs": [
    {
     "data": {
      "text/html": [
       "<div>\n",
       "<style scoped>\n",
       "    .dataframe tbody tr th:only-of-type {\n",
       "        vertical-align: middle;\n",
       "    }\n",
       "\n",
       "    .dataframe tbody tr th {\n",
       "        vertical-align: top;\n",
       "    }\n",
       "\n",
       "    .dataframe thead th {\n",
       "        text-align: right;\n",
       "    }\n",
       "</style>\n",
       "<table border=\"1\" class=\"dataframe\">\n",
       "  <thead>\n",
       "    <tr style=\"text-align: right;\">\n",
       "      <th></th>\n",
       "      <th>StockCode</th>\n",
       "      <th>RegisterDate</th>\n",
       "      <th>ResultReportDate</th>\n",
       "      <th>DateStartExpected</th>\n",
       "      <th>DateEndExpected</th>\n",
       "      <th>DateActionFrom</th>\n",
       "      <th>DateActionTo</th>\n",
       "      <th>TypeName</th>\n",
       "      <th>RegisterVolumeBefore</th>\n",
       "      <th>RegisterVolumeBeforePercent</th>\n",
       "      <th>...</th>\n",
       "      <th>Ri_T1_1</th>\n",
       "      <th>Ri_T1_2</th>\n",
       "      <th>Ri_T1_3</th>\n",
       "      <th>Ri_T1_4</th>\n",
       "      <th>Ri_T1_5</th>\n",
       "      <th>Ri_T1_6</th>\n",
       "      <th>Ri_T1_7</th>\n",
       "      <th>Ri_T1_8</th>\n",
       "      <th>Ri_T1_9</th>\n",
       "      <th>Ri_T1_10</th>\n",
       "    </tr>\n",
       "  </thead>\n",
       "  <tbody>\n",
       "    <tr>\n",
       "      <th>0</th>\n",
       "      <td>JVC</td>\n",
       "      <td>2012-01-13</td>\n",
       "      <td>2012-02-04</td>\n",
       "      <td>2012-01-19</td>\n",
       "      <td>2012-02-29</td>\n",
       "      <td>2012-01-16</td>\n",
       "      <td>2012-02-03</td>\n",
       "      <td>GD CD noi bo</td>\n",
       "      <td>13310000</td>\n",
       "      <td>5.500000e-01</td>\n",
       "      <td>...</td>\n",
       "      <td>0.045226</td>\n",
       "      <td>0.047368</td>\n",
       "      <td>0.049724</td>\n",
       "      <td>0.005814</td>\n",
       "      <td>NaN</td>\n",
       "      <td>NaN</td>\n",
       "      <td>NaN</td>\n",
       "      <td>NaN</td>\n",
       "      <td>NaN</td>\n",
       "      <td>NaN</td>\n",
       "    </tr>\n",
       "    <tr>\n",
       "      <th>3</th>\n",
       "      <td>MPC</td>\n",
       "      <td>2012-02-09</td>\n",
       "      <td>2012-02-16</td>\n",
       "      <td>2012-02-16</td>\n",
       "      <td>2012-03-16</td>\n",
       "      <td>2012-02-16</td>\n",
       "      <td>2012-02-16</td>\n",
       "      <td>GD CD noi bo</td>\n",
       "      <td>7800</td>\n",
       "      <td>1.114286e-04</td>\n",
       "      <td>...</td>\n",
       "      <td>0.010695</td>\n",
       "      <td>0.048649</td>\n",
       "      <td>0.017045</td>\n",
       "      <td>0.023121</td>\n",
       "      <td>0.023669</td>\n",
       "      <td>NaN</td>\n",
       "      <td>NaN</td>\n",
       "      <td>NaN</td>\n",
       "      <td>NaN</td>\n",
       "      <td>NaN</td>\n",
       "    </tr>\n",
       "    <tr>\n",
       "      <th>4</th>\n",
       "      <td>MPC</td>\n",
       "      <td>2012-02-10</td>\n",
       "      <td>2012-02-16</td>\n",
       "      <td>2012-02-16</td>\n",
       "      <td>2012-03-16</td>\n",
       "      <td>2012-02-16</td>\n",
       "      <td>2012-02-16</td>\n",
       "      <td>GD CD noi bo</td>\n",
       "      <td>17166</td>\n",
       "      <td>2.452286e-04</td>\n",
       "      <td>...</td>\n",
       "      <td>0.048649</td>\n",
       "      <td>0.017045</td>\n",
       "      <td>0.023121</td>\n",
       "      <td>0.023669</td>\n",
       "      <td>NaN</td>\n",
       "      <td>NaN</td>\n",
       "      <td>NaN</td>\n",
       "      <td>NaN</td>\n",
       "      <td>NaN</td>\n",
       "      <td>NaN</td>\n",
       "    </tr>\n",
       "    <tr>\n",
       "      <th>5</th>\n",
       "      <td>MPC</td>\n",
       "      <td>2012-02-09</td>\n",
       "      <td>2012-02-17</td>\n",
       "      <td>2012-02-16</td>\n",
       "      <td>2012-03-16</td>\n",
       "      <td>2012-02-16</td>\n",
       "      <td>2012-02-17</td>\n",
       "      <td>GD CD noi bo</td>\n",
       "      <td>8166</td>\n",
       "      <td>1.166571e-04</td>\n",
       "      <td>...</td>\n",
       "      <td>0.010695</td>\n",
       "      <td>0.048649</td>\n",
       "      <td>0.017045</td>\n",
       "      <td>0.023121</td>\n",
       "      <td>0.023669</td>\n",
       "      <td>NaN</td>\n",
       "      <td>NaN</td>\n",
       "      <td>NaN</td>\n",
       "      <td>NaN</td>\n",
       "      <td>NaN</td>\n",
       "    </tr>\n",
       "    <tr>\n",
       "      <th>6</th>\n",
       "      <td>MPC</td>\n",
       "      <td>2012-02-09</td>\n",
       "      <td>2012-02-17</td>\n",
       "      <td>2012-02-16</td>\n",
       "      <td>2012-03-16</td>\n",
       "      <td>2012-02-17</td>\n",
       "      <td>2012-02-17</td>\n",
       "      <td>GD CD noi bo</td>\n",
       "      <td>7150</td>\n",
       "      <td>1.021429e-04</td>\n",
       "      <td>...</td>\n",
       "      <td>0.010695</td>\n",
       "      <td>0.048649</td>\n",
       "      <td>0.017045</td>\n",
       "      <td>0.023121</td>\n",
       "      <td>0.023669</td>\n",
       "      <td>NaN</td>\n",
       "      <td>NaN</td>\n",
       "      <td>NaN</td>\n",
       "      <td>NaN</td>\n",
       "      <td>NaN</td>\n",
       "    </tr>\n",
       "    <tr>\n",
       "      <th>...</th>\n",
       "      <td>...</td>\n",
       "      <td>...</td>\n",
       "      <td>...</td>\n",
       "      <td>...</td>\n",
       "      <td>...</td>\n",
       "      <td>...</td>\n",
       "      <td>...</td>\n",
       "      <td>...</td>\n",
       "      <td>...</td>\n",
       "      <td>...</td>\n",
       "      <td>...</td>\n",
       "      <td>...</td>\n",
       "      <td>...</td>\n",
       "      <td>...</td>\n",
       "      <td>...</td>\n",
       "      <td>...</td>\n",
       "      <td>...</td>\n",
       "      <td>...</td>\n",
       "      <td>...</td>\n",
       "      <td>...</td>\n",
       "      <td>...</td>\n",
       "    </tr>\n",
       "    <tr>\n",
       "      <th>11932</th>\n",
       "      <td>PPC</td>\n",
       "      <td>2020-12-17</td>\n",
       "      <td>2020-12-30</td>\n",
       "      <td>2020-12-22</td>\n",
       "      <td>2021-01-19</td>\n",
       "      <td>2020-12-22</td>\n",
       "      <td>2020-12-25</td>\n",
       "      <td>GD cua nguoi lien quan</td>\n",
       "      <td>77396260</td>\n",
       "      <td>2.414008e-01</td>\n",
       "      <td>...</td>\n",
       "      <td>-0.008404</td>\n",
       "      <td>-0.000000</td>\n",
       "      <td>-0.035417</td>\n",
       "      <td>NaN</td>\n",
       "      <td>NaN</td>\n",
       "      <td>NaN</td>\n",
       "      <td>NaN</td>\n",
       "      <td>NaN</td>\n",
       "      <td>NaN</td>\n",
       "      <td>NaN</td>\n",
       "    </tr>\n",
       "    <tr>\n",
       "      <th>11933</th>\n",
       "      <td>PDR</td>\n",
       "      <td>2020-12-10</td>\n",
       "      <td>2020-12-30</td>\n",
       "      <td>2020-12-14</td>\n",
       "      <td>2021-01-12</td>\n",
       "      <td>2020-12-14</td>\n",
       "      <td>2020-12-28</td>\n",
       "      <td>GD cua nguoi lien quan</td>\n",
       "      <td>92106</td>\n",
       "      <td>2.324912e-04</td>\n",
       "      <td>...</td>\n",
       "      <td>-0.000000</td>\n",
       "      <td>-0.045455</td>\n",
       "      <td>NaN</td>\n",
       "      <td>NaN</td>\n",
       "      <td>NaN</td>\n",
       "      <td>NaN</td>\n",
       "      <td>NaN</td>\n",
       "      <td>NaN</td>\n",
       "      <td>NaN</td>\n",
       "      <td>NaN</td>\n",
       "    </tr>\n",
       "    <tr>\n",
       "      <th>11934</th>\n",
       "      <td>VCB</td>\n",
       "      <td>2020-12-15</td>\n",
       "      <td>2020-12-30</td>\n",
       "      <td>2020-12-18</td>\n",
       "      <td>2021-01-15</td>\n",
       "      <td>2020-12-28</td>\n",
       "      <td>2020-12-29</td>\n",
       "      <td>GD cua nguoi lien quan</td>\n",
       "      <td>2523</td>\n",
       "      <td>6.802597e-07</td>\n",
       "      <td>...</td>\n",
       "      <td>-0.021472</td>\n",
       "      <td>0.039039</td>\n",
       "      <td>-0.030208</td>\n",
       "      <td>NaN</td>\n",
       "      <td>NaN</td>\n",
       "      <td>NaN</td>\n",
       "      <td>NaN</td>\n",
       "      <td>NaN</td>\n",
       "      <td>NaN</td>\n",
       "      <td>NaN</td>\n",
       "    </tr>\n",
       "    <tr>\n",
       "      <th>11935</th>\n",
       "      <td>VTH</td>\n",
       "      <td>2020-12-11</td>\n",
       "      <td>2020-12-30</td>\n",
       "      <td>2020-12-14</td>\n",
       "      <td>2021-01-08</td>\n",
       "      <td>2020-12-24</td>\n",
       "      <td>2020-12-24</td>\n",
       "      <td>GD cua nguoi lien quan</td>\n",
       "      <td>249700</td>\n",
       "      <td>4.994000e-02</td>\n",
       "      <td>...</td>\n",
       "      <td>-0.010638</td>\n",
       "      <td>NaN</td>\n",
       "      <td>NaN</td>\n",
       "      <td>NaN</td>\n",
       "      <td>NaN</td>\n",
       "      <td>NaN</td>\n",
       "      <td>NaN</td>\n",
       "      <td>NaN</td>\n",
       "      <td>NaN</td>\n",
       "      <td>NaN</td>\n",
       "    </tr>\n",
       "    <tr>\n",
       "      <th>11936</th>\n",
       "      <td>NAF</td>\n",
       "      <td>2020-12-10</td>\n",
       "      <td>2020-12-31</td>\n",
       "      <td>2020-12-16</td>\n",
       "      <td>2021-01-15</td>\n",
       "      <td>2020-12-16</td>\n",
       "      <td>2020-12-31</td>\n",
       "      <td>GD cua nguoi lien quan</td>\n",
       "      <td>44210</td>\n",
       "      <td>9.294104e-04</td>\n",
       "      <td>...</td>\n",
       "      <td>0.015000</td>\n",
       "      <td>-0.055838</td>\n",
       "      <td>0.014423</td>\n",
       "      <td>-0.000000</td>\n",
       "      <td>NaN</td>\n",
       "      <td>NaN</td>\n",
       "      <td>NaN</td>\n",
       "      <td>NaN</td>\n",
       "      <td>NaN</td>\n",
       "      <td>NaN</td>\n",
       "    </tr>\n",
       "  </tbody>\n",
       "</table>\n",
       "<p>6651 rows × 43 columns</p>\n",
       "</div>"
      ],
      "text/plain": [
       "      StockCode RegisterDate ResultReportDate DateStartExpected  \\\n",
       "0           JVC   2012-01-13       2012-02-04        2012-01-19   \n",
       "3           MPC   2012-02-09       2012-02-16        2012-02-16   \n",
       "4           MPC   2012-02-10       2012-02-16        2012-02-16   \n",
       "5           MPC   2012-02-09       2012-02-17        2012-02-16   \n",
       "6           MPC   2012-02-09       2012-02-17        2012-02-16   \n",
       "...         ...          ...              ...               ...   \n",
       "11932       PPC   2020-12-17       2020-12-30        2020-12-22   \n",
       "11933       PDR   2020-12-10       2020-12-30        2020-12-14   \n",
       "11934       VCB   2020-12-15       2020-12-30        2020-12-18   \n",
       "11935       VTH   2020-12-11       2020-12-30        2020-12-14   \n",
       "11936       NAF   2020-12-10       2020-12-31        2020-12-16   \n",
       "\n",
       "      DateEndExpected DateActionFrom DateActionTo                TypeName  \\\n",
       "0          2012-02-29     2012-01-16   2012-02-03            GD CD noi bo   \n",
       "3          2012-03-16     2012-02-16   2012-02-16            GD CD noi bo   \n",
       "4          2012-03-16     2012-02-16   2012-02-16            GD CD noi bo   \n",
       "5          2012-03-16     2012-02-16   2012-02-17            GD CD noi bo   \n",
       "6          2012-03-16     2012-02-17   2012-02-17            GD CD noi bo   \n",
       "...               ...            ...          ...                     ...   \n",
       "11932      2021-01-19     2020-12-22   2020-12-25  GD cua nguoi lien quan   \n",
       "11933      2021-01-12     2020-12-14   2020-12-28  GD cua nguoi lien quan   \n",
       "11934      2021-01-15     2020-12-28   2020-12-29  GD cua nguoi lien quan   \n",
       "11935      2021-01-08     2020-12-24   2020-12-24  GD cua nguoi lien quan   \n",
       "11936      2021-01-15     2020-12-16   2020-12-31  GD cua nguoi lien quan   \n",
       "\n",
       "       RegisterVolumeBefore  RegisterVolumeBeforePercent  ...   Ri_T1_1  \\\n",
       "0                  13310000                 5.500000e-01  ...  0.045226   \n",
       "3                      7800                 1.114286e-04  ...  0.010695   \n",
       "4                     17166                 2.452286e-04  ...  0.048649   \n",
       "5                      8166                 1.166571e-04  ...  0.010695   \n",
       "6                      7150                 1.021429e-04  ...  0.010695   \n",
       "...                     ...                          ...  ...       ...   \n",
       "11932              77396260                 2.414008e-01  ... -0.008404   \n",
       "11933                 92106                 2.324912e-04  ... -0.000000   \n",
       "11934                  2523                 6.802597e-07  ... -0.021472   \n",
       "11935                249700                 4.994000e-02  ... -0.010638   \n",
       "11936                 44210                 9.294104e-04  ...  0.015000   \n",
       "\n",
       "        Ri_T1_2   Ri_T1_3   Ri_T1_4   Ri_T1_5  Ri_T1_6  Ri_T1_7  Ri_T1_8  \\\n",
       "0      0.047368  0.049724  0.005814       NaN      NaN      NaN      NaN   \n",
       "3      0.048649  0.017045  0.023121  0.023669      NaN      NaN      NaN   \n",
       "4      0.017045  0.023121  0.023669       NaN      NaN      NaN      NaN   \n",
       "5      0.048649  0.017045  0.023121  0.023669      NaN      NaN      NaN   \n",
       "6      0.048649  0.017045  0.023121  0.023669      NaN      NaN      NaN   \n",
       "...         ...       ...       ...       ...      ...      ...      ...   \n",
       "11932 -0.000000 -0.035417       NaN       NaN      NaN      NaN      NaN   \n",
       "11933 -0.045455       NaN       NaN       NaN      NaN      NaN      NaN   \n",
       "11934  0.039039 -0.030208       NaN       NaN      NaN      NaN      NaN   \n",
       "11935       NaN       NaN       NaN       NaN      NaN      NaN      NaN   \n",
       "11936 -0.055838  0.014423 -0.000000       NaN      NaN      NaN      NaN   \n",
       "\n",
       "       Ri_T1_9  Ri_T1_10  \n",
       "0          NaN       NaN  \n",
       "3          NaN       NaN  \n",
       "4          NaN       NaN  \n",
       "5          NaN       NaN  \n",
       "6          NaN       NaN  \n",
       "...        ...       ...  \n",
       "11932      NaN       NaN  \n",
       "11933      NaN       NaN  \n",
       "11934      NaN       NaN  \n",
       "11935      NaN       NaN  \n",
       "11936      NaN       NaN  \n",
       "\n",
       "[6651 rows x 43 columns]"
      ]
     },
     "execution_count": 5,
     "metadata": {},
     "output_type": "execute_result"
    }
   ],
   "source": [
    "\n",
    "df_new_sell.iloc[:,32:43]=df_new_sell.iloc[:,32:43]*(-1)\n",
    "df_new_sell"
   ]
  },
  {
   "cell_type": "code",
   "execution_count": 6,
   "metadata": {},
   "outputs": [
    {
     "data": {
      "text/html": [
       "<div>\n",
       "<style scoped>\n",
       "    .dataframe tbody tr th:only-of-type {\n",
       "        vertical-align: middle;\n",
       "    }\n",
       "\n",
       "    .dataframe tbody tr th {\n",
       "        vertical-align: top;\n",
       "    }\n",
       "\n",
       "    .dataframe thead th {\n",
       "        text-align: right;\n",
       "    }\n",
       "</style>\n",
       "<table border=\"1\" class=\"dataframe\">\n",
       "  <thead>\n",
       "    <tr style=\"text-align: right;\">\n",
       "      <th></th>\n",
       "      <th>StockCode</th>\n",
       "      <th>RegisterDate</th>\n",
       "      <th>ResultReportDate</th>\n",
       "      <th>DateStartExpected</th>\n",
       "      <th>DateEndExpected</th>\n",
       "      <th>DateActionFrom</th>\n",
       "      <th>DateActionTo</th>\n",
       "      <th>TypeName</th>\n",
       "      <th>RegisterVolumeBefore</th>\n",
       "      <th>RegisterVolumeBeforePercent</th>\n",
       "      <th>...</th>\n",
       "      <th>Ri_T1_1</th>\n",
       "      <th>Ri_T1_2</th>\n",
       "      <th>Ri_T1_3</th>\n",
       "      <th>Ri_T1_4</th>\n",
       "      <th>Ri_T1_5</th>\n",
       "      <th>Ri_T1_6</th>\n",
       "      <th>Ri_T1_7</th>\n",
       "      <th>Ri_T1_8</th>\n",
       "      <th>Ri_T1_9</th>\n",
       "      <th>Ri_T1_10</th>\n",
       "    </tr>\n",
       "  </thead>\n",
       "  <tbody>\n",
       "    <tr>\n",
       "      <th>0</th>\n",
       "      <td>JVC</td>\n",
       "      <td>2012-01-13</td>\n",
       "      <td>2012-02-04</td>\n",
       "      <td>2012-01-19</td>\n",
       "      <td>2012-02-29</td>\n",
       "      <td>2012-01-16</td>\n",
       "      <td>2012-02-03</td>\n",
       "      <td>GD CD noi bo</td>\n",
       "      <td>13310000</td>\n",
       "      <td>5.500000e-01</td>\n",
       "      <td>...</td>\n",
       "      <td>0.045226</td>\n",
       "      <td>0.047368</td>\n",
       "      <td>0.049724</td>\n",
       "      <td>-0.023256</td>\n",
       "      <td>NaN</td>\n",
       "      <td>NaN</td>\n",
       "      <td>NaN</td>\n",
       "      <td>NaN</td>\n",
       "      <td>NaN</td>\n",
       "      <td>NaN</td>\n",
       "    </tr>\n",
       "    <tr>\n",
       "      <th>3</th>\n",
       "      <td>MPC</td>\n",
       "      <td>2012-02-09</td>\n",
       "      <td>2012-02-16</td>\n",
       "      <td>2012-02-16</td>\n",
       "      <td>2012-03-16</td>\n",
       "      <td>2012-02-16</td>\n",
       "      <td>2012-02-16</td>\n",
       "      <td>GD CD noi bo</td>\n",
       "      <td>7800</td>\n",
       "      <td>1.114286e-04</td>\n",
       "      <td>...</td>\n",
       "      <td>0.010695</td>\n",
       "      <td>0.048649</td>\n",
       "      <td>0.017045</td>\n",
       "      <td>0.023121</td>\n",
       "      <td>-0.118343</td>\n",
       "      <td>NaN</td>\n",
       "      <td>NaN</td>\n",
       "      <td>NaN</td>\n",
       "      <td>NaN</td>\n",
       "      <td>NaN</td>\n",
       "    </tr>\n",
       "    <tr>\n",
       "      <th>4</th>\n",
       "      <td>MPC</td>\n",
       "      <td>2012-02-10</td>\n",
       "      <td>2012-02-16</td>\n",
       "      <td>2012-02-16</td>\n",
       "      <td>2012-03-16</td>\n",
       "      <td>2012-02-16</td>\n",
       "      <td>2012-02-16</td>\n",
       "      <td>GD CD noi bo</td>\n",
       "      <td>17166</td>\n",
       "      <td>2.452286e-04</td>\n",
       "      <td>...</td>\n",
       "      <td>0.048649</td>\n",
       "      <td>0.017045</td>\n",
       "      <td>0.023121</td>\n",
       "      <td>-0.094675</td>\n",
       "      <td>NaN</td>\n",
       "      <td>NaN</td>\n",
       "      <td>NaN</td>\n",
       "      <td>NaN</td>\n",
       "      <td>NaN</td>\n",
       "      <td>NaN</td>\n",
       "    </tr>\n",
       "    <tr>\n",
       "      <th>5</th>\n",
       "      <td>MPC</td>\n",
       "      <td>2012-02-09</td>\n",
       "      <td>2012-02-17</td>\n",
       "      <td>2012-02-16</td>\n",
       "      <td>2012-03-16</td>\n",
       "      <td>2012-02-16</td>\n",
       "      <td>2012-02-17</td>\n",
       "      <td>GD CD noi bo</td>\n",
       "      <td>8166</td>\n",
       "      <td>1.166571e-04</td>\n",
       "      <td>...</td>\n",
       "      <td>0.010695</td>\n",
       "      <td>0.048649</td>\n",
       "      <td>0.017045</td>\n",
       "      <td>0.023121</td>\n",
       "      <td>-0.118343</td>\n",
       "      <td>NaN</td>\n",
       "      <td>NaN</td>\n",
       "      <td>NaN</td>\n",
       "      <td>NaN</td>\n",
       "      <td>NaN</td>\n",
       "    </tr>\n",
       "    <tr>\n",
       "      <th>6</th>\n",
       "      <td>MPC</td>\n",
       "      <td>2012-02-09</td>\n",
       "      <td>2012-02-17</td>\n",
       "      <td>2012-02-16</td>\n",
       "      <td>2012-03-16</td>\n",
       "      <td>2012-02-17</td>\n",
       "      <td>2012-02-17</td>\n",
       "      <td>GD CD noi bo</td>\n",
       "      <td>7150</td>\n",
       "      <td>1.021429e-04</td>\n",
       "      <td>...</td>\n",
       "      <td>0.010695</td>\n",
       "      <td>0.048649</td>\n",
       "      <td>0.017045</td>\n",
       "      <td>0.023121</td>\n",
       "      <td>-0.118343</td>\n",
       "      <td>NaN</td>\n",
       "      <td>NaN</td>\n",
       "      <td>NaN</td>\n",
       "      <td>NaN</td>\n",
       "      <td>NaN</td>\n",
       "    </tr>\n",
       "    <tr>\n",
       "      <th>...</th>\n",
       "      <td>...</td>\n",
       "      <td>...</td>\n",
       "      <td>...</td>\n",
       "      <td>...</td>\n",
       "      <td>...</td>\n",
       "      <td>...</td>\n",
       "      <td>...</td>\n",
       "      <td>...</td>\n",
       "      <td>...</td>\n",
       "      <td>...</td>\n",
       "      <td>...</td>\n",
       "      <td>...</td>\n",
       "      <td>...</td>\n",
       "      <td>...</td>\n",
       "      <td>...</td>\n",
       "      <td>...</td>\n",
       "      <td>...</td>\n",
       "      <td>...</td>\n",
       "      <td>...</td>\n",
       "      <td>...</td>\n",
       "      <td>...</td>\n",
       "    </tr>\n",
       "    <tr>\n",
       "      <th>11932</th>\n",
       "      <td>PPC</td>\n",
       "      <td>2020-12-17</td>\n",
       "      <td>2020-12-30</td>\n",
       "      <td>2020-12-22</td>\n",
       "      <td>2021-01-19</td>\n",
       "      <td>2020-12-22</td>\n",
       "      <td>2020-12-25</td>\n",
       "      <td>GD cua nguoi lien quan</td>\n",
       "      <td>77396260</td>\n",
       "      <td>2.414008e-01</td>\n",
       "      <td>...</td>\n",
       "      <td>-0.008404</td>\n",
       "      <td>-0.000000</td>\n",
       "      <td>0.106250</td>\n",
       "      <td>NaN</td>\n",
       "      <td>NaN</td>\n",
       "      <td>NaN</td>\n",
       "      <td>NaN</td>\n",
       "      <td>NaN</td>\n",
       "      <td>NaN</td>\n",
       "      <td>NaN</td>\n",
       "    </tr>\n",
       "    <tr>\n",
       "      <th>11933</th>\n",
       "      <td>PDR</td>\n",
       "      <td>2020-12-10</td>\n",
       "      <td>2020-12-30</td>\n",
       "      <td>2020-12-14</td>\n",
       "      <td>2021-01-12</td>\n",
       "      <td>2020-12-14</td>\n",
       "      <td>2020-12-28</td>\n",
       "      <td>GD cua nguoi lien quan</td>\n",
       "      <td>92106</td>\n",
       "      <td>2.324912e-04</td>\n",
       "      <td>...</td>\n",
       "      <td>-0.000000</td>\n",
       "      <td>0.090909</td>\n",
       "      <td>NaN</td>\n",
       "      <td>NaN</td>\n",
       "      <td>NaN</td>\n",
       "      <td>NaN</td>\n",
       "      <td>NaN</td>\n",
       "      <td>NaN</td>\n",
       "      <td>NaN</td>\n",
       "      <td>NaN</td>\n",
       "    </tr>\n",
       "    <tr>\n",
       "      <th>11934</th>\n",
       "      <td>VCB</td>\n",
       "      <td>2020-12-15</td>\n",
       "      <td>2020-12-30</td>\n",
       "      <td>2020-12-18</td>\n",
       "      <td>2021-01-15</td>\n",
       "      <td>2020-12-28</td>\n",
       "      <td>2020-12-29</td>\n",
       "      <td>GD cua nguoi lien quan</td>\n",
       "      <td>2523</td>\n",
       "      <td>6.802597e-07</td>\n",
       "      <td>...</td>\n",
       "      <td>-0.021472</td>\n",
       "      <td>0.039039</td>\n",
       "      <td>0.090625</td>\n",
       "      <td>NaN</td>\n",
       "      <td>NaN</td>\n",
       "      <td>NaN</td>\n",
       "      <td>NaN</td>\n",
       "      <td>NaN</td>\n",
       "      <td>NaN</td>\n",
       "      <td>NaN</td>\n",
       "    </tr>\n",
       "    <tr>\n",
       "      <th>11935</th>\n",
       "      <td>VTH</td>\n",
       "      <td>2020-12-11</td>\n",
       "      <td>2020-12-30</td>\n",
       "      <td>2020-12-14</td>\n",
       "      <td>2021-01-08</td>\n",
       "      <td>2020-12-24</td>\n",
       "      <td>2020-12-24</td>\n",
       "      <td>GD cua nguoi lien quan</td>\n",
       "      <td>249700</td>\n",
       "      <td>4.994000e-02</td>\n",
       "      <td>...</td>\n",
       "      <td>0.010638</td>\n",
       "      <td>NaN</td>\n",
       "      <td>NaN</td>\n",
       "      <td>NaN</td>\n",
       "      <td>NaN</td>\n",
       "      <td>NaN</td>\n",
       "      <td>NaN</td>\n",
       "      <td>NaN</td>\n",
       "      <td>NaN</td>\n",
       "      <td>NaN</td>\n",
       "    </tr>\n",
       "    <tr>\n",
       "      <th>11936</th>\n",
       "      <td>NAF</td>\n",
       "      <td>2020-12-10</td>\n",
       "      <td>2020-12-31</td>\n",
       "      <td>2020-12-16</td>\n",
       "      <td>2021-01-15</td>\n",
       "      <td>2020-12-16</td>\n",
       "      <td>2020-12-31</td>\n",
       "      <td>GD cua nguoi lien quan</td>\n",
       "      <td>44210</td>\n",
       "      <td>9.294104e-04</td>\n",
       "      <td>...</td>\n",
       "      <td>0.015000</td>\n",
       "      <td>-0.055838</td>\n",
       "      <td>0.014423</td>\n",
       "      <td>0.000000</td>\n",
       "      <td>NaN</td>\n",
       "      <td>NaN</td>\n",
       "      <td>NaN</td>\n",
       "      <td>NaN</td>\n",
       "      <td>NaN</td>\n",
       "      <td>NaN</td>\n",
       "    </tr>\n",
       "  </tbody>\n",
       "</table>\n",
       "<p>6651 rows × 43 columns</p>\n",
       "</div>"
      ],
      "text/plain": [
       "      StockCode RegisterDate ResultReportDate DateStartExpected  \\\n",
       "0           JVC   2012-01-13       2012-02-04        2012-01-19   \n",
       "3           MPC   2012-02-09       2012-02-16        2012-02-16   \n",
       "4           MPC   2012-02-10       2012-02-16        2012-02-16   \n",
       "5           MPC   2012-02-09       2012-02-17        2012-02-16   \n",
       "6           MPC   2012-02-09       2012-02-17        2012-02-16   \n",
       "...         ...          ...              ...               ...   \n",
       "11932       PPC   2020-12-17       2020-12-30        2020-12-22   \n",
       "11933       PDR   2020-12-10       2020-12-30        2020-12-14   \n",
       "11934       VCB   2020-12-15       2020-12-30        2020-12-18   \n",
       "11935       VTH   2020-12-11       2020-12-30        2020-12-14   \n",
       "11936       NAF   2020-12-10       2020-12-31        2020-12-16   \n",
       "\n",
       "      DateEndExpected DateActionFrom DateActionTo                TypeName  \\\n",
       "0          2012-02-29     2012-01-16   2012-02-03            GD CD noi bo   \n",
       "3          2012-03-16     2012-02-16   2012-02-16            GD CD noi bo   \n",
       "4          2012-03-16     2012-02-16   2012-02-16            GD CD noi bo   \n",
       "5          2012-03-16     2012-02-16   2012-02-17            GD CD noi bo   \n",
       "6          2012-03-16     2012-02-17   2012-02-17            GD CD noi bo   \n",
       "...               ...            ...          ...                     ...   \n",
       "11932      2021-01-19     2020-12-22   2020-12-25  GD cua nguoi lien quan   \n",
       "11933      2021-01-12     2020-12-14   2020-12-28  GD cua nguoi lien quan   \n",
       "11934      2021-01-15     2020-12-28   2020-12-29  GD cua nguoi lien quan   \n",
       "11935      2021-01-08     2020-12-24   2020-12-24  GD cua nguoi lien quan   \n",
       "11936      2021-01-15     2020-12-16   2020-12-31  GD cua nguoi lien quan   \n",
       "\n",
       "       RegisterVolumeBefore  RegisterVolumeBeforePercent  ...   Ri_T1_1  \\\n",
       "0                  13310000                 5.500000e-01  ...  0.045226   \n",
       "3                      7800                 1.114286e-04  ...  0.010695   \n",
       "4                     17166                 2.452286e-04  ...  0.048649   \n",
       "5                      8166                 1.166571e-04  ...  0.010695   \n",
       "6                      7150                 1.021429e-04  ...  0.010695   \n",
       "...                     ...                          ...  ...       ...   \n",
       "11932              77396260                 2.414008e-01  ... -0.008404   \n",
       "11933                 92106                 2.324912e-04  ... -0.000000   \n",
       "11934                  2523                 6.802597e-07  ... -0.021472   \n",
       "11935                249700                 4.994000e-02  ...  0.010638   \n",
       "11936                 44210                 9.294104e-04  ...  0.015000   \n",
       "\n",
       "        Ri_T1_2   Ri_T1_3   Ri_T1_4   Ri_T1_5  Ri_T1_6  Ri_T1_7  Ri_T1_8  \\\n",
       "0      0.047368  0.049724 -0.023256       NaN      NaN      NaN      NaN   \n",
       "3      0.048649  0.017045  0.023121 -0.118343      NaN      NaN      NaN   \n",
       "4      0.017045  0.023121 -0.094675       NaN      NaN      NaN      NaN   \n",
       "5      0.048649  0.017045  0.023121 -0.118343      NaN      NaN      NaN   \n",
       "6      0.048649  0.017045  0.023121 -0.118343      NaN      NaN      NaN   \n",
       "...         ...       ...       ...       ...      ...      ...      ...   \n",
       "11932 -0.000000  0.106250       NaN       NaN      NaN      NaN      NaN   \n",
       "11933  0.090909       NaN       NaN       NaN      NaN      NaN      NaN   \n",
       "11934  0.039039  0.090625       NaN       NaN      NaN      NaN      NaN   \n",
       "11935       NaN       NaN       NaN       NaN      NaN      NaN      NaN   \n",
       "11936 -0.055838  0.014423  0.000000       NaN      NaN      NaN      NaN   \n",
       "\n",
       "       Ri_T1_9  Ri_T1_10  \n",
       "0          NaN       NaN  \n",
       "3          NaN       NaN  \n",
       "4          NaN       NaN  \n",
       "5          NaN       NaN  \n",
       "6          NaN       NaN  \n",
       "...        ...       ...  \n",
       "11932      NaN       NaN  \n",
       "11933      NaN       NaN  \n",
       "11934      NaN       NaN  \n",
       "11935      NaN       NaN  \n",
       "11936      NaN       NaN  \n",
       "\n",
       "[6651 rows x 43 columns]"
      ]
     },
     "execution_count": 6,
     "metadata": {},
     "output_type": "execute_result"
    }
   ],
   "source": [
    "for i in range(len(df_new_sell)):\n",
    "    k = df_new_sell['Diff_days'].iloc[i]\n",
    "    df_new_sell.iloc[i,32+k] = df_new_sell.iloc[i,32+k]*(-1)*k\n",
    "df_new_sell"
   ]
  },
  {
   "cell_type": "code",
   "execution_count": 7,
   "metadata": {},
   "outputs": [
    {
     "data": {
      "text/plain": [
       "array([ 0.09854967, -0.00304304,  0.00483612, ...,  0.12921267,\n",
       "        0.0106383 , -0.06808115])"
      ]
     },
     "execution_count": 7,
     "metadata": {},
     "output_type": "execute_result"
    }
   ],
   "source": [
    "ret_sell = np.nansum(df_new_sell.iloc[:,32:43],axis=1)\n",
    "ret_sell"
   ]
  },
  {
   "cell_type": "code",
   "execution_count": 8,
   "metadata": {},
   "outputs": [
    {
     "data": {
      "text/html": [
       "<div>\n",
       "<style scoped>\n",
       "    .dataframe tbody tr th:only-of-type {\n",
       "        vertical-align: middle;\n",
       "    }\n",
       "\n",
       "    .dataframe tbody tr th {\n",
       "        vertical-align: top;\n",
       "    }\n",
       "\n",
       "    .dataframe thead th {\n",
       "        text-align: right;\n",
       "    }\n",
       "</style>\n",
       "<table border=\"1\" class=\"dataframe\">\n",
       "  <thead>\n",
       "    <tr style=\"text-align: right;\">\n",
       "      <th></th>\n",
       "      <th>StockCode</th>\n",
       "      <th>RegisterDate</th>\n",
       "      <th>ResultReportDate</th>\n",
       "      <th>DateStartExpected</th>\n",
       "      <th>DateEndExpected</th>\n",
       "      <th>DateActionFrom</th>\n",
       "      <th>DateActionTo</th>\n",
       "      <th>TypeName</th>\n",
       "      <th>RegisterVolumeBefore</th>\n",
       "      <th>RegisterVolumeBeforePercent</th>\n",
       "      <th>...</th>\n",
       "      <th>Ri_T1_2</th>\n",
       "      <th>Ri_T1_3</th>\n",
       "      <th>Ri_T1_4</th>\n",
       "      <th>Ri_T1_5</th>\n",
       "      <th>Ri_T1_6</th>\n",
       "      <th>Ri_T1_7</th>\n",
       "      <th>Ri_T1_8</th>\n",
       "      <th>Ri_T1_9</th>\n",
       "      <th>Ri_T1_10</th>\n",
       "      <th>ret_sell</th>\n",
       "    </tr>\n",
       "  </thead>\n",
       "  <tbody>\n",
       "    <tr>\n",
       "      <th>0</th>\n",
       "      <td>JVC</td>\n",
       "      <td>2012-01-13</td>\n",
       "      <td>2012-02-04</td>\n",
       "      <td>2012-01-19</td>\n",
       "      <td>2012-02-29</td>\n",
       "      <td>2012-01-16</td>\n",
       "      <td>2012-02-03</td>\n",
       "      <td>GD CD noi bo</td>\n",
       "      <td>13310000</td>\n",
       "      <td>5.500000e-01</td>\n",
       "      <td>...</td>\n",
       "      <td>0.047368</td>\n",
       "      <td>0.049724</td>\n",
       "      <td>-0.023256</td>\n",
       "      <td>NaN</td>\n",
       "      <td>NaN</td>\n",
       "      <td>NaN</td>\n",
       "      <td>NaN</td>\n",
       "      <td>NaN</td>\n",
       "      <td>NaN</td>\n",
       "      <td>0.098550</td>\n",
       "    </tr>\n",
       "    <tr>\n",
       "      <th>3</th>\n",
       "      <td>MPC</td>\n",
       "      <td>2012-02-09</td>\n",
       "      <td>2012-02-16</td>\n",
       "      <td>2012-02-16</td>\n",
       "      <td>2012-03-16</td>\n",
       "      <td>2012-02-16</td>\n",
       "      <td>2012-02-16</td>\n",
       "      <td>GD CD noi bo</td>\n",
       "      <td>7800</td>\n",
       "      <td>1.114286e-04</td>\n",
       "      <td>...</td>\n",
       "      <td>0.048649</td>\n",
       "      <td>0.017045</td>\n",
       "      <td>0.023121</td>\n",
       "      <td>-0.118343</td>\n",
       "      <td>NaN</td>\n",
       "      <td>NaN</td>\n",
       "      <td>NaN</td>\n",
       "      <td>NaN</td>\n",
       "      <td>NaN</td>\n",
       "      <td>-0.003043</td>\n",
       "    </tr>\n",
       "    <tr>\n",
       "      <th>4</th>\n",
       "      <td>MPC</td>\n",
       "      <td>2012-02-10</td>\n",
       "      <td>2012-02-16</td>\n",
       "      <td>2012-02-16</td>\n",
       "      <td>2012-03-16</td>\n",
       "      <td>2012-02-16</td>\n",
       "      <td>2012-02-16</td>\n",
       "      <td>GD CD noi bo</td>\n",
       "      <td>17166</td>\n",
       "      <td>2.452286e-04</td>\n",
       "      <td>...</td>\n",
       "      <td>0.017045</td>\n",
       "      <td>0.023121</td>\n",
       "      <td>-0.094675</td>\n",
       "      <td>NaN</td>\n",
       "      <td>NaN</td>\n",
       "      <td>NaN</td>\n",
       "      <td>NaN</td>\n",
       "      <td>NaN</td>\n",
       "      <td>NaN</td>\n",
       "      <td>0.004836</td>\n",
       "    </tr>\n",
       "    <tr>\n",
       "      <th>5</th>\n",
       "      <td>MPC</td>\n",
       "      <td>2012-02-09</td>\n",
       "      <td>2012-02-17</td>\n",
       "      <td>2012-02-16</td>\n",
       "      <td>2012-03-16</td>\n",
       "      <td>2012-02-16</td>\n",
       "      <td>2012-02-17</td>\n",
       "      <td>GD CD noi bo</td>\n",
       "      <td>8166</td>\n",
       "      <td>1.166571e-04</td>\n",
       "      <td>...</td>\n",
       "      <td>0.048649</td>\n",
       "      <td>0.017045</td>\n",
       "      <td>0.023121</td>\n",
       "      <td>-0.118343</td>\n",
       "      <td>NaN</td>\n",
       "      <td>NaN</td>\n",
       "      <td>NaN</td>\n",
       "      <td>NaN</td>\n",
       "      <td>NaN</td>\n",
       "      <td>-0.003043</td>\n",
       "    </tr>\n",
       "    <tr>\n",
       "      <th>6</th>\n",
       "      <td>MPC</td>\n",
       "      <td>2012-02-09</td>\n",
       "      <td>2012-02-17</td>\n",
       "      <td>2012-02-16</td>\n",
       "      <td>2012-03-16</td>\n",
       "      <td>2012-02-17</td>\n",
       "      <td>2012-02-17</td>\n",
       "      <td>GD CD noi bo</td>\n",
       "      <td>7150</td>\n",
       "      <td>1.021429e-04</td>\n",
       "      <td>...</td>\n",
       "      <td>0.048649</td>\n",
       "      <td>0.017045</td>\n",
       "      <td>0.023121</td>\n",
       "      <td>-0.118343</td>\n",
       "      <td>NaN</td>\n",
       "      <td>NaN</td>\n",
       "      <td>NaN</td>\n",
       "      <td>NaN</td>\n",
       "      <td>NaN</td>\n",
       "      <td>-0.003043</td>\n",
       "    </tr>\n",
       "    <tr>\n",
       "      <th>...</th>\n",
       "      <td>...</td>\n",
       "      <td>...</td>\n",
       "      <td>...</td>\n",
       "      <td>...</td>\n",
       "      <td>...</td>\n",
       "      <td>...</td>\n",
       "      <td>...</td>\n",
       "      <td>...</td>\n",
       "      <td>...</td>\n",
       "      <td>...</td>\n",
       "      <td>...</td>\n",
       "      <td>...</td>\n",
       "      <td>...</td>\n",
       "      <td>...</td>\n",
       "      <td>...</td>\n",
       "      <td>...</td>\n",
       "      <td>...</td>\n",
       "      <td>...</td>\n",
       "      <td>...</td>\n",
       "      <td>...</td>\n",
       "      <td>...</td>\n",
       "    </tr>\n",
       "    <tr>\n",
       "      <th>11932</th>\n",
       "      <td>PPC</td>\n",
       "      <td>2020-12-17</td>\n",
       "      <td>2020-12-30</td>\n",
       "      <td>2020-12-22</td>\n",
       "      <td>2021-01-19</td>\n",
       "      <td>2020-12-22</td>\n",
       "      <td>2020-12-25</td>\n",
       "      <td>GD cua nguoi lien quan</td>\n",
       "      <td>77396260</td>\n",
       "      <td>2.414008e-01</td>\n",
       "      <td>...</td>\n",
       "      <td>-0.000000</td>\n",
       "      <td>0.106250</td>\n",
       "      <td>NaN</td>\n",
       "      <td>NaN</td>\n",
       "      <td>NaN</td>\n",
       "      <td>NaN</td>\n",
       "      <td>NaN</td>\n",
       "      <td>NaN</td>\n",
       "      <td>NaN</td>\n",
       "      <td>0.099912</td>\n",
       "    </tr>\n",
       "    <tr>\n",
       "      <th>11933</th>\n",
       "      <td>PDR</td>\n",
       "      <td>2020-12-10</td>\n",
       "      <td>2020-12-30</td>\n",
       "      <td>2020-12-14</td>\n",
       "      <td>2021-01-12</td>\n",
       "      <td>2020-12-14</td>\n",
       "      <td>2020-12-28</td>\n",
       "      <td>GD cua nguoi lien quan</td>\n",
       "      <td>92106</td>\n",
       "      <td>2.324912e-04</td>\n",
       "      <td>...</td>\n",
       "      <td>0.090909</td>\n",
       "      <td>NaN</td>\n",
       "      <td>NaN</td>\n",
       "      <td>NaN</td>\n",
       "      <td>NaN</td>\n",
       "      <td>NaN</td>\n",
       "      <td>NaN</td>\n",
       "      <td>NaN</td>\n",
       "      <td>NaN</td>\n",
       "      <td>0.106964</td>\n",
       "    </tr>\n",
       "    <tr>\n",
       "      <th>11934</th>\n",
       "      <td>VCB</td>\n",
       "      <td>2020-12-15</td>\n",
       "      <td>2020-12-30</td>\n",
       "      <td>2020-12-18</td>\n",
       "      <td>2021-01-15</td>\n",
       "      <td>2020-12-28</td>\n",
       "      <td>2020-12-29</td>\n",
       "      <td>GD cua nguoi lien quan</td>\n",
       "      <td>2523</td>\n",
       "      <td>6.802597e-07</td>\n",
       "      <td>...</td>\n",
       "      <td>0.039039</td>\n",
       "      <td>0.090625</td>\n",
       "      <td>NaN</td>\n",
       "      <td>NaN</td>\n",
       "      <td>NaN</td>\n",
       "      <td>NaN</td>\n",
       "      <td>NaN</td>\n",
       "      <td>NaN</td>\n",
       "      <td>NaN</td>\n",
       "      <td>0.129213</td>\n",
       "    </tr>\n",
       "    <tr>\n",
       "      <th>11935</th>\n",
       "      <td>VTH</td>\n",
       "      <td>2020-12-11</td>\n",
       "      <td>2020-12-30</td>\n",
       "      <td>2020-12-14</td>\n",
       "      <td>2021-01-08</td>\n",
       "      <td>2020-12-24</td>\n",
       "      <td>2020-12-24</td>\n",
       "      <td>GD cua nguoi lien quan</td>\n",
       "      <td>249700</td>\n",
       "      <td>4.994000e-02</td>\n",
       "      <td>...</td>\n",
       "      <td>NaN</td>\n",
       "      <td>NaN</td>\n",
       "      <td>NaN</td>\n",
       "      <td>NaN</td>\n",
       "      <td>NaN</td>\n",
       "      <td>NaN</td>\n",
       "      <td>NaN</td>\n",
       "      <td>NaN</td>\n",
       "      <td>NaN</td>\n",
       "      <td>0.010638</td>\n",
       "    </tr>\n",
       "    <tr>\n",
       "      <th>11936</th>\n",
       "      <td>NAF</td>\n",
       "      <td>2020-12-10</td>\n",
       "      <td>2020-12-31</td>\n",
       "      <td>2020-12-16</td>\n",
       "      <td>2021-01-15</td>\n",
       "      <td>2020-12-16</td>\n",
       "      <td>2020-12-31</td>\n",
       "      <td>GD cua nguoi lien quan</td>\n",
       "      <td>44210</td>\n",
       "      <td>9.294104e-04</td>\n",
       "      <td>...</td>\n",
       "      <td>-0.055838</td>\n",
       "      <td>0.014423</td>\n",
       "      <td>0.000000</td>\n",
       "      <td>NaN</td>\n",
       "      <td>NaN</td>\n",
       "      <td>NaN</td>\n",
       "      <td>NaN</td>\n",
       "      <td>NaN</td>\n",
       "      <td>NaN</td>\n",
       "      <td>-0.068081</td>\n",
       "    </tr>\n",
       "  </tbody>\n",
       "</table>\n",
       "<p>6651 rows × 44 columns</p>\n",
       "</div>"
      ],
      "text/plain": [
       "      StockCode RegisterDate ResultReportDate DateStartExpected  \\\n",
       "0           JVC   2012-01-13       2012-02-04        2012-01-19   \n",
       "3           MPC   2012-02-09       2012-02-16        2012-02-16   \n",
       "4           MPC   2012-02-10       2012-02-16        2012-02-16   \n",
       "5           MPC   2012-02-09       2012-02-17        2012-02-16   \n",
       "6           MPC   2012-02-09       2012-02-17        2012-02-16   \n",
       "...         ...          ...              ...               ...   \n",
       "11932       PPC   2020-12-17       2020-12-30        2020-12-22   \n",
       "11933       PDR   2020-12-10       2020-12-30        2020-12-14   \n",
       "11934       VCB   2020-12-15       2020-12-30        2020-12-18   \n",
       "11935       VTH   2020-12-11       2020-12-30        2020-12-14   \n",
       "11936       NAF   2020-12-10       2020-12-31        2020-12-16   \n",
       "\n",
       "      DateEndExpected DateActionFrom DateActionTo                TypeName  \\\n",
       "0          2012-02-29     2012-01-16   2012-02-03            GD CD noi bo   \n",
       "3          2012-03-16     2012-02-16   2012-02-16            GD CD noi bo   \n",
       "4          2012-03-16     2012-02-16   2012-02-16            GD CD noi bo   \n",
       "5          2012-03-16     2012-02-16   2012-02-17            GD CD noi bo   \n",
       "6          2012-03-16     2012-02-17   2012-02-17            GD CD noi bo   \n",
       "...               ...            ...          ...                     ...   \n",
       "11932      2021-01-19     2020-12-22   2020-12-25  GD cua nguoi lien quan   \n",
       "11933      2021-01-12     2020-12-14   2020-12-28  GD cua nguoi lien quan   \n",
       "11934      2021-01-15     2020-12-28   2020-12-29  GD cua nguoi lien quan   \n",
       "11935      2021-01-08     2020-12-24   2020-12-24  GD cua nguoi lien quan   \n",
       "11936      2021-01-15     2020-12-16   2020-12-31  GD cua nguoi lien quan   \n",
       "\n",
       "       RegisterVolumeBefore  RegisterVolumeBeforePercent  ...   Ri_T1_2  \\\n",
       "0                  13310000                 5.500000e-01  ...  0.047368   \n",
       "3                      7800                 1.114286e-04  ...  0.048649   \n",
       "4                     17166                 2.452286e-04  ...  0.017045   \n",
       "5                      8166                 1.166571e-04  ...  0.048649   \n",
       "6                      7150                 1.021429e-04  ...  0.048649   \n",
       "...                     ...                          ...  ...       ...   \n",
       "11932              77396260                 2.414008e-01  ... -0.000000   \n",
       "11933                 92106                 2.324912e-04  ...  0.090909   \n",
       "11934                  2523                 6.802597e-07  ...  0.039039   \n",
       "11935                249700                 4.994000e-02  ...       NaN   \n",
       "11936                 44210                 9.294104e-04  ... -0.055838   \n",
       "\n",
       "        Ri_T1_3   Ri_T1_4   Ri_T1_5  Ri_T1_6  Ri_T1_7  Ri_T1_8  Ri_T1_9  \\\n",
       "0      0.049724 -0.023256       NaN      NaN      NaN      NaN      NaN   \n",
       "3      0.017045  0.023121 -0.118343      NaN      NaN      NaN      NaN   \n",
       "4      0.023121 -0.094675       NaN      NaN      NaN      NaN      NaN   \n",
       "5      0.017045  0.023121 -0.118343      NaN      NaN      NaN      NaN   \n",
       "6      0.017045  0.023121 -0.118343      NaN      NaN      NaN      NaN   \n",
       "...         ...       ...       ...      ...      ...      ...      ...   \n",
       "11932  0.106250       NaN       NaN      NaN      NaN      NaN      NaN   \n",
       "11933       NaN       NaN       NaN      NaN      NaN      NaN      NaN   \n",
       "11934  0.090625       NaN       NaN      NaN      NaN      NaN      NaN   \n",
       "11935       NaN       NaN       NaN      NaN      NaN      NaN      NaN   \n",
       "11936  0.014423  0.000000       NaN      NaN      NaN      NaN      NaN   \n",
       "\n",
       "       Ri_T1_10  ret_sell  \n",
       "0           NaN  0.098550  \n",
       "3           NaN -0.003043  \n",
       "4           NaN  0.004836  \n",
       "5           NaN -0.003043  \n",
       "6           NaN -0.003043  \n",
       "...         ...       ...  \n",
       "11932       NaN  0.099912  \n",
       "11933       NaN  0.106964  \n",
       "11934       NaN  0.129213  \n",
       "11935       NaN  0.010638  \n",
       "11936       NaN -0.068081  \n",
       "\n",
       "[6651 rows x 44 columns]"
      ]
     },
     "execution_count": 8,
     "metadata": {},
     "output_type": "execute_result"
    }
   ],
   "source": [
    "df_new_sell['ret_sell'] = np.array(ret_sell)\n",
    "df_new_sell"
   ]
  },
  {
   "cell_type": "code",
   "execution_count": 9,
   "metadata": {},
   "outputs": [],
   "source": [
    "df_new_sell['year']=df_new_sell['RegisterDate'].dt.year\n",
    "df_new_sell['month']=df_new_sell['RegisterDate'].dt.month"
   ]
  },
  {
   "cell_type": "code",
   "execution_count": 16,
   "metadata": {},
   "outputs": [
    {
     "data": {
      "text/plain": [
       "(9656732.5, 0.8641912800323085)"
      ]
     },
     "execution_count": 16,
     "metadata": {},
     "output_type": "execute_result"
    }
   ],
   "source": [
    "from scipy.stats import wilcoxon\n",
    "w, p = wilcoxon(df_new_sell['ret_sell'], alternative='greater')\n",
    "w, p"
   ]
  },
  {
   "cell_type": "code",
   "execution_count": 17,
   "metadata": {},
   "outputs": [
    {
     "data": {
      "text/plain": [
       "0.17104131440200845"
      ]
     },
     "execution_count": 17,
     "metadata": {},
     "output_type": "execute_result"
    }
   ],
   "source": [
    "from scipy import stats\n",
    "stats.norm.isf(p/2)"
   ]
  },
  {
   "cell_type": "code",
   "execution_count": 18,
   "metadata": {},
   "outputs": [
    {
     "data": {
      "text/plain": [
       "Ttest_1sampResult(statistic=0.09988039122021002, pvalue=0.46022114739357173)"
      ]
     },
     "execution_count": 18,
     "metadata": {},
     "output_type": "execute_result"
    }
   ],
   "source": [
    "import scipy\n",
    "result = scipy.stats.ttest_1samp(df_new_sell['ret_sell'],0, alternative='greater')\n",
    "result"
   ]
  },
  {
   "cell_type": "code",
   "execution_count": 19,
   "metadata": {},
   "outputs": [
    {
     "data": {
      "text/plain": [
       "(36939.0, 0.43334597234925487, -0.16786187387583332, -0.0007773788616757208)"
      ]
     },
     "execution_count": 19,
     "metadata": {},
     "output_type": "execute_result"
    }
   ],
   "source": [
    "import scipy.integrate \n",
    "from scipy.stats import norm\n",
    "from scipy import stats\n",
    "\n",
    "df_VNI_12 = df_new_sell[(df_new_sell['Exchange']=='HOSE')&(df_new_sell['year']==2012)]\n",
    "\n",
    "w_VNI_12, p_VNI_12 = wilcoxon(df_VNI_12['ret_sell'], alternative='greater')\n",
    "w_VNI_12, p_VNI_12, norm.ppf(p_VNI_12), df_VNI_12['ret_sell'].median()"
   ]
  },
  {
   "cell_type": "code",
   "execution_count": 20,
   "metadata": {},
   "outputs": [
    {
     "data": {
      "text/plain": [
       "(64537.5, 0.20307049209152594, -0.830703791069694, 0.0)"
      ]
     },
     "execution_count": 20,
     "metadata": {},
     "output_type": "execute_result"
    }
   ],
   "source": [
    "df_VNI_13 = df_new_sell[(df_new_sell['Exchange']=='HOSE')&(df_new_sell['year']==2013)]\n",
    "\n",
    "w_VNI_13, p_VNI_13 = wilcoxon(df_VNI_13['ret_sell'], alternative='greater')\n",
    "w_VNI_13, p_VNI_13, norm.ppf(p_VNI_13), df_VNI_13['ret_sell'].median()"
   ]
  },
  {
   "cell_type": "code",
   "execution_count": 21,
   "metadata": {},
   "outputs": [
    {
     "data": {
      "text/plain": [
       "(116745.0, 0.9309920757613909, 1.4832204542861267, -0.0030519463130178684)"
      ]
     },
     "execution_count": 21,
     "metadata": {},
     "output_type": "execute_result"
    }
   ],
   "source": [
    "df_VNI_14 = df_new_sell[(df_new_sell['Exchange']=='HOSE')&(df_new_sell['year']==2014)]\n",
    "\n",
    "w_VNI_14, p_VNI_14 = wilcoxon(df_VNI_14['ret_sell'], alternative='greater')\n",
    "w_VNI_14, p_VNI_14, norm.ppf(p_VNI_14), df_VNI_14['ret_sell'].median()"
   ]
  },
  {
   "cell_type": "code",
   "execution_count": 22,
   "metadata": {},
   "outputs": [
    {
     "data": {
      "text/plain": [
       "(37629.0, 0.9299872655573201, 1.4756961912882587, -0.009498259263516232)"
      ]
     },
     "execution_count": 22,
     "metadata": {},
     "output_type": "execute_result"
    }
   ],
   "source": [
    "df_VNI_15 = df_new_sell[(df_new_sell['Exchange']=='HOSE')&(df_new_sell['year']==2015)]\n",
    "\n",
    "w_VNI_15, p_VNI_15 = wilcoxon(df_VNI_15['ret_sell'], alternative='greater')\n",
    "w_VNI_15, p_VNI_15, norm.ppf(p_VNI_15), df_VNI_15['ret_sell'].median()"
   ]
  },
  {
   "cell_type": "code",
   "execution_count": 23,
   "metadata": {},
   "outputs": [
    {
     "data": {
      "text/plain": [
       "(72818.0, 0.32012133699634626, -0.46735952714206525, -6.556517178069043e-05)"
      ]
     },
     "execution_count": 23,
     "metadata": {},
     "output_type": "execute_result"
    }
   ],
   "source": [
    "df_VNI_16 = df_new_sell[(df_new_sell['Exchange']=='HOSE')&(df_new_sell['year']==2016)]\n",
    "\n",
    "w_VNI_16, p_VNI_16 = wilcoxon(df_VNI_16['ret_sell'], alternative='greater')\n",
    "w_VNI_16, p_VNI_16, norm.ppf(p_VNI_16), df_VNI_16['ret_sell'].median()"
   ]
  },
  {
   "cell_type": "code",
   "execution_count": 24,
   "metadata": {},
   "outputs": [
    {
     "data": {
      "text/plain": [
       "(57598.0, 0.9984400193423884, 2.9556646370833586, -0.0060627559343972605)"
      ]
     },
     "execution_count": 24,
     "metadata": {},
     "output_type": "execute_result"
    }
   ],
   "source": [
    "df_VNI_17 = df_new_sell[(df_new_sell['Exchange']=='HOSE')&(df_new_sell['year']==2017)]\n",
    "\n",
    "w_VNI_17, p_VNI_17 = wilcoxon(df_VNI_17['ret_sell'], alternative='greater')\n",
    "w_VNI_17, p_VNI_17, norm.ppf(p_VNI_17), df_VNI_17['ret_sell'].median()"
   ]
  },
  {
   "cell_type": "code",
   "execution_count": 25,
   "metadata": {},
   "outputs": [
    {
     "data": {
      "text/plain": [
       "(33270.0, 0.913899388982039, 1.3651649177121024, -0.008356545961002881)"
      ]
     },
     "execution_count": 25,
     "metadata": {},
     "output_type": "execute_result"
    }
   ],
   "source": [
    "df_VNI_18 = df_new_sell[(df_new_sell['Exchange']=='HOSE')&(df_new_sell['year']==2018)]\n",
    "\n",
    "w_VNI_18, p_VNI_18 = wilcoxon(df_VNI_18['ret_sell'], alternative='greater')\n",
    "w_VNI_18, p_VNI_18, norm.ppf(p_VNI_18), df_VNI_18['ret_sell'].median()"
   ]
  },
  {
   "cell_type": "code",
   "execution_count": 26,
   "metadata": {},
   "outputs": [
    {
     "data": {
      "text/plain": [
       "(36939.0, 0.43334597234925487, -0.16786187387583332, -0.0017566184316509803)"
      ]
     },
     "execution_count": 26,
     "metadata": {},
     "output_type": "execute_result"
    }
   ],
   "source": [
    "df_VNI_19 = df_new_sell[(df_new_sell['Exchange']=='HOSE')&(df_new_sell['year']==2019)]\n",
    "\n",
    "w_VNI_19, p_VNI_19 = wilcoxon(df_VNI_12['ret_sell'], alternative='greater')\n",
    "w_VNI_19, p_VNI_19, norm.ppf(p_VNI_19), df_VNI_19['ret_sell'].median()"
   ]
  },
  {
   "cell_type": "code",
   "execution_count": 27,
   "metadata": {},
   "outputs": [
    {
     "data": {
      "text/plain": [
       "(59975.0, 0.018385951858658642, -2.0882875513414803, 0.00264235293250048)"
      ]
     },
     "execution_count": 27,
     "metadata": {},
     "output_type": "execute_result"
    }
   ],
   "source": [
    "df_VNI_20 = df_new_sell[(df_new_sell['Exchange']=='HOSE')&(df_new_sell['year']==2020)]\n",
    "\n",
    "w_VNI_20, p_VNI_20 = wilcoxon(df_VNI_20['ret_sell'], alternative='greater')\n",
    "w_VNI_20, p_VNI_20, norm.ppf(p_VNI_20), df_VNI_20['ret_sell'].median()"
   ]
  },
  {
   "cell_type": "code",
   "execution_count": 28,
   "metadata": {},
   "outputs": [
    {
     "data": {
      "text/plain": [
       "(0.6126679462690299,\n",
       " 0.2702278799984622,\n",
       " 0.003511127679506477,\n",
       " 0.11288528296606817)"
      ]
     },
     "execution_count": 28,
     "metadata": {},
     "output_type": "execute_result"
    }
   ],
   "source": [
    "tstat_VNI_12, pval_VNI_12 = scipy.stats.ttest_1samp(df_VNI_12['ret_sell'],0, alternative='greater')\n",
    "tstat_VNI_12, pval_VNI_12, df_VNI_12['ret_sell'].mean(), df_VNI_12['ret_sell'].std()"
   ]
  },
  {
   "cell_type": "code",
   "execution_count": 29,
   "metadata": {},
   "outputs": [
    {
     "data": {
      "text/plain": [
       "(0.7978775506297421,\n",
       " 0.21266015899508872,\n",
       " 0.004138164734431249,\n",
       " 0.11608881884983893)"
      ]
     },
     "execution_count": 29,
     "metadata": {},
     "output_type": "execute_result"
    }
   ],
   "source": [
    "tstat_VNI_13, pval_VNI_13 = scipy.stats.ttest_1samp(df_VNI_13['ret_sell'],0, alternative='greater')\n",
    "tstat_VNI_13, pval_VNI_13, df_VNI_13['ret_sell'].mean(), df_VNI_13['ret_sell'].std()"
   ]
  },
  {
   "cell_type": "code",
   "execution_count": 30,
   "metadata": {},
   "outputs": [
    {
     "data": {
      "text/plain": [
       "(-1.0850770907956373,\n",
       " 0.8608723569119587,\n",
       " -0.00475009834566733,\n",
       " 0.11681053251799156)"
      ]
     },
     "execution_count": 30,
     "metadata": {},
     "output_type": "execute_result"
    }
   ],
   "source": [
    "tstat_VNI_14, pval_VNI_14 = scipy.stats.ttest_1samp(df_VNI_14['ret_sell'],0, alternative='greater')\n",
    "tstat_VNI_14, pval_VNI_14, df_VNI_14['ret_sell'].mean(), df_VNI_14['ret_sell'].std()"
   ]
  },
  {
   "cell_type": "code",
   "execution_count": 31,
   "metadata": {},
   "outputs": [
    {
     "data": {
      "text/plain": [
       "(-0.32994511776034163,\n",
       " 0.6291941981419078,\n",
       " -0.001493628810205658,\n",
       " 0.0913267872818041)"
      ]
     },
     "execution_count": 31,
     "metadata": {},
     "output_type": "execute_result"
    }
   ],
   "source": [
    "tstat_VNI_15, pval_VNI_15 = scipy.stats.ttest_1samp(df_VNI_15['ret_sell'],0, alternative='greater')\n",
    "tstat_VNI_15, pval_VNI_15, df_VNI_15['ret_sell'].mean(), df_VNI_15['ret_sell'].std()"
   ]
  },
  {
   "cell_type": "code",
   "execution_count": 32,
   "metadata": {},
   "outputs": [
    {
     "data": {
      "text/plain": [
       "(0.810256722935283,\n",
       " 0.20907544532183514,\n",
       " 0.0034016164327304974,\n",
       " 0.09746688361983227)"
      ]
     },
     "execution_count": 32,
     "metadata": {},
     "output_type": "execute_result"
    }
   ],
   "source": [
    "tstat_VNI_16, pval_VNI_16 = scipy.stats.ttest_1samp(df_VNI_16['ret_sell'],0, alternative='greater')\n",
    "tstat_VNI_16, pval_VNI_16, df_VNI_16['ret_sell'].mean(), df_VNI_16['ret_sell'].std()"
   ]
  },
  {
   "cell_type": "code",
   "execution_count": 33,
   "metadata": {},
   "outputs": [
    {
     "data": {
      "text/plain": [
       "(-2.437693278114557,\n",
       " 0.9924439446486149,\n",
       " -0.010556483087431795,\n",
       " 0.09931916703067788)"
      ]
     },
     "execution_count": 33,
     "metadata": {},
     "output_type": "execute_result"
    }
   ],
   "source": [
    "tstat_VNI_17, pval_VNI_17 = scipy.stats.ttest_1samp(df_VNI_17['ret_sell'],0, alternative='greater')\n",
    "tstat_VNI_17, pval_VNI_17, df_VNI_17['ret_sell'].mean(), df_VNI_17['ret_sell'].std()"
   ]
  },
  {
   "cell_type": "code",
   "execution_count": 34,
   "metadata": {},
   "outputs": [
    {
     "data": {
      "text/plain": [
       "(-1.0019399420275363,\n",
       " 0.8414982291425689,\n",
       " -0.007574307540111112,\n",
       " 0.14833089241656375)"
      ]
     },
     "execution_count": 34,
     "metadata": {},
     "output_type": "execute_result"
    }
   ],
   "source": [
    "tstat_VNI_18, pval_VNI_18 = scipy.stats.ttest_1samp(df_VNI_18['ret_sell'],0, alternative='greater')\n",
    "tstat_VNI_18, pval_VNI_18, df_VNI_18['ret_sell'].mean(), df_VNI_18['ret_sell'].std()"
   ]
  },
  {
   "cell_type": "code",
   "execution_count": 35,
   "metadata": {},
   "outputs": [
    {
     "data": {
      "text/plain": [
       "(0.8651826238178201,\n",
       " 0.19370288845814237,\n",
       " 0.0037211295004471994,\n",
       " 0.09072918323283026)"
      ]
     },
     "execution_count": 35,
     "metadata": {},
     "output_type": "execute_result"
    }
   ],
   "source": [
    "tstat_VNI_19, pval_VNI_19 = scipy.stats.ttest_1samp(df_VNI_19['ret_sell'],0, alternative='greater')\n",
    "tstat_VNI_19, pval_VNI_19, df_VNI_19['ret_sell'].mean(), df_VNI_19['ret_sell'].std()"
   ]
  },
  {
   "cell_type": "code",
   "execution_count": 36,
   "metadata": {},
   "outputs": [
    {
     "data": {
      "text/plain": [
       "(2.6974653323913587,\n",
       " 0.003620982283458484,\n",
       " 0.014945723974265334,\n",
       " 0.11934935481377758)"
      ]
     },
     "execution_count": 36,
     "metadata": {},
     "output_type": "execute_result"
    }
   ],
   "source": [
    "tstat_VNI_20, pval_VNI_20 = scipy.stats.ttest_1samp(df_VNI_20['ret_sell'],0, alternative='greater')\n",
    "tstat_VNI_20, pval_VNI_20, df_VNI_20['ret_sell'].mean(), df_VNI_20['ret_sell'].std()"
   ]
  },
  {
   "cell_type": "code",
   "execution_count": 37,
   "metadata": {},
   "outputs": [
    {
     "data": {
      "text/plain": [
       "(5096.0, 0.48416184103361626, -0.03971081159942727, -0.00026139775708189025)"
      ]
     },
     "execution_count": 37,
     "metadata": {},
     "output_type": "execute_result"
    }
   ],
   "source": [
    "df_HNX_13 = df_new_sell[(df_new_sell['Exchange']=='HNX')&(df_new_sell['year']==2013)]\n",
    "\n",
    "w_HNX_13, p_HNX_13 = wilcoxon(df_HNX_13['ret_sell'], alternative='greater')\n",
    "w_HNX_13, p_HNX_13, norm.ppf(p_HNX_13), df_HNX_13['ret_sell'].median()"
   ]
  },
  {
   "cell_type": "code",
   "execution_count": 38,
   "metadata": {},
   "outputs": [
    {
     "data": {
      "text/plain": [
       "(19003.0, 0.9148150327972144, 1.3710161089921298, -0.0018115942028984477)"
      ]
     },
     "execution_count": 38,
     "metadata": {},
     "output_type": "execute_result"
    }
   ],
   "source": [
    "df_HNX_14 = df_new_sell[(df_new_sell['Exchange']=='HNX')&(df_new_sell['year']==2014)]\n",
    "\n",
    "w_HNX_14, p_HNX_14 = wilcoxon(df_HNX_14['ret_sell'], alternative='greater')\n",
    "w_HNX_14, p_HNX_14, norm.ppf(p_HNX_14), df_HNX_14['ret_sell'].median()"
   ]
  },
  {
   "cell_type": "code",
   "execution_count": 39,
   "metadata": {},
   "outputs": [
    {
     "data": {
      "text/plain": [
       "(13053.0, 0.36379633376287507, -0.3483295986888074, 0.0)"
      ]
     },
     "execution_count": 39,
     "metadata": {},
     "output_type": "execute_result"
    }
   ],
   "source": [
    "df_HNX_15 = df_new_sell[(df_new_sell['Exchange']=='HNX')&(df_new_sell['year']==2015)]\n",
    "\n",
    "w_HNX_15, p_HNX_15 = wilcoxon(df_HNX_15['ret_sell'], alternative='greater')\n",
    "w_HNX_15, p_HNX_15, norm.ppf(p_HNX_15), df_HNX_15['ret_sell'].median()"
   ]
  },
  {
   "cell_type": "code",
   "execution_count": 40,
   "metadata": {},
   "outputs": [
    {
     "data": {
      "text/plain": [
       "(8233.0, 0.3988203705663095, -0.25640161475187184, 0.0)"
      ]
     },
     "execution_count": 40,
     "metadata": {},
     "output_type": "execute_result"
    }
   ],
   "source": [
    "df_HNX_16 = df_new_sell[(df_new_sell['Exchange']=='HNX')&(df_new_sell['year']==2016)]\n",
    "\n",
    "w_HNX_16, p_HNX_16 = wilcoxon(df_HNX_16['ret_sell'], alternative='greater')\n",
    "w_HNX_16, p_HNX_16, norm.ppf(p_HNX_16), df_HNX_16['ret_sell'].median()"
   ]
  },
  {
   "cell_type": "code",
   "execution_count": 41,
   "metadata": {},
   "outputs": [
    {
     "data": {
      "text/plain": [
       "(7399.5, 0.2247580250544658, -0.7562220908530667, 0.0)"
      ]
     },
     "execution_count": 41,
     "metadata": {},
     "output_type": "execute_result"
    }
   ],
   "source": [
    "df_HNX_17 = df_new_sell[(df_new_sell['Exchange']=='HNX')&(df_new_sell['year']==2017)]\n",
    "\n",
    "w_HNX_17, p_HNX_17 = wilcoxon(df_HNX_17['ret_sell'], alternative='greater')\n",
    "w_HNX_17, p_HNX_17, norm.ppf(p_HNX_17), df_HNX_17['ret_sell'].median()"
   ]
  },
  {
   "cell_type": "code",
   "execution_count": 42,
   "metadata": {},
   "outputs": [
    {
     "data": {
      "text/plain": [
       "(1330.0, 0.6920484541089947, 0.5016651372195342, 0.0)"
      ]
     },
     "execution_count": 42,
     "metadata": {},
     "output_type": "execute_result"
    }
   ],
   "source": [
    "df_HNX_18 = df_new_sell[(df_new_sell['Exchange']=='HNX')&(df_new_sell['year']==2018)]\n",
    "\n",
    "w_HNX_18, p_HNX_18 = wilcoxon(df_HNX_18['ret_sell'], alternative='greater')\n",
    "w_HNX_18, p_HNX_18, norm.ppf(p_HNX_18), df_HNX_18['ret_sell'].median()"
   ]
  },
  {
   "cell_type": "code",
   "execution_count": 43,
   "metadata": {},
   "outputs": [
    {
     "data": {
      "text/plain": [
       "(1366.0, 0.30704235473512653, -0.5042514218558292, 0.0)"
      ]
     },
     "execution_count": 43,
     "metadata": {},
     "output_type": "execute_result"
    }
   ],
   "source": [
    "df_HNX_19 = df_new_sell[(df_new_sell['Exchange']=='HNX')&(df_new_sell['year']==2019)]\n",
    "\n",
    "w_HNX_19, p_HNX_19 = wilcoxon(df_HNX_19['ret_sell'], alternative='greater')\n",
    "w_HNX_19, p_HNX_19, norm.ppf(p_HNX_19), df_HNX_19['ret_sell'].median()"
   ]
  },
  {
   "cell_type": "code",
   "execution_count": 44,
   "metadata": {},
   "outputs": [
    {
     "data": {
      "text/plain": [
       "(1182.0, 0.23712204264358877, -0.7155907526225402, 0.0)"
      ]
     },
     "execution_count": 44,
     "metadata": {},
     "output_type": "execute_result"
    }
   ],
   "source": [
    "df_HNX_20 = df_new_sell[(df_new_sell['Exchange']=='HNX')&(df_new_sell['year']==2020)]\n",
    "\n",
    "w_HNX_20, p_HNX_20 = wilcoxon(df_HNX_20['ret_sell'], alternative='greater')\n",
    "w_HNX_20, p_HNX_20, norm.ppf(p_HNX_20), df_HNX_20['ret_sell'].median()"
   ]
  },
  {
   "cell_type": "code",
   "execution_count": 45,
   "metadata": {},
   "outputs": [
    {
     "data": {
      "text/plain": [
       "(-1.3039438619598624,\n",
       " 0.9028814941830151,\n",
       " -0.015894572544129352,\n",
       " 0.15028365625337511)"
      ]
     },
     "execution_count": 45,
     "metadata": {},
     "output_type": "execute_result"
    }
   ],
   "source": [
    "tstat_HNX_13, pval_HNX_13 = scipy.stats.ttest_1samp(df_HNX_13['ret_sell'],0, alternative='greater')\n",
    "tstat_HNX_13, pval_HNX_13, df_HNX_13['ret_sell'].mean(), df_HNX_13['ret_sell'].std()"
   ]
  },
  {
   "cell_type": "code",
   "execution_count": 46,
   "metadata": {},
   "outputs": [
    {
     "data": {
      "text/plain": [
       "(-1.3266180250198363,\n",
       " 0.9071711841656839,\n",
       " -0.009578804929401235,\n",
       " 0.12443531738178344)"
      ]
     },
     "execution_count": 46,
     "metadata": {},
     "output_type": "execute_result"
    }
   ],
   "source": [
    "tstat_HNX_14, pval_HNX_14 = scipy.stats.ttest_1samp(df_HNX_14['ret_sell'],0, alternative='greater')\n",
    "tstat_HNX_14, pval_HNX_14, df_HNX_14['ret_sell'].mean(), df_HNX_14['ret_sell'].std()"
   ]
  },
  {
   "cell_type": "code",
   "execution_count": 47,
   "metadata": {},
   "outputs": [
    {
     "data": {
      "text/plain": [
       "(0.019816895987489654,\n",
       " 0.49210298667702934,\n",
       " 0.00019953079442300615,\n",
       " 0.15598395315668098)"
      ]
     },
     "execution_count": 47,
     "metadata": {},
     "output_type": "execute_result"
    }
   ],
   "source": [
    "tstat_HNX_15, pval_HNX_15 = scipy.stats.ttest_1samp(df_HNX_15['ret_sell'],0, alternative='greater')\n",
    "tstat_HNX_15, pval_HNX_15, df_HNX_15['ret_sell'].mean(), df_HNX_15['ret_sell'].std()"
   ]
  },
  {
   "cell_type": "code",
   "execution_count": 48,
   "metadata": {},
   "outputs": [
    {
     "data": {
      "text/plain": [
       "(0.9447356792933713,\n",
       " 0.17298751934517742,\n",
       " 0.006406927530102635,\n",
       " 0.09445835090064209)"
      ]
     },
     "execution_count": 48,
     "metadata": {},
     "output_type": "execute_result"
    }
   ],
   "source": [
    "tstat_HNX_16, pval_HNX_16 = scipy.stats.ttest_1samp(df_HNX_16['ret_sell'],0, alternative='greater')\n",
    "tstat_HNX_16, pval_HNX_16, df_HNX_16['ret_sell'].mean(), df_HNX_16['ret_sell'].std()"
   ]
  },
  {
   "cell_type": "code",
   "execution_count": 49,
   "metadata": {},
   "outputs": [
    {
     "data": {
      "text/plain": [
       "(0.026722829839513938,\n",
       " 0.4893553699004763,\n",
       " 0.0002148990653521796,\n",
       " 0.1075916569529212)"
      ]
     },
     "execution_count": 49,
     "metadata": {},
     "output_type": "execute_result"
    }
   ],
   "source": [
    "tstat_HNX_17, pval_HNX_17 = scipy.stats.ttest_1samp(df_HNX_17['ret_sell'],0, alternative='greater')\n",
    "tstat_HNX_17, pval_HNX_17, df_HNX_17['ret_sell'].mean(), df_HNX_17['ret_sell'].std()"
   ]
  },
  {
   "cell_type": "code",
   "execution_count": 50,
   "metadata": {},
   "outputs": [
    {
     "data": {
      "text/plain": [
       "(4021.0, 0.6565797855274964, 0.40314653462170763, 0.0)"
      ]
     },
     "execution_count": 50,
     "metadata": {},
     "output_type": "execute_result"
    }
   ],
   "source": [
    "df_UPCOM_16 = df_new_sell[(df_new_sell['Exchange']=='UPCOM')&(df_new_sell['year']==2016)]\n",
    "\n",
    "w_UPCOM_16, p_UPCOM_16 = wilcoxon(df_UPCOM_16['ret_sell'], alternative='greater')\n",
    "w_UPCOM_16, p_UPCOM_16, norm.ppf(p_UPCOM_16), df_UPCOM_16['ret_sell'].median()"
   ]
  },
  {
   "cell_type": "code",
   "execution_count": 51,
   "metadata": {},
   "outputs": [
    {
     "data": {
      "text/plain": [
       "(6237.0, 0.0010932808941953608, -3.0636477818349883, 0.00043366701600944246)"
      ]
     },
     "execution_count": 51,
     "metadata": {},
     "output_type": "execute_result"
    }
   ],
   "source": [
    "df_UPCOM_17 = df_new_sell[(df_new_sell['Exchange']=='UPCOM')&(df_new_sell['year']==2017)]\n",
    "\n",
    "w_UPCOM_17, p_UPCOM_17 = wilcoxon(df_UPCOM_17['ret_sell'], alternative='greater')\n",
    "w_UPCOM_17, p_UPCOM_17, norm.ppf(p_UPCOM_17), df_UPCOM_17['ret_sell'].median()"
   ]
  },
  {
   "cell_type": "code",
   "execution_count": 52,
   "metadata": {},
   "outputs": [
    {
     "data": {
      "text/plain": [
       "(3308.0, 0.5925724194104949, 0.23416722135571194, 0.0)"
      ]
     },
     "execution_count": 52,
     "metadata": {},
     "output_type": "execute_result"
    }
   ],
   "source": [
    "df_UPCOM_18 = df_new_sell[(df_new_sell['Exchange']=='UPCOM')&(df_new_sell['year']==2018)]\n",
    "\n",
    "w_UPCOM_18, p_UPCOM_18 = wilcoxon(df_UPCOM_18['ret_sell'], alternative='greater')\n",
    "w_UPCOM_18, p_UPCOM_18, norm.ppf(p_UPCOM_18), df_UPCOM_18['ret_sell'].median()"
   ]
  },
  {
   "cell_type": "code",
   "execution_count": 53,
   "metadata": {},
   "outputs": [
    {
     "data": {
      "text/plain": [
       "(4624.0, 0.1972080420460401, -0.8516361227309396, 0.0)"
      ]
     },
     "execution_count": 53,
     "metadata": {},
     "output_type": "execute_result"
    }
   ],
   "source": [
    "df_UPCOM_19 = df_new_sell[(df_new_sell['Exchange']=='UPCOM')&(df_new_sell['year']==2019)]\n",
    "\n",
    "w_UPCOM_19, p_UPCOM_19 = wilcoxon(df_UPCOM_19['ret_sell'], alternative='greater')\n",
    "w_UPCOM_19, p_UPCOM_19, norm.ppf(p_UPCOM_19), df_UPCOM_19['ret_sell'].median()"
   ]
  },
  {
   "cell_type": "code",
   "execution_count": 54,
   "metadata": {},
   "outputs": [
    {
     "data": {
      "text/plain": [
       "(3263.0, 0.9174654084484629, 1.388222893577967, 0.0)"
      ]
     },
     "execution_count": 54,
     "metadata": {},
     "output_type": "execute_result"
    }
   ],
   "source": [
    "df_UPCOM_20 = df_new_sell[(df_new_sell['Exchange']=='UPCOM')&(df_new_sell['year']==2020)]\n",
    "\n",
    "w_UPCOM_20, p_UPCOM_20 = wilcoxon(df_UPCOM_20['ret_sell'], alternative='greater')\n",
    "w_UPCOM_20, p_UPCOM_20, norm.ppf(p_UPCOM_20), df_UPCOM_20['ret_sell'].median()"
   ]
  },
  {
   "cell_type": "code",
   "execution_count": 55,
   "metadata": {},
   "outputs": [
    {
     "data": {
      "text/plain": [
       "(-0.1353852570067822,\n",
       " 0.5537667423211703,\n",
       " -0.0019961351689594675,\n",
       " 0.19336719442048486)"
      ]
     },
     "execution_count": 55,
     "metadata": {},
     "output_type": "execute_result"
    }
   ],
   "source": [
    "tstat_UPCOM_16, pval_UPCOM_16 = scipy.stats.ttest_1samp(df_UPCOM_16['ret_sell'],0, alternative='greater')\n",
    "tstat_UPCOM_16, pval_UPCOM_16, df_UPCOM_16['ret_sell'].mean(), df_UPCOM_16['ret_sell'].std()"
   ]
  },
  {
   "cell_type": "code",
   "execution_count": 56,
   "metadata": {},
   "outputs": [
    {
     "data": {
      "text/plain": [
       "(1.8659668755770893,\n",
       " 0.031899843946307904,\n",
       " 0.03277329692867094,\n",
       " 0.22765167164176545)"
      ]
     },
     "execution_count": 56,
     "metadata": {},
     "output_type": "execute_result"
    }
   ],
   "source": [
    "tstat_UPCOM_17, pval_UPCOM_17 = scipy.stats.ttest_1samp(df_UPCOM_17['ret_sell'],0, alternative='greater')\n",
    "tstat_UPCOM_17, pval_UPCOM_17, df_UPCOM_17['ret_sell'].mean(), df_UPCOM_17['ret_sell'].std()"
   ]
  },
  {
   "cell_type": "code",
   "execution_count": 57,
   "metadata": {},
   "outputs": [
    {
     "data": {
      "text/plain": [
       "(-0.13057389755582846,\n",
       " 0.5518612757567802,\n",
       " -0.002275180649817499,\n",
       " 0.22040401876459406)"
      ]
     },
     "execution_count": 57,
     "metadata": {},
     "output_type": "execute_result"
    }
   ],
   "source": [
    "tstat_UPCOM_18, pval_UPCOM_18 = scipy.stats.ttest_1samp(df_UPCOM_18['ret_sell'],0, alternative='greater')\n",
    "tstat_UPCOM_18, pval_UPCOM_18, df_UPCOM_18['ret_sell'].mean(), df_UPCOM_18['ret_sell'].std()"
   ]
  },
  {
   "cell_type": "code",
   "execution_count": 58,
   "metadata": {},
   "outputs": [
    {
     "data": {
      "text/plain": [
       "(1.1671903087803805,\n",
       " 0.12232606836379996,\n",
       " 0.020888430524974383,\n",
       " 0.24275771925830833)"
      ]
     },
     "execution_count": 58,
     "metadata": {},
     "output_type": "execute_result"
    }
   ],
   "source": [
    "tstat_UPCOM_19, pval_UPCOM_19 = scipy.stats.ttest_1samp(df_UPCOM_19['ret_sell'],0, alternative='greater')\n",
    "tstat_UPCOM_19, pval_UPCOM_19, df_UPCOM_19['ret_sell'].mean(), df_UPCOM_19['ret_sell'].std()"
   ]
  },
  {
   "cell_type": "code",
   "execution_count": 59,
   "metadata": {},
   "outputs": [
    {
     "data": {
      "text/plain": [
       "(-1.6461955922059541,\n",
       " 0.9491689252892043,\n",
       " -0.02428555910065754,\n",
       " 0.1883477662332778)"
      ]
     },
     "execution_count": 59,
     "metadata": {},
     "output_type": "execute_result"
    }
   ],
   "source": [
    "tstat_UPCOM_20, pval_UPCOM_20 = scipy.stats.ttest_1samp(df_UPCOM_20['ret_sell'],0, alternative='greater')\n",
    "tstat_UPCOM_20, pval_UPCOM_20, df_UPCOM_20['ret_sell'].mean(), df_UPCOM_20['ret_sell'].std()"
   ]
  },
  {
   "cell_type": "code",
   "execution_count": null,
   "metadata": {},
   "outputs": [],
   "source": []
  },
  {
   "cell_type": "code",
   "execution_count": null,
   "metadata": {},
   "outputs": [],
   "source": []
  }
 ],
 "metadata": {
  "kernelspec": {
   "display_name": "Python 3",
   "language": "python",
   "name": "python3"
  },
  "language_info": {
   "codemirror_mode": {
    "name": "ipython",
    "version": 3
   },
   "file_extension": ".py",
   "mimetype": "text/x-python",
   "name": "python",
   "nbconvert_exporter": "python",
   "pygments_lexer": "ipython3",
   "version": "3.8.5"
  }
 },
 "nbformat": 4,
 "nbformat_minor": 4
}
