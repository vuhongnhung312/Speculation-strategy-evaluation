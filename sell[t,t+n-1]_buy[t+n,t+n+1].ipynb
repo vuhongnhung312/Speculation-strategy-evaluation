{
 "cells": [
  {
   "cell_type": "code",
   "execution_count": 1,
   "metadata": {},
   "outputs": [],
   "source": [
    "import pandas as pd\n",
    "import numpy as np"
   ]
  },
  {
   "cell_type": "code",
   "execution_count": 2,
   "metadata": {},
   "outputs": [],
   "source": [
    "xls_new = pd.ExcelFile(r'/Users/hongnhungvu/Desktop/preview_2_all.xlsx')\n",
    "df_new = pd.read_excel(xls_new)\n",
    "\n",
    "df_new_buy = pd.DataFrame(df_new[(df_new['RegisterSellVolume'].isnull())])\n",
    "df_new_sell = pd.DataFrame(df_new[(df_new['RegisterBuyVolume'].isnull())])"
   ]
  },
  {
   "cell_type": "code",
   "execution_count": 3,
   "metadata": {},
   "outputs": [
    {
     "data": {
      "text/plain": [
       "array([32, 43])"
      ]
     },
     "execution_count": 3,
     "metadata": {},
     "output_type": "execute_result"
    }
   ],
   "source": [
    "df_new_sell.columns.get_indexer(['Ri_T1_0', 'Ri_T1_11'])"
   ]
  },
  {
   "cell_type": "code",
   "execution_count": 4,
   "metadata": {},
   "outputs": [
    {
     "data": {
      "text/html": [
       "<div>\n",
       "<style scoped>\n",
       "    .dataframe tbody tr th:only-of-type {\n",
       "        vertical-align: middle;\n",
       "    }\n",
       "\n",
       "    .dataframe tbody tr th {\n",
       "        vertical-align: top;\n",
       "    }\n",
       "\n",
       "    .dataframe thead th {\n",
       "        text-align: right;\n",
       "    }\n",
       "</style>\n",
       "<table border=\"1\" class=\"dataframe\">\n",
       "  <thead>\n",
       "    <tr style=\"text-align: right;\">\n",
       "      <th></th>\n",
       "      <th>StockCode</th>\n",
       "      <th>RegisterDate</th>\n",
       "      <th>ResultReportDate</th>\n",
       "      <th>DateStartExpected</th>\n",
       "      <th>DateEndExpected</th>\n",
       "      <th>DateActionFrom</th>\n",
       "      <th>DateActionTo</th>\n",
       "      <th>TypeName</th>\n",
       "      <th>RegisterVolumeBefore</th>\n",
       "      <th>RegisterVolumeBeforePercent</th>\n",
       "      <th>...</th>\n",
       "      <th>Ri_T1_2</th>\n",
       "      <th>Ri_T1_3</th>\n",
       "      <th>Ri_T1_4</th>\n",
       "      <th>Ri_T1_5</th>\n",
       "      <th>Ri_T1_6</th>\n",
       "      <th>Ri_T1_7</th>\n",
       "      <th>Ri_T1_8</th>\n",
       "      <th>Ri_T1_9</th>\n",
       "      <th>Ri_T1_10</th>\n",
       "      <th>Ri_T1_11</th>\n",
       "    </tr>\n",
       "  </thead>\n",
       "  <tbody>\n",
       "    <tr>\n",
       "      <th>0</th>\n",
       "      <td>JVC</td>\n",
       "      <td>2012-01-13</td>\n",
       "      <td>2012-02-04</td>\n",
       "      <td>2012-01-19</td>\n",
       "      <td>2012-02-29</td>\n",
       "      <td>2012-01-16</td>\n",
       "      <td>2012-02-03</td>\n",
       "      <td>GD CD noi bo</td>\n",
       "      <td>13310000</td>\n",
       "      <td>5.500000e-01</td>\n",
       "      <td>...</td>\n",
       "      <td>0.047368</td>\n",
       "      <td>0.049724</td>\n",
       "      <td>-0.011628</td>\n",
       "      <td>0.081871</td>\n",
       "      <td>NaN</td>\n",
       "      <td>NaN</td>\n",
       "      <td>NaN</td>\n",
       "      <td>NaN</td>\n",
       "      <td>NaN</td>\n",
       "      <td>NaN</td>\n",
       "    </tr>\n",
       "    <tr>\n",
       "      <th>3</th>\n",
       "      <td>MPC</td>\n",
       "      <td>2012-02-09</td>\n",
       "      <td>2012-02-16</td>\n",
       "      <td>2012-02-16</td>\n",
       "      <td>2012-03-16</td>\n",
       "      <td>2012-02-16</td>\n",
       "      <td>2012-02-16</td>\n",
       "      <td>GD CD noi bo</td>\n",
       "      <td>7800</td>\n",
       "      <td>1.114286e-04</td>\n",
       "      <td>...</td>\n",
       "      <td>0.048649</td>\n",
       "      <td>0.017045</td>\n",
       "      <td>0.023121</td>\n",
       "      <td>-0.059172</td>\n",
       "      <td>0.075758</td>\n",
       "      <td>NaN</td>\n",
       "      <td>NaN</td>\n",
       "      <td>NaN</td>\n",
       "      <td>NaN</td>\n",
       "      <td>NaN</td>\n",
       "    </tr>\n",
       "    <tr>\n",
       "      <th>4</th>\n",
       "      <td>MPC</td>\n",
       "      <td>2012-02-10</td>\n",
       "      <td>2012-02-16</td>\n",
       "      <td>2012-02-16</td>\n",
       "      <td>2012-03-16</td>\n",
       "      <td>2012-02-16</td>\n",
       "      <td>2012-02-16</td>\n",
       "      <td>GD CD noi bo</td>\n",
       "      <td>17166</td>\n",
       "      <td>2.452286e-04</td>\n",
       "      <td>...</td>\n",
       "      <td>0.017045</td>\n",
       "      <td>0.023121</td>\n",
       "      <td>-0.047337</td>\n",
       "      <td>0.060606</td>\n",
       "      <td>NaN</td>\n",
       "      <td>NaN</td>\n",
       "      <td>NaN</td>\n",
       "      <td>NaN</td>\n",
       "      <td>NaN</td>\n",
       "      <td>NaN</td>\n",
       "    </tr>\n",
       "    <tr>\n",
       "      <th>5</th>\n",
       "      <td>MPC</td>\n",
       "      <td>2012-02-09</td>\n",
       "      <td>2012-02-17</td>\n",
       "      <td>2012-02-16</td>\n",
       "      <td>2012-03-16</td>\n",
       "      <td>2012-02-16</td>\n",
       "      <td>2012-02-17</td>\n",
       "      <td>GD CD noi bo</td>\n",
       "      <td>8166</td>\n",
       "      <td>1.166571e-04</td>\n",
       "      <td>...</td>\n",
       "      <td>0.048649</td>\n",
       "      <td>0.017045</td>\n",
       "      <td>0.023121</td>\n",
       "      <td>-0.059172</td>\n",
       "      <td>0.075758</td>\n",
       "      <td>NaN</td>\n",
       "      <td>NaN</td>\n",
       "      <td>NaN</td>\n",
       "      <td>NaN</td>\n",
       "      <td>NaN</td>\n",
       "    </tr>\n",
       "    <tr>\n",
       "      <th>6</th>\n",
       "      <td>MPC</td>\n",
       "      <td>2012-02-09</td>\n",
       "      <td>2012-02-17</td>\n",
       "      <td>2012-02-16</td>\n",
       "      <td>2012-03-16</td>\n",
       "      <td>2012-02-17</td>\n",
       "      <td>2012-02-17</td>\n",
       "      <td>GD CD noi bo</td>\n",
       "      <td>7150</td>\n",
       "      <td>1.021429e-04</td>\n",
       "      <td>...</td>\n",
       "      <td>0.048649</td>\n",
       "      <td>0.017045</td>\n",
       "      <td>0.023121</td>\n",
       "      <td>-0.059172</td>\n",
       "      <td>0.075758</td>\n",
       "      <td>NaN</td>\n",
       "      <td>NaN</td>\n",
       "      <td>NaN</td>\n",
       "      <td>NaN</td>\n",
       "      <td>NaN</td>\n",
       "    </tr>\n",
       "    <tr>\n",
       "      <th>...</th>\n",
       "      <td>...</td>\n",
       "      <td>...</td>\n",
       "      <td>...</td>\n",
       "      <td>...</td>\n",
       "      <td>...</td>\n",
       "      <td>...</td>\n",
       "      <td>...</td>\n",
       "      <td>...</td>\n",
       "      <td>...</td>\n",
       "      <td>...</td>\n",
       "      <td>...</td>\n",
       "      <td>...</td>\n",
       "      <td>...</td>\n",
       "      <td>...</td>\n",
       "      <td>...</td>\n",
       "      <td>...</td>\n",
       "      <td>...</td>\n",
       "      <td>...</td>\n",
       "      <td>...</td>\n",
       "      <td>...</td>\n",
       "      <td>...</td>\n",
       "    </tr>\n",
       "    <tr>\n",
       "      <th>11932</th>\n",
       "      <td>PPC</td>\n",
       "      <td>2020-12-17</td>\n",
       "      <td>2020-12-30</td>\n",
       "      <td>2020-12-22</td>\n",
       "      <td>2021-01-19</td>\n",
       "      <td>2020-12-22</td>\n",
       "      <td>2020-12-25</td>\n",
       "      <td>GD cua nguoi lien quan</td>\n",
       "      <td>77396260</td>\n",
       "      <td>2.414008e-01</td>\n",
       "      <td>...</td>\n",
       "      <td>-0.000000</td>\n",
       "      <td>0.053125</td>\n",
       "      <td>-0.015091</td>\n",
       "      <td>NaN</td>\n",
       "      <td>NaN</td>\n",
       "      <td>NaN</td>\n",
       "      <td>NaN</td>\n",
       "      <td>NaN</td>\n",
       "      <td>NaN</td>\n",
       "      <td>NaN</td>\n",
       "    </tr>\n",
       "    <tr>\n",
       "      <th>11933</th>\n",
       "      <td>PDR</td>\n",
       "      <td>2020-12-10</td>\n",
       "      <td>2020-12-30</td>\n",
       "      <td>2020-12-14</td>\n",
       "      <td>2021-01-12</td>\n",
       "      <td>2020-12-14</td>\n",
       "      <td>2020-12-28</td>\n",
       "      <td>GD cua nguoi lien quan</td>\n",
       "      <td>92106</td>\n",
       "      <td>2.324912e-04</td>\n",
       "      <td>...</td>\n",
       "      <td>0.045455</td>\n",
       "      <td>-0.010033</td>\n",
       "      <td>NaN</td>\n",
       "      <td>NaN</td>\n",
       "      <td>NaN</td>\n",
       "      <td>NaN</td>\n",
       "      <td>NaN</td>\n",
       "      <td>NaN</td>\n",
       "      <td>NaN</td>\n",
       "      <td>NaN</td>\n",
       "    </tr>\n",
       "    <tr>\n",
       "      <th>11934</th>\n",
       "      <td>VCB</td>\n",
       "      <td>2020-12-15</td>\n",
       "      <td>2020-12-30</td>\n",
       "      <td>2020-12-18</td>\n",
       "      <td>2021-01-15</td>\n",
       "      <td>2020-12-28</td>\n",
       "      <td>2020-12-29</td>\n",
       "      <td>GD cua nguoi lien quan</td>\n",
       "      <td>2523</td>\n",
       "      <td>6.802597e-07</td>\n",
       "      <td>...</td>\n",
       "      <td>0.039039</td>\n",
       "      <td>0.045313</td>\n",
       "      <td>0.012232</td>\n",
       "      <td>NaN</td>\n",
       "      <td>NaN</td>\n",
       "      <td>NaN</td>\n",
       "      <td>NaN</td>\n",
       "      <td>NaN</td>\n",
       "      <td>NaN</td>\n",
       "      <td>NaN</td>\n",
       "    </tr>\n",
       "    <tr>\n",
       "      <th>11935</th>\n",
       "      <td>VTH</td>\n",
       "      <td>2020-12-11</td>\n",
       "      <td>2020-12-30</td>\n",
       "      <td>2020-12-14</td>\n",
       "      <td>2021-01-08</td>\n",
       "      <td>2020-12-24</td>\n",
       "      <td>2020-12-24</td>\n",
       "      <td>GD cua nguoi lien quan</td>\n",
       "      <td>249700</td>\n",
       "      <td>4.994000e-02</td>\n",
       "      <td>...</td>\n",
       "      <td>0.000000</td>\n",
       "      <td>NaN</td>\n",
       "      <td>NaN</td>\n",
       "      <td>NaN</td>\n",
       "      <td>NaN</td>\n",
       "      <td>NaN</td>\n",
       "      <td>NaN</td>\n",
       "      <td>NaN</td>\n",
       "      <td>NaN</td>\n",
       "      <td>NaN</td>\n",
       "    </tr>\n",
       "    <tr>\n",
       "      <th>11936</th>\n",
       "      <td>NAF</td>\n",
       "      <td>2020-12-10</td>\n",
       "      <td>2020-12-31</td>\n",
       "      <td>2020-12-16</td>\n",
       "      <td>2021-01-15</td>\n",
       "      <td>2020-12-16</td>\n",
       "      <td>2020-12-31</td>\n",
       "      <td>GD cua nguoi lien quan</td>\n",
       "      <td>44210</td>\n",
       "      <td>9.294104e-04</td>\n",
       "      <td>...</td>\n",
       "      <td>-0.055838</td>\n",
       "      <td>0.014423</td>\n",
       "      <td>0.000000</td>\n",
       "      <td>-0.043902</td>\n",
       "      <td>NaN</td>\n",
       "      <td>NaN</td>\n",
       "      <td>NaN</td>\n",
       "      <td>NaN</td>\n",
       "      <td>NaN</td>\n",
       "      <td>NaN</td>\n",
       "    </tr>\n",
       "  </tbody>\n",
       "</table>\n",
       "<p>6651 rows × 44 columns</p>\n",
       "</div>"
      ],
      "text/plain": [
       "      StockCode RegisterDate ResultReportDate DateStartExpected  \\\n",
       "0           JVC   2012-01-13       2012-02-04        2012-01-19   \n",
       "3           MPC   2012-02-09       2012-02-16        2012-02-16   \n",
       "4           MPC   2012-02-10       2012-02-16        2012-02-16   \n",
       "5           MPC   2012-02-09       2012-02-17        2012-02-16   \n",
       "6           MPC   2012-02-09       2012-02-17        2012-02-16   \n",
       "...         ...          ...              ...               ...   \n",
       "11932       PPC   2020-12-17       2020-12-30        2020-12-22   \n",
       "11933       PDR   2020-12-10       2020-12-30        2020-12-14   \n",
       "11934       VCB   2020-12-15       2020-12-30        2020-12-18   \n",
       "11935       VTH   2020-12-11       2020-12-30        2020-12-14   \n",
       "11936       NAF   2020-12-10       2020-12-31        2020-12-16   \n",
       "\n",
       "      DateEndExpected DateActionFrom DateActionTo                TypeName  \\\n",
       "0          2012-02-29     2012-01-16   2012-02-03            GD CD noi bo   \n",
       "3          2012-03-16     2012-02-16   2012-02-16            GD CD noi bo   \n",
       "4          2012-03-16     2012-02-16   2012-02-16            GD CD noi bo   \n",
       "5          2012-03-16     2012-02-16   2012-02-17            GD CD noi bo   \n",
       "6          2012-03-16     2012-02-17   2012-02-17            GD CD noi bo   \n",
       "...               ...            ...          ...                     ...   \n",
       "11932      2021-01-19     2020-12-22   2020-12-25  GD cua nguoi lien quan   \n",
       "11933      2021-01-12     2020-12-14   2020-12-28  GD cua nguoi lien quan   \n",
       "11934      2021-01-15     2020-12-28   2020-12-29  GD cua nguoi lien quan   \n",
       "11935      2021-01-08     2020-12-24   2020-12-24  GD cua nguoi lien quan   \n",
       "11936      2021-01-15     2020-12-16   2020-12-31  GD cua nguoi lien quan   \n",
       "\n",
       "       RegisterVolumeBefore  RegisterVolumeBeforePercent  ...   Ri_T1_2  \\\n",
       "0                  13310000                 5.500000e-01  ...  0.047368   \n",
       "3                      7800                 1.114286e-04  ...  0.048649   \n",
       "4                     17166                 2.452286e-04  ...  0.017045   \n",
       "5                      8166                 1.166571e-04  ...  0.048649   \n",
       "6                      7150                 1.021429e-04  ...  0.048649   \n",
       "...                     ...                          ...  ...       ...   \n",
       "11932              77396260                 2.414008e-01  ... -0.000000   \n",
       "11933                 92106                 2.324912e-04  ...  0.045455   \n",
       "11934                  2523                 6.802597e-07  ...  0.039039   \n",
       "11935                249700                 4.994000e-02  ...  0.000000   \n",
       "11936                 44210                 9.294104e-04  ... -0.055838   \n",
       "\n",
       "        Ri_T1_3   Ri_T1_4   Ri_T1_5   Ri_T1_6  Ri_T1_7  Ri_T1_8  Ri_T1_9  \\\n",
       "0      0.049724 -0.011628  0.081871       NaN      NaN      NaN      NaN   \n",
       "3      0.017045  0.023121 -0.059172  0.075758      NaN      NaN      NaN   \n",
       "4      0.023121 -0.047337  0.060606       NaN      NaN      NaN      NaN   \n",
       "5      0.017045  0.023121 -0.059172  0.075758      NaN      NaN      NaN   \n",
       "6      0.017045  0.023121 -0.059172  0.075758      NaN      NaN      NaN   \n",
       "...         ...       ...       ...       ...      ...      ...      ...   \n",
       "11932  0.053125 -0.015091       NaN       NaN      NaN      NaN      NaN   \n",
       "11933 -0.010033       NaN       NaN       NaN      NaN      NaN      NaN   \n",
       "11934  0.045313  0.012232       NaN       NaN      NaN      NaN      NaN   \n",
       "11935       NaN       NaN       NaN       NaN      NaN      NaN      NaN   \n",
       "11936  0.014423  0.000000 -0.043902       NaN      NaN      NaN      NaN   \n",
       "\n",
       "       Ri_T1_10  Ri_T1_11  \n",
       "0           NaN       NaN  \n",
       "3           NaN       NaN  \n",
       "4           NaN       NaN  \n",
       "5           NaN       NaN  \n",
       "6           NaN       NaN  \n",
       "...         ...       ...  \n",
       "11932       NaN       NaN  \n",
       "11933       NaN       NaN  \n",
       "11934       NaN       NaN  \n",
       "11935       NaN       NaN  \n",
       "11936       NaN       NaN  \n",
       "\n",
       "[6651 rows x 44 columns]"
      ]
     },
     "execution_count": 4,
     "metadata": {},
     "output_type": "execute_result"
    }
   ],
   "source": [
    "df_new_sell.iloc[:,32:44] = df_new_sell.iloc[:,32:44]*(-1)\n",
    "\n",
    "for i in range(len(df_new_sell)):\n",
    "    k = df_new_sell['Diff_days'].iloc[i]\n",
    "    df_new_sell.iloc[i,32+k] = df_new_sell.iloc[i,32+k]*(-1)*(k/2)\n",
    "    df_new_sell.iloc[i,32+k+1] = df_new_sell.iloc[i,32+k+1]*(-1)*(k/2)\n",
    "df_new_sell"
   ]
  },
  {
   "cell_type": "code",
   "execution_count": 5,
   "metadata": {},
   "outputs": [
    {
     "data": {
      "text/plain": [
       "array([ 0.19204893,  0.13188613,  0.11277946, ...,  0.09613262,\n",
       "        0.00531915, -0.11198359])"
      ]
     },
     "execution_count": 5,
     "metadata": {},
     "output_type": "execute_result"
    }
   ],
   "source": [
    "ret_sell = np.nansum(df_new_sell.iloc[:,32:43],axis=1)\n",
    "ret_sell"
   ]
  },
  {
   "cell_type": "code",
   "execution_count": 6,
   "metadata": {},
   "outputs": [
    {
     "data": {
      "text/html": [
       "<div>\n",
       "<style scoped>\n",
       "    .dataframe tbody tr th:only-of-type {\n",
       "        vertical-align: middle;\n",
       "    }\n",
       "\n",
       "    .dataframe tbody tr th {\n",
       "        vertical-align: top;\n",
       "    }\n",
       "\n",
       "    .dataframe thead th {\n",
       "        text-align: right;\n",
       "    }\n",
       "</style>\n",
       "<table border=\"1\" class=\"dataframe\">\n",
       "  <thead>\n",
       "    <tr style=\"text-align: right;\">\n",
       "      <th></th>\n",
       "      <th>StockCode</th>\n",
       "      <th>RegisterDate</th>\n",
       "      <th>ResultReportDate</th>\n",
       "      <th>DateStartExpected</th>\n",
       "      <th>DateEndExpected</th>\n",
       "      <th>DateActionFrom</th>\n",
       "      <th>DateActionTo</th>\n",
       "      <th>TypeName</th>\n",
       "      <th>RegisterVolumeBefore</th>\n",
       "      <th>RegisterVolumeBeforePercent</th>\n",
       "      <th>...</th>\n",
       "      <th>Ri_T1_3</th>\n",
       "      <th>Ri_T1_4</th>\n",
       "      <th>Ri_T1_5</th>\n",
       "      <th>Ri_T1_6</th>\n",
       "      <th>Ri_T1_7</th>\n",
       "      <th>Ri_T1_8</th>\n",
       "      <th>Ri_T1_9</th>\n",
       "      <th>Ri_T1_10</th>\n",
       "      <th>Ri_T1_11</th>\n",
       "      <th>ret_sell</th>\n",
       "    </tr>\n",
       "  </thead>\n",
       "  <tbody>\n",
       "    <tr>\n",
       "      <th>0</th>\n",
       "      <td>JVC</td>\n",
       "      <td>2012-01-13</td>\n",
       "      <td>2012-02-04</td>\n",
       "      <td>2012-01-19</td>\n",
       "      <td>2012-02-29</td>\n",
       "      <td>2012-01-16</td>\n",
       "      <td>2012-02-03</td>\n",
       "      <td>GD CD noi bo</td>\n",
       "      <td>13310000</td>\n",
       "      <td>5.500000e-01</td>\n",
       "      <td>...</td>\n",
       "      <td>0.049724</td>\n",
       "      <td>-0.011628</td>\n",
       "      <td>0.081871</td>\n",
       "      <td>NaN</td>\n",
       "      <td>NaN</td>\n",
       "      <td>NaN</td>\n",
       "      <td>NaN</td>\n",
       "      <td>NaN</td>\n",
       "      <td>NaN</td>\n",
       "      <td>0.192049</td>\n",
       "    </tr>\n",
       "    <tr>\n",
       "      <th>3</th>\n",
       "      <td>MPC</td>\n",
       "      <td>2012-02-09</td>\n",
       "      <td>2012-02-16</td>\n",
       "      <td>2012-02-16</td>\n",
       "      <td>2012-03-16</td>\n",
       "      <td>2012-02-16</td>\n",
       "      <td>2012-02-16</td>\n",
       "      <td>GD CD noi bo</td>\n",
       "      <td>7800</td>\n",
       "      <td>1.114286e-04</td>\n",
       "      <td>...</td>\n",
       "      <td>0.017045</td>\n",
       "      <td>0.023121</td>\n",
       "      <td>-0.059172</td>\n",
       "      <td>0.075758</td>\n",
       "      <td>NaN</td>\n",
       "      <td>NaN</td>\n",
       "      <td>NaN</td>\n",
       "      <td>NaN</td>\n",
       "      <td>NaN</td>\n",
       "      <td>0.131886</td>\n",
       "    </tr>\n",
       "    <tr>\n",
       "      <th>4</th>\n",
       "      <td>MPC</td>\n",
       "      <td>2012-02-10</td>\n",
       "      <td>2012-02-16</td>\n",
       "      <td>2012-02-16</td>\n",
       "      <td>2012-03-16</td>\n",
       "      <td>2012-02-16</td>\n",
       "      <td>2012-02-16</td>\n",
       "      <td>GD CD noi bo</td>\n",
       "      <td>17166</td>\n",
       "      <td>2.452286e-04</td>\n",
       "      <td>...</td>\n",
       "      <td>0.023121</td>\n",
       "      <td>-0.047337</td>\n",
       "      <td>0.060606</td>\n",
       "      <td>NaN</td>\n",
       "      <td>NaN</td>\n",
       "      <td>NaN</td>\n",
       "      <td>NaN</td>\n",
       "      <td>NaN</td>\n",
       "      <td>NaN</td>\n",
       "      <td>0.112779</td>\n",
       "    </tr>\n",
       "    <tr>\n",
       "      <th>5</th>\n",
       "      <td>MPC</td>\n",
       "      <td>2012-02-09</td>\n",
       "      <td>2012-02-17</td>\n",
       "      <td>2012-02-16</td>\n",
       "      <td>2012-03-16</td>\n",
       "      <td>2012-02-16</td>\n",
       "      <td>2012-02-17</td>\n",
       "      <td>GD CD noi bo</td>\n",
       "      <td>8166</td>\n",
       "      <td>1.166571e-04</td>\n",
       "      <td>...</td>\n",
       "      <td>0.017045</td>\n",
       "      <td>0.023121</td>\n",
       "      <td>-0.059172</td>\n",
       "      <td>0.075758</td>\n",
       "      <td>NaN</td>\n",
       "      <td>NaN</td>\n",
       "      <td>NaN</td>\n",
       "      <td>NaN</td>\n",
       "      <td>NaN</td>\n",
       "      <td>0.131886</td>\n",
       "    </tr>\n",
       "    <tr>\n",
       "      <th>6</th>\n",
       "      <td>MPC</td>\n",
       "      <td>2012-02-09</td>\n",
       "      <td>2012-02-17</td>\n",
       "      <td>2012-02-16</td>\n",
       "      <td>2012-03-16</td>\n",
       "      <td>2012-02-17</td>\n",
       "      <td>2012-02-17</td>\n",
       "      <td>GD CD noi bo</td>\n",
       "      <td>7150</td>\n",
       "      <td>1.021429e-04</td>\n",
       "      <td>...</td>\n",
       "      <td>0.017045</td>\n",
       "      <td>0.023121</td>\n",
       "      <td>-0.059172</td>\n",
       "      <td>0.075758</td>\n",
       "      <td>NaN</td>\n",
       "      <td>NaN</td>\n",
       "      <td>NaN</td>\n",
       "      <td>NaN</td>\n",
       "      <td>NaN</td>\n",
       "      <td>0.131886</td>\n",
       "    </tr>\n",
       "    <tr>\n",
       "      <th>...</th>\n",
       "      <td>...</td>\n",
       "      <td>...</td>\n",
       "      <td>...</td>\n",
       "      <td>...</td>\n",
       "      <td>...</td>\n",
       "      <td>...</td>\n",
       "      <td>...</td>\n",
       "      <td>...</td>\n",
       "      <td>...</td>\n",
       "      <td>...</td>\n",
       "      <td>...</td>\n",
       "      <td>...</td>\n",
       "      <td>...</td>\n",
       "      <td>...</td>\n",
       "      <td>...</td>\n",
       "      <td>...</td>\n",
       "      <td>...</td>\n",
       "      <td>...</td>\n",
       "      <td>...</td>\n",
       "      <td>...</td>\n",
       "      <td>...</td>\n",
       "    </tr>\n",
       "    <tr>\n",
       "      <th>11932</th>\n",
       "      <td>PPC</td>\n",
       "      <td>2020-12-17</td>\n",
       "      <td>2020-12-30</td>\n",
       "      <td>2020-12-22</td>\n",
       "      <td>2021-01-19</td>\n",
       "      <td>2020-12-22</td>\n",
       "      <td>2020-12-25</td>\n",
       "      <td>GD cua nguoi lien quan</td>\n",
       "      <td>77396260</td>\n",
       "      <td>2.414008e-01</td>\n",
       "      <td>...</td>\n",
       "      <td>0.053125</td>\n",
       "      <td>-0.015091</td>\n",
       "      <td>NaN</td>\n",
       "      <td>NaN</td>\n",
       "      <td>NaN</td>\n",
       "      <td>NaN</td>\n",
       "      <td>NaN</td>\n",
       "      <td>NaN</td>\n",
       "      <td>NaN</td>\n",
       "      <td>0.031696</td>\n",
       "    </tr>\n",
       "    <tr>\n",
       "      <th>11933</th>\n",
       "      <td>PDR</td>\n",
       "      <td>2020-12-10</td>\n",
       "      <td>2020-12-30</td>\n",
       "      <td>2020-12-14</td>\n",
       "      <td>2021-01-12</td>\n",
       "      <td>2020-12-14</td>\n",
       "      <td>2020-12-28</td>\n",
       "      <td>GD cua nguoi lien quan</td>\n",
       "      <td>92106</td>\n",
       "      <td>2.324912e-04</td>\n",
       "      <td>...</td>\n",
       "      <td>-0.010033</td>\n",
       "      <td>NaN</td>\n",
       "      <td>NaN</td>\n",
       "      <td>NaN</td>\n",
       "      <td>NaN</td>\n",
       "      <td>NaN</td>\n",
       "      <td>NaN</td>\n",
       "      <td>NaN</td>\n",
       "      <td>NaN</td>\n",
       "      <td>0.051476</td>\n",
       "    </tr>\n",
       "    <tr>\n",
       "      <th>11934</th>\n",
       "      <td>VCB</td>\n",
       "      <td>2020-12-15</td>\n",
       "      <td>2020-12-30</td>\n",
       "      <td>2020-12-18</td>\n",
       "      <td>2021-01-15</td>\n",
       "      <td>2020-12-28</td>\n",
       "      <td>2020-12-29</td>\n",
       "      <td>GD cua nguoi lien quan</td>\n",
       "      <td>2523</td>\n",
       "      <td>6.802597e-07</td>\n",
       "      <td>...</td>\n",
       "      <td>0.045313</td>\n",
       "      <td>0.012232</td>\n",
       "      <td>NaN</td>\n",
       "      <td>NaN</td>\n",
       "      <td>NaN</td>\n",
       "      <td>NaN</td>\n",
       "      <td>NaN</td>\n",
       "      <td>NaN</td>\n",
       "      <td>NaN</td>\n",
       "      <td>0.096133</td>\n",
       "    </tr>\n",
       "    <tr>\n",
       "      <th>11935</th>\n",
       "      <td>VTH</td>\n",
       "      <td>2020-12-11</td>\n",
       "      <td>2020-12-30</td>\n",
       "      <td>2020-12-14</td>\n",
       "      <td>2021-01-08</td>\n",
       "      <td>2020-12-24</td>\n",
       "      <td>2020-12-24</td>\n",
       "      <td>GD cua nguoi lien quan</td>\n",
       "      <td>249700</td>\n",
       "      <td>4.994000e-02</td>\n",
       "      <td>...</td>\n",
       "      <td>NaN</td>\n",
       "      <td>NaN</td>\n",
       "      <td>NaN</td>\n",
       "      <td>NaN</td>\n",
       "      <td>NaN</td>\n",
       "      <td>NaN</td>\n",
       "      <td>NaN</td>\n",
       "      <td>NaN</td>\n",
       "      <td>NaN</td>\n",
       "      <td>0.005319</td>\n",
       "    </tr>\n",
       "    <tr>\n",
       "      <th>11936</th>\n",
       "      <td>NAF</td>\n",
       "      <td>2020-12-10</td>\n",
       "      <td>2020-12-31</td>\n",
       "      <td>2020-12-16</td>\n",
       "      <td>2021-01-15</td>\n",
       "      <td>2020-12-16</td>\n",
       "      <td>2020-12-31</td>\n",
       "      <td>GD cua nguoi lien quan</td>\n",
       "      <td>44210</td>\n",
       "      <td>9.294104e-04</td>\n",
       "      <td>...</td>\n",
       "      <td>0.014423</td>\n",
       "      <td>0.000000</td>\n",
       "      <td>-0.043902</td>\n",
       "      <td>NaN</td>\n",
       "      <td>NaN</td>\n",
       "      <td>NaN</td>\n",
       "      <td>NaN</td>\n",
       "      <td>NaN</td>\n",
       "      <td>NaN</td>\n",
       "      <td>-0.111984</td>\n",
       "    </tr>\n",
       "  </tbody>\n",
       "</table>\n",
       "<p>6651 rows × 45 columns</p>\n",
       "</div>"
      ],
      "text/plain": [
       "      StockCode RegisterDate ResultReportDate DateStartExpected  \\\n",
       "0           JVC   2012-01-13       2012-02-04        2012-01-19   \n",
       "3           MPC   2012-02-09       2012-02-16        2012-02-16   \n",
       "4           MPC   2012-02-10       2012-02-16        2012-02-16   \n",
       "5           MPC   2012-02-09       2012-02-17        2012-02-16   \n",
       "6           MPC   2012-02-09       2012-02-17        2012-02-16   \n",
       "...         ...          ...              ...               ...   \n",
       "11932       PPC   2020-12-17       2020-12-30        2020-12-22   \n",
       "11933       PDR   2020-12-10       2020-12-30        2020-12-14   \n",
       "11934       VCB   2020-12-15       2020-12-30        2020-12-18   \n",
       "11935       VTH   2020-12-11       2020-12-30        2020-12-14   \n",
       "11936       NAF   2020-12-10       2020-12-31        2020-12-16   \n",
       "\n",
       "      DateEndExpected DateActionFrom DateActionTo                TypeName  \\\n",
       "0          2012-02-29     2012-01-16   2012-02-03            GD CD noi bo   \n",
       "3          2012-03-16     2012-02-16   2012-02-16            GD CD noi bo   \n",
       "4          2012-03-16     2012-02-16   2012-02-16            GD CD noi bo   \n",
       "5          2012-03-16     2012-02-16   2012-02-17            GD CD noi bo   \n",
       "6          2012-03-16     2012-02-17   2012-02-17            GD CD noi bo   \n",
       "...               ...            ...          ...                     ...   \n",
       "11932      2021-01-19     2020-12-22   2020-12-25  GD cua nguoi lien quan   \n",
       "11933      2021-01-12     2020-12-14   2020-12-28  GD cua nguoi lien quan   \n",
       "11934      2021-01-15     2020-12-28   2020-12-29  GD cua nguoi lien quan   \n",
       "11935      2021-01-08     2020-12-24   2020-12-24  GD cua nguoi lien quan   \n",
       "11936      2021-01-15     2020-12-16   2020-12-31  GD cua nguoi lien quan   \n",
       "\n",
       "       RegisterVolumeBefore  RegisterVolumeBeforePercent  ...   Ri_T1_3  \\\n",
       "0                  13310000                 5.500000e-01  ...  0.049724   \n",
       "3                      7800                 1.114286e-04  ...  0.017045   \n",
       "4                     17166                 2.452286e-04  ...  0.023121   \n",
       "5                      8166                 1.166571e-04  ...  0.017045   \n",
       "6                      7150                 1.021429e-04  ...  0.017045   \n",
       "...                     ...                          ...  ...       ...   \n",
       "11932              77396260                 2.414008e-01  ...  0.053125   \n",
       "11933                 92106                 2.324912e-04  ... -0.010033   \n",
       "11934                  2523                 6.802597e-07  ...  0.045313   \n",
       "11935                249700                 4.994000e-02  ...       NaN   \n",
       "11936                 44210                 9.294104e-04  ...  0.014423   \n",
       "\n",
       "        Ri_T1_4   Ri_T1_5   Ri_T1_6  Ri_T1_7  Ri_T1_8  Ri_T1_9  Ri_T1_10  \\\n",
       "0     -0.011628  0.081871       NaN      NaN      NaN      NaN       NaN   \n",
       "3      0.023121 -0.059172  0.075758      NaN      NaN      NaN       NaN   \n",
       "4     -0.047337  0.060606       NaN      NaN      NaN      NaN       NaN   \n",
       "5      0.023121 -0.059172  0.075758      NaN      NaN      NaN       NaN   \n",
       "6      0.023121 -0.059172  0.075758      NaN      NaN      NaN       NaN   \n",
       "...         ...       ...       ...      ...      ...      ...       ...   \n",
       "11932 -0.015091       NaN       NaN      NaN      NaN      NaN       NaN   \n",
       "11933       NaN       NaN       NaN      NaN      NaN      NaN       NaN   \n",
       "11934  0.012232       NaN       NaN      NaN      NaN      NaN       NaN   \n",
       "11935       NaN       NaN       NaN      NaN      NaN      NaN       NaN   \n",
       "11936  0.000000 -0.043902       NaN      NaN      NaN      NaN       NaN   \n",
       "\n",
       "       Ri_T1_11  ret_sell  \n",
       "0           NaN  0.192049  \n",
       "3           NaN  0.131886  \n",
       "4           NaN  0.112779  \n",
       "5           NaN  0.131886  \n",
       "6           NaN  0.131886  \n",
       "...         ...       ...  \n",
       "11932       NaN  0.031696  \n",
       "11933       NaN  0.051476  \n",
       "11934       NaN  0.096133  \n",
       "11935       NaN  0.005319  \n",
       "11936       NaN -0.111984  \n",
       "\n",
       "[6651 rows x 45 columns]"
      ]
     },
     "execution_count": 6,
     "metadata": {},
     "output_type": "execute_result"
    }
   ],
   "source": [
    "df_new_sell['ret_sell'] = np.array(ret_sell)\n",
    "df_new_sell"
   ]
  },
  {
   "cell_type": "code",
   "execution_count": 7,
   "metadata": {},
   "outputs": [],
   "source": [
    "df_new_sell['year']=df_new_sell['RegisterDate'].dt.year\n",
    "df_new_sell['month']=df_new_sell['RegisterDate'].dt.month"
   ]
  },
  {
   "cell_type": "code",
   "execution_count": 8,
   "metadata": {},
   "outputs": [],
   "source": [
    "from scipy.stats import wilcoxon\n",
    "from scipy import stats\n",
    "import scipy"
   ]
  },
  {
   "cell_type": "code",
   "execution_count": 9,
   "metadata": {},
   "outputs": [
    {
     "data": {
      "text/plain": [
       "(36759.0, 0.5016561302613172, 0.004151314863014188, -9.797996277316479e-05)"
      ]
     },
     "execution_count": 9,
     "metadata": {},
     "output_type": "execute_result"
    }
   ],
   "source": [
    "import scipy.integrate \n",
    "from scipy.stats import norm\n",
    "from scipy import stats\n",
    "\n",
    "df_VNI_12 = df_new_sell[(df_new_sell['Exchange']=='HOSE')&(df_new_sell['year']==2012)]\n",
    "\n",
    "w_VNI_12, p_VNI_12 = wilcoxon(df_VNI_12['ret_sell'], alternative='greater')\n",
    "w_VNI_12, p_VNI_12, norm.ppf(p_VNI_12), df_VNI_12['ret_sell'].median()"
   ]
  },
  {
   "cell_type": "code",
   "execution_count": 10,
   "metadata": {},
   "outputs": [
    {
     "data": {
      "text/plain": [
       "(68375.0, 0.02588240541754621, -1.94508448549572, 0.00649350649350644)"
      ]
     },
     "execution_count": 10,
     "metadata": {},
     "output_type": "execute_result"
    }
   ],
   "source": [
    "df_VNI_13 = df_new_sell[(df_new_sell['Exchange']=='HOSE')&(df_new_sell['year']==2013)]\n",
    "\n",
    "w_VNI_13, p_VNI_13 = wilcoxon(df_VNI_13['ret_sell'], alternative='greater')\n",
    "w_VNI_13, p_VNI_13, norm.ppf(p_VNI_13), df_VNI_13['ret_sell'].median()"
   ]
  },
  {
   "cell_type": "code",
   "execution_count": 11,
   "metadata": {},
   "outputs": [
    {
     "data": {
      "text/plain": [
       "(125988.0, 0.48972691972606036, -0.025753640049197276, 0.0)"
      ]
     },
     "execution_count": 11,
     "metadata": {},
     "output_type": "execute_result"
    }
   ],
   "source": [
    "df_VNI_14 = df_new_sell[(df_new_sell['Exchange']=='HOSE')&(df_new_sell['year']==2014)]\n",
    "\n",
    "w_VNI_14, p_VNI_14 = wilcoxon(df_VNI_14['ret_sell'], alternative='greater')\n",
    "w_VNI_14, p_VNI_14, norm.ppf(p_VNI_14), df_VNI_14['ret_sell'].median()"
   ]
  },
  {
   "cell_type": "code",
   "execution_count": 12,
   "metadata": {},
   "outputs": [
    {
     "data": {
      "text/plain": [
       "(37906.0, 0.9249214305520276, 1.438976648814429, -0.0016107923084667346)"
      ]
     },
     "execution_count": 12,
     "metadata": {},
     "output_type": "execute_result"
    }
   ],
   "source": [
    "df_VNI_15 = df_new_sell[(df_new_sell['Exchange']=='HOSE')&(df_new_sell['year']==2015)]\n",
    "\n",
    "w_VNI_15, p_VNI_15 = wilcoxon(df_VNI_15['ret_sell'], alternative='greater')\n",
    "w_VNI_15, p_VNI_15, norm.ppf(p_VNI_15), df_VNI_15['ret_sell'].median()"
   ]
  },
  {
   "cell_type": "code",
   "execution_count": 13,
   "metadata": {},
   "outputs": [
    {
     "data": {
      "text/plain": [
       "(83724.0, 0.0009269897410252647, -3.1126783614560343, 0.009291823079201678)"
      ]
     },
     "execution_count": 13,
     "metadata": {},
     "output_type": "execute_result"
    }
   ],
   "source": [
    "df_VNI_16 = df_new_sell[(df_new_sell['Exchange']=='HOSE')&(df_new_sell['year']==2016)]\n",
    "\n",
    "w_VNI_16, p_VNI_16 = wilcoxon(df_VNI_16['ret_sell'], alternative='greater')\n",
    "w_VNI_16, p_VNI_16, norm.ppf(p_VNI_16), df_VNI_16['ret_sell'].median()"
   ]
  },
  {
   "cell_type": "code",
   "execution_count": 14,
   "metadata": {},
   "outputs": [
    {
     "data": {
      "text/plain": [
       "(59118.0, 0.9959647147216794, 2.6491031051298606, -0.0020140139306547016)"
      ]
     },
     "execution_count": 14,
     "metadata": {},
     "output_type": "execute_result"
    }
   ],
   "source": [
    "df_VNI_17 = df_new_sell[(df_new_sell['Exchange']=='HOSE')&(df_new_sell['year']==2017)]\n",
    "\n",
    "w_VNI_17, p_VNI_17 = wilcoxon(df_VNI_17['ret_sell'], alternative='greater')\n",
    "w_VNI_17, p_VNI_17, norm.ppf(p_VNI_17), df_VNI_17['ret_sell'].median()"
   ]
  },
  {
   "cell_type": "code",
   "execution_count": 15,
   "metadata": {},
   "outputs": [
    {
     "data": {
      "text/plain": [
       "(34095.0, 0.8912010268700561, 1.2329405471049513, -0.004518910556838614)"
      ]
     },
     "execution_count": 15,
     "metadata": {},
     "output_type": "execute_result"
    }
   ],
   "source": [
    "df_VNI_18 = df_new_sell[(df_new_sell['Exchange']=='HOSE')&(df_new_sell['year']==2018)]\n",
    "\n",
    "w_VNI_18, p_VNI_18 = wilcoxon(df_VNI_18['ret_sell'], alternative='greater')\n",
    "w_VNI_18, p_VNI_18, norm.ppf(p_VNI_18), df_VNI_18['ret_sell'].median()"
   ]
  },
  {
   "cell_type": "code",
   "execution_count": 16,
   "metadata": {},
   "outputs": [
    {
     "data": {
      "text/plain": [
       "(36759.0, 0.5016561302613172, 0.004151314863014188, 0.0)"
      ]
     },
     "execution_count": 16,
     "metadata": {},
     "output_type": "execute_result"
    }
   ],
   "source": [
    "df_VNI_19 = df_new_sell[(df_new_sell['Exchange']=='HOSE')&(df_new_sell['year']==2019)]\n",
    "\n",
    "w_VNI_19, p_VNI_19 = wilcoxon(df_VNI_12['ret_sell'], alternative='greater')\n",
    "w_VNI_19, p_VNI_19, norm.ppf(p_VNI_19), df_VNI_19['ret_sell'].median()"
   ]
  },
  {
   "cell_type": "code",
   "execution_count": 17,
   "metadata": {},
   "outputs": [
    {
     "data": {
      "text/plain": [
       "(58657.0, 0.05131649157206505, -1.632220787637754, 0.0008771581531608619)"
      ]
     },
     "execution_count": 17,
     "metadata": {},
     "output_type": "execute_result"
    }
   ],
   "source": [
    "df_VNI_20 = df_new_sell[(df_new_sell['Exchange']=='HOSE')&(df_new_sell['year']==2020)]\n",
    "\n",
    "w_VNI_20, p_VNI_20 = wilcoxon(df_VNI_20['ret_sell'], alternative='greater')\n",
    "w_VNI_20, p_VNI_20, norm.ppf(p_VNI_20), df_VNI_20['ret_sell'].median()"
   ]
  },
  {
   "cell_type": "code",
   "execution_count": 18,
   "metadata": {},
   "outputs": [
    {
     "data": {
      "text/plain": [
       "(0.15936833454703045,\n",
       " 0.43673091224914273,\n",
       " 0.0007659870347973718,\n",
       " 0.09467498553186554)"
      ]
     },
     "execution_count": 18,
     "metadata": {},
     "output_type": "execute_result"
    }
   ],
   "source": [
    "tstat_VNI_12, pval_VNI_12 = scipy.stats.ttest_1samp(df_VNI_12['ret_sell'],0, alternative='greater')\n",
    "tstat_VNI_12, pval_VNI_12, df_VNI_12['ret_sell'].mean(), df_VNI_12['ret_sell'].std()"
   ]
  },
  {
   "cell_type": "code",
   "execution_count": 19,
   "metadata": {},
   "outputs": [
    {
     "data": {
      "text/plain": [
       "(0.8749156697655515,\n",
       " 0.19101993059936495,\n",
       " 0.0036077013095185077,\n",
       " 0.09229607704510162)"
      ]
     },
     "execution_count": 19,
     "metadata": {},
     "output_type": "execute_result"
    }
   ],
   "source": [
    "tstat_VNI_13, pval_VNI_13 = scipy.stats.ttest_1samp(df_VNI_13['ret_sell'],0, alternative='greater')\n",
    "tstat_VNI_13, pval_VNI_13, df_VNI_13['ret_sell'].mean(), df_VNI_13['ret_sell'].std()"
   ]
  },
  {
   "cell_type": "code",
   "execution_count": 20,
   "metadata": {},
   "outputs": [
    {
     "data": {
      "text/plain": [
       "(-0.40965724359187927,\n",
       " 0.6589096059896448,\n",
       " -0.0014572187508967971,\n",
       " 0.09491702317745222)"
      ]
     },
     "execution_count": 20,
     "metadata": {},
     "output_type": "execute_result"
    }
   ],
   "source": [
    "tstat_VNI_14, pval_VNI_14 = scipy.stats.ttest_1samp(df_VNI_14['ret_sell'],0, alternative='greater')\n",
    "tstat_VNI_14, pval_VNI_14, df_VNI_14['ret_sell'].mean(), df_VNI_14['ret_sell'].std()"
   ]
  },
  {
   "cell_type": "code",
   "execution_count": 21,
   "metadata": {},
   "outputs": [
    {
     "data": {
      "text/plain": [
       "(-0.4896587526829218,\n",
       " 0.6876800734484192,\n",
       " -0.0018574243116327965,\n",
       " 0.07652702111465569)"
      ]
     },
     "execution_count": 21,
     "metadata": {},
     "output_type": "execute_result"
    }
   ],
   "source": [
    "tstat_VNI_15, pval_VNI_15 = scipy.stats.ttest_1samp(df_VNI_15['ret_sell'],0, alternative='greater')\n",
    "tstat_VNI_15, pval_VNI_15, df_VNI_15['ret_sell'].mean(), df_VNI_15['ret_sell'].std()"
   ]
  },
  {
   "cell_type": "code",
   "execution_count": 22,
   "metadata": {},
   "outputs": [
    {
     "data": {
      "text/plain": [
       "(2.376897803566915,\n",
       " 0.008903848210475707,\n",
       " 0.008293365272193187,\n",
       " 0.08100552985982805)"
      ]
     },
     "execution_count": 22,
     "metadata": {},
     "output_type": "execute_result"
    }
   ],
   "source": [
    "tstat_VNI_16, pval_VNI_16 = scipy.stats.ttest_1samp(df_VNI_16['ret_sell'],0, alternative='greater')\n",
    "tstat_VNI_16, pval_VNI_16, df_VNI_16['ret_sell'].mean(), df_VNI_16['ret_sell'].std()"
   ]
  },
  {
   "cell_type": "code",
   "execution_count": 23,
   "metadata": {},
   "outputs": [
    {
     "data": {
      "text/plain": [
       "(-2.9743891256214163,\n",
       " 0.9984646154344357,\n",
       " -0.00995277363591608,\n",
       " 0.07674307804677996)"
      ]
     },
     "execution_count": 23,
     "metadata": {},
     "output_type": "execute_result"
    }
   ],
   "source": [
    "tstat_VNI_17, pval_VNI_17 = scipy.stats.ttest_1samp(df_VNI_17['ret_sell'],0, alternative='greater')\n",
    "tstat_VNI_17, pval_VNI_17, df_VNI_17['ret_sell'].mean(), df_VNI_17['ret_sell'].std()"
   ]
  },
  {
   "cell_type": "code",
   "execution_count": 24,
   "metadata": {},
   "outputs": [
    {
     "data": {
      "text/plain": [
       "(-1.023508915948331,\n",
       " 0.8466441867589978,\n",
       " -0.0063953804968075924,\n",
       " 0.12260413643401388)"
      ]
     },
     "execution_count": 24,
     "metadata": {},
     "output_type": "execute_result"
    }
   ],
   "source": [
    "tstat_VNI_18, pval_VNI_18 = scipy.stats.ttest_1samp(df_VNI_18['ret_sell'],0, alternative='greater')\n",
    "tstat_VNI_18, pval_VNI_18, df_VNI_18['ret_sell'].mean(), df_VNI_18['ret_sell'].std()"
   ]
  },
  {
   "cell_type": "code",
   "execution_count": 25,
   "metadata": {},
   "outputs": [
    {
     "data": {
      "text/plain": [
       "(1.029119652759384,\n",
       " 0.15199186964079223,\n",
       " 0.003224422143552112,\n",
       " 0.06609460761085777)"
      ]
     },
     "execution_count": 25,
     "metadata": {},
     "output_type": "execute_result"
    }
   ],
   "source": [
    "tstat_VNI_19, pval_VNI_19 = scipy.stats.ttest_1samp(df_VNI_19['ret_sell'],0, alternative='greater')\n",
    "tstat_VNI_19, pval_VNI_19, df_VNI_19['ret_sell'].mean(), df_VNI_19['ret_sell'].std()"
   ]
  },
  {
   "cell_type": "code",
   "execution_count": 26,
   "metadata": {},
   "outputs": [
    {
     "data": {
      "text/plain": [
       "(2.1291629422439877,\n",
       " 0.01688392372073748,\n",
       " 0.009619035842339535,\n",
       " 0.0973154139948324)"
      ]
     },
     "execution_count": 26,
     "metadata": {},
     "output_type": "execute_result"
    }
   ],
   "source": [
    "tstat_VNI_20, pval_VNI_20 = scipy.stats.ttest_1samp(df_VNI_20['ret_sell'],0, alternative='greater')\n",
    "tstat_VNI_20, pval_VNI_20, df_VNI_20['ret_sell'].mean(), df_VNI_20['ret_sell'].std()"
   ]
  },
  {
   "cell_type": "code",
   "execution_count": 27,
   "metadata": {},
   "outputs": [
    {
     "data": {
      "text/plain": [
       "(5591.5, 0.27754024390539367, -0.5901643238348607, 0.0)"
      ]
     },
     "execution_count": 27,
     "metadata": {},
     "output_type": "execute_result"
    }
   ],
   "source": [
    "df_HNX_13 = df_new_sell[(df_new_sell['Exchange']=='HNX')&(df_new_sell['year']==2013)]\n",
    "\n",
    "w_HNX_13, p_HNX_13 = wilcoxon(df_HNX_13['ret_sell'], alternative='greater')\n",
    "w_HNX_13, p_HNX_13, norm.ppf(p_HNX_13), df_HNX_13['ret_sell'].median()"
   ]
  },
  {
   "cell_type": "code",
   "execution_count": 28,
   "metadata": {},
   "outputs": [
    {
     "data": {
      "text/plain": [
       "(22171.0, 0.2591638741883331, -0.6459252776172311, 0.0)"
      ]
     },
     "execution_count": 28,
     "metadata": {},
     "output_type": "execute_result"
    }
   ],
   "source": [
    "df_HNX_14 = df_new_sell[(df_new_sell['Exchange']=='HNX')&(df_new_sell['year']==2014)]\n",
    "\n",
    "w_HNX_14, p_HNX_14 = wilcoxon(df_HNX_14['ret_sell'], alternative='greater')\n",
    "w_HNX_14, p_HNX_14, norm.ppf(p_HNX_14), df_HNX_14['ret_sell'].median()"
   ]
  },
  {
   "cell_type": "code",
   "execution_count": 29,
   "metadata": {},
   "outputs": [
    {
     "data": {
      "text/plain": [
       "(12298.0, 0.7412200435421414, 0.6471112992292778, -0.0005834937149781765)"
      ]
     },
     "execution_count": 29,
     "metadata": {},
     "output_type": "execute_result"
    }
   ],
   "source": [
    "df_HNX_15 = df_new_sell[(df_new_sell['Exchange']=='HNX')&(df_new_sell['year']==2015)]\n",
    "\n",
    "w_HNX_15, p_HNX_15 = wilcoxon(df_HNX_15['ret_sell'], alternative='greater')\n",
    "w_HNX_15, p_HNX_15, norm.ppf(p_HNX_15), df_HNX_15['ret_sell'].median()"
   ]
  },
  {
   "cell_type": "code",
   "execution_count": 30,
   "metadata": {},
   "outputs": [
    {
     "data": {
      "text/plain": [
       "(8723.0, 0.28872389532458775, -0.5571165646994244, 0.0)"
      ]
     },
     "execution_count": 30,
     "metadata": {},
     "output_type": "execute_result"
    }
   ],
   "source": [
    "df_HNX_16 = df_new_sell[(df_new_sell['Exchange']=='HNX')&(df_new_sell['year']==2016)]\n",
    "\n",
    "w_HNX_16, p_HNX_16 = wilcoxon(df_HNX_16['ret_sell'], alternative='greater')\n",
    "w_HNX_16, p_HNX_16, norm.ppf(p_HNX_16), df_HNX_16['ret_sell'].median()"
   ]
  },
  {
   "cell_type": "code",
   "execution_count": 31,
   "metadata": {},
   "outputs": [
    {
     "data": {
      "text/plain": [
       "(7673.0, 0.26403343003501323, -0.6309597229413533, 0.0038167938931297223)"
      ]
     },
     "execution_count": 31,
     "metadata": {},
     "output_type": "execute_result"
    }
   ],
   "source": [
    "df_HNX_17 = df_new_sell[(df_new_sell['Exchange']=='HNX')&(df_new_sell['year']==2017)]\n",
    "\n",
    "w_HNX_17, p_HNX_17 = wilcoxon(df_HNX_17['ret_sell'], alternative='greater')\n",
    "w_HNX_17, p_HNX_17, norm.ppf(p_HNX_17), df_HNX_17['ret_sell'].median()"
   ]
  },
  {
   "cell_type": "code",
   "execution_count": 32,
   "metadata": {},
   "outputs": [
    {
     "data": {
      "text/plain": [
       "(1525.0, 0.6756814802367554, 0.4556564551840411, 0.0)"
      ]
     },
     "execution_count": 32,
     "metadata": {},
     "output_type": "execute_result"
    }
   ],
   "source": [
    "df_HNX_18 = df_new_sell[(df_new_sell['Exchange']=='HNX')&(df_new_sell['year']==2018)]\n",
    "\n",
    "w_HNX_18, p_HNX_18 = wilcoxon(df_HNX_18['ret_sell'], alternative='greater')\n",
    "w_HNX_18, p_HNX_18, norm.ppf(p_HNX_18), df_HNX_18['ret_sell'].median()"
   ]
  },
  {
   "cell_type": "code",
   "execution_count": 33,
   "metadata": {},
   "outputs": [
    {
     "data": {
      "text/plain": [
       "(1495.0, 0.1548702955006146, -1.0157665025494358, 0.0)"
      ]
     },
     "execution_count": 33,
     "metadata": {},
     "output_type": "execute_result"
    }
   ],
   "source": [
    "df_HNX_19 = df_new_sell[(df_new_sell['Exchange']=='HNX')&(df_new_sell['year']==2019)]\n",
    "\n",
    "w_HNX_19, p_HNX_19 = wilcoxon(df_HNX_19['ret_sell'], alternative='greater')\n",
    "w_HNX_19, p_HNX_19, norm.ppf(p_HNX_19), df_HNX_19['ret_sell'].median()"
   ]
  },
  {
   "cell_type": "code",
   "execution_count": 34,
   "metadata": {},
   "outputs": [
    {
     "data": {
      "text/plain": [
       "(1173.0, 0.4159013543437692, -0.21239009996386318, 0.0)"
      ]
     },
     "execution_count": 34,
     "metadata": {},
     "output_type": "execute_result"
    }
   ],
   "source": [
    "df_HNX_20 = df_new_sell[(df_new_sell['Exchange']=='HNX')&(df_new_sell['year']==2020)]\n",
    "\n",
    "w_HNX_20, p_HNX_20 = wilcoxon(df_HNX_20['ret_sell'], alternative='greater')\n",
    "w_HNX_20, p_HNX_20, norm.ppf(p_HNX_20), df_HNX_20['ret_sell'].median()"
   ]
  },
  {
   "cell_type": "code",
   "execution_count": 35,
   "metadata": {},
   "outputs": [
    {
     "data": {
      "text/plain": [
       "(-0.02417316048116706,\n",
       " 0.5096267989357737,\n",
       " -0.00019644366858189043,\n",
       " 0.10019046556566286)"
      ]
     },
     "execution_count": 35,
     "metadata": {},
     "output_type": "execute_result"
    }
   ],
   "source": [
    "tstat_HNX_13, pval_HNX_13 = scipy.stats.ttest_1samp(df_HNX_13['ret_sell'],0, alternative='greater')\n",
    "tstat_HNX_13, pval_HNX_13, df_HNX_13['ret_sell'].mean(), df_HNX_13['ret_sell'].std()"
   ]
  },
  {
   "cell_type": "code",
   "execution_count": 36,
   "metadata": {},
   "outputs": [
    {
     "data": {
      "text/plain": [
       "(0.40912006860131794,\n",
       " 0.34137370728747063,\n",
       " 0.002340227117324536,\n",
       " 0.09857923612907757)"
      ]
     },
     "execution_count": 36,
     "metadata": {},
     "output_type": "execute_result"
    }
   ],
   "source": [
    "tstat_HNX_14, pval_HNX_14 = scipy.stats.ttest_1samp(df_HNX_14['ret_sell'],0, alternative='greater')\n",
    "tstat_HNX_14, pval_HNX_14, df_HNX_14['ret_sell'].mean(), df_HNX_14['ret_sell'].std()"
   ]
  },
  {
   "cell_type": "code",
   "execution_count": 37,
   "metadata": {},
   "outputs": [
    {
     "data": {
      "text/plain": [
       "(-0.33927386881795923,\n",
       " 0.6326493254428052,\n",
       " -0.0028035605727010924,\n",
       " 0.1280162653962729)"
      ]
     },
     "execution_count": 37,
     "metadata": {},
     "output_type": "execute_result"
    }
   ],
   "source": [
    "tstat_HNX_15, pval_HNX_15 = scipy.stats.ttest_1samp(df_HNX_15['ret_sell'],0, alternative='greater')\n",
    "tstat_HNX_15, pval_HNX_15, df_HNX_15['ret_sell'].mean(), df_HNX_15['ret_sell'].std()"
   ]
  },
  {
   "cell_type": "code",
   "execution_count": 38,
   "metadata": {},
   "outputs": [
    {
     "data": {
      "text/plain": [
       "(0.04881535250872787,\n",
       " 0.4805584631738385,\n",
       " 0.00030084965115048505,\n",
       " 0.0858408377473076)"
      ]
     },
     "execution_count": 38,
     "metadata": {},
     "output_type": "execute_result"
    }
   ],
   "source": [
    "tstat_HNX_16, pval_HNX_16 = scipy.stats.ttest_1samp(df_HNX_16['ret_sell'],0, alternative='greater')\n",
    "tstat_HNX_16, pval_HNX_16, df_HNX_16['ret_sell'].mean(), df_HNX_16['ret_sell'].std()"
   ]
  },
  {
   "cell_type": "code",
   "execution_count": 39,
   "metadata": {},
   "outputs": [
    {
     "data": {
      "text/plain": [
       "(0.22411642008585433,\n",
       " 0.4114618754344058,\n",
       " 0.0013498888275082434,\n",
       " 0.08058437495505168)"
      ]
     },
     "execution_count": 39,
     "metadata": {},
     "output_type": "execute_result"
    }
   ],
   "source": [
    "tstat_HNX_17, pval_HNX_17 = scipy.stats.ttest_1samp(df_HNX_17['ret_sell'],0, alternative='greater')\n",
    "tstat_HNX_17, pval_HNX_17, df_HNX_17['ret_sell'].mean(), df_HNX_17['ret_sell'].std()"
   ]
  },
  {
   "cell_type": "code",
   "execution_count": 40,
   "metadata": {},
   "outputs": [
    {
     "data": {
      "text/plain": [
       "(5123.0, 0.24319877965797837, -0.6960499333802107, 0.0)"
      ]
     },
     "execution_count": 40,
     "metadata": {},
     "output_type": "execute_result"
    }
   ],
   "source": [
    "df_UPCOM_16 = df_new_sell[(df_new_sell['Exchange']=='UPCOM')&(df_new_sell['year']==2016)]\n",
    "\n",
    "w_UPCOM_16, p_UPCOM_16 = wilcoxon(df_UPCOM_16['ret_sell'], alternative='greater')\n",
    "w_UPCOM_16, p_UPCOM_16, norm.ppf(p_UPCOM_16), df_UPCOM_16['ret_sell'].median()"
   ]
  },
  {
   "cell_type": "code",
   "execution_count": 41,
   "metadata": {},
   "outputs": [
    {
     "data": {
      "text/plain": [
       "(6037.0, 0.016880413903550176, -2.122916759339324, 0.0)"
      ]
     },
     "execution_count": 41,
     "metadata": {},
     "output_type": "execute_result"
    }
   ],
   "source": [
    "df_UPCOM_17 = df_new_sell[(df_new_sell['Exchange']=='UPCOM')&(df_new_sell['year']==2017)]\n",
    "\n",
    "w_UPCOM_17, p_UPCOM_17 = wilcoxon(df_UPCOM_17['ret_sell'], alternative='greater')\n",
    "w_UPCOM_17, p_UPCOM_17, norm.ppf(p_UPCOM_17), df_UPCOM_17['ret_sell'].median()"
   ]
  },
  {
   "cell_type": "code",
   "execution_count": 42,
   "metadata": {},
   "outputs": [
    {
     "data": {
      "text/plain": [
       "(3370.0, 0.9376238105026684, 1.5351280435831325, 0.0)"
      ]
     },
     "execution_count": 42,
     "metadata": {},
     "output_type": "execute_result"
    }
   ],
   "source": [
    "df_UPCOM_18 = df_new_sell[(df_new_sell['Exchange']=='UPCOM')&(df_new_sell['year']==2018)]\n",
    "\n",
    "w_UPCOM_18, p_UPCOM_18 = wilcoxon(df_UPCOM_18['ret_sell'], alternative='greater')\n",
    "w_UPCOM_18, p_UPCOM_18, norm.ppf(p_UPCOM_18), df_UPCOM_18['ret_sell'].median()"
   ]
  },
  {
   "cell_type": "code",
   "execution_count": 43,
   "metadata": {},
   "outputs": [
    {
     "data": {
      "text/plain": [
       "(5851.0, 0.13515054754574907, -1.102369432304672, 0.0)"
      ]
     },
     "execution_count": 43,
     "metadata": {},
     "output_type": "execute_result"
    }
   ],
   "source": [
    "df_UPCOM_19 = df_new_sell[(df_new_sell['Exchange']=='UPCOM')&(df_new_sell['year']==2019)]\n",
    "\n",
    "w_UPCOM_19, p_UPCOM_19 = wilcoxon(df_UPCOM_19['ret_sell'], alternative='greater')\n",
    "w_UPCOM_19, p_UPCOM_19, norm.ppf(p_UPCOM_19), df_UPCOM_19['ret_sell'].median()"
   ]
  },
  {
   "cell_type": "code",
   "execution_count": 44,
   "metadata": {},
   "outputs": [
    {
     "data": {
      "text/plain": [
       "(4008.0, 0.8065793951802439, 0.865360034131115, 0.0)"
      ]
     },
     "execution_count": 44,
     "metadata": {},
     "output_type": "execute_result"
    }
   ],
   "source": [
    "df_UPCOM_20 = df_new_sell[(df_new_sell['Exchange']=='UPCOM')&(df_new_sell['year']==2020)]\n",
    "\n",
    "w_UPCOM_20, p_UPCOM_20 = wilcoxon(df_UPCOM_20['ret_sell'], alternative='greater')\n",
    "w_UPCOM_20, p_UPCOM_20, norm.ppf(p_UPCOM_20), df_UPCOM_20['ret_sell'].median()"
   ]
  },
  {
   "cell_type": "code",
   "execution_count": 45,
   "metadata": {},
   "outputs": [
    {
     "data": {
      "text/plain": [
       "(0.742984453042071,\n",
       " 0.22925529549659662,\n",
       " 0.008837716881584022,\n",
       " 0.15599999410187293)"
      ]
     },
     "execution_count": 45,
     "metadata": {},
     "output_type": "execute_result"
    }
   ],
   "source": [
    "tstat_UPCOM_16, pval_UPCOM_16 = scipy.stats.ttest_1samp(df_UPCOM_16['ret_sell'],0, alternative='greater')\n",
    "tstat_UPCOM_16, pval_UPCOM_16, df_UPCOM_16['ret_sell'].mean(), df_UPCOM_16['ret_sell'].std()"
   ]
  },
  {
   "cell_type": "code",
   "execution_count": 46,
   "metadata": {},
   "outputs": [
    {
     "data": {
      "text/plain": [
       "(0.7913956639854786,\n",
       " 0.21491785674108937,\n",
       " 0.011811329720902368,\n",
       " 0.19344600610794083)"
      ]
     },
     "execution_count": 46,
     "metadata": {},
     "output_type": "execute_result"
    }
   ],
   "source": [
    "tstat_UPCOM_17, pval_UPCOM_17 = scipy.stats.ttest_1samp(df_UPCOM_17['ret_sell'],0, alternative='greater')\n",
    "tstat_UPCOM_17, pval_UPCOM_17, df_UPCOM_17['ret_sell'].mean(), df_UPCOM_17['ret_sell'].std()"
   ]
  },
  {
   "cell_type": "code",
   "execution_count": 47,
   "metadata": {},
   "outputs": [
    {
     "data": {
      "text/plain": [
       "(-0.5593475356933921,\n",
       " 0.7116441991108813,\n",
       " -0.007310960596311531,\n",
       " 0.1653303958114523)"
      ]
     },
     "execution_count": 47,
     "metadata": {},
     "output_type": "execute_result"
    }
   ],
   "source": [
    "tstat_UPCOM_18, pval_UPCOM_18 = scipy.stats.ttest_1samp(df_UPCOM_18['ret_sell'],0, alternative='greater')\n",
    "tstat_UPCOM_18, pval_UPCOM_18, df_UPCOM_18['ret_sell'].mean(), df_UPCOM_18['ret_sell'].std()"
   ]
  },
  {
   "cell_type": "code",
   "execution_count": 48,
   "metadata": {},
   "outputs": [
    {
     "data": {
      "text/plain": [
       "(0.759022628069824,\n",
       " 0.2244077800695245,\n",
       " 0.010875312491453874,\n",
       " 0.19435509630118447)"
      ]
     },
     "execution_count": 48,
     "metadata": {},
     "output_type": "execute_result"
    }
   ],
   "source": [
    "tstat_UPCOM_19, pval_UPCOM_19 = scipy.stats.ttest_1samp(df_UPCOM_19['ret_sell'],0, alternative='greater')\n",
    "tstat_UPCOM_19, pval_UPCOM_19, df_UPCOM_19['ret_sell'].mean(), df_UPCOM_19['ret_sell'].std()"
   ]
  },
  {
   "cell_type": "code",
   "execution_count": 49,
   "metadata": {},
   "outputs": [
    {
     "data": {
      "text/plain": [
       "(-1.3363684930507338,\n",
       " 0.9083485804751197,\n",
       " -0.015291979781935404,\n",
       " 0.14609363311698279)"
      ]
     },
     "execution_count": 49,
     "metadata": {},
     "output_type": "execute_result"
    }
   ],
   "source": [
    "tstat_UPCOM_20, pval_UPCOM_20 = scipy.stats.ttest_1samp(df_UPCOM_20['ret_sell'],0, alternative='greater')\n",
    "tstat_UPCOM_20, pval_UPCOM_20, df_UPCOM_20['ret_sell'].mean(), df_UPCOM_20['ret_sell'].std()"
   ]
  },
  {
   "cell_type": "code",
   "execution_count": null,
   "metadata": {},
   "outputs": [],
   "source": []
  },
  {
   "cell_type": "code",
   "execution_count": null,
   "metadata": {},
   "outputs": [],
   "source": []
  },
  {
   "cell_type": "code",
   "execution_count": null,
   "metadata": {},
   "outputs": [],
   "source": []
  },
  {
   "cell_type": "code",
   "execution_count": null,
   "metadata": {},
   "outputs": [],
   "source": []
  }
 ],
 "metadata": {
  "kernelspec": {
   "display_name": "Python 3",
   "language": "python",
   "name": "python3"
  },
  "language_info": {
   "codemirror_mode": {
    "name": "ipython",
    "version": 3
   },
   "file_extension": ".py",
   "mimetype": "text/x-python",
   "name": "python",
   "nbconvert_exporter": "python",
   "pygments_lexer": "ipython3",
   "version": "3.8.5"
  }
 },
 "nbformat": 4,
 "nbformat_minor": 4
}
