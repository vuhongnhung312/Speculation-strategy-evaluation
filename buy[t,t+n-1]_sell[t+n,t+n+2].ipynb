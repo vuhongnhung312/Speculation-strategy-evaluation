{
 "cells": [
  {
   "cell_type": "code",
   "execution_count": 70,
   "metadata": {},
   "outputs": [],
   "source": [
    "import pandas as pd\n",
    "import numpy as np"
   ]
  },
  {
   "cell_type": "code",
   "execution_count": 2,
   "metadata": {},
   "outputs": [],
   "source": [
    "xls_CDNB = pd.ExcelFile(r'/Users/hongnhungvu/Desktop/Thesis_Data/CDNB_cleaned.xlsx')\n",
    "df_NB = pd.read_excel(xls_CDNB)\n",
    "xls_NLQ = pd.ExcelFile(r'/Users/hongnhungvu/Desktop/Thesis_Data/NLQ_cleaned.xlsx')\n",
    "df_NLQ = pd.read_excel(xls_NLQ)\n",
    "df_IT = df_NB.append(df_NLQ,ignore_index=True,sort=False) "
   ]
  },
  {
   "cell_type": "code",
   "execution_count": 3,
   "metadata": {},
   "outputs": [],
   "source": [
    "df_IT = df_IT.drop(df_IT[(df_IT.RegisterBuyVolume.isnull())&(df_IT.BuyVolume == 0)].index)\n",
    "df_IT = df_IT.drop(df_IT[(df_IT.RegisterSellVolume.isnull())&(df_IT.SellVolume == 0)].index)"
   ]
  },
  {
   "cell_type": "code",
   "execution_count": 4,
   "metadata": {},
   "outputs": [],
   "source": [
    "xls_1220 = pd.ExcelFile('/Users/hongnhungvu/Desktop/Thesis_Data/Data_IT/Data_Trading_2012_2020.xlsx')\n",
    "xls_11 = pd.ExcelFile('/Users/hongnhungvu/Desktop/Thesis_Data/Data_IT/Data_Trading_2011.xlsx')\n",
    "xls_21 = pd.ExcelFile('/Users/hongnhungvu/Desktop/Thesis_Data/Data_IT/Data_Trading_2021.xlsx')\n",
    "\n",
    "df1_1220 = pd.read_excel(xls_1220, '1')\n",
    "df2_1220 = pd.read_excel(xls_1220, '2')\n",
    "df3_1220 = pd.read_excel(xls_1220, '3')\n",
    "df4_11 = pd.read_excel(xls_11)\n",
    "df5_21 = pd.read_excel(xls_21)\n",
    "\n",
    "#Merge all into df_1121\n",
    "df_1121 = df1_1220.append([df2_1220,df3_1220,df4_11,df5_21],ignore_index=True,sort=False)\n",
    "df_1121_dup = df_1121.copy()\n",
    "df_1121_dup.rename(columns={\"TradingDate\":\"RegisterDate\"}, inplace=True)\n",
    "\n",
    "#Calculate daily ret of securities\n",
    "df_1121_dup['Pi_ret'] = df_1121_dup.groupby('StockCode')['CloseAdj'].pct_change(-1)"
   ]
  },
  {
   "cell_type": "code",
   "execution_count": 5,
   "metadata": {},
   "outputs": [],
   "source": [
    "#Map 'Exchange' & 'KLCPGD' values using cols\n",
    "cols =['StockCode','RegisterDate']\n",
    "df_IT['Exchange'] = df_IT.set_index(cols).index.map(df_1121_dup.set_index(cols)['Exchange'])\n",
    "df_IT['KLCPLH'] = df_IT.set_index(cols).index.map(df_1121_dup.set_index(cols)['KLCPLH'])\n",
    "\n",
    "#Calculate date difference\n",
    "from datetime import datetime\n",
    "A = [d.date() for d in df_IT['DateStartExpected']]\n",
    "B = [d.date() for d in df_IT['RegisterDate']]\n",
    "df_IT['Diff_days'] = np.busday_count(B, A)\n",
    "\n",
    "#Recalculate percentage values\n",
    "df_IT['RegisterVolumeBeforePercent'] = df_IT['RegisterVolumeBefore']/df_IT['KLCPLH']\n",
    "df_IT['RegisterVolumeAfterPercent'] = df_IT['RegisterVolumeAfter']/df_IT['KLCPLH']\n",
    "df_IT['VolumeBeforePercent'] = df_IT['VolumeBefore']/df_IT['KLCPLH']\n",
    "df_IT['VolumeAfterPercent'] = df_IT['VolumeAfter']/df_IT['KLCPLH']\n",
    "\n",
    "#Cleaning data: drop all percentage values>1\n",
    "df_IT = df_IT[(df_IT['RegisterVolumeBeforePercent'] < 1) &\n",
    "               (df_IT['RegisterVolumeAfterPercent'] < 1) &\n",
    "               (df_IT['VolumeBeforePercent'] < 1) & (df_IT['VolumeAfterPercent']<1)]"
   ]
  },
  {
   "cell_type": "code",
   "execution_count": 6,
   "metadata": {},
   "outputs": [],
   "source": [
    "#Match Securities Ret\n",
    "\n",
    "df_IT['Ri_T1_0'] = df_IT.set_index(cols).index.map(df_1121_dup.set_index(cols)['Pi_ret'])\n",
    "\n",
    "for x in range(1,13):\n",
    "    df_IT['Ri_T1_' + str(x)] = df_IT.set_index(cols).index.map(df_1121_dup.set_index(cols).groupby('StockCode')['Pi_ret'].shift(x))"
   ]
  },
  {
   "cell_type": "code",
   "execution_count": 7,
   "metadata": {},
   "outputs": [],
   "source": [
    "df_IT.to_excel(r'/Users/hongnhungvu/Desktop/preview_13_all.xlsx',index=False)"
   ]
  },
  {
   "cell_type": "code",
   "execution_count": 71,
   "metadata": {},
   "outputs": [],
   "source": [
    "xls_new = pd.ExcelFile(r'/Users/hongnhungvu/Desktop/preview_13_all.xlsx')\n",
    "df_new = pd.read_excel(xls_new)"
   ]
  },
  {
   "cell_type": "code",
   "execution_count": 72,
   "metadata": {},
   "outputs": [],
   "source": [
    "df_new_buy = pd.DataFrame(df_new[(df_new['RegisterSellVolume'].isnull())])\n",
    "df_new_sell = pd.DataFrame(df_new[(df_new['RegisterBuyVolume'].isnull())])"
   ]
  },
  {
   "cell_type": "code",
   "execution_count": 73,
   "metadata": {},
   "outputs": [
    {
     "data": {
      "text/html": [
       "<div>\n",
       "<style scoped>\n",
       "    .dataframe tbody tr th:only-of-type {\n",
       "        vertical-align: middle;\n",
       "    }\n",
       "\n",
       "    .dataframe tbody tr th {\n",
       "        vertical-align: top;\n",
       "    }\n",
       "\n",
       "    .dataframe thead th {\n",
       "        text-align: right;\n",
       "    }\n",
       "</style>\n",
       "<table border=\"1\" class=\"dataframe\">\n",
       "  <thead>\n",
       "    <tr style=\"text-align: right;\">\n",
       "      <th></th>\n",
       "      <th>StockCode</th>\n",
       "      <th>RegisterDate</th>\n",
       "      <th>ResultReportDate</th>\n",
       "      <th>DateStartExpected</th>\n",
       "      <th>DateEndExpected</th>\n",
       "      <th>DateActionFrom</th>\n",
       "      <th>DateActionTo</th>\n",
       "      <th>TypeName</th>\n",
       "      <th>RegisterVolumeBefore</th>\n",
       "      <th>RegisterVolumeBeforePercent</th>\n",
       "      <th>...</th>\n",
       "      <th>Ri_T1_3</th>\n",
       "      <th>Ri_T1_4</th>\n",
       "      <th>Ri_T1_5</th>\n",
       "      <th>Ri_T1_6</th>\n",
       "      <th>Ri_T1_7</th>\n",
       "      <th>Ri_T1_8</th>\n",
       "      <th>Ri_T1_9</th>\n",
       "      <th>Ri_T1_10</th>\n",
       "      <th>Ri_T1_11</th>\n",
       "      <th>Ri_T1_12</th>\n",
       "    </tr>\n",
       "  </thead>\n",
       "  <tbody>\n",
       "    <tr>\n",
       "      <th>1</th>\n",
       "      <td>DHA</td>\n",
       "      <td>2012-01-05</td>\n",
       "      <td>2012-02-06</td>\n",
       "      <td>2012-01-10</td>\n",
       "      <td>2012-03-09</td>\n",
       "      <td>2012-01-10</td>\n",
       "      <td>2012-02-03</td>\n",
       "      <td>GD CD noi bo</td>\n",
       "      <td>275206</td>\n",
       "      <td>0.018272</td>\n",
       "      <td>...</td>\n",
       "      <td>-0.047619</td>\n",
       "      <td>-0.011364</td>\n",
       "      <td>-0.022472</td>\n",
       "      <td>NaN</td>\n",
       "      <td>NaN</td>\n",
       "      <td>NaN</td>\n",
       "      <td>NaN</td>\n",
       "      <td>NaN</td>\n",
       "      <td>NaN</td>\n",
       "      <td>NaN</td>\n",
       "    </tr>\n",
       "    <tr>\n",
       "      <th>2</th>\n",
       "      <td>REE</td>\n",
       "      <td>2012-01-04</td>\n",
       "      <td>2012-02-13</td>\n",
       "      <td>2012-01-09</td>\n",
       "      <td>2012-03-09</td>\n",
       "      <td>2012-01-09</td>\n",
       "      <td>2012-02-13</td>\n",
       "      <td>GD CD noi bo</td>\n",
       "      <td>7742346</td>\n",
       "      <td>0.032308</td>\n",
       "      <td>...</td>\n",
       "      <td>-0.035088</td>\n",
       "      <td>-0.025424</td>\n",
       "      <td>0.024793</td>\n",
       "      <td>NaN</td>\n",
       "      <td>NaN</td>\n",
       "      <td>NaN</td>\n",
       "      <td>NaN</td>\n",
       "      <td>NaN</td>\n",
       "      <td>NaN</td>\n",
       "      <td>NaN</td>\n",
       "    </tr>\n",
       "    <tr>\n",
       "      <th>7</th>\n",
       "      <td>PNC</td>\n",
       "      <td>2012-02-03</td>\n",
       "      <td>2012-02-17</td>\n",
       "      <td>2012-02-08</td>\n",
       "      <td>2012-03-08</td>\n",
       "      <td>2012-02-08</td>\n",
       "      <td>2012-02-15</td>\n",
       "      <td>GD CD noi bo</td>\n",
       "      <td>310000</td>\n",
       "      <td>0.031575</td>\n",
       "      <td>...</td>\n",
       "      <td>-0.043478</td>\n",
       "      <td>-0.041667</td>\n",
       "      <td>0.040000</td>\n",
       "      <td>NaN</td>\n",
       "      <td>NaN</td>\n",
       "      <td>NaN</td>\n",
       "      <td>NaN</td>\n",
       "      <td>NaN</td>\n",
       "      <td>NaN</td>\n",
       "      <td>NaN</td>\n",
       "    </tr>\n",
       "    <tr>\n",
       "      <th>8</th>\n",
       "      <td>LSS</td>\n",
       "      <td>2012-02-13</td>\n",
       "      <td>2012-02-17</td>\n",
       "      <td>2012-02-16</td>\n",
       "      <td>2012-02-28</td>\n",
       "      <td>2012-02-16</td>\n",
       "      <td>2012-02-16</td>\n",
       "      <td>GD CD noi bo</td>\n",
       "      <td>23462</td>\n",
       "      <td>0.000469</td>\n",
       "      <td>...</td>\n",
       "      <td>-0.009302</td>\n",
       "      <td>-0.018433</td>\n",
       "      <td>-0.040724</td>\n",
       "      <td>NaN</td>\n",
       "      <td>NaN</td>\n",
       "      <td>NaN</td>\n",
       "      <td>NaN</td>\n",
       "      <td>NaN</td>\n",
       "      <td>NaN</td>\n",
       "      <td>NaN</td>\n",
       "    </tr>\n",
       "    <tr>\n",
       "      <th>9</th>\n",
       "      <td>DDM</td>\n",
       "      <td>2012-02-07</td>\n",
       "      <td>2012-02-20</td>\n",
       "      <td>2012-02-10</td>\n",
       "      <td>2012-03-31</td>\n",
       "      <td>2012-02-10</td>\n",
       "      <td>2012-02-16</td>\n",
       "      <td>GD CD noi bo</td>\n",
       "      <td>0</td>\n",
       "      <td>0.000000</td>\n",
       "      <td>...</td>\n",
       "      <td>0.034483</td>\n",
       "      <td>-0.000000</td>\n",
       "      <td>0.035714</td>\n",
       "      <td>NaN</td>\n",
       "      <td>NaN</td>\n",
       "      <td>NaN</td>\n",
       "      <td>NaN</td>\n",
       "      <td>NaN</td>\n",
       "      <td>NaN</td>\n",
       "      <td>NaN</td>\n",
       "    </tr>\n",
       "    <tr>\n",
       "      <th>...</th>\n",
       "      <td>...</td>\n",
       "      <td>...</td>\n",
       "      <td>...</td>\n",
       "      <td>...</td>\n",
       "      <td>...</td>\n",
       "      <td>...</td>\n",
       "      <td>...</td>\n",
       "      <td>...</td>\n",
       "      <td>...</td>\n",
       "      <td>...</td>\n",
       "      <td>...</td>\n",
       "      <td>...</td>\n",
       "      <td>...</td>\n",
       "      <td>...</td>\n",
       "      <td>...</td>\n",
       "      <td>...</td>\n",
       "      <td>...</td>\n",
       "      <td>...</td>\n",
       "      <td>...</td>\n",
       "      <td>...</td>\n",
       "      <td>...</td>\n",
       "    </tr>\n",
       "    <tr>\n",
       "      <th>11907</th>\n",
       "      <td>TVC</td>\n",
       "      <td>2020-12-11</td>\n",
       "      <td>2020-12-23</td>\n",
       "      <td>2020-12-14</td>\n",
       "      <td>2021-01-08</td>\n",
       "      <td>2020-12-14</td>\n",
       "      <td>2020-12-21</td>\n",
       "      <td>GD cua nguoi lien quan</td>\n",
       "      <td>16104073</td>\n",
       "      <td>0.349739</td>\n",
       "      <td>...</td>\n",
       "      <td>0.002710</td>\n",
       "      <td>NaN</td>\n",
       "      <td>NaN</td>\n",
       "      <td>NaN</td>\n",
       "      <td>NaN</td>\n",
       "      <td>NaN</td>\n",
       "      <td>NaN</td>\n",
       "      <td>NaN</td>\n",
       "      <td>NaN</td>\n",
       "      <td>NaN</td>\n",
       "    </tr>\n",
       "    <tr>\n",
       "      <th>11910</th>\n",
       "      <td>PGC</td>\n",
       "      <td>2020-11-19</td>\n",
       "      <td>2020-12-24</td>\n",
       "      <td>2020-11-23</td>\n",
       "      <td>2020-12-22</td>\n",
       "      <td>2020-11-23</td>\n",
       "      <td>2020-12-22</td>\n",
       "      <td>GD cua nguoi lien quan</td>\n",
       "      <td>5066456</td>\n",
       "      <td>0.083966</td>\n",
       "      <td>...</td>\n",
       "      <td>-0.008969</td>\n",
       "      <td>0.002950</td>\n",
       "      <td>NaN</td>\n",
       "      <td>NaN</td>\n",
       "      <td>NaN</td>\n",
       "      <td>NaN</td>\n",
       "      <td>NaN</td>\n",
       "      <td>NaN</td>\n",
       "      <td>NaN</td>\n",
       "      <td>NaN</td>\n",
       "    </tr>\n",
       "    <tr>\n",
       "      <th>11911</th>\n",
       "      <td>DTL</td>\n",
       "      <td>2020-12-11</td>\n",
       "      <td>2020-12-24</td>\n",
       "      <td>2020-12-17</td>\n",
       "      <td>2021-01-16</td>\n",
       "      <td>2020-12-23</td>\n",
       "      <td>2020-12-24</td>\n",
       "      <td>GD cua nguoi lien quan</td>\n",
       "      <td>235000</td>\n",
       "      <td>0.003876</td>\n",
       "      <td>...</td>\n",
       "      <td>0.068814</td>\n",
       "      <td>-0.093151</td>\n",
       "      <td>-0.092190</td>\n",
       "      <td>-0.092615</td>\n",
       "      <td>NaN</td>\n",
       "      <td>NaN</td>\n",
       "      <td>NaN</td>\n",
       "      <td>NaN</td>\n",
       "      <td>NaN</td>\n",
       "      <td>NaN</td>\n",
       "    </tr>\n",
       "    <tr>\n",
       "      <th>11920</th>\n",
       "      <td>CC4</td>\n",
       "      <td>2020-11-13</td>\n",
       "      <td>2020-12-28</td>\n",
       "      <td>2020-11-17</td>\n",
       "      <td>2020-12-15</td>\n",
       "      <td>2020-11-16</td>\n",
       "      <td>2020-12-15</td>\n",
       "      <td>GD cua nguoi lien quan</td>\n",
       "      <td>2880000</td>\n",
       "      <td>0.180000</td>\n",
       "      <td>...</td>\n",
       "      <td>-0.000000</td>\n",
       "      <td>-0.000000</td>\n",
       "      <td>NaN</td>\n",
       "      <td>NaN</td>\n",
       "      <td>NaN</td>\n",
       "      <td>NaN</td>\n",
       "      <td>NaN</td>\n",
       "      <td>NaN</td>\n",
       "      <td>NaN</td>\n",
       "      <td>NaN</td>\n",
       "    </tr>\n",
       "    <tr>\n",
       "      <th>11931</th>\n",
       "      <td>VDP</td>\n",
       "      <td>2020-12-23</td>\n",
       "      <td>2020-12-29</td>\n",
       "      <td>2020-12-28</td>\n",
       "      <td>2020-12-29</td>\n",
       "      <td>2020-12-28</td>\n",
       "      <td>2020-12-28</td>\n",
       "      <td>GD cua nguoi lien quan</td>\n",
       "      <td>1826264</td>\n",
       "      <td>0.113789</td>\n",
       "      <td>...</td>\n",
       "      <td>-0.018809</td>\n",
       "      <td>-0.000000</td>\n",
       "      <td>0.021538</td>\n",
       "      <td>NaN</td>\n",
       "      <td>NaN</td>\n",
       "      <td>NaN</td>\n",
       "      <td>NaN</td>\n",
       "      <td>NaN</td>\n",
       "      <td>NaN</td>\n",
       "      <td>NaN</td>\n",
       "    </tr>\n",
       "  </tbody>\n",
       "</table>\n",
       "<p>5286 rows × 45 columns</p>\n",
       "</div>"
      ],
      "text/plain": [
       "      StockCode RegisterDate ResultReportDate DateStartExpected  \\\n",
       "1           DHA   2012-01-05       2012-02-06        2012-01-10   \n",
       "2           REE   2012-01-04       2012-02-13        2012-01-09   \n",
       "7           PNC   2012-02-03       2012-02-17        2012-02-08   \n",
       "8           LSS   2012-02-13       2012-02-17        2012-02-16   \n",
       "9           DDM   2012-02-07       2012-02-20        2012-02-10   \n",
       "...         ...          ...              ...               ...   \n",
       "11907       TVC   2020-12-11       2020-12-23        2020-12-14   \n",
       "11910       PGC   2020-11-19       2020-12-24        2020-11-23   \n",
       "11911       DTL   2020-12-11       2020-12-24        2020-12-17   \n",
       "11920       CC4   2020-11-13       2020-12-28        2020-11-17   \n",
       "11931       VDP   2020-12-23       2020-12-29        2020-12-28   \n",
       "\n",
       "      DateEndExpected DateActionFrom DateActionTo                TypeName  \\\n",
       "1          2012-03-09     2012-01-10   2012-02-03            GD CD noi bo   \n",
       "2          2012-03-09     2012-01-09   2012-02-13            GD CD noi bo   \n",
       "7          2012-03-08     2012-02-08   2012-02-15            GD CD noi bo   \n",
       "8          2012-02-28     2012-02-16   2012-02-16            GD CD noi bo   \n",
       "9          2012-03-31     2012-02-10   2012-02-16            GD CD noi bo   \n",
       "...               ...            ...          ...                     ...   \n",
       "11907      2021-01-08     2020-12-14   2020-12-21  GD cua nguoi lien quan   \n",
       "11910      2020-12-22     2020-11-23   2020-12-22  GD cua nguoi lien quan   \n",
       "11911      2021-01-16     2020-12-23   2020-12-24  GD cua nguoi lien quan   \n",
       "11920      2020-12-15     2020-11-16   2020-12-15  GD cua nguoi lien quan   \n",
       "11931      2020-12-29     2020-12-28   2020-12-28  GD cua nguoi lien quan   \n",
       "\n",
       "       RegisterVolumeBefore  RegisterVolumeBeforePercent  ...   Ri_T1_3  \\\n",
       "1                    275206                     0.018272  ... -0.047619   \n",
       "2                   7742346                     0.032308  ... -0.035088   \n",
       "7                    310000                     0.031575  ... -0.043478   \n",
       "8                     23462                     0.000469  ... -0.009302   \n",
       "9                         0                     0.000000  ...  0.034483   \n",
       "...                     ...                          ...  ...       ...   \n",
       "11907              16104073                     0.349739  ...  0.002710   \n",
       "11910               5066456                     0.083966  ... -0.008969   \n",
       "11911                235000                     0.003876  ...  0.068814   \n",
       "11920               2880000                     0.180000  ... -0.000000   \n",
       "11931               1826264                     0.113789  ... -0.018809   \n",
       "\n",
       "        Ri_T1_4   Ri_T1_5   Ri_T1_6  Ri_T1_7  Ri_T1_8  Ri_T1_9  Ri_T1_10  \\\n",
       "1     -0.011364 -0.022472       NaN      NaN      NaN      NaN       NaN   \n",
       "2     -0.025424  0.024793       NaN      NaN      NaN      NaN       NaN   \n",
       "7     -0.041667  0.040000       NaN      NaN      NaN      NaN       NaN   \n",
       "8     -0.018433 -0.040724       NaN      NaN      NaN      NaN       NaN   \n",
       "9     -0.000000  0.035714       NaN      NaN      NaN      NaN       NaN   \n",
       "...         ...       ...       ...      ...      ...      ...       ...   \n",
       "11907       NaN       NaN       NaN      NaN      NaN      NaN       NaN   \n",
       "11910  0.002950       NaN       NaN      NaN      NaN      NaN       NaN   \n",
       "11911 -0.093151 -0.092190 -0.092615      NaN      NaN      NaN       NaN   \n",
       "11920 -0.000000       NaN       NaN      NaN      NaN      NaN       NaN   \n",
       "11931 -0.000000  0.021538       NaN      NaN      NaN      NaN       NaN   \n",
       "\n",
       "       Ri_T1_11  Ri_T1_12  \n",
       "1           NaN       NaN  \n",
       "2           NaN       NaN  \n",
       "7           NaN       NaN  \n",
       "8           NaN       NaN  \n",
       "9           NaN       NaN  \n",
       "...         ...       ...  \n",
       "11907       NaN       NaN  \n",
       "11910       NaN       NaN  \n",
       "11911       NaN       NaN  \n",
       "11920       NaN       NaN  \n",
       "11931       NaN       NaN  \n",
       "\n",
       "[5286 rows x 45 columns]"
      ]
     },
     "execution_count": 73,
     "metadata": {},
     "output_type": "execute_result"
    }
   ],
   "source": [
    "for i in range(len(df_new_buy)):\n",
    "    k = df_new_buy['Diff_days'].iloc[i]\n",
    "    df_new_buy.iloc[i,32+k] = (df_new_buy.iloc[i,32+k]*(-1))*(k/3)\n",
    "    df_new_buy.iloc[i,32+k+1] = (df_new_buy.iloc[i,32+k+1]*(-1))*(k/3)\n",
    "    df_new_buy.iloc[i,32+k+2] = (df_new_buy.iloc[i,32+k+2]*(-1))*(k/3)\n",
    "df_new_buy"
   ]
  },
  {
   "cell_type": "code",
   "execution_count": 74,
   "metadata": {},
   "outputs": [
    {
     "data": {
      "text/plain": [
       "array([-0.0932193 , -0.02641077,  0.00086165, ..., -0.001954  ,\n",
       "        0.12403101,  0.00273948])"
      ]
     },
     "execution_count": 74,
     "metadata": {},
     "output_type": "execute_result"
    }
   ],
   "source": [
    "ret_buy = np.nansum(df_new_buy.iloc[:,32:45],axis=1)\n",
    "ret_buy"
   ]
  },
  {
   "cell_type": "code",
   "execution_count": 75,
   "metadata": {},
   "outputs": [
    {
     "data": {
      "text/html": [
       "<div>\n",
       "<style scoped>\n",
       "    .dataframe tbody tr th:only-of-type {\n",
       "        vertical-align: middle;\n",
       "    }\n",
       "\n",
       "    .dataframe tbody tr th {\n",
       "        vertical-align: top;\n",
       "    }\n",
       "\n",
       "    .dataframe thead th {\n",
       "        text-align: right;\n",
       "    }\n",
       "</style>\n",
       "<table border=\"1\" class=\"dataframe\">\n",
       "  <thead>\n",
       "    <tr style=\"text-align: right;\">\n",
       "      <th></th>\n",
       "      <th>StockCode</th>\n",
       "      <th>RegisterDate</th>\n",
       "      <th>ResultReportDate</th>\n",
       "      <th>DateStartExpected</th>\n",
       "      <th>DateEndExpected</th>\n",
       "      <th>DateActionFrom</th>\n",
       "      <th>DateActionTo</th>\n",
       "      <th>TypeName</th>\n",
       "      <th>RegisterVolumeBefore</th>\n",
       "      <th>RegisterVolumeBeforePercent</th>\n",
       "      <th>...</th>\n",
       "      <th>Ri_T1_4</th>\n",
       "      <th>Ri_T1_5</th>\n",
       "      <th>Ri_T1_6</th>\n",
       "      <th>Ri_T1_7</th>\n",
       "      <th>Ri_T1_8</th>\n",
       "      <th>Ri_T1_9</th>\n",
       "      <th>Ri_T1_10</th>\n",
       "      <th>Ri_T1_11</th>\n",
       "      <th>Ri_T1_12</th>\n",
       "      <th>ret_buy</th>\n",
       "    </tr>\n",
       "  </thead>\n",
       "  <tbody>\n",
       "    <tr>\n",
       "      <th>1</th>\n",
       "      <td>DHA</td>\n",
       "      <td>2012-01-05</td>\n",
       "      <td>2012-02-06</td>\n",
       "      <td>2012-01-10</td>\n",
       "      <td>2012-03-09</td>\n",
       "      <td>2012-01-10</td>\n",
       "      <td>2012-02-03</td>\n",
       "      <td>GD CD noi bo</td>\n",
       "      <td>275206</td>\n",
       "      <td>0.018272</td>\n",
       "      <td>...</td>\n",
       "      <td>-0.011364</td>\n",
       "      <td>-0.022472</td>\n",
       "      <td>NaN</td>\n",
       "      <td>NaN</td>\n",
       "      <td>NaN</td>\n",
       "      <td>NaN</td>\n",
       "      <td>NaN</td>\n",
       "      <td>NaN</td>\n",
       "      <td>NaN</td>\n",
       "      <td>-0.093219</td>\n",
       "    </tr>\n",
       "    <tr>\n",
       "      <th>2</th>\n",
       "      <td>REE</td>\n",
       "      <td>2012-01-04</td>\n",
       "      <td>2012-02-13</td>\n",
       "      <td>2012-01-09</td>\n",
       "      <td>2012-03-09</td>\n",
       "      <td>2012-01-09</td>\n",
       "      <td>2012-02-13</td>\n",
       "      <td>GD CD noi bo</td>\n",
       "      <td>7742346</td>\n",
       "      <td>0.032308</td>\n",
       "      <td>...</td>\n",
       "      <td>-0.025424</td>\n",
       "      <td>0.024793</td>\n",
       "      <td>NaN</td>\n",
       "      <td>NaN</td>\n",
       "      <td>NaN</td>\n",
       "      <td>NaN</td>\n",
       "      <td>NaN</td>\n",
       "      <td>NaN</td>\n",
       "      <td>NaN</td>\n",
       "      <td>-0.026411</td>\n",
       "    </tr>\n",
       "    <tr>\n",
       "      <th>7</th>\n",
       "      <td>PNC</td>\n",
       "      <td>2012-02-03</td>\n",
       "      <td>2012-02-17</td>\n",
       "      <td>2012-02-08</td>\n",
       "      <td>2012-03-08</td>\n",
       "      <td>2012-02-08</td>\n",
       "      <td>2012-02-15</td>\n",
       "      <td>GD CD noi bo</td>\n",
       "      <td>310000</td>\n",
       "      <td>0.031575</td>\n",
       "      <td>...</td>\n",
       "      <td>-0.041667</td>\n",
       "      <td>0.040000</td>\n",
       "      <td>NaN</td>\n",
       "      <td>NaN</td>\n",
       "      <td>NaN</td>\n",
       "      <td>NaN</td>\n",
       "      <td>NaN</td>\n",
       "      <td>NaN</td>\n",
       "      <td>NaN</td>\n",
       "      <td>0.000862</td>\n",
       "    </tr>\n",
       "    <tr>\n",
       "      <th>8</th>\n",
       "      <td>LSS</td>\n",
       "      <td>2012-02-13</td>\n",
       "      <td>2012-02-17</td>\n",
       "      <td>2012-02-16</td>\n",
       "      <td>2012-02-28</td>\n",
       "      <td>2012-02-16</td>\n",
       "      <td>2012-02-16</td>\n",
       "      <td>GD CD noi bo</td>\n",
       "      <td>23462</td>\n",
       "      <td>0.000469</td>\n",
       "      <td>...</td>\n",
       "      <td>-0.018433</td>\n",
       "      <td>-0.040724</td>\n",
       "      <td>NaN</td>\n",
       "      <td>NaN</td>\n",
       "      <td>NaN</td>\n",
       "      <td>NaN</td>\n",
       "      <td>NaN</td>\n",
       "      <td>NaN</td>\n",
       "      <td>NaN</td>\n",
       "      <td>-0.077444</td>\n",
       "    </tr>\n",
       "    <tr>\n",
       "      <th>9</th>\n",
       "      <td>DDM</td>\n",
       "      <td>2012-02-07</td>\n",
       "      <td>2012-02-20</td>\n",
       "      <td>2012-02-10</td>\n",
       "      <td>2012-03-31</td>\n",
       "      <td>2012-02-10</td>\n",
       "      <td>2012-02-16</td>\n",
       "      <td>GD CD noi bo</td>\n",
       "      <td>0</td>\n",
       "      <td>0.000000</td>\n",
       "      <td>...</td>\n",
       "      <td>-0.000000</td>\n",
       "      <td>0.035714</td>\n",
       "      <td>NaN</td>\n",
       "      <td>NaN</td>\n",
       "      <td>NaN</td>\n",
       "      <td>NaN</td>\n",
       "      <td>NaN</td>\n",
       "      <td>NaN</td>\n",
       "      <td>NaN</td>\n",
       "      <td>0.142948</td>\n",
       "    </tr>\n",
       "    <tr>\n",
       "      <th>...</th>\n",
       "      <td>...</td>\n",
       "      <td>...</td>\n",
       "      <td>...</td>\n",
       "      <td>...</td>\n",
       "      <td>...</td>\n",
       "      <td>...</td>\n",
       "      <td>...</td>\n",
       "      <td>...</td>\n",
       "      <td>...</td>\n",
       "      <td>...</td>\n",
       "      <td>...</td>\n",
       "      <td>...</td>\n",
       "      <td>...</td>\n",
       "      <td>...</td>\n",
       "      <td>...</td>\n",
       "      <td>...</td>\n",
       "      <td>...</td>\n",
       "      <td>...</td>\n",
       "      <td>...</td>\n",
       "      <td>...</td>\n",
       "      <td>...</td>\n",
       "    </tr>\n",
       "    <tr>\n",
       "      <th>11907</th>\n",
       "      <td>TVC</td>\n",
       "      <td>2020-12-11</td>\n",
       "      <td>2020-12-23</td>\n",
       "      <td>2020-12-14</td>\n",
       "      <td>2021-01-08</td>\n",
       "      <td>2020-12-14</td>\n",
       "      <td>2020-12-21</td>\n",
       "      <td>GD cua nguoi lien quan</td>\n",
       "      <td>16104073</td>\n",
       "      <td>0.349739</td>\n",
       "      <td>...</td>\n",
       "      <td>NaN</td>\n",
       "      <td>NaN</td>\n",
       "      <td>NaN</td>\n",
       "      <td>NaN</td>\n",
       "      <td>NaN</td>\n",
       "      <td>NaN</td>\n",
       "      <td>NaN</td>\n",
       "      <td>NaN</td>\n",
       "      <td>NaN</td>\n",
       "      <td>0.032634</td>\n",
       "    </tr>\n",
       "    <tr>\n",
       "      <th>11910</th>\n",
       "      <td>PGC</td>\n",
       "      <td>2020-11-19</td>\n",
       "      <td>2020-12-24</td>\n",
       "      <td>2020-11-23</td>\n",
       "      <td>2020-12-22</td>\n",
       "      <td>2020-11-23</td>\n",
       "      <td>2020-12-22</td>\n",
       "      <td>GD cua nguoi lien quan</td>\n",
       "      <td>5066456</td>\n",
       "      <td>0.083966</td>\n",
       "      <td>...</td>\n",
       "      <td>0.002950</td>\n",
       "      <td>NaN</td>\n",
       "      <td>NaN</td>\n",
       "      <td>NaN</td>\n",
       "      <td>NaN</td>\n",
       "      <td>NaN</td>\n",
       "      <td>NaN</td>\n",
       "      <td>NaN</td>\n",
       "      <td>NaN</td>\n",
       "      <td>0.055263</td>\n",
       "    </tr>\n",
       "    <tr>\n",
       "      <th>11911</th>\n",
       "      <td>DTL</td>\n",
       "      <td>2020-12-11</td>\n",
       "      <td>2020-12-24</td>\n",
       "      <td>2020-12-17</td>\n",
       "      <td>2021-01-16</td>\n",
       "      <td>2020-12-23</td>\n",
       "      <td>2020-12-24</td>\n",
       "      <td>GD cua nguoi lien quan</td>\n",
       "      <td>235000</td>\n",
       "      <td>0.003876</td>\n",
       "      <td>...</td>\n",
       "      <td>-0.093151</td>\n",
       "      <td>-0.092190</td>\n",
       "      <td>-0.092615</td>\n",
       "      <td>NaN</td>\n",
       "      <td>NaN</td>\n",
       "      <td>NaN</td>\n",
       "      <td>NaN</td>\n",
       "      <td>NaN</td>\n",
       "      <td>NaN</td>\n",
       "      <td>-0.001954</td>\n",
       "    </tr>\n",
       "    <tr>\n",
       "      <th>11920</th>\n",
       "      <td>CC4</td>\n",
       "      <td>2020-11-13</td>\n",
       "      <td>2020-12-28</td>\n",
       "      <td>2020-11-17</td>\n",
       "      <td>2020-12-15</td>\n",
       "      <td>2020-11-16</td>\n",
       "      <td>2020-12-15</td>\n",
       "      <td>GD cua nguoi lien quan</td>\n",
       "      <td>2880000</td>\n",
       "      <td>0.180000</td>\n",
       "      <td>...</td>\n",
       "      <td>-0.000000</td>\n",
       "      <td>NaN</td>\n",
       "      <td>NaN</td>\n",
       "      <td>NaN</td>\n",
       "      <td>NaN</td>\n",
       "      <td>NaN</td>\n",
       "      <td>NaN</td>\n",
       "      <td>NaN</td>\n",
       "      <td>NaN</td>\n",
       "      <td>0.124031</td>\n",
       "    </tr>\n",
       "    <tr>\n",
       "      <th>11931</th>\n",
       "      <td>VDP</td>\n",
       "      <td>2020-12-23</td>\n",
       "      <td>2020-12-29</td>\n",
       "      <td>2020-12-28</td>\n",
       "      <td>2020-12-29</td>\n",
       "      <td>2020-12-28</td>\n",
       "      <td>2020-12-28</td>\n",
       "      <td>GD cua nguoi lien quan</td>\n",
       "      <td>1826264</td>\n",
       "      <td>0.113789</td>\n",
       "      <td>...</td>\n",
       "      <td>-0.000000</td>\n",
       "      <td>0.021538</td>\n",
       "      <td>NaN</td>\n",
       "      <td>NaN</td>\n",
       "      <td>NaN</td>\n",
       "      <td>NaN</td>\n",
       "      <td>NaN</td>\n",
       "      <td>NaN</td>\n",
       "      <td>NaN</td>\n",
       "      <td>0.002739</td>\n",
       "    </tr>\n",
       "  </tbody>\n",
       "</table>\n",
       "<p>5286 rows × 46 columns</p>\n",
       "</div>"
      ],
      "text/plain": [
       "      StockCode RegisterDate ResultReportDate DateStartExpected  \\\n",
       "1           DHA   2012-01-05       2012-02-06        2012-01-10   \n",
       "2           REE   2012-01-04       2012-02-13        2012-01-09   \n",
       "7           PNC   2012-02-03       2012-02-17        2012-02-08   \n",
       "8           LSS   2012-02-13       2012-02-17        2012-02-16   \n",
       "9           DDM   2012-02-07       2012-02-20        2012-02-10   \n",
       "...         ...          ...              ...               ...   \n",
       "11907       TVC   2020-12-11       2020-12-23        2020-12-14   \n",
       "11910       PGC   2020-11-19       2020-12-24        2020-11-23   \n",
       "11911       DTL   2020-12-11       2020-12-24        2020-12-17   \n",
       "11920       CC4   2020-11-13       2020-12-28        2020-11-17   \n",
       "11931       VDP   2020-12-23       2020-12-29        2020-12-28   \n",
       "\n",
       "      DateEndExpected DateActionFrom DateActionTo                TypeName  \\\n",
       "1          2012-03-09     2012-01-10   2012-02-03            GD CD noi bo   \n",
       "2          2012-03-09     2012-01-09   2012-02-13            GD CD noi bo   \n",
       "7          2012-03-08     2012-02-08   2012-02-15            GD CD noi bo   \n",
       "8          2012-02-28     2012-02-16   2012-02-16            GD CD noi bo   \n",
       "9          2012-03-31     2012-02-10   2012-02-16            GD CD noi bo   \n",
       "...               ...            ...          ...                     ...   \n",
       "11907      2021-01-08     2020-12-14   2020-12-21  GD cua nguoi lien quan   \n",
       "11910      2020-12-22     2020-11-23   2020-12-22  GD cua nguoi lien quan   \n",
       "11911      2021-01-16     2020-12-23   2020-12-24  GD cua nguoi lien quan   \n",
       "11920      2020-12-15     2020-11-16   2020-12-15  GD cua nguoi lien quan   \n",
       "11931      2020-12-29     2020-12-28   2020-12-28  GD cua nguoi lien quan   \n",
       "\n",
       "       RegisterVolumeBefore  RegisterVolumeBeforePercent  ...   Ri_T1_4  \\\n",
       "1                    275206                     0.018272  ... -0.011364   \n",
       "2                   7742346                     0.032308  ... -0.025424   \n",
       "7                    310000                     0.031575  ... -0.041667   \n",
       "8                     23462                     0.000469  ... -0.018433   \n",
       "9                         0                     0.000000  ... -0.000000   \n",
       "...                     ...                          ...  ...       ...   \n",
       "11907              16104073                     0.349739  ...       NaN   \n",
       "11910               5066456                     0.083966  ...  0.002950   \n",
       "11911                235000                     0.003876  ... -0.093151   \n",
       "11920               2880000                     0.180000  ... -0.000000   \n",
       "11931               1826264                     0.113789  ... -0.000000   \n",
       "\n",
       "        Ri_T1_5   Ri_T1_6  Ri_T1_7  Ri_T1_8  Ri_T1_9  Ri_T1_10  Ri_T1_11  \\\n",
       "1     -0.022472       NaN      NaN      NaN      NaN       NaN       NaN   \n",
       "2      0.024793       NaN      NaN      NaN      NaN       NaN       NaN   \n",
       "7      0.040000       NaN      NaN      NaN      NaN       NaN       NaN   \n",
       "8     -0.040724       NaN      NaN      NaN      NaN       NaN       NaN   \n",
       "9      0.035714       NaN      NaN      NaN      NaN       NaN       NaN   \n",
       "...         ...       ...      ...      ...      ...       ...       ...   \n",
       "11907       NaN       NaN      NaN      NaN      NaN       NaN       NaN   \n",
       "11910       NaN       NaN      NaN      NaN      NaN       NaN       NaN   \n",
       "11911 -0.092190 -0.092615      NaN      NaN      NaN       NaN       NaN   \n",
       "11920       NaN       NaN      NaN      NaN      NaN       NaN       NaN   \n",
       "11931  0.021538       NaN      NaN      NaN      NaN       NaN       NaN   \n",
       "\n",
       "       Ri_T1_12   ret_buy  \n",
       "1           NaN -0.093219  \n",
       "2           NaN -0.026411  \n",
       "7           NaN  0.000862  \n",
       "8           NaN -0.077444  \n",
       "9           NaN  0.142948  \n",
       "...         ...       ...  \n",
       "11907       NaN  0.032634  \n",
       "11910       NaN  0.055263  \n",
       "11911       NaN -0.001954  \n",
       "11920       NaN  0.124031  \n",
       "11931       NaN  0.002739  \n",
       "\n",
       "[5286 rows x 46 columns]"
      ]
     },
     "execution_count": 75,
     "metadata": {},
     "output_type": "execute_result"
    }
   ],
   "source": [
    "df_new_buy['ret_buy'] = np.array(ret_buy)\n",
    "df_new_buy"
   ]
  },
  {
   "cell_type": "code",
   "execution_count": 83,
   "metadata": {},
   "outputs": [
    {
     "data": {
      "text/plain": [
       "(6462815.5, 3.1582825551923375e-12)"
      ]
     },
     "execution_count": 83,
     "metadata": {},
     "output_type": "execute_result"
    }
   ],
   "source": [
    "import scipy\n",
    "\n",
    "from scipy.stats import wilcoxon\n",
    "\n",
    "w, p = wilcoxon(df_new_buy['ret_buy'], alternative='greater')\n",
    "w, p"
   ]
  },
  {
   "cell_type": "code",
   "execution_count": 84,
   "metadata": {},
   "outputs": [
    {
     "data": {
      "text/plain": [
       "6.970494773915284"
      ]
     },
     "execution_count": 84,
     "metadata": {},
     "output_type": "execute_result"
    }
   ],
   "source": [
    "from scipy import stats\n",
    "stats.norm.isf(p/2)"
   ]
  },
  {
   "cell_type": "code",
   "execution_count": 85,
   "metadata": {},
   "outputs": [
    {
     "data": {
      "text/plain": [
       "Ttest_1sampResult(statistic=4.5602573684447485, pvalue=2.6122423985066646e-06)"
      ]
     },
     "execution_count": 85,
     "metadata": {},
     "output_type": "execute_result"
    }
   ],
   "source": [
    "result = scipy.stats.ttest_1samp(df_new_buy['ret_buy'],0, alternative='greater')\n",
    "result"
   ]
  },
  {
   "cell_type": "code",
   "execution_count": 86,
   "metadata": {},
   "outputs": [],
   "source": [
    "import scipy.integrate \n",
    "from scipy.stats import norm\n",
    "from scipy import stats"
   ]
  },
  {
   "cell_type": "code",
   "execution_count": 87,
   "metadata": {},
   "outputs": [
    {
     "data": {
      "text/plain": [
       "(30546.0, 6.022765784647685e-05, -3.8451976316500605, 0.014238804408766681)"
      ]
     },
     "execution_count": 87,
     "metadata": {},
     "output_type": "execute_result"
    }
   ],
   "source": [
    "df_VNI_12 = df_new_buy[(df_new_buy['Exchange']=='HOSE')&(df_new_buy['year']==2012)]\n",
    "\n",
    "w_VNI_12, p_VNI_12 = wilcoxon(df_VNI_12['ret_buy'], alternative='greater')\n",
    "w_VNI_12, p_VNI_12, norm.ppf(p_VNI_12), df_VNI_12['ret_buy'].median()"
   ]
  },
  {
   "cell_type": "code",
   "execution_count": 88,
   "metadata": {},
   "outputs": [
    {
     "data": {
      "text/plain": [
       "(18876.0, 0.02694023937274571, -1.9277962146968055, 0.0072035226320490385)"
      ]
     },
     "execution_count": 88,
     "metadata": {},
     "output_type": "execute_result"
    }
   ],
   "source": [
    "df_VNI_13 = df_new_buy[(df_new_buy['Exchange']=='HOSE')&(df_new_buy['year']==2013)]\n",
    "\n",
    "w_VNI_13, p_VNI_13 = wilcoxon(df_VNI_13['ret_buy'], alternative='greater')\n",
    "w_VNI_13, p_VNI_13, norm.ppf(p_VNI_13), df_VNI_13['ret_buy'].median()"
   ]
  },
  {
   "cell_type": "code",
   "execution_count": 89,
   "metadata": {},
   "outputs": [
    {
     "data": {
      "text/plain": [
       "(19288.0, 0.09116034519864391, -1.3336435889783345, 0.0021929624662882213)"
      ]
     },
     "execution_count": 89,
     "metadata": {},
     "output_type": "execute_result"
    }
   ],
   "source": [
    "df_VNI_14 = df_new_buy[(df_new_buy['Exchange']=='HOSE')&(df_new_buy['year']==2014)]\n",
    "\n",
    "w_VNI_14, p_VNI_14 = wilcoxon(df_VNI_14['ret_buy'], alternative='greater')\n",
    "w_VNI_14, p_VNI_14, norm.ppf(p_VNI_14), df_VNI_14['ret_buy'].median()"
   ]
  },
  {
   "cell_type": "code",
   "execution_count": 90,
   "metadata": {},
   "outputs": [
    {
     "data": {
      "text/plain": [
       "(18131.0, 0.19814328562847627, -0.8482718853626056, 0.0013951051634961097)"
      ]
     },
     "execution_count": 90,
     "metadata": {},
     "output_type": "execute_result"
    }
   ],
   "source": [
    "df_VNI_15 = df_new_buy[(df_new_buy['Exchange']=='HOSE')&(df_new_buy['year']==2015)]\n",
    "\n",
    "w_VNI_15, p_VNI_15 = wilcoxon(df_VNI_15['ret_buy'], alternative='greater')\n",
    "w_VNI_15, p_VNI_15, norm.ppf(p_VNI_15), df_VNI_15['ret_buy'].median()"
   ]
  },
  {
   "cell_type": "code",
   "execution_count": 91,
   "metadata": {},
   "outputs": [
    {
     "data": {
      "text/plain": [
       "(26867.0, 0.0014950194025427433, -2.968760152717517, 0.007499657810372769)"
      ]
     },
     "execution_count": 91,
     "metadata": {},
     "output_type": "execute_result"
    }
   ],
   "source": [
    "df_VNI_16 = df_new_buy[(df_new_buy['Exchange']=='HOSE')&(df_new_buy['year']==2016)]\n",
    "\n",
    "w_VNI_16, p_VNI_16 = wilcoxon(df_VNI_16['ret_buy'], alternative='greater')\n",
    "w_VNI_16, p_VNI_16, norm.ppf(p_VNI_16), df_VNI_16['ret_buy'].median()"
   ]
  },
  {
   "cell_type": "code",
   "execution_count": 92,
   "metadata": {},
   "outputs": [
    {
     "data": {
      "text/plain": [
       "(34239.0, 0.0026319496888329258, -2.7904243875205665, 0.0015621329574818654)"
      ]
     },
     "execution_count": 92,
     "metadata": {},
     "output_type": "execute_result"
    }
   ],
   "source": [
    "df_VNI_17 = df_new_buy[(df_new_buy['Exchange']=='HOSE')&(df_new_buy['year']==2017)]\n",
    "\n",
    "w_VNI_17, p_VNI_17 = wilcoxon(df_VNI_17['ret_buy'], alternative='greater')\n",
    "w_VNI_17, p_VNI_17, norm.ppf(p_VNI_17), df_VNI_17['ret_buy'].median()"
   ]
  },
  {
   "cell_type": "code",
   "execution_count": 93,
   "metadata": {},
   "outputs": [
    {
     "data": {
      "text/plain": [
       "(61924.5, 0.04280730609419932, -1.718998680505571, 0.002425210331487682)"
      ]
     },
     "execution_count": 93,
     "metadata": {},
     "output_type": "execute_result"
    }
   ],
   "source": [
    "df_VNI_18 = df_new_buy[(df_new_buy['Exchange']=='HOSE')&(df_new_buy['year']==2018)]\n",
    "\n",
    "w_VNI_18, p_VNI_18 = wilcoxon(df_VNI_18['ret_buy'], alternative='greater')\n",
    "w_VNI_18, p_VNI_18, norm.ppf(p_VNI_18), df_VNI_18['ret_buy'].median()"
   ]
  },
  {
   "cell_type": "code",
   "execution_count": 94,
   "metadata": {},
   "outputs": [
    {
     "data": {
      "text/plain": [
       "(68286.5, 0.006045953918488883, -2.5094507432391353, 0.002218915422405378)"
      ]
     },
     "execution_count": 94,
     "metadata": {},
     "output_type": "execute_result"
    }
   ],
   "source": [
    "df_VNI_19 = df_new_buy[(df_new_buy['Exchange']=='HOSE')&(df_new_buy['year']==2019)]\n",
    "\n",
    "w_VNI_19, p_VNI_19 = wilcoxon(df_VNI_19['ret_buy'], alternative='greater')\n",
    "w_VNI_19, p_VNI_19, norm.ppf(p_VNI_19), df_VNI_19['ret_buy'].median()"
   ]
  },
  {
   "cell_type": "code",
   "execution_count": 95,
   "metadata": {},
   "outputs": [
    {
     "data": {
      "text/plain": [
       "(57752.0, 0.527250806059637, 0.06836084772154302, 0.002387771893430087)"
      ]
     },
     "execution_count": 95,
     "metadata": {},
     "output_type": "execute_result"
    }
   ],
   "source": [
    "df_VNI_20 = df_new_buy[(df_new_buy['Exchange']=='HOSE')&(df_new_buy['year']==2020)]\n",
    "\n",
    "w_VNI_20, p_VNI_20 = wilcoxon(df_VNI_20['ret_buy'], alternative='greater')\n",
    "w_VNI_20, p_VNI_20, norm.ppf(p_VNI_20), df_VNI_20['ret_buy'].median()"
   ]
  },
  {
   "cell_type": "code",
   "execution_count": 96,
   "metadata": {},
   "outputs": [
    {
     "data": {
      "text/plain": [
       "(351.0, 0.7068635274802008, 0.5442449188054672, 0.0)"
      ]
     },
     "execution_count": 96,
     "metadata": {},
     "output_type": "execute_result"
    }
   ],
   "source": [
    "df_HNX_12 = df_new_buy[(df_new_buy['Exchange']=='HNX')&(df_new_buy['year']==2012)]\n",
    "\n",
    "w_HNX_12, p_HNX_12 = wilcoxon(df_HNX_12['ret_buy'], alternative='greater')\n",
    "w_HNX_12, p_HNX_12, norm.ppf(p_HNX_12), df_HNX_12['ret_buy'].median()"
   ]
  },
  {
   "cell_type": "code",
   "execution_count": 97,
   "metadata": {},
   "outputs": [
    {
     "data": {
      "text/plain": [
       "(2034.0, 0.0932194131642603, -1.3211875805539017, 0.012754517614606109)"
      ]
     },
     "execution_count": 97,
     "metadata": {},
     "output_type": "execute_result"
    }
   ],
   "source": [
    "df_HNX_13 = df_new_buy[(df_new_buy['Exchange']=='HNX')&(df_new_buy['year']==2013)]\n",
    "\n",
    "w_HNX_13, p_HNX_13 = wilcoxon(df_HNX_13['ret_buy'], alternative='greater')\n",
    "w_HNX_13, p_HNX_13, norm.ppf(p_HNX_13), df_HNX_13['ret_buy'].median()"
   ]
  },
  {
   "cell_type": "code",
   "execution_count": 98,
   "metadata": {},
   "outputs": [
    {
     "data": {
      "text/plain": [
       "(6991.0, 0.006339571322113845, -2.4926565408914096, 0.014140193029267084)"
      ]
     },
     "execution_count": 98,
     "metadata": {},
     "output_type": "execute_result"
    }
   ],
   "source": [
    "df_HNX_14 = df_new_buy[(df_new_buy['Exchange']=='HNX')&(df_new_buy['year']==2014)]\n",
    "\n",
    "w_HNX_14, p_HNX_14 = wilcoxon(df_HNX_14['ret_buy'], alternative='greater')\n",
    "w_HNX_14, p_HNX_14, norm.ppf(p_HNX_14), df_HNX_14['ret_buy'].median()"
   ]
  },
  {
   "cell_type": "code",
   "execution_count": 99,
   "metadata": {},
   "outputs": [
    {
     "data": {
      "text/plain": [
       "(9783.0, 0.00031079410964094436, -3.4220152727700635, 0.01572456575682385)"
      ]
     },
     "execution_count": 99,
     "metadata": {},
     "output_type": "execute_result"
    }
   ],
   "source": [
    "df_HNX_15 = df_new_buy[(df_new_buy['Exchange']=='HNX')&(df_new_buy['year']==2015)]\n",
    "\n",
    "w_HNX_15, p_HNX_15 = wilcoxon(df_HNX_15['ret_buy'], alternative='greater')\n",
    "w_HNX_15, p_HNX_15, norm.ppf(p_HNX_15), df_HNX_15['ret_buy'].median()"
   ]
  },
  {
   "cell_type": "code",
   "execution_count": 100,
   "metadata": {},
   "outputs": [
    {
     "data": {
      "text/plain": [
       "(4200.0, 0.8401210780044408, 0.9949556313977334, 0.0)"
      ]
     },
     "execution_count": 100,
     "metadata": {},
     "output_type": "execute_result"
    }
   ],
   "source": [
    "df_HNX_16 = df_new_buy[(df_new_buy['Exchange']=='HNX')&(df_new_buy['year']==2016)]\n",
    "\n",
    "w_HNX_16, p_HNX_16 = wilcoxon(df_HNX_16['ret_buy'], alternative='greater')\n",
    "w_HNX_16, p_HNX_16, norm.ppf(p_HNX_16), df_HNX_16['ret_buy'].median()"
   ]
  },
  {
   "cell_type": "code",
   "execution_count": 101,
   "metadata": {},
   "outputs": [
    {
     "data": {
      "text/plain": [
       "(2904.0, 0.09626536783726936, -1.3031289671555086, 0.0)"
      ]
     },
     "execution_count": 101,
     "metadata": {},
     "output_type": "execute_result"
    }
   ],
   "source": [
    "df_HNX_17 = df_new_buy[(df_new_buy['Exchange']=='HNX')&(df_new_buy['year']==2017)]\n",
    "\n",
    "w_HNX_17, p_HNX_17 = wilcoxon(df_HNX_17['ret_buy'], alternative='greater')\n",
    "w_HNX_17, p_HNX_17, norm.ppf(p_HNX_17), df_HNX_17['ret_buy'].median()"
   ]
  },
  {
   "cell_type": "code",
   "execution_count": 102,
   "metadata": {},
   "outputs": [
    {
     "data": {
      "text/plain": [
       "(1340.0, 0.9343575426683431, 1.50905426966988, 0.0)"
      ]
     },
     "execution_count": 102,
     "metadata": {},
     "output_type": "execute_result"
    }
   ],
   "source": [
    "df_HNX_18 = df_new_buy[(df_new_buy['Exchange']=='HNX')&(df_new_buy['year']==2018)]\n",
    "\n",
    "w_HNX_18, p_HNX_18 = wilcoxon(df_HNX_18['ret_buy'], alternative='greater')\n",
    "w_HNX_18, p_HNX_18, norm.ppf(p_HNX_18), df_HNX_18['ret_buy'].median()"
   ]
  },
  {
   "cell_type": "code",
   "execution_count": 103,
   "metadata": {},
   "outputs": [
    {
     "data": {
      "text/plain": [
       "(3046.0, 0.013945218427861394, -2.198824034029873, 0.0027887831197997226)"
      ]
     },
     "execution_count": 103,
     "metadata": {},
     "output_type": "execute_result"
    }
   ],
   "source": [
    "df_HNX_19 = df_new_buy[(df_new_buy['Exchange']=='HNX')&(df_new_buy['year']==2019)]\n",
    "\n",
    "w_HNX_19, p_HNX_19 = wilcoxon(df_HNX_19['ret_buy'], alternative='greater')\n",
    "w_HNX_19, p_HNX_19, norm.ppf(p_HNX_19), df_HNX_19['ret_buy'].median()"
   ]
  },
  {
   "cell_type": "code",
   "execution_count": 104,
   "metadata": {},
   "outputs": [
    {
     "data": {
      "text/plain": [
       "(2468.0, 0.016916377715109964, -2.1220593380510855, 0.001937783411227155)"
      ]
     },
     "execution_count": 104,
     "metadata": {},
     "output_type": "execute_result"
    }
   ],
   "source": [
    "df_HNX_20 = df_new_buy[(df_new_buy['Exchange']=='HNX')&(df_new_buy['year']==2020)]\n",
    "\n",
    "w_HNX_20, p_HNX_20 = wilcoxon(df_HNX_20['ret_buy'], alternative='greater')\n",
    "w_HNX_20, p_HNX_20, norm.ppf(p_HNX_20), df_HNX_20['ret_buy'].median()"
   ]
  },
  {
   "cell_type": "code",
   "execution_count": 105,
   "metadata": {},
   "outputs": [
    {
     "data": {
      "text/plain": [
       "(2027.0, 0.8261649749516271, 0.9391182210525967, 0.0)"
      ]
     },
     "execution_count": 105,
     "metadata": {},
     "output_type": "execute_result"
    }
   ],
   "source": [
    "df_UPCOM_16 = df_new_buy[(df_new_buy['Exchange']=='UPCOM')&(df_new_buy['year']==2016)]\n",
    "\n",
    "w_UPCOM_16, p_UPCOM_16 = wilcoxon(df_UPCOM_16['ret_buy'], alternative='greater')\n",
    "w_UPCOM_16, p_UPCOM_16, norm.ppf(p_UPCOM_16), df_UPCOM_16['ret_buy'].median()"
   ]
  },
  {
   "cell_type": "code",
   "execution_count": 106,
   "metadata": {},
   "outputs": [
    {
     "data": {
      "text/plain": [
       "(4756.5, 0.159657753489726, -0.9958654857228307, 0.0)"
      ]
     },
     "execution_count": 106,
     "metadata": {},
     "output_type": "execute_result"
    }
   ],
   "source": [
    "df_UPCOM_17 = df_new_buy[(df_new_buy['Exchange']=='UPCOM')&(df_new_buy['year']==2017)]\n",
    "\n",
    "w_UPCOM_17, p_UPCOM_17 = wilcoxon(df_UPCOM_17['ret_buy'], alternative='greater')\n",
    "w_UPCOM_17, p_UPCOM_17, norm.ppf(p_UPCOM_17), df_UPCOM_17['ret_buy'].median()"
   ]
  },
  {
   "cell_type": "code",
   "execution_count": 107,
   "metadata": {},
   "outputs": [
    {
     "data": {
      "text/plain": [
       "(3962.5, 0.9159357676501643, 1.3782423860264044, 0.0)"
      ]
     },
     "execution_count": 107,
     "metadata": {},
     "output_type": "execute_result"
    }
   ],
   "source": [
    "df_UPCOM_18 = df_new_buy[(df_new_buy['Exchange']=='UPCOM')&(df_new_buy['year']==2018)]\n",
    "\n",
    "w_UPCOM_18, p_UPCOM_18 = wilcoxon(df_UPCOM_18['ret_buy'], alternative='greater')\n",
    "w_UPCOM_18, p_UPCOM_18, norm.ppf(p_UPCOM_18), df_UPCOM_18['ret_buy'].median()"
   ]
  },
  {
   "cell_type": "code",
   "execution_count": 108,
   "metadata": {},
   "outputs": [
    {
     "data": {
      "text/plain": [
       "(4295.0, 0.04079084641472097, -1.741581545740093, 0.0)"
      ]
     },
     "execution_count": 108,
     "metadata": {},
     "output_type": "execute_result"
    }
   ],
   "source": [
    "df_UPCOM_19 = df_new_buy[(df_new_buy['Exchange']=='UPCOM')&(df_new_buy['year']==2019)]\n",
    "\n",
    "w_UPCOM_19, p_UPCOM_19 = wilcoxon(df_UPCOM_19['ret_buy'], alternative='greater')\n",
    "w_UPCOM_19, p_UPCOM_19, norm.ppf(p_UPCOM_19), df_UPCOM_19['ret_buy'].median()"
   ]
  },
  {
   "cell_type": "code",
   "execution_count": 109,
   "metadata": {},
   "outputs": [
    {
     "data": {
      "text/plain": [
       "(4219.0, 0.04262071146431885, -1.7210518092387046, 0.0)"
      ]
     },
     "execution_count": 109,
     "metadata": {},
     "output_type": "execute_result"
    }
   ],
   "source": [
    "df_UPCOM_20 = df_new_buy[(df_new_buy['Exchange']=='UPCOM')&(df_new_buy['year']==2020)]\n",
    "\n",
    "w_UPCOM_20, p_UPCOM_20 = wilcoxon(df_UPCOM_20['ret_buy'], alternative='greater')\n",
    "w_UPCOM_20, p_UPCOM_20, norm.ppf(p_UPCOM_20), df_UPCOM_20['ret_buy'].median()"
   ]
  },
  {
   "cell_type": "code",
   "execution_count": 110,
   "metadata": {},
   "outputs": [
    {
     "data": {
      "text/plain": [
       "(4.209144216115575,\n",
       " 1.678052081908336e-05,\n",
       " 0.018277192974003213,\n",
       " 0.07682239808257368)"
      ]
     },
     "execution_count": 110,
     "metadata": {},
     "output_type": "execute_result"
    }
   ],
   "source": [
    "tstat_VNI_12, pval_VNI_12 = scipy.stats.ttest_1samp(df_VNI_12['ret_buy'],0, alternative='greater')\n",
    "tstat_VNI_12, pval_VNI_12, df_VNI_12['ret_buy'].mean(), df_VNI_12['ret_buy'].std()"
   ]
  },
  {
   "cell_type": "code",
   "execution_count": 111,
   "metadata": {},
   "outputs": [
    {
     "data": {
      "text/plain": [
       "(1.282904790675606,\n",
       " 0.10033835883936959,\n",
       " 0.00786835609155133,\n",
       " 0.09870507011196651)"
      ]
     },
     "execution_count": 111,
     "metadata": {},
     "output_type": "execute_result"
    }
   ],
   "source": [
    "tstat_VNI_13, pval_VNI_13 = scipy.stats.ttest_1samp(df_VNI_13['ret_buy'],0, alternative='greater')\n",
    "tstat_VNI_13, pval_VNI_13, df_VNI_13['ret_buy'].mean(), df_VNI_13['ret_buy'].std()"
   ]
  },
  {
   "cell_type": "code",
   "execution_count": 112,
   "metadata": {},
   "outputs": [
    {
     "data": {
      "text/plain": [
       "(2.023735504639636,\n",
       " 0.022000426947098067,\n",
       " 0.010147106470381122,\n",
       " 0.08177664415542776)"
      ]
     },
     "execution_count": 112,
     "metadata": {},
     "output_type": "execute_result"
    }
   ],
   "source": [
    "tstat_VNI_14, pval_VNI_14 = scipy.stats.ttest_1samp(df_VNI_14['ret_buy'],0, alternative='greater')\n",
    "tstat_VNI_14, pval_VNI_14, df_VNI_14['ret_buy'].mean(), df_VNI_14['ret_buy'].std()"
   ]
  },
  {
   "cell_type": "code",
   "execution_count": 113,
   "metadata": {},
   "outputs": [
    {
     "data": {
      "text/plain": [
       "(-0.2018841870321187,\n",
       " 0.5799183340697566,\n",
       " -0.0009092386745323642,\n",
       " 0.07317749863892056)"
      ]
     },
     "execution_count": 113,
     "metadata": {},
     "output_type": "execute_result"
    }
   ],
   "source": [
    "tstat_VNI_15, pval_VNI_15 = scipy.stats.ttest_1samp(df_VNI_15['ret_buy'],0, alternative='greater')\n",
    "tstat_VNI_15, pval_VNI_15, df_VNI_15['ret_buy'].mean(), df_VNI_15['ret_buy'].std()"
   ]
  },
  {
   "cell_type": "code",
   "execution_count": 114,
   "metadata": {},
   "outputs": [
    {
     "data": {
      "text/plain": [
       "(2.820237295759252,\n",
       " 0.0025587147071483426,\n",
       " 0.012885681676658238,\n",
       " 0.07940086220657727)"
      ]
     },
     "execution_count": 114,
     "metadata": {},
     "output_type": "execute_result"
    }
   ],
   "source": [
    "tstat_VNI_16, pval_VNI_16 = scipy.stats.ttest_1samp(df_VNI_16['ret_buy'],0, alternative='greater')\n",
    "tstat_VNI_16, pval_VNI_16, df_VNI_16['ret_buy'].mean(), df_VNI_16['ret_buy'].std()"
   ]
  },
  {
   "cell_type": "code",
   "execution_count": 115,
   "metadata": {},
   "outputs": [
    {
     "data": {
      "text/plain": [
       "(2.89452526575318,\n",
       " 0.00202057783759374,\n",
       " 0.012040496623414908,\n",
       " 0.07703961707615521)"
      ]
     },
     "execution_count": 115,
     "metadata": {},
     "output_type": "execute_result"
    }
   ],
   "source": [
    "tstat_VNI_17, pval_VNI_17 = scipy.stats.ttest_1samp(df_VNI_17['ret_buy'],0, alternative='greater')\n",
    "tstat_VNI_17, pval_VNI_17, df_VNI_17['ret_buy'].mean(), df_VNI_17['ret_buy'].std()"
   ]
  },
  {
   "cell_type": "code",
   "execution_count": 116,
   "metadata": {},
   "outputs": [
    {
     "data": {
      "text/plain": [
       "(1.6912535835909097,\n",
       " 0.045721469854209114,\n",
       " 0.005365496871683902,\n",
       " 0.06928837972395631)"
      ]
     },
     "execution_count": 116,
     "metadata": {},
     "output_type": "execute_result"
    }
   ],
   "source": [
    "tstat_VNI_18, pval_VNI_18 = scipy.stats.ttest_1samp(df_VNI_18['ret_buy'],0, alternative='greater')\n",
    "tstat_VNI_18, pval_VNI_18, df_VNI_18['ret_buy'].mean(), df_VNI_18['ret_buy'].std()"
   ]
  },
  {
   "cell_type": "code",
   "execution_count": 117,
   "metadata": {},
   "outputs": [
    {
     "data": {
      "text/plain": [
       "(3.4116352517510387,\n",
       " 0.00034947223711052374,\n",
       " 0.011512697938767793,\n",
       " 0.07492693655999035)"
      ]
     },
     "execution_count": 117,
     "metadata": {},
     "output_type": "execute_result"
    }
   ],
   "source": [
    "tstat_VNI_19, pval_VNI_19 = scipy.stats.ttest_1samp(df_VNI_19['ret_buy'],0, alternative='greater')\n",
    "tstat_VNI_19, pval_VNI_19, df_VNI_19['ret_buy'].mean(), df_VNI_19['ret_buy'].std()"
   ]
  },
  {
   "cell_type": "code",
   "execution_count": 118,
   "metadata": {},
   "outputs": [
    {
     "data": {
      "text/plain": [
       "(-0.8618241206113679,\n",
       " 0.8053944565759334,\n",
       " -0.0037421264632075697,\n",
       " 0.09562483186965749)"
      ]
     },
     "execution_count": 118,
     "metadata": {},
     "output_type": "execute_result"
    }
   ],
   "source": [
    "tstat_VNI_20, pval_VNI_20 = scipy.stats.ttest_1samp(df_VNI_20['ret_buy'],0, alternative='greater')\n",
    "tstat_VNI_20, pval_VNI_20, df_VNI_20['ret_buy'].mean(), df_VNI_20['ret_buy'].std()"
   ]
  },
  {
   "cell_type": "code",
   "execution_count": 120,
   "metadata": {},
   "outputs": [
    {
     "data": {
      "text/plain": [
       "(2.1778149868654535,\n",
       " 0.015460940748684811,\n",
       " 0.018972022432870522,\n",
       " 0.1091547083471458)"
      ]
     },
     "execution_count": 120,
     "metadata": {},
     "output_type": "execute_result"
    }
   ],
   "source": [
    "tstat_HNX_14, pval_HNX_14 = scipy.stats.ttest_1samp(df_HNX_14['ret_buy'],0, alternative='greater')\n",
    "tstat_HNX_14, pval_HNX_14, df_HNX_14['ret_buy'].mean(), df_HNX_14['ret_buy'].std()"
   ]
  },
  {
   "cell_type": "code",
   "execution_count": 121,
   "metadata": {},
   "outputs": [
    {
     "data": {
      "text/plain": [
       "(2.2450961276535044,\n",
       " 0.012948256751795636,\n",
       " 0.01304748186326347,\n",
       " 0.08094548433477969)"
      ]
     },
     "execution_count": 121,
     "metadata": {},
     "output_type": "execute_result"
    }
   ],
   "source": [
    "tstat_HNX_15, pval_HNX_15 = scipy.stats.ttest_1samp(df_HNX_15['ret_buy'],0, alternative='greater')\n",
    "tstat_HNX_15, pval_HNX_15, df_HNX_15['ret_buy'].mean(), df_HNX_15['ret_buy'].std()"
   ]
  },
  {
   "cell_type": "code",
   "execution_count": 122,
   "metadata": {},
   "outputs": [
    {
     "data": {
      "text/plain": [
       "(-2.5801437304664416,\n",
       " 0.9945617147485932,\n",
       " -0.0384522539139078,\n",
       " 0.1794576196684789)"
      ]
     },
     "execution_count": 122,
     "metadata": {},
     "output_type": "execute_result"
    }
   ],
   "source": [
    "tstat_HNX_16, pval_HNX_16 = scipy.stats.ttest_1samp(df_HNX_16['ret_buy'],0, alternative='greater')\n",
    "tstat_HNX_16, pval_HNX_16, df_HNX_16['ret_buy'].mean(), df_HNX_16['ret_buy'].std()"
   ]
  },
  {
   "cell_type": "code",
   "execution_count": 123,
   "metadata": {},
   "outputs": [
    {
     "data": {
      "text/plain": [
       "(1.8335178763906679,\n",
       " 0.034633706258365024,\n",
       " 0.01598595478506124,\n",
       " 0.09470969441225782)"
      ]
     },
     "execution_count": 123,
     "metadata": {},
     "output_type": "execute_result"
    }
   ],
   "source": [
    "tstat_HNX_17, pval_HNX_17 = scipy.stats.ttest_1samp(df_HNX_17['ret_buy'],0, alternative='greater')\n",
    "tstat_HNX_17, pval_HNX_17, df_HNX_17['ret_buy'].mean(), df_HNX_17['ret_buy'].std()"
   ]
  },
  {
   "cell_type": "code",
   "execution_count": 124,
   "metadata": {},
   "outputs": [
    {
     "data": {
      "text/plain": [
       "(2904.0, 0.09626536783726936, -1.3031289671555086, 0.0)"
      ]
     },
     "execution_count": 124,
     "metadata": {},
     "output_type": "execute_result"
    }
   ],
   "source": [
    "df_HNX_17 = df_new_buy[(df_new_buy['Exchange']=='HNX')&(df_new_buy['year']==2017)]\n",
    "\n",
    "w_HNX_17, p_HNX_17 = wilcoxon(df_HNX_17['ret_buy'], alternative='greater')\n",
    "w_HNX_17, p_HNX_17, norm.ppf(p_HNX_17), df_HNX_17['ret_buy'].median()"
   ]
  },
  {
   "cell_type": "code",
   "execution_count": 125,
   "metadata": {},
   "outputs": [
    {
     "data": {
      "text/plain": [
       "(1340.0, 0.9343575426683431, 1.50905426966988, 0.0)"
      ]
     },
     "execution_count": 125,
     "metadata": {},
     "output_type": "execute_result"
    }
   ],
   "source": [
    "df_HNX_18 = df_new_buy[(df_new_buy['Exchange']=='HNX')&(df_new_buy['year']==2018)]\n",
    "\n",
    "w_HNX_18, p_HNX_18 = wilcoxon(df_HNX_18['ret_buy'], alternative='greater')\n",
    "w_HNX_18, p_HNX_18, norm.ppf(p_HNX_18), df_HNX_18['ret_buy'].median()"
   ]
  },
  {
   "cell_type": "code",
   "execution_count": 126,
   "metadata": {},
   "outputs": [
    {
     "data": {
      "text/plain": [
       "(3046.0, 0.013945218427861394, -2.198824034029873, 0.0027887831197997226)"
      ]
     },
     "execution_count": 126,
     "metadata": {},
     "output_type": "execute_result"
    }
   ],
   "source": [
    "df_HNX_19 = df_new_buy[(df_new_buy['Exchange']=='HNX')&(df_new_buy['year']==2019)]\n",
    "\n",
    "w_HNX_19, p_HNX_19 = wilcoxon(df_HNX_19['ret_buy'], alternative='greater')\n",
    "w_HNX_19, p_HNX_19, norm.ppf(p_HNX_19), df_HNX_19['ret_buy'].median()"
   ]
  },
  {
   "cell_type": "code",
   "execution_count": 127,
   "metadata": {},
   "outputs": [
    {
     "data": {
      "text/plain": [
       "(2468.0, 0.016916377715109964, -2.1220593380510855, 0.001937783411227155)"
      ]
     },
     "execution_count": 127,
     "metadata": {},
     "output_type": "execute_result"
    }
   ],
   "source": [
    "df_HNX_20 = df_new_buy[(df_new_buy['Exchange']=='HNX')&(df_new_buy['year']==2020)]\n",
    "\n",
    "w_HNX_20, p_HNX_20 = wilcoxon(df_HNX_20['ret_buy'], alternative='greater')\n",
    "w_HNX_20, p_HNX_20, norm.ppf(p_HNX_20), df_HNX_20['ret_buy'].median()"
   ]
  },
  {
   "cell_type": "code",
   "execution_count": 128,
   "metadata": {},
   "outputs": [
    {
     "data": {
      "text/plain": [
       "(2027.0, 0.8261649749516271, 0.9391182210525967, 0.0)"
      ]
     },
     "execution_count": 128,
     "metadata": {},
     "output_type": "execute_result"
    }
   ],
   "source": [
    "df_UPCOM_16 = df_new_buy[(df_new_buy['Exchange']=='UPCOM')&(df_new_buy['year']==2016)]\n",
    "\n",
    "w_UPCOM_16, p_UPCOM_16 = wilcoxon(df_UPCOM_16['ret_buy'], alternative='greater')\n",
    "w_UPCOM_16, p_UPCOM_16, norm.ppf(p_UPCOM_16), df_UPCOM_16['ret_buy'].median()"
   ]
  },
  {
   "cell_type": "code",
   "execution_count": 129,
   "metadata": {},
   "outputs": [
    {
     "data": {
      "text/plain": [
       "(4756.5, 0.159657753489726, -0.9958654857228307, 0.0)"
      ]
     },
     "execution_count": 129,
     "metadata": {},
     "output_type": "execute_result"
    }
   ],
   "source": [
    "df_UPCOM_17 = df_new_buy[(df_new_buy['Exchange']=='UPCOM')&(df_new_buy['year']==2017)]\n",
    "\n",
    "w_UPCOM_17, p_UPCOM_17 = wilcoxon(df_UPCOM_17['ret_buy'], alternative='greater')\n",
    "w_UPCOM_17, p_UPCOM_17, norm.ppf(p_UPCOM_17), df_UPCOM_17['ret_buy'].median()"
   ]
  },
  {
   "cell_type": "code",
   "execution_count": 130,
   "metadata": {},
   "outputs": [
    {
     "data": {
      "text/plain": [
       "(3962.5, 0.9159357676501643, 1.3782423860264044, 0.0)"
      ]
     },
     "execution_count": 130,
     "metadata": {},
     "output_type": "execute_result"
    }
   ],
   "source": [
    "df_UPCOM_18 = df_new_buy[(df_new_buy['Exchange']=='UPCOM')&(df_new_buy['year']==2018)]\n",
    "\n",
    "w_UPCOM_18, p_UPCOM_18 = wilcoxon(df_UPCOM_18['ret_buy'], alternative='greater')\n",
    "w_UPCOM_18, p_UPCOM_18, norm.ppf(p_UPCOM_18), df_UPCOM_18['ret_buy'].median()"
   ]
  },
  {
   "cell_type": "code",
   "execution_count": 131,
   "metadata": {},
   "outputs": [
    {
     "data": {
      "text/plain": [
       "(4295.0, 0.04079084641472097, -1.741581545740093, 0.0)"
      ]
     },
     "execution_count": 131,
     "metadata": {},
     "output_type": "execute_result"
    }
   ],
   "source": [
    "df_UPCOM_19 = df_new_buy[(df_new_buy['Exchange']=='UPCOM')&(df_new_buy['year']==2019)]\n",
    "\n",
    "w_UPCOM_19, p_UPCOM_19 = wilcoxon(df_UPCOM_19['ret_buy'], alternative='greater')\n",
    "w_UPCOM_19, p_UPCOM_19, norm.ppf(p_UPCOM_19), df_UPCOM_19['ret_buy'].median()"
   ]
  },
  {
   "cell_type": "code",
   "execution_count": 132,
   "metadata": {},
   "outputs": [
    {
     "data": {
      "text/plain": [
       "(4219.0, 0.04262071146431885, -1.7210518092387046, 0.0)"
      ]
     },
     "execution_count": 132,
     "metadata": {},
     "output_type": "execute_result"
    }
   ],
   "source": [
    "df_UPCOM_20 = df_new_buy[(df_new_buy['Exchange']=='UPCOM')&(df_new_buy['year']==2020)]\n",
    "\n",
    "w_UPCOM_20, p_UPCOM_20 = wilcoxon(df_UPCOM_20['ret_buy'], alternative='greater')\n",
    "w_UPCOM_20, p_UPCOM_20, norm.ppf(p_UPCOM_20), df_UPCOM_20['ret_buy'].median()"
   ]
  },
  {
   "cell_type": "code",
   "execution_count": 133,
   "metadata": {},
   "outputs": [
    {
     "data": {
      "text/plain": [
       "(-1.1541177210491402,\n",
       " 0.8746552867041749,\n",
       " -0.018113295131693137,\n",
       " 0.17476650308425432)"
      ]
     },
     "execution_count": 133,
     "metadata": {},
     "output_type": "execute_result"
    }
   ],
   "source": [
    "tstat_UPCOM_16, pval_UPCOM_16 = scipy.stats.ttest_1samp(df_UPCOM_16['ret_buy'],0, alternative='greater')\n",
    "tstat_UPCOM_16, pval_UPCOM_16, df_UPCOM_16['ret_buy'].mean(), df_UPCOM_16['ret_buy'].std()"
   ]
  },
  {
   "cell_type": "code",
   "execution_count": 134,
   "metadata": {},
   "outputs": [
    {
     "data": {
      "text/plain": [
       "(1.0811871160267659,\n",
       " 0.14054238845646394,\n",
       " 0.008228814887165767,\n",
       " 0.10154216808825674)"
      ]
     },
     "execution_count": 134,
     "metadata": {},
     "output_type": "execute_result"
    }
   ],
   "source": [
    "tstat_UPCOM_17, pval_UPCOM_17 = scipy.stats.ttest_1samp(df_UPCOM_17['ret_buy'],0, alternative='greater')\n",
    "tstat_UPCOM_17, pval_UPCOM_17, df_UPCOM_17['ret_buy'].mean(), df_UPCOM_17['ret_buy'].std()"
   ]
  },
  {
   "cell_type": "code",
   "execution_count": 135,
   "metadata": {},
   "outputs": [
    {
     "data": {
      "text/plain": [
       "(-1.9701366112252845,\n",
       " 0.9748505140822481,\n",
       " -0.02425423761628633,\n",
       " 0.16879913275648423)"
      ]
     },
     "execution_count": 135,
     "metadata": {},
     "output_type": "execute_result"
    }
   ],
   "source": [
    "tstat_UPCOM_18, pval_UPCOM_18 = scipy.stats.ttest_1samp(df_UPCOM_18['ret_buy'],0, alternative='greater')\n",
    "tstat_UPCOM_18, pval_UPCOM_18, df_UPCOM_18['ret_buy'].mean(), df_UPCOM_18['ret_buy'].std()"
   ]
  },
  {
   "cell_type": "code",
   "execution_count": 136,
   "metadata": {},
   "outputs": [
    {
     "data": {
      "text/plain": [
       "(1.917532401030221,\n",
       " 0.028363828241087588,\n",
       " 0.019910328154519586,\n",
       " 0.14084603268629006)"
      ]
     },
     "execution_count": 136,
     "metadata": {},
     "output_type": "execute_result"
    }
   ],
   "source": [
    "tstat_UPCOM_19, pval_UPCOM_19 = scipy.stats.ttest_1samp(df_UPCOM_19['ret_buy'],0, alternative='greater')\n",
    "tstat_UPCOM_19, pval_UPCOM_19, df_UPCOM_19['ret_buy'].mean(), df_UPCOM_19['ret_buy'].std()"
   ]
  },
  {
   "cell_type": "code",
   "execution_count": 137,
   "metadata": {},
   "outputs": [
    {
     "data": {
      "text/plain": [
       "(1.6915300572859495,\n",
       " 0.046099050628333,\n",
       " 0.013778753456879565,\n",
       " 0.1191618115032544)"
      ]
     },
     "execution_count": 137,
     "metadata": {},
     "output_type": "execute_result"
    }
   ],
   "source": [
    "tstat_UPCOM_20, pval_UPCOM_20 = scipy.stats.ttest_1samp(df_UPCOM_20['ret_buy'],0, alternative='greater')\n",
    "tstat_UPCOM_20, pval_UPCOM_20, df_UPCOM_20['ret_buy'].mean(), df_UPCOM_20['ret_buy'].std()"
   ]
  },
  {
   "cell_type": "code",
   "execution_count": null,
   "metadata": {},
   "outputs": [],
   "source": []
  },
  {
   "cell_type": "code",
   "execution_count": null,
   "metadata": {},
   "outputs": [],
   "source": []
  },
  {
   "cell_type": "code",
   "execution_count": null,
   "metadata": {},
   "outputs": [],
   "source": []
  }
 ],
 "metadata": {
  "kernelspec": {
   "display_name": "Python 3",
   "language": "python",
   "name": "python3"
  },
  "language_info": {
   "codemirror_mode": {
    "name": "ipython",
    "version": 3
   },
   "file_extension": ".py",
   "mimetype": "text/x-python",
   "name": "python",
   "nbconvert_exporter": "python",
   "pygments_lexer": "ipython3",
   "version": "3.8.5"
  }
 },
 "nbformat": 4,
 "nbformat_minor": 4
}
