{
 "cells": [
  {
   "cell_type": "code",
   "execution_count": 1,
   "metadata": {},
   "outputs": [],
   "source": [
    "import pandas as pd\n",
    "import numpy as np"
   ]
  },
  {
   "cell_type": "code",
   "execution_count": 2,
   "metadata": {},
   "outputs": [],
   "source": [
    "xls_new = pd.ExcelFile(r'/Users/hongnhungvu/Desktop/preview_13_all.xlsx')\n",
    "df_new = pd.read_excel(xls_new)"
   ]
  },
  {
   "cell_type": "code",
   "execution_count": 3,
   "metadata": {},
   "outputs": [],
   "source": [
    "df_new_buy = pd.DataFrame(df_new[(df_new['RegisterSellVolume'].isnull())])\n",
    "df_new_sell = pd.DataFrame(df_new[(df_new['RegisterBuyVolume'].isnull())])"
   ]
  },
  {
   "cell_type": "code",
   "execution_count": 4,
   "metadata": {},
   "outputs": [
    {
     "data": {
      "text/html": [
       "<div>\n",
       "<style scoped>\n",
       "    .dataframe tbody tr th:only-of-type {\n",
       "        vertical-align: middle;\n",
       "    }\n",
       "\n",
       "    .dataframe tbody tr th {\n",
       "        vertical-align: top;\n",
       "    }\n",
       "\n",
       "    .dataframe thead th {\n",
       "        text-align: right;\n",
       "    }\n",
       "</style>\n",
       "<table border=\"1\" class=\"dataframe\">\n",
       "  <thead>\n",
       "    <tr style=\"text-align: right;\">\n",
       "      <th></th>\n",
       "      <th>StockCode</th>\n",
       "      <th>RegisterDate</th>\n",
       "      <th>ResultReportDate</th>\n",
       "      <th>DateStartExpected</th>\n",
       "      <th>DateEndExpected</th>\n",
       "      <th>DateActionFrom</th>\n",
       "      <th>DateActionTo</th>\n",
       "      <th>TypeName</th>\n",
       "      <th>RegisterVolumeBefore</th>\n",
       "      <th>RegisterVolumeBeforePercent</th>\n",
       "      <th>...</th>\n",
       "      <th>Ri_T1_3</th>\n",
       "      <th>Ri_T1_4</th>\n",
       "      <th>Ri_T1_5</th>\n",
       "      <th>Ri_T1_6</th>\n",
       "      <th>Ri_T1_7</th>\n",
       "      <th>Ri_T1_8</th>\n",
       "      <th>Ri_T1_9</th>\n",
       "      <th>Ri_T1_10</th>\n",
       "      <th>Ri_T1_11</th>\n",
       "      <th>Ri_T1_12</th>\n",
       "    </tr>\n",
       "  </thead>\n",
       "  <tbody>\n",
       "    <tr>\n",
       "      <th>0</th>\n",
       "      <td>JVC</td>\n",
       "      <td>2012-01-13</td>\n",
       "      <td>2012-02-04</td>\n",
       "      <td>2012-01-19</td>\n",
       "      <td>2012-02-29</td>\n",
       "      <td>2012-01-16</td>\n",
       "      <td>2012-02-03</td>\n",
       "      <td>GD CD noi bo</td>\n",
       "      <td>13310000</td>\n",
       "      <td>5.500000e-01</td>\n",
       "      <td>...</td>\n",
       "      <td>0.049724</td>\n",
       "      <td>-0.007752</td>\n",
       "      <td>0.054581</td>\n",
       "      <td>0.037453</td>\n",
       "      <td>NaN</td>\n",
       "      <td>NaN</td>\n",
       "      <td>NaN</td>\n",
       "      <td>NaN</td>\n",
       "      <td>NaN</td>\n",
       "      <td>NaN</td>\n",
       "    </tr>\n",
       "    <tr>\n",
       "      <th>3</th>\n",
       "      <td>MPC</td>\n",
       "      <td>2012-02-09</td>\n",
       "      <td>2012-02-16</td>\n",
       "      <td>2012-02-16</td>\n",
       "      <td>2012-03-16</td>\n",
       "      <td>2012-02-16</td>\n",
       "      <td>2012-02-16</td>\n",
       "      <td>GD CD noi bo</td>\n",
       "      <td>7800</td>\n",
       "      <td>1.114286e-04</td>\n",
       "      <td>...</td>\n",
       "      <td>0.017045</td>\n",
       "      <td>0.023121</td>\n",
       "      <td>-0.039448</td>\n",
       "      <td>0.050505</td>\n",
       "      <td>0.029412</td>\n",
       "      <td>NaN</td>\n",
       "      <td>NaN</td>\n",
       "      <td>NaN</td>\n",
       "      <td>NaN</td>\n",
       "      <td>NaN</td>\n",
       "    </tr>\n",
       "    <tr>\n",
       "      <th>4</th>\n",
       "      <td>MPC</td>\n",
       "      <td>2012-02-10</td>\n",
       "      <td>2012-02-16</td>\n",
       "      <td>2012-02-16</td>\n",
       "      <td>2012-03-16</td>\n",
       "      <td>2012-02-16</td>\n",
       "      <td>2012-02-16</td>\n",
       "      <td>GD CD noi bo</td>\n",
       "      <td>17166</td>\n",
       "      <td>2.452286e-04</td>\n",
       "      <td>...</td>\n",
       "      <td>0.023121</td>\n",
       "      <td>-0.031558</td>\n",
       "      <td>0.040404</td>\n",
       "      <td>0.023529</td>\n",
       "      <td>NaN</td>\n",
       "      <td>NaN</td>\n",
       "      <td>NaN</td>\n",
       "      <td>NaN</td>\n",
       "      <td>NaN</td>\n",
       "      <td>NaN</td>\n",
       "    </tr>\n",
       "    <tr>\n",
       "      <th>5</th>\n",
       "      <td>MPC</td>\n",
       "      <td>2012-02-09</td>\n",
       "      <td>2012-02-17</td>\n",
       "      <td>2012-02-16</td>\n",
       "      <td>2012-03-16</td>\n",
       "      <td>2012-02-16</td>\n",
       "      <td>2012-02-17</td>\n",
       "      <td>GD CD noi bo</td>\n",
       "      <td>8166</td>\n",
       "      <td>1.166571e-04</td>\n",
       "      <td>...</td>\n",
       "      <td>0.017045</td>\n",
       "      <td>0.023121</td>\n",
       "      <td>-0.039448</td>\n",
       "      <td>0.050505</td>\n",
       "      <td>0.029412</td>\n",
       "      <td>NaN</td>\n",
       "      <td>NaN</td>\n",
       "      <td>NaN</td>\n",
       "      <td>NaN</td>\n",
       "      <td>NaN</td>\n",
       "    </tr>\n",
       "    <tr>\n",
       "      <th>6</th>\n",
       "      <td>MPC</td>\n",
       "      <td>2012-02-09</td>\n",
       "      <td>2012-02-17</td>\n",
       "      <td>2012-02-16</td>\n",
       "      <td>2012-03-16</td>\n",
       "      <td>2012-02-17</td>\n",
       "      <td>2012-02-17</td>\n",
       "      <td>GD CD noi bo</td>\n",
       "      <td>7150</td>\n",
       "      <td>1.021429e-04</td>\n",
       "      <td>...</td>\n",
       "      <td>0.017045</td>\n",
       "      <td>0.023121</td>\n",
       "      <td>-0.039448</td>\n",
       "      <td>0.050505</td>\n",
       "      <td>0.029412</td>\n",
       "      <td>NaN</td>\n",
       "      <td>NaN</td>\n",
       "      <td>NaN</td>\n",
       "      <td>NaN</td>\n",
       "      <td>NaN</td>\n",
       "    </tr>\n",
       "    <tr>\n",
       "      <th>...</th>\n",
       "      <td>...</td>\n",
       "      <td>...</td>\n",
       "      <td>...</td>\n",
       "      <td>...</td>\n",
       "      <td>...</td>\n",
       "      <td>...</td>\n",
       "      <td>...</td>\n",
       "      <td>...</td>\n",
       "      <td>...</td>\n",
       "      <td>...</td>\n",
       "      <td>...</td>\n",
       "      <td>...</td>\n",
       "      <td>...</td>\n",
       "      <td>...</td>\n",
       "      <td>...</td>\n",
       "      <td>...</td>\n",
       "      <td>...</td>\n",
       "      <td>...</td>\n",
       "      <td>...</td>\n",
       "      <td>...</td>\n",
       "      <td>...</td>\n",
       "    </tr>\n",
       "    <tr>\n",
       "      <th>11932</th>\n",
       "      <td>PPC</td>\n",
       "      <td>2020-12-17</td>\n",
       "      <td>2020-12-30</td>\n",
       "      <td>2020-12-22</td>\n",
       "      <td>2021-01-19</td>\n",
       "      <td>2020-12-22</td>\n",
       "      <td>2020-12-25</td>\n",
       "      <td>GD cua nguoi lien quan</td>\n",
       "      <td>77396260</td>\n",
       "      <td>2.414008e-01</td>\n",
       "      <td>...</td>\n",
       "      <td>0.035417</td>\n",
       "      <td>-0.010060</td>\n",
       "      <td>-0.028455</td>\n",
       "      <td>NaN</td>\n",
       "      <td>NaN</td>\n",
       "      <td>NaN</td>\n",
       "      <td>NaN</td>\n",
       "      <td>NaN</td>\n",
       "      <td>NaN</td>\n",
       "      <td>NaN</td>\n",
       "    </tr>\n",
       "    <tr>\n",
       "      <th>11933</th>\n",
       "      <td>PDR</td>\n",
       "      <td>2020-12-10</td>\n",
       "      <td>2020-12-30</td>\n",
       "      <td>2020-12-14</td>\n",
       "      <td>2021-01-12</td>\n",
       "      <td>2020-12-14</td>\n",
       "      <td>2020-12-28</td>\n",
       "      <td>GD cua nguoi lien quan</td>\n",
       "      <td>92106</td>\n",
       "      <td>2.324912e-04</td>\n",
       "      <td>...</td>\n",
       "      <td>-0.006689</td>\n",
       "      <td>0.001502</td>\n",
       "      <td>NaN</td>\n",
       "      <td>NaN</td>\n",
       "      <td>NaN</td>\n",
       "      <td>NaN</td>\n",
       "      <td>NaN</td>\n",
       "      <td>NaN</td>\n",
       "      <td>NaN</td>\n",
       "      <td>NaN</td>\n",
       "    </tr>\n",
       "    <tr>\n",
       "      <th>11934</th>\n",
       "      <td>VCB</td>\n",
       "      <td>2020-12-15</td>\n",
       "      <td>2020-12-30</td>\n",
       "      <td>2020-12-18</td>\n",
       "      <td>2021-01-15</td>\n",
       "      <td>2020-12-28</td>\n",
       "      <td>2020-12-29</td>\n",
       "      <td>GD cua nguoi lien quan</td>\n",
       "      <td>2523</td>\n",
       "      <td>6.802597e-07</td>\n",
       "      <td>...</td>\n",
       "      <td>0.030208</td>\n",
       "      <td>0.008155</td>\n",
       "      <td>-0.010111</td>\n",
       "      <td>NaN</td>\n",
       "      <td>NaN</td>\n",
       "      <td>NaN</td>\n",
       "      <td>NaN</td>\n",
       "      <td>NaN</td>\n",
       "      <td>NaN</td>\n",
       "      <td>NaN</td>\n",
       "    </tr>\n",
       "    <tr>\n",
       "      <th>11935</th>\n",
       "      <td>VTH</td>\n",
       "      <td>2020-12-11</td>\n",
       "      <td>2020-12-30</td>\n",
       "      <td>2020-12-14</td>\n",
       "      <td>2021-01-08</td>\n",
       "      <td>2020-12-24</td>\n",
       "      <td>2020-12-24</td>\n",
       "      <td>GD cua nguoi lien quan</td>\n",
       "      <td>249700</td>\n",
       "      <td>4.994000e-02</td>\n",
       "      <td>...</td>\n",
       "      <td>0.000000</td>\n",
       "      <td>NaN</td>\n",
       "      <td>NaN</td>\n",
       "      <td>NaN</td>\n",
       "      <td>NaN</td>\n",
       "      <td>NaN</td>\n",
       "      <td>NaN</td>\n",
       "      <td>NaN</td>\n",
       "      <td>NaN</td>\n",
       "      <td>NaN</td>\n",
       "    </tr>\n",
       "    <tr>\n",
       "      <th>11936</th>\n",
       "      <td>NAF</td>\n",
       "      <td>2020-12-10</td>\n",
       "      <td>2020-12-31</td>\n",
       "      <td>2020-12-16</td>\n",
       "      <td>2021-01-15</td>\n",
       "      <td>2020-12-16</td>\n",
       "      <td>2020-12-31</td>\n",
       "      <td>GD cua nguoi lien quan</td>\n",
       "      <td>44210</td>\n",
       "      <td>9.294104e-04</td>\n",
       "      <td>...</td>\n",
       "      <td>0.014423</td>\n",
       "      <td>0.000000</td>\n",
       "      <td>-0.029268</td>\n",
       "      <td>-0.003325</td>\n",
       "      <td>NaN</td>\n",
       "      <td>NaN</td>\n",
       "      <td>NaN</td>\n",
       "      <td>NaN</td>\n",
       "      <td>NaN</td>\n",
       "      <td>NaN</td>\n",
       "    </tr>\n",
       "  </tbody>\n",
       "</table>\n",
       "<p>6651 rows × 45 columns</p>\n",
       "</div>"
      ],
      "text/plain": [
       "      StockCode RegisterDate ResultReportDate DateStartExpected  \\\n",
       "0           JVC   2012-01-13       2012-02-04        2012-01-19   \n",
       "3           MPC   2012-02-09       2012-02-16        2012-02-16   \n",
       "4           MPC   2012-02-10       2012-02-16        2012-02-16   \n",
       "5           MPC   2012-02-09       2012-02-17        2012-02-16   \n",
       "6           MPC   2012-02-09       2012-02-17        2012-02-16   \n",
       "...         ...          ...              ...               ...   \n",
       "11932       PPC   2020-12-17       2020-12-30        2020-12-22   \n",
       "11933       PDR   2020-12-10       2020-12-30        2020-12-14   \n",
       "11934       VCB   2020-12-15       2020-12-30        2020-12-18   \n",
       "11935       VTH   2020-12-11       2020-12-30        2020-12-14   \n",
       "11936       NAF   2020-12-10       2020-12-31        2020-12-16   \n",
       "\n",
       "      DateEndExpected DateActionFrom DateActionTo                TypeName  \\\n",
       "0          2012-02-29     2012-01-16   2012-02-03            GD CD noi bo   \n",
       "3          2012-03-16     2012-02-16   2012-02-16            GD CD noi bo   \n",
       "4          2012-03-16     2012-02-16   2012-02-16            GD CD noi bo   \n",
       "5          2012-03-16     2012-02-16   2012-02-17            GD CD noi bo   \n",
       "6          2012-03-16     2012-02-17   2012-02-17            GD CD noi bo   \n",
       "...               ...            ...          ...                     ...   \n",
       "11932      2021-01-19     2020-12-22   2020-12-25  GD cua nguoi lien quan   \n",
       "11933      2021-01-12     2020-12-14   2020-12-28  GD cua nguoi lien quan   \n",
       "11934      2021-01-15     2020-12-28   2020-12-29  GD cua nguoi lien quan   \n",
       "11935      2021-01-08     2020-12-24   2020-12-24  GD cua nguoi lien quan   \n",
       "11936      2021-01-15     2020-12-16   2020-12-31  GD cua nguoi lien quan   \n",
       "\n",
       "       RegisterVolumeBefore  RegisterVolumeBeforePercent  ...   Ri_T1_3  \\\n",
       "0                  13310000                 5.500000e-01  ...  0.049724   \n",
       "3                      7800                 1.114286e-04  ...  0.017045   \n",
       "4                     17166                 2.452286e-04  ...  0.023121   \n",
       "5                      8166                 1.166571e-04  ...  0.017045   \n",
       "6                      7150                 1.021429e-04  ...  0.017045   \n",
       "...                     ...                          ...  ...       ...   \n",
       "11932              77396260                 2.414008e-01  ...  0.035417   \n",
       "11933                 92106                 2.324912e-04  ... -0.006689   \n",
       "11934                  2523                 6.802597e-07  ...  0.030208   \n",
       "11935                249700                 4.994000e-02  ...  0.000000   \n",
       "11936                 44210                 9.294104e-04  ...  0.014423   \n",
       "\n",
       "        Ri_T1_4   Ri_T1_5   Ri_T1_6   Ri_T1_7  Ri_T1_8  Ri_T1_9  Ri_T1_10  \\\n",
       "0     -0.007752  0.054581  0.037453       NaN      NaN      NaN       NaN   \n",
       "3      0.023121 -0.039448  0.050505  0.029412      NaN      NaN       NaN   \n",
       "4     -0.031558  0.040404  0.023529       NaN      NaN      NaN       NaN   \n",
       "5      0.023121 -0.039448  0.050505  0.029412      NaN      NaN       NaN   \n",
       "6      0.023121 -0.039448  0.050505  0.029412      NaN      NaN       NaN   \n",
       "...         ...       ...       ...       ...      ...      ...       ...   \n",
       "11932 -0.010060 -0.028455       NaN       NaN      NaN      NaN       NaN   \n",
       "11933  0.001502       NaN       NaN       NaN      NaN      NaN       NaN   \n",
       "11934  0.008155 -0.010111       NaN       NaN      NaN      NaN       NaN   \n",
       "11935       NaN       NaN       NaN       NaN      NaN      NaN       NaN   \n",
       "11936  0.000000 -0.029268 -0.003325       NaN      NaN      NaN       NaN   \n",
       "\n",
       "       Ri_T1_11  Ri_T1_12  \n",
       "0           NaN       NaN  \n",
       "3           NaN       NaN  \n",
       "4           NaN       NaN  \n",
       "5           NaN       NaN  \n",
       "6           NaN       NaN  \n",
       "...         ...       ...  \n",
       "11932       NaN       NaN  \n",
       "11933       NaN       NaN  \n",
       "11934       NaN       NaN  \n",
       "11935       NaN       NaN  \n",
       "11936       NaN       NaN  \n",
       "\n",
       "[6651 rows x 45 columns]"
      ]
     },
     "execution_count": 4,
     "metadata": {},
     "output_type": "execute_result"
    }
   ],
   "source": [
    "df_new_sell.iloc[:,32:45] = df_new_sell.iloc[:,32:45]*(-1)\n",
    "\n",
    "for i in range(len(df_new_sell)):\n",
    "    k = df_new_sell['Diff_days'].iloc[i]\n",
    "    df_new_sell.iloc[i,32+k] = (df_new_sell.iloc[i,32+k]*(-1))*(k/3)\n",
    "    df_new_sell.iloc[i,32+k+1] = (df_new_sell.iloc[i,32+k+1]*(-1))*(k/3)\n",
    "    df_new_sell.iloc[i,32+k+2] = (df_new_sell.iloc[i,32+k+2]*(-1))*(k/3)\n",
    "df_new_sell"
   ]
  },
  {
   "cell_type": "code",
   "execution_count": 5,
   "metadata": {},
   "outputs": [
    {
     "data": {
      "text/plain": [
       "array([ 0.20608763,  0.15576923,  0.13188594, ...,  0.06683974,\n",
       "        0.0035461 , -0.10067447])"
      ]
     },
     "execution_count": 5,
     "metadata": {},
     "output_type": "execute_result"
    }
   ],
   "source": [
    "ret_sell = np.nansum(df_new_sell.iloc[:,32:45],axis=1)\n",
    "ret_sell"
   ]
  },
  {
   "cell_type": "code",
   "execution_count": 6,
   "metadata": {},
   "outputs": [
    {
     "data": {
      "text/html": [
       "<div>\n",
       "<style scoped>\n",
       "    .dataframe tbody tr th:only-of-type {\n",
       "        vertical-align: middle;\n",
       "    }\n",
       "\n",
       "    .dataframe tbody tr th {\n",
       "        vertical-align: top;\n",
       "    }\n",
       "\n",
       "    .dataframe thead th {\n",
       "        text-align: right;\n",
       "    }\n",
       "</style>\n",
       "<table border=\"1\" class=\"dataframe\">\n",
       "  <thead>\n",
       "    <tr style=\"text-align: right;\">\n",
       "      <th></th>\n",
       "      <th>StockCode</th>\n",
       "      <th>RegisterDate</th>\n",
       "      <th>ResultReportDate</th>\n",
       "      <th>DateStartExpected</th>\n",
       "      <th>DateEndExpected</th>\n",
       "      <th>DateActionFrom</th>\n",
       "      <th>DateActionTo</th>\n",
       "      <th>TypeName</th>\n",
       "      <th>RegisterVolumeBefore</th>\n",
       "      <th>RegisterVolumeBeforePercent</th>\n",
       "      <th>...</th>\n",
       "      <th>Ri_T1_4</th>\n",
       "      <th>Ri_T1_5</th>\n",
       "      <th>Ri_T1_6</th>\n",
       "      <th>Ri_T1_7</th>\n",
       "      <th>Ri_T1_8</th>\n",
       "      <th>Ri_T1_9</th>\n",
       "      <th>Ri_T1_10</th>\n",
       "      <th>Ri_T1_11</th>\n",
       "      <th>Ri_T1_12</th>\n",
       "      <th>ret_sell</th>\n",
       "    </tr>\n",
       "  </thead>\n",
       "  <tbody>\n",
       "    <tr>\n",
       "      <th>0</th>\n",
       "      <td>JVC</td>\n",
       "      <td>2012-01-13</td>\n",
       "      <td>2012-02-04</td>\n",
       "      <td>2012-01-19</td>\n",
       "      <td>2012-02-29</td>\n",
       "      <td>2012-01-16</td>\n",
       "      <td>2012-02-03</td>\n",
       "      <td>GD CD noi bo</td>\n",
       "      <td>13310000</td>\n",
       "      <td>5.500000e-01</td>\n",
       "      <td>...</td>\n",
       "      <td>-0.007752</td>\n",
       "      <td>0.054581</td>\n",
       "      <td>0.037453</td>\n",
       "      <td>NaN</td>\n",
       "      <td>NaN</td>\n",
       "      <td>NaN</td>\n",
       "      <td>NaN</td>\n",
       "      <td>NaN</td>\n",
       "      <td>NaN</td>\n",
       "      <td>0.206088</td>\n",
       "    </tr>\n",
       "    <tr>\n",
       "      <th>3</th>\n",
       "      <td>MPC</td>\n",
       "      <td>2012-02-09</td>\n",
       "      <td>2012-02-16</td>\n",
       "      <td>2012-02-16</td>\n",
       "      <td>2012-03-16</td>\n",
       "      <td>2012-02-16</td>\n",
       "      <td>2012-02-16</td>\n",
       "      <td>GD CD noi bo</td>\n",
       "      <td>7800</td>\n",
       "      <td>1.114286e-04</td>\n",
       "      <td>...</td>\n",
       "      <td>0.023121</td>\n",
       "      <td>-0.039448</td>\n",
       "      <td>0.050505</td>\n",
       "      <td>0.029412</td>\n",
       "      <td>NaN</td>\n",
       "      <td>NaN</td>\n",
       "      <td>NaN</td>\n",
       "      <td>NaN</td>\n",
       "      <td>NaN</td>\n",
       "      <td>0.155769</td>\n",
       "    </tr>\n",
       "    <tr>\n",
       "      <th>4</th>\n",
       "      <td>MPC</td>\n",
       "      <td>2012-02-10</td>\n",
       "      <td>2012-02-16</td>\n",
       "      <td>2012-02-16</td>\n",
       "      <td>2012-03-16</td>\n",
       "      <td>2012-02-16</td>\n",
       "      <td>2012-02-16</td>\n",
       "      <td>GD CD noi bo</td>\n",
       "      <td>17166</td>\n",
       "      <td>2.452286e-04</td>\n",
       "      <td>...</td>\n",
       "      <td>-0.031558</td>\n",
       "      <td>0.040404</td>\n",
       "      <td>0.023529</td>\n",
       "      <td>NaN</td>\n",
       "      <td>NaN</td>\n",
       "      <td>NaN</td>\n",
       "      <td>NaN</td>\n",
       "      <td>NaN</td>\n",
       "      <td>NaN</td>\n",
       "      <td>0.131886</td>\n",
       "    </tr>\n",
       "    <tr>\n",
       "      <th>5</th>\n",
       "      <td>MPC</td>\n",
       "      <td>2012-02-09</td>\n",
       "      <td>2012-02-17</td>\n",
       "      <td>2012-02-16</td>\n",
       "      <td>2012-03-16</td>\n",
       "      <td>2012-02-16</td>\n",
       "      <td>2012-02-17</td>\n",
       "      <td>GD CD noi bo</td>\n",
       "      <td>8166</td>\n",
       "      <td>1.166571e-04</td>\n",
       "      <td>...</td>\n",
       "      <td>0.023121</td>\n",
       "      <td>-0.039448</td>\n",
       "      <td>0.050505</td>\n",
       "      <td>0.029412</td>\n",
       "      <td>NaN</td>\n",
       "      <td>NaN</td>\n",
       "      <td>NaN</td>\n",
       "      <td>NaN</td>\n",
       "      <td>NaN</td>\n",
       "      <td>0.155769</td>\n",
       "    </tr>\n",
       "    <tr>\n",
       "      <th>6</th>\n",
       "      <td>MPC</td>\n",
       "      <td>2012-02-09</td>\n",
       "      <td>2012-02-17</td>\n",
       "      <td>2012-02-16</td>\n",
       "      <td>2012-03-16</td>\n",
       "      <td>2012-02-17</td>\n",
       "      <td>2012-02-17</td>\n",
       "      <td>GD CD noi bo</td>\n",
       "      <td>7150</td>\n",
       "      <td>1.021429e-04</td>\n",
       "      <td>...</td>\n",
       "      <td>0.023121</td>\n",
       "      <td>-0.039448</td>\n",
       "      <td>0.050505</td>\n",
       "      <td>0.029412</td>\n",
       "      <td>NaN</td>\n",
       "      <td>NaN</td>\n",
       "      <td>NaN</td>\n",
       "      <td>NaN</td>\n",
       "      <td>NaN</td>\n",
       "      <td>0.155769</td>\n",
       "    </tr>\n",
       "    <tr>\n",
       "      <th>...</th>\n",
       "      <td>...</td>\n",
       "      <td>...</td>\n",
       "      <td>...</td>\n",
       "      <td>...</td>\n",
       "      <td>...</td>\n",
       "      <td>...</td>\n",
       "      <td>...</td>\n",
       "      <td>...</td>\n",
       "      <td>...</td>\n",
       "      <td>...</td>\n",
       "      <td>...</td>\n",
       "      <td>...</td>\n",
       "      <td>...</td>\n",
       "      <td>...</td>\n",
       "      <td>...</td>\n",
       "      <td>...</td>\n",
       "      <td>...</td>\n",
       "      <td>...</td>\n",
       "      <td>...</td>\n",
       "      <td>...</td>\n",
       "      <td>...</td>\n",
       "    </tr>\n",
       "    <tr>\n",
       "      <th>11932</th>\n",
       "      <td>PPC</td>\n",
       "      <td>2020-12-17</td>\n",
       "      <td>2020-12-30</td>\n",
       "      <td>2020-12-22</td>\n",
       "      <td>2021-01-19</td>\n",
       "      <td>2020-12-22</td>\n",
       "      <td>2020-12-25</td>\n",
       "      <td>GD cua nguoi lien quan</td>\n",
       "      <td>77396260</td>\n",
       "      <td>2.414008e-01</td>\n",
       "      <td>...</td>\n",
       "      <td>-0.010060</td>\n",
       "      <td>-0.028455</td>\n",
       "      <td>NaN</td>\n",
       "      <td>NaN</td>\n",
       "      <td>NaN</td>\n",
       "      <td>NaN</td>\n",
       "      <td>NaN</td>\n",
       "      <td>NaN</td>\n",
       "      <td>NaN</td>\n",
       "      <td>-0.009437</td>\n",
       "    </tr>\n",
       "    <tr>\n",
       "      <th>11933</th>\n",
       "      <td>PDR</td>\n",
       "      <td>2020-12-10</td>\n",
       "      <td>2020-12-30</td>\n",
       "      <td>2020-12-14</td>\n",
       "      <td>2021-01-12</td>\n",
       "      <td>2020-12-14</td>\n",
       "      <td>2020-12-28</td>\n",
       "      <td>GD cua nguoi lien quan</td>\n",
       "      <td>92106</td>\n",
       "      <td>2.324912e-04</td>\n",
       "      <td>...</td>\n",
       "      <td>0.001502</td>\n",
       "      <td>NaN</td>\n",
       "      <td>NaN</td>\n",
       "      <td>NaN</td>\n",
       "      <td>NaN</td>\n",
       "      <td>NaN</td>\n",
       "      <td>NaN</td>\n",
       "      <td>NaN</td>\n",
       "      <td>NaN</td>\n",
       "      <td>0.041171</td>\n",
       "    </tr>\n",
       "    <tr>\n",
       "      <th>11934</th>\n",
       "      <td>VCB</td>\n",
       "      <td>2020-12-15</td>\n",
       "      <td>2020-12-30</td>\n",
       "      <td>2020-12-18</td>\n",
       "      <td>2021-01-15</td>\n",
       "      <td>2020-12-28</td>\n",
       "      <td>2020-12-29</td>\n",
       "      <td>GD cua nguoi lien quan</td>\n",
       "      <td>2523</td>\n",
       "      <td>6.802597e-07</td>\n",
       "      <td>...</td>\n",
       "      <td>0.008155</td>\n",
       "      <td>-0.010111</td>\n",
       "      <td>NaN</td>\n",
       "      <td>NaN</td>\n",
       "      <td>NaN</td>\n",
       "      <td>NaN</td>\n",
       "      <td>NaN</td>\n",
       "      <td>NaN</td>\n",
       "      <td>NaN</td>\n",
       "      <td>0.066840</td>\n",
       "    </tr>\n",
       "    <tr>\n",
       "      <th>11935</th>\n",
       "      <td>VTH</td>\n",
       "      <td>2020-12-11</td>\n",
       "      <td>2020-12-30</td>\n",
       "      <td>2020-12-14</td>\n",
       "      <td>2021-01-08</td>\n",
       "      <td>2020-12-24</td>\n",
       "      <td>2020-12-24</td>\n",
       "      <td>GD cua nguoi lien quan</td>\n",
       "      <td>249700</td>\n",
       "      <td>4.994000e-02</td>\n",
       "      <td>...</td>\n",
       "      <td>NaN</td>\n",
       "      <td>NaN</td>\n",
       "      <td>NaN</td>\n",
       "      <td>NaN</td>\n",
       "      <td>NaN</td>\n",
       "      <td>NaN</td>\n",
       "      <td>NaN</td>\n",
       "      <td>NaN</td>\n",
       "      <td>NaN</td>\n",
       "      <td>0.003546</td>\n",
       "    </tr>\n",
       "    <tr>\n",
       "      <th>11936</th>\n",
       "      <td>NAF</td>\n",
       "      <td>2020-12-10</td>\n",
       "      <td>2020-12-31</td>\n",
       "      <td>2020-12-16</td>\n",
       "      <td>2021-01-15</td>\n",
       "      <td>2020-12-16</td>\n",
       "      <td>2020-12-31</td>\n",
       "      <td>GD cua nguoi lien quan</td>\n",
       "      <td>44210</td>\n",
       "      <td>9.294104e-04</td>\n",
       "      <td>...</td>\n",
       "      <td>0.000000</td>\n",
       "      <td>-0.029268</td>\n",
       "      <td>-0.003325</td>\n",
       "      <td>NaN</td>\n",
       "      <td>NaN</td>\n",
       "      <td>NaN</td>\n",
       "      <td>NaN</td>\n",
       "      <td>NaN</td>\n",
       "      <td>NaN</td>\n",
       "      <td>-0.100674</td>\n",
       "    </tr>\n",
       "  </tbody>\n",
       "</table>\n",
       "<p>6651 rows × 46 columns</p>\n",
       "</div>"
      ],
      "text/plain": [
       "      StockCode RegisterDate ResultReportDate DateStartExpected  \\\n",
       "0           JVC   2012-01-13       2012-02-04        2012-01-19   \n",
       "3           MPC   2012-02-09       2012-02-16        2012-02-16   \n",
       "4           MPC   2012-02-10       2012-02-16        2012-02-16   \n",
       "5           MPC   2012-02-09       2012-02-17        2012-02-16   \n",
       "6           MPC   2012-02-09       2012-02-17        2012-02-16   \n",
       "...         ...          ...              ...               ...   \n",
       "11932       PPC   2020-12-17       2020-12-30        2020-12-22   \n",
       "11933       PDR   2020-12-10       2020-12-30        2020-12-14   \n",
       "11934       VCB   2020-12-15       2020-12-30        2020-12-18   \n",
       "11935       VTH   2020-12-11       2020-12-30        2020-12-14   \n",
       "11936       NAF   2020-12-10       2020-12-31        2020-12-16   \n",
       "\n",
       "      DateEndExpected DateActionFrom DateActionTo                TypeName  \\\n",
       "0          2012-02-29     2012-01-16   2012-02-03            GD CD noi bo   \n",
       "3          2012-03-16     2012-02-16   2012-02-16            GD CD noi bo   \n",
       "4          2012-03-16     2012-02-16   2012-02-16            GD CD noi bo   \n",
       "5          2012-03-16     2012-02-16   2012-02-17            GD CD noi bo   \n",
       "6          2012-03-16     2012-02-17   2012-02-17            GD CD noi bo   \n",
       "...               ...            ...          ...                     ...   \n",
       "11932      2021-01-19     2020-12-22   2020-12-25  GD cua nguoi lien quan   \n",
       "11933      2021-01-12     2020-12-14   2020-12-28  GD cua nguoi lien quan   \n",
       "11934      2021-01-15     2020-12-28   2020-12-29  GD cua nguoi lien quan   \n",
       "11935      2021-01-08     2020-12-24   2020-12-24  GD cua nguoi lien quan   \n",
       "11936      2021-01-15     2020-12-16   2020-12-31  GD cua nguoi lien quan   \n",
       "\n",
       "       RegisterVolumeBefore  RegisterVolumeBeforePercent  ...   Ri_T1_4  \\\n",
       "0                  13310000                 5.500000e-01  ... -0.007752   \n",
       "3                      7800                 1.114286e-04  ...  0.023121   \n",
       "4                     17166                 2.452286e-04  ... -0.031558   \n",
       "5                      8166                 1.166571e-04  ...  0.023121   \n",
       "6                      7150                 1.021429e-04  ...  0.023121   \n",
       "...                     ...                          ...  ...       ...   \n",
       "11932              77396260                 2.414008e-01  ... -0.010060   \n",
       "11933                 92106                 2.324912e-04  ...  0.001502   \n",
       "11934                  2523                 6.802597e-07  ...  0.008155   \n",
       "11935                249700                 4.994000e-02  ...       NaN   \n",
       "11936                 44210                 9.294104e-04  ...  0.000000   \n",
       "\n",
       "        Ri_T1_5   Ri_T1_6   Ri_T1_7  Ri_T1_8  Ri_T1_9  Ri_T1_10  Ri_T1_11  \\\n",
       "0      0.054581  0.037453       NaN      NaN      NaN       NaN       NaN   \n",
       "3     -0.039448  0.050505  0.029412      NaN      NaN       NaN       NaN   \n",
       "4      0.040404  0.023529       NaN      NaN      NaN       NaN       NaN   \n",
       "5     -0.039448  0.050505  0.029412      NaN      NaN       NaN       NaN   \n",
       "6     -0.039448  0.050505  0.029412      NaN      NaN       NaN       NaN   \n",
       "...         ...       ...       ...      ...      ...       ...       ...   \n",
       "11932 -0.028455       NaN       NaN      NaN      NaN       NaN       NaN   \n",
       "11933       NaN       NaN       NaN      NaN      NaN       NaN       NaN   \n",
       "11934 -0.010111       NaN       NaN      NaN      NaN       NaN       NaN   \n",
       "11935       NaN       NaN       NaN      NaN      NaN       NaN       NaN   \n",
       "11936 -0.029268 -0.003325       NaN      NaN      NaN       NaN       NaN   \n",
       "\n",
       "       Ri_T1_12  ret_sell  \n",
       "0           NaN  0.206088  \n",
       "3           NaN  0.155769  \n",
       "4           NaN  0.131886  \n",
       "5           NaN  0.155769  \n",
       "6           NaN  0.155769  \n",
       "...         ...       ...  \n",
       "11932       NaN -0.009437  \n",
       "11933       NaN  0.041171  \n",
       "11934       NaN  0.066840  \n",
       "11935       NaN  0.003546  \n",
       "11936       NaN -0.100674  \n",
       "\n",
       "[6651 rows x 46 columns]"
      ]
     },
     "execution_count": 6,
     "metadata": {},
     "output_type": "execute_result"
    }
   ],
   "source": [
    "df_new_sell['ret_sell'] = np.array(ret_sell)\n",
    "df_new_sell"
   ]
  },
  {
   "cell_type": "code",
   "execution_count": 7,
   "metadata": {},
   "outputs": [],
   "source": [
    "df_new_sell['year']=df_new_sell['RegisterDate'].dt.year\n",
    "df_new_sell['month']=df_new_sell['RegisterDate'].dt.month"
   ]
  },
  {
   "cell_type": "code",
   "execution_count": 8,
   "metadata": {},
   "outputs": [
    {
     "data": {
      "text/plain": [
       "(38789.0, 0.25524089962704616, -0.6580876685465723, 0.0)"
      ]
     },
     "execution_count": 8,
     "metadata": {},
     "output_type": "execute_result"
    }
   ],
   "source": [
    "import scipy.integrate \n",
    "from scipy.stats import norm\n",
    "from scipy.stats import wilcoxon\n",
    "from scipy import stats\n",
    "\n",
    "df_VNI_12 = df_new_sell[(df_new_sell['Exchange']=='HOSE')&(df_new_sell['year']==2012)]\n",
    "\n",
    "w_VNI_12, p_VNI_12 = wilcoxon(df_VNI_12['ret_sell'], alternative='greater')\n",
    "w_VNI_12, p_VNI_12, norm.ppf(p_VNI_12), df_VNI_12['ret_sell'].median()"
   ]
  },
  {
   "cell_type": "code",
   "execution_count": 9,
   "metadata": {},
   "outputs": [
    {
     "data": {
      "text/plain": [
       "(67683.0, 0.05881287626350433, -1.5648173068024425, 0.005006310236143396)"
      ]
     },
     "execution_count": 9,
     "metadata": {},
     "output_type": "execute_result"
    }
   ],
   "source": [
    "df_VNI_13 = df_new_sell[(df_new_sell['Exchange']=='HOSE')&(df_new_sell['year']==2013)]\n",
    "\n",
    "w_VNI_13, p_VNI_13 = wilcoxon(df_VNI_13['ret_sell'], alternative='greater')\n",
    "w_VNI_13, p_VNI_13, norm.ppf(p_VNI_13), df_VNI_13['ret_sell'].median()"
   ]
  },
  {
   "cell_type": "code",
   "execution_count": 10,
   "metadata": {},
   "outputs": [
    {
     "data": {
      "text/plain": [
       "(131224.0, 0.19719759101824463, -0.8516737713748336, 0.003332793667328678)"
      ]
     },
     "execution_count": 10,
     "metadata": {},
     "output_type": "execute_result"
    }
   ],
   "source": [
    "df_VNI_14 = df_new_sell[(df_new_sell['Exchange']=='HOSE')&(df_new_sell['year']==2014)]\n",
    "\n",
    "w_VNI_14, p_VNI_14 = wilcoxon(df_VNI_14['ret_sell'], alternative='greater')\n",
    "w_VNI_14, p_VNI_14, norm.ppf(p_VNI_14), df_VNI_14['ret_sell'].median()"
   ]
  },
  {
   "cell_type": "code",
   "execution_count": 11,
   "metadata": {},
   "outputs": [
    {
     "data": {
      "text/plain": [
       "(39192.0, 0.8147198423176445, 0.8954243003417152, -0.002221051587564249)"
      ]
     },
     "execution_count": 11,
     "metadata": {},
     "output_type": "execute_result"
    }
   ],
   "source": [
    "df_VNI_15 = df_new_sell[(df_new_sell['Exchange']=='HOSE')&(df_new_sell['year']==2015)]\n",
    "\n",
    "w_VNI_15, p_VNI_15 = wilcoxon(df_VNI_15['ret_sell'], alternative='greater')\n",
    "w_VNI_15, p_VNI_15, norm.ppf(p_VNI_15), df_VNI_15['ret_sell'].median()"
   ]
  },
  {
   "cell_type": "code",
   "execution_count": 12,
   "metadata": {},
   "outputs": [
    {
     "data": {
      "text/plain": [
       "(85786.0, 0.0001593840807219809, -3.5995501443211593, 0.008313559607407754)"
      ]
     },
     "execution_count": 12,
     "metadata": {},
     "output_type": "execute_result"
    }
   ],
   "source": [
    "df_VNI_16 = df_new_sell[(df_new_sell['Exchange']=='HOSE')&(df_new_sell['year']==2016)]\n",
    "\n",
    "w_VNI_16, p_VNI_16 = wilcoxon(df_VNI_16['ret_sell'], alternative='greater')\n",
    "w_VNI_16, p_VNI_16, norm.ppf(p_VNI_16), df_VNI_16['ret_sell'].median()"
   ]
  },
  {
   "cell_type": "code",
   "execution_count": 13,
   "metadata": {},
   "outputs": [
    {
     "data": {
      "text/plain": [
       "(65301.0, 0.8742741418273748, 1.1468304146905068, -0.0006660919077125004)"
      ]
     },
     "execution_count": 13,
     "metadata": {},
     "output_type": "execute_result"
    }
   ],
   "source": [
    "df_VNI_17 = df_new_sell[(df_new_sell['Exchange']=='HOSE')&(df_new_sell['year']==2017)]\n",
    "\n",
    "w_VNI_17, p_VNI_17 = wilcoxon(df_VNI_17['ret_sell'], alternative='greater')\n",
    "w_VNI_17, p_VNI_17, norm.ppf(p_VNI_17), df_VNI_17['ret_sell'].median()"
   ]
  },
  {
   "cell_type": "code",
   "execution_count": 14,
   "metadata": {},
   "outputs": [
    {
     "data": {
      "text/plain": [
       "(35311.0, 0.8003308468996799, 0.8428035787085952, -0.0037559824688055956)"
      ]
     },
     "execution_count": 14,
     "metadata": {},
     "output_type": "execute_result"
    }
   ],
   "source": [
    "df_VNI_18 = df_new_sell[(df_new_sell['Exchange']=='HOSE')&(df_new_sell['year']==2018)]\n",
    "\n",
    "w_VNI_18, p_VNI_18 = wilcoxon(df_VNI_18['ret_sell'], alternative='greater')\n",
    "w_VNI_18, p_VNI_18, norm.ppf(p_VNI_18), df_VNI_18['ret_sell'].median()"
   ]
  },
  {
   "cell_type": "code",
   "execution_count": 15,
   "metadata": {},
   "outputs": [
    {
     "data": {
      "text/plain": [
       "(38789.0, 0.25524089962704616, -0.6580876685465723, 0.00022780965783634338)"
      ]
     },
     "execution_count": 15,
     "metadata": {},
     "output_type": "execute_result"
    }
   ],
   "source": [
    "df_VNI_19 = df_new_sell[(df_new_sell['Exchange']=='HOSE')&(df_new_sell['year']==2019)]\n",
    "\n",
    "w_VNI_19, p_VNI_19 = wilcoxon(df_VNI_12['ret_sell'], alternative='greater')\n",
    "w_VNI_19, p_VNI_19, norm.ppf(p_VNI_19), df_VNI_19['ret_sell'].median()"
   ]
  },
  {
   "cell_type": "code",
   "execution_count": 16,
   "metadata": {},
   "outputs": [
    {
     "data": {
      "text/plain": [
       "(59504.0, 0.027095437805095664, -1.9253076943933713, 0.002119253531458037)"
      ]
     },
     "execution_count": 16,
     "metadata": {},
     "output_type": "execute_result"
    }
   ],
   "source": [
    "df_VNI_20 = df_new_sell[(df_new_sell['Exchange']=='HOSE')&(df_new_sell['year']==2020)]\n",
    "\n",
    "w_VNI_20, p_VNI_20 = wilcoxon(df_VNI_20['ret_sell'], alternative='greater')\n",
    "w_VNI_20, p_VNI_20, norm.ppf(p_VNI_20), df_VNI_20['ret_sell'].median()"
   ]
  },
  {
   "cell_type": "code",
   "execution_count": 17,
   "metadata": {},
   "outputs": [
    {
     "data": {
      "text/plain": [
       "(0.7887470488743831,\n",
       " 0.215371385759913,\n",
       " 0.0036105005649860822,\n",
       " 0.09016656660357447)"
      ]
     },
     "execution_count": 17,
     "metadata": {},
     "output_type": "execute_result"
    }
   ],
   "source": [
    "tstat_VNI_12, pval_VNI_12 = scipy.stats.ttest_1samp(df_VNI_12['ret_sell'],0, alternative='greater')\n",
    "tstat_VNI_12, pval_VNI_12, df_VNI_12['ret_sell'].mean(), df_VNI_12['ret_sell'].std()"
   ]
  },
  {
   "cell_type": "code",
   "execution_count": 18,
   "metadata": {},
   "outputs": [
    {
     "data": {
      "text/plain": [
       "(0.7706618653906238,\n",
       " 0.22063568781977627,\n",
       " 0.0028249741001593644,\n",
       " 0.08204827675348499)"
      ]
     },
     "execution_count": 18,
     "metadata": {},
     "output_type": "execute_result"
    }
   ],
   "source": [
    "tstat_VNI_13, pval_VNI_13 = scipy.stats.ttest_1samp(df_VNI_13['ret_sell'],0, alternative='greater')\n",
    "tstat_VNI_13, pval_VNI_13, df_VNI_13['ret_sell'].mean(), df_VNI_13['ret_sell'].std()"
   ]
  },
  {
   "cell_type": "code",
   "execution_count": 19,
   "metadata": {},
   "outputs": [
    {
     "data": {
      "text/plain": [
       "(-0.023959612765863687,\n",
       " 0.5095542267944176,\n",
       " -7.581755540135504e-05,\n",
       " 0.08443645264328654)"
      ]
     },
     "execution_count": 19,
     "metadata": {},
     "output_type": "execute_result"
    }
   ],
   "source": [
    "tstat_VNI_14, pval_VNI_14 = scipy.stats.ttest_1samp(df_VNI_14['ret_sell'],0, alternative='greater')\n",
    "tstat_VNI_14, pval_VNI_14, df_VNI_14['ret_sell'].mean(), df_VNI_14['ret_sell'].std()"
   ]
  },
  {
   "cell_type": "code",
   "execution_count": 20,
   "metadata": {},
   "outputs": [
    {
     "data": {
      "text/plain": [
       "(-0.2577781378970604,\n",
       " 0.6016456270203698,\n",
       " -0.0009036895325955084,\n",
       " 0.07072457955567625)"
      ]
     },
     "execution_count": 20,
     "metadata": {},
     "output_type": "execute_result"
    }
   ],
   "source": [
    "tstat_VNI_15, pval_VNI_15 = scipy.stats.ttest_1samp(df_VNI_15['ret_sell'],0, alternative='greater')\n",
    "tstat_VNI_15, pval_VNI_15, df_VNI_15['ret_sell'].mean(), df_VNI_15['ret_sell'].std()"
   ]
  },
  {
   "cell_type": "code",
   "execution_count": 21,
   "metadata": {},
   "outputs": [
    {
     "data": {
      "text/plain": [
       "(3.0100954831345703,\n",
       " 0.0013670792431098302,\n",
       " 0.009138674091983788,\n",
       " 0.0704850967352782)"
      ]
     },
     "execution_count": 21,
     "metadata": {},
     "output_type": "execute_result"
    }
   ],
   "source": [
    "tstat_VNI_16, pval_VNI_16 = scipy.stats.ttest_1samp(df_VNI_16['ret_sell'],0, alternative='greater')\n",
    "tstat_VNI_16, pval_VNI_16, df_VNI_16['ret_sell'].mean(), df_VNI_16['ret_sell'].std()"
   ]
  },
  {
   "cell_type": "code",
   "execution_count": 22,
   "metadata": {},
   "outputs": [
    {
     "data": {
      "text/plain": [
       "(-1.7954592622772754,\n",
       " 0.9634222369087254,\n",
       " -0.005551062654507029,\n",
       " 0.07090770766761333)"
      ]
     },
     "execution_count": 22,
     "metadata": {},
     "output_type": "execute_result"
    }
   ],
   "source": [
    "tstat_VNI_17, pval_VNI_17 = scipy.stats.ttest_1samp(df_VNI_17['ret_sell'],0, alternative='greater')\n",
    "tstat_VNI_17, pval_VNI_17, df_VNI_17['ret_sell'].mean(), df_VNI_17['ret_sell'].std()"
   ]
  },
  {
   "cell_type": "code",
   "execution_count": 23,
   "metadata": {},
   "outputs": [
    {
     "data": {
      "text/plain": [
       "(-0.8364993318145703,\n",
       " 0.7983028541929984,\n",
       " -0.004920237756417444,\n",
       " 0.11541197039628501)"
      ]
     },
     "execution_count": 23,
     "metadata": {},
     "output_type": "execute_result"
    }
   ],
   "source": [
    "tstat_VNI_18, pval_VNI_18 = scipy.stats.ttest_1samp(df_VNI_18['ret_sell'],0, alternative='greater')\n",
    "tstat_VNI_18, pval_VNI_18, df_VNI_18['ret_sell'].mean(), df_VNI_18['ret_sell'].std()"
   ]
  },
  {
   "cell_type": "code",
   "execution_count": 24,
   "metadata": {},
   "outputs": [
    {
     "data": {
      "text/plain": [
       "(1.3948191957218485,\n",
       " 0.08188387912015674,\n",
       " 0.004038832488983421,\n",
       " 0.061082658564457916)"
      ]
     },
     "execution_count": 24,
     "metadata": {},
     "output_type": "execute_result"
    }
   ],
   "source": [
    "tstat_VNI_19, pval_VNI_19 = scipy.stats.ttest_1samp(df_VNI_19['ret_sell'],0, alternative='greater')\n",
    "tstat_VNI_19, pval_VNI_19, df_VNI_19['ret_sell'].mean(), df_VNI_19['ret_sell'].std()"
   ]
  },
  {
   "cell_type": "code",
   "execution_count": 25,
   "metadata": {},
   "outputs": [
    {
     "data": {
      "text/plain": [
       "(1.9148704461870907,\n",
       " 0.028062456625261824,\n",
       " 0.007826037438360117,\n",
       " 0.08803624595343779)"
      ]
     },
     "execution_count": 25,
     "metadata": {},
     "output_type": "execute_result"
    }
   ],
   "source": [
    "tstat_VNI_20, pval_VNI_20 = scipy.stats.ttest_1samp(df_VNI_20['ret_sell'],0, alternative='greater')\n",
    "tstat_VNI_20, pval_VNI_20, df_VNI_20['ret_sell'].mean(), df_VNI_20['ret_sell'].std()"
   ]
  },
  {
   "cell_type": "code",
   "execution_count": 26,
   "metadata": {},
   "outputs": [
    {
     "data": {
      "text/plain": [
       "(5990.5, 0.11104084203490583, -1.2210114513412438, 0.00010977657238794066)"
      ]
     },
     "execution_count": 26,
     "metadata": {},
     "output_type": "execute_result"
    }
   ],
   "source": [
    "df_HNX_13 = df_new_sell[(df_new_sell['Exchange']=='HNX')&(df_new_sell['year']==2013)]\n",
    "\n",
    "w_HNX_13, p_HNX_13 = wilcoxon(df_HNX_13['ret_sell'], alternative='greater')\n",
    "w_HNX_13, p_HNX_13, norm.ppf(p_HNX_13), df_HNX_13['ret_sell'].median()"
   ]
  },
  {
   "cell_type": "code",
   "execution_count": 27,
   "metadata": {},
   "outputs": [
    {
     "data": {
      "text/plain": [
       "(21888.0, 0.32673533839097413, -0.4489459095507694, 0.0)"
      ]
     },
     "execution_count": 27,
     "metadata": {},
     "output_type": "execute_result"
    }
   ],
   "source": [
    "df_HNX_14 = df_new_sell[(df_new_sell['Exchange']=='HNX')&(df_new_sell['year']==2014)]\n",
    "\n",
    "w_HNX_14, p_HNX_14 = wilcoxon(df_HNX_14['ret_sell'], alternative='greater')\n",
    "w_HNX_14, p_HNX_14, norm.ppf(p_HNX_14), df_HNX_14['ret_sell'].median()"
   ]
  },
  {
   "cell_type": "code",
   "execution_count": 28,
   "metadata": {},
   "outputs": [
    {
     "data": {
      "text/plain": [
       "(13566.0, 0.38949572706594604, -0.2806335843726167, 0.0)"
      ]
     },
     "execution_count": 28,
     "metadata": {},
     "output_type": "execute_result"
    }
   ],
   "source": [
    "df_HNX_15 = df_new_sell[(df_new_sell['Exchange']=='HNX')&(df_new_sell['year']==2015)]\n",
    "\n",
    "w_HNX_15, p_HNX_15 = wilcoxon(df_HNX_15['ret_sell'], alternative='greater')\n",
    "w_HNX_15, p_HNX_15, norm.ppf(p_HNX_15), df_HNX_15['ret_sell'].median()"
   ]
  },
  {
   "cell_type": "code",
   "execution_count": 29,
   "metadata": {},
   "outputs": [
    {
     "data": {
      "text/plain": [
       "(8998.0, 0.20945980978676687, -0.8082970165898017, 0.003216330983013419)"
      ]
     },
     "execution_count": 29,
     "metadata": {},
     "output_type": "execute_result"
    }
   ],
   "source": [
    "df_HNX_16 = df_new_sell[(df_new_sell['Exchange']=='HNX')&(df_new_sell['year']==2016)]\n",
    "\n",
    "w_HNX_16, p_HNX_16 = wilcoxon(df_HNX_16['ret_sell'], alternative='greater')\n",
    "w_HNX_16, p_HNX_16, norm.ppf(p_HNX_16), df_HNX_16['ret_sell'].median()"
   ]
  },
  {
   "cell_type": "code",
   "execution_count": 30,
   "metadata": {},
   "outputs": [
    {
     "data": {
      "text/plain": [
       "(8217.0, 0.11710605833270477, -1.1895784585782192, 0.0030834940272766245)"
      ]
     },
     "execution_count": 30,
     "metadata": {},
     "output_type": "execute_result"
    }
   ],
   "source": [
    "df_HNX_17 = df_new_sell[(df_new_sell['Exchange']=='HNX')&(df_new_sell['year']==2017)]\n",
    "\n",
    "w_HNX_17, p_HNX_17 = wilcoxon(df_HNX_17['ret_sell'], alternative='greater')\n",
    "w_HNX_17, p_HNX_17, norm.ppf(p_HNX_17), df_HNX_17['ret_sell'].median()"
   ]
  },
  {
   "cell_type": "code",
   "execution_count": 31,
   "metadata": {},
   "outputs": [
    {
     "data": {
      "text/plain": [
       "(1643.0, 0.4560788680615726, -0.11031730184588132, 0.0)"
      ]
     },
     "execution_count": 31,
     "metadata": {},
     "output_type": "execute_result"
    }
   ],
   "source": [
    "df_HNX_18 = df_new_sell[(df_new_sell['Exchange']=='HNX')&(df_new_sell['year']==2018)]\n",
    "\n",
    "w_HNX_18, p_HNX_18 = wilcoxon(df_HNX_18['ret_sell'], alternative='greater')\n",
    "w_HNX_18, p_HNX_18, norm.ppf(p_HNX_18), df_HNX_18['ret_sell'].median()"
   ]
  },
  {
   "cell_type": "code",
   "execution_count": 32,
   "metadata": {},
   "outputs": [
    {
     "data": {
      "text/plain": [
       "(1568.0, 0.16541580479716206, -0.9724401828889282, 0.004615843691308151)"
      ]
     },
     "execution_count": 32,
     "metadata": {},
     "output_type": "execute_result"
    }
   ],
   "source": [
    "df_HNX_19 = df_new_sell[(df_new_sell['Exchange']=='HNX')&(df_new_sell['year']==2019)]\n",
    "\n",
    "w_HNX_19, p_HNX_19 = wilcoxon(df_HNX_19['ret_sell'], alternative='greater')\n",
    "w_HNX_19, p_HNX_19, norm.ppf(p_HNX_19), df_HNX_19['ret_sell'].median()"
   ]
  },
  {
   "cell_type": "code",
   "execution_count": 33,
   "metadata": {},
   "outputs": [
    {
     "data": {
      "text/plain": [
       "(1304.0, 0.3594543379120956, -0.3599177057995408, 0.0019128575192504521)"
      ]
     },
     "execution_count": 33,
     "metadata": {},
     "output_type": "execute_result"
    }
   ],
   "source": [
    "df_HNX_20 = df_new_sell[(df_new_sell['Exchange']=='HNX')&(df_new_sell['year']==2020)]\n",
    "\n",
    "w_HNX_20, p_HNX_20 = wilcoxon(df_HNX_20['ret_sell'], alternative='greater')\n",
    "w_HNX_20, p_HNX_20, norm.ppf(p_HNX_20), df_HNX_20['ret_sell'].median()"
   ]
  },
  {
   "cell_type": "code",
   "execution_count": 34,
   "metadata": {},
   "outputs": [
    {
     "data": {
      "text/plain": [
       "(0.05432751390376053,\n",
       " 0.4783730206290466,\n",
       " 0.0004177591878988681,\n",
       " 0.09480428617862702)"
      ]
     },
     "execution_count": 34,
     "metadata": {},
     "output_type": "execute_result"
    }
   ],
   "source": [
    "tstat_HNX_13, pval_HNX_13 = scipy.stats.ttest_1samp(df_HNX_13['ret_sell'],0, alternative='greater')\n",
    "tstat_HNX_13, pval_HNX_13, df_HNX_13['ret_sell'].mean(), df_HNX_13['ret_sell'].std()"
   ]
  },
  {
   "cell_type": "code",
   "execution_count": 35,
   "metadata": {},
   "outputs": [
    {
     "data": {
      "text/plain": [
       "(0.4379832386621356,\n",
       " 0.330858936745225,\n",
       " 0.00230799553826448,\n",
       " 0.09081460512956915)"
      ]
     },
     "execution_count": 35,
     "metadata": {},
     "output_type": "execute_result"
    }
   ],
   "source": [
    "tstat_HNX_14, pval_HNX_14 = scipy.stats.ttest_1samp(df_HNX_14['ret_sell'],0, alternative='greater')\n",
    "tstat_HNX_14, pval_HNX_14, df_HNX_14['ret_sell'].mean(), df_HNX_14['ret_sell'].std()"
   ]
  },
  {
   "cell_type": "code",
   "execution_count": 36,
   "metadata": {},
   "outputs": [
    {
     "data": {
      "text/plain": [
       "(0.1242971954435453,\n",
       " 0.45059222186533093,\n",
       " 0.000831852125099164,\n",
       " 0.10367890974594322)"
      ]
     },
     "execution_count": 36,
     "metadata": {},
     "output_type": "execute_result"
    }
   ],
   "source": [
    "tstat_HNX_15, pval_HNX_15 = scipy.stats.ttest_1samp(df_HNX_15['ret_sell'],0, alternative='greater')\n",
    "tstat_HNX_15, pval_HNX_15, df_HNX_15['ret_sell'].mean(), df_HNX_15['ret_sell'].std()"
   ]
  },
  {
   "cell_type": "code",
   "execution_count": 37,
   "metadata": {},
   "outputs": [
    {
     "data": {
      "text/plain": [
       "(-0.013327449193559765,\n",
       " 0.5053098423038327,\n",
       " -7.32767580235012e-05,\n",
       " 0.07658083123196613)"
      ]
     },
     "execution_count": 37,
     "metadata": {},
     "output_type": "execute_result"
    }
   ],
   "source": [
    "tstat_HNX_16, pval_HNX_16 = scipy.stats.ttest_1samp(df_HNX_16['ret_sell'],0, alternative='greater')\n",
    "tstat_HNX_16, pval_HNX_16, df_HNX_16['ret_sell'].mean(), df_HNX_16['ret_sell'].std()"
   ]
  },
  {
   "cell_type": "code",
   "execution_count": 38,
   "metadata": {},
   "outputs": [
    {
     "data": {
      "text/plain": [
       "(0.27811086288193787,\n",
       " 0.3906250206548083,\n",
       " 0.0013872304751569697,\n",
       " 0.06673554076024334)"
      ]
     },
     "execution_count": 38,
     "metadata": {},
     "output_type": "execute_result"
    }
   ],
   "source": [
    "tstat_HNX_17, pval_HNX_17 = scipy.stats.ttest_1samp(df_HNX_17['ret_sell'],0, alternative='greater')\n",
    "tstat_HNX_17, pval_HNX_17, df_HNX_17['ret_sell'].mean(), df_HNX_17['ret_sell'].std()"
   ]
  },
  {
   "cell_type": "code",
   "execution_count": 39,
   "metadata": {},
   "outputs": [
    {
     "data": {
      "text/plain": [
       "(5785.0, 0.038522202894363415, -1.768098693780152, 0.0)"
      ]
     },
     "execution_count": 39,
     "metadata": {},
     "output_type": "execute_result"
    }
   ],
   "source": [
    "df_UPCOM_16 = df_new_sell[(df_new_sell['Exchange']=='UPCOM')&(df_new_sell['year']==2016)]\n",
    "\n",
    "w_UPCOM_16, p_UPCOM_16 = wilcoxon(df_UPCOM_16['ret_sell'], alternative='greater')\n",
    "w_UPCOM_16, p_UPCOM_16, norm.ppf(p_UPCOM_16), df_UPCOM_16['ret_sell'].median()"
   ]
  },
  {
   "cell_type": "code",
   "execution_count": 40,
   "metadata": {},
   "outputs": [
    {
     "data": {
      "text/plain": [
       "(6066.0, 0.04578245117761541, -1.687199995108385, 0.0)"
      ]
     },
     "execution_count": 40,
     "metadata": {},
     "output_type": "execute_result"
    }
   ],
   "source": [
    "df_UPCOM_17 = df_new_sell[(df_new_sell['Exchange']=='UPCOM')&(df_new_sell['year']==2017)]\n",
    "\n",
    "w_UPCOM_17, p_UPCOM_17 = wilcoxon(df_UPCOM_17['ret_sell'], alternative='greater')\n",
    "w_UPCOM_17, p_UPCOM_17, norm.ppf(p_UPCOM_17), df_UPCOM_17['ret_sell'].median()"
   ]
  },
  {
   "cell_type": "code",
   "execution_count": 41,
   "metadata": {},
   "outputs": [
    {
     "data": {
      "text/plain": [
       "(3555.0, 0.8896654325929778, 1.2247507805171862, 0.0)"
      ]
     },
     "execution_count": 41,
     "metadata": {},
     "output_type": "execute_result"
    }
   ],
   "source": [
    "df_UPCOM_18 = df_new_sell[(df_new_sell['Exchange']=='UPCOM')&(df_new_sell['year']==2018)]\n",
    "\n",
    "w_UPCOM_18, p_UPCOM_18 = wilcoxon(df_UPCOM_18['ret_sell'], alternative='greater')\n",
    "w_UPCOM_18, p_UPCOM_18, norm.ppf(p_UPCOM_18), df_UPCOM_18['ret_sell'].median()"
   ]
  },
  {
   "cell_type": "code",
   "execution_count": 42,
   "metadata": {},
   "outputs": [
    {
     "data": {
      "text/plain": [
       "(6096.0, 0.10195289485020514, -1.2705022280783318, 0.0)"
      ]
     },
     "execution_count": 42,
     "metadata": {},
     "output_type": "execute_result"
    }
   ],
   "source": [
    "df_UPCOM_19 = df_new_sell[(df_new_sell['Exchange']=='UPCOM')&(df_new_sell['year']==2019)]\n",
    "\n",
    "w_UPCOM_19, p_UPCOM_19 = wilcoxon(df_UPCOM_19['ret_sell'], alternative='greater')\n",
    "w_UPCOM_19, p_UPCOM_19, norm.ppf(p_UPCOM_19), df_UPCOM_19['ret_sell'].median()"
   ]
  },
  {
   "cell_type": "code",
   "execution_count": 43,
   "metadata": {},
   "outputs": [
    {
     "data": {
      "text/plain": [
       "(3923.0, 0.9448174527679734, 1.596554292145537, 0.0)"
      ]
     },
     "execution_count": 43,
     "metadata": {},
     "output_type": "execute_result"
    }
   ],
   "source": [
    "df_UPCOM_20 = df_new_sell[(df_new_sell['Exchange']=='UPCOM')&(df_new_sell['year']==2020)]\n",
    "\n",
    "w_UPCOM_20, p_UPCOM_20 = wilcoxon(df_UPCOM_20['ret_sell'], alternative='greater')\n",
    "w_UPCOM_20, p_UPCOM_20, norm.ppf(p_UPCOM_20), df_UPCOM_20['ret_sell'].median()"
   ]
  },
  {
   "cell_type": "code",
   "execution_count": 44,
   "metadata": {},
   "outputs": [
    {
     "data": {
      "text/plain": [
       "(1.4324265443280937,\n",
       " 0.07692364169636785,\n",
       " 0.014974549216073461,\n",
       " 0.1371025778632111)"
      ]
     },
     "execution_count": 44,
     "metadata": {},
     "output_type": "execute_result"
    }
   ],
   "source": [
    "tstat_UPCOM_16, pval_UPCOM_16 = scipy.stats.ttest_1samp(df_UPCOM_16['ret_sell'],0, alternative='greater')\n",
    "tstat_UPCOM_16, pval_UPCOM_16, df_UPCOM_16['ret_sell'].mean(), df_UPCOM_16['ret_sell'].std()"
   ]
  },
  {
   "cell_type": "code",
   "execution_count": 45,
   "metadata": {},
   "outputs": [
    {
     "data": {
      "text/plain": [
       "(0.3667851129609027,\n",
       " 0.3571218148021981,\n",
       " 0.005258345200599226,\n",
       " 0.18581981952704574)"
      ]
     },
     "execution_count": 45,
     "metadata": {},
     "output_type": "execute_result"
    }
   ],
   "source": [
    "tstat_UPCOM_17, pval_UPCOM_17 = scipy.stats.ttest_1samp(df_UPCOM_17['ret_sell'],0, alternative='greater')\n",
    "tstat_UPCOM_17, pval_UPCOM_17, df_UPCOM_17['ret_sell'].mean(), df_UPCOM_17['ret_sell'].std()"
   ]
  },
  {
   "cell_type": "code",
   "execution_count": 46,
   "metadata": {},
   "outputs": [
    {
     "data": {
      "text/plain": [
       "(-0.30083603637387607,\n",
       " 0.6180337245808125,\n",
       " -0.0035538396614927547,\n",
       " 0.1494266166356762)"
      ]
     },
     "execution_count": 46,
     "metadata": {},
     "output_type": "execute_result"
    }
   ],
   "source": [
    "tstat_UPCOM_18, pval_UPCOM_18 = scipy.stats.ttest_1samp(df_UPCOM_18['ret_sell'],0, alternative='greater')\n",
    "tstat_UPCOM_18, pval_UPCOM_18, df_UPCOM_18['ret_sell'].mean(), df_UPCOM_18['ret_sell'].std()"
   ]
  },
  {
   "cell_type": "code",
   "execution_count": 47,
   "metadata": {},
   "outputs": [
    {
     "data": {
      "text/plain": [
       "(0.8726946192007383,\n",
       " 0.19198658637610794,\n",
       " 0.012020396452072212,\n",
       " 0.18683808395795592)"
      ]
     },
     "execution_count": 47,
     "metadata": {},
     "output_type": "execute_result"
    }
   ],
   "source": [
    "tstat_UPCOM_19, pval_UPCOM_19 = scipy.stats.ttest_1samp(df_UPCOM_19['ret_sell'],0, alternative='greater')\n",
    "tstat_UPCOM_19, pval_UPCOM_19, df_UPCOM_19['ret_sell'].mean(), df_UPCOM_19['ret_sell'].std()"
   ]
  },
  {
   "cell_type": "code",
   "execution_count": 48,
   "metadata": {},
   "outputs": [
    {
     "data": {
      "text/plain": [
       "(-2.2763671025142633,\n",
       " 0.9879333061643715,\n",
       " -0.022353080456135366,\n",
       " 0.1253686308103956)"
      ]
     },
     "execution_count": 48,
     "metadata": {},
     "output_type": "execute_result"
    }
   ],
   "source": [
    "tstat_UPCOM_20, pval_UPCOM_20 = scipy.stats.ttest_1samp(df_UPCOM_20['ret_sell'],0, alternative='greater')\n",
    "tstat_UPCOM_20, pval_UPCOM_20, df_UPCOM_20['ret_sell'].mean(), df_UPCOM_20['ret_sell'].std()"
   ]
  },
  {
   "cell_type": "code",
   "execution_count": null,
   "metadata": {},
   "outputs": [],
   "source": []
  },
  {
   "cell_type": "code",
   "execution_count": null,
   "metadata": {},
   "outputs": [],
   "source": []
  },
  {
   "cell_type": "code",
   "execution_count": null,
   "metadata": {},
   "outputs": [],
   "source": []
  },
  {
   "cell_type": "code",
   "execution_count": null,
   "metadata": {},
   "outputs": [],
   "source": []
  },
  {
   "cell_type": "code",
   "execution_count": null,
   "metadata": {},
   "outputs": [],
   "source": []
  },
  {
   "cell_type": "code",
   "execution_count": null,
   "metadata": {},
   "outputs": [],
   "source": []
  }
 ],
 "metadata": {
  "kernelspec": {
   "display_name": "Python 3",
   "language": "python",
   "name": "python3"
  },
  "language_info": {
   "codemirror_mode": {
    "name": "ipython",
    "version": 3
   },
   "file_extension": ".py",
   "mimetype": "text/x-python",
   "name": "python",
   "nbconvert_exporter": "python",
   "pygments_lexer": "ipython3",
   "version": "3.8.5"
  }
 },
 "nbformat": 4,
 "nbformat_minor": 4
}
