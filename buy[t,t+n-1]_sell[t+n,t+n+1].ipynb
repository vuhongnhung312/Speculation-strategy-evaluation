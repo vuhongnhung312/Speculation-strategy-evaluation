{
 "cells": [
  {
   "cell_type": "code",
   "execution_count": 1,
   "metadata": {},
   "outputs": [],
   "source": [
    "import pandas as pd\n",
    "import numpy as np"
   ]
  },
  {
   "cell_type": "code",
   "execution_count": 2,
   "metadata": {},
   "outputs": [],
   "source": [
    "xls_new = pd.ExcelFile(r'/Users/hongnhungvu/Desktop/preview_2_all.xlsx')\n",
    "df_new = pd.read_excel(xls_new)"
   ]
  },
  {
   "cell_type": "code",
   "execution_count": 3,
   "metadata": {},
   "outputs": [],
   "source": [
    "df_new_buy = pd.DataFrame(df_new[(df_new['RegisterSellVolume'].isnull())])\n",
    "df_new_sell = pd.DataFrame(df_new[(df_new['RegisterBuyVolume'].isnull())])"
   ]
  },
  {
   "cell_type": "code",
   "execution_count": 4,
   "metadata": {},
   "outputs": [
    {
     "data": {
      "text/html": [
       "<div>\n",
       "<style scoped>\n",
       "    .dataframe tbody tr th:only-of-type {\n",
       "        vertical-align: middle;\n",
       "    }\n",
       "\n",
       "    .dataframe tbody tr th {\n",
       "        vertical-align: top;\n",
       "    }\n",
       "\n",
       "    .dataframe thead th {\n",
       "        text-align: right;\n",
       "    }\n",
       "</style>\n",
       "<table border=\"1\" class=\"dataframe\">\n",
       "  <thead>\n",
       "    <tr style=\"text-align: right;\">\n",
       "      <th></th>\n",
       "      <th>StockCode</th>\n",
       "      <th>RegisterDate</th>\n",
       "      <th>ResultReportDate</th>\n",
       "      <th>DateStartExpected</th>\n",
       "      <th>DateEndExpected</th>\n",
       "      <th>DateActionFrom</th>\n",
       "      <th>DateActionTo</th>\n",
       "      <th>TypeName</th>\n",
       "      <th>RegisterVolumeBefore</th>\n",
       "      <th>RegisterVolumeBeforePercent</th>\n",
       "      <th>...</th>\n",
       "      <th>Ri_T1_2</th>\n",
       "      <th>Ri_T1_3</th>\n",
       "      <th>Ri_T1_4</th>\n",
       "      <th>Ri_T1_5</th>\n",
       "      <th>Ri_T1_6</th>\n",
       "      <th>Ri_T1_7</th>\n",
       "      <th>Ri_T1_8</th>\n",
       "      <th>Ri_T1_9</th>\n",
       "      <th>Ri_T1_10</th>\n",
       "      <th>Ri_T1_11</th>\n",
       "    </tr>\n",
       "  </thead>\n",
       "  <tbody>\n",
       "    <tr>\n",
       "      <th>1</th>\n",
       "      <td>DHA</td>\n",
       "      <td>2012-01-05</td>\n",
       "      <td>2012-02-06</td>\n",
       "      <td>2012-01-10</td>\n",
       "      <td>2012-03-09</td>\n",
       "      <td>2012-01-10</td>\n",
       "      <td>2012-02-03</td>\n",
       "      <td>GD CD noi bo</td>\n",
       "      <td>275206</td>\n",
       "      <td>0.018272</td>\n",
       "      <td>...</td>\n",
       "      <td>-0.011765</td>\n",
       "      <td>-0.071429</td>\n",
       "      <td>-0.017045</td>\n",
       "      <td>NaN</td>\n",
       "      <td>NaN</td>\n",
       "      <td>NaN</td>\n",
       "      <td>NaN</td>\n",
       "      <td>NaN</td>\n",
       "      <td>NaN</td>\n",
       "      <td>NaN</td>\n",
       "    </tr>\n",
       "    <tr>\n",
       "      <th>2</th>\n",
       "      <td>REE</td>\n",
       "      <td>2012-01-04</td>\n",
       "      <td>2012-02-13</td>\n",
       "      <td>2012-01-09</td>\n",
       "      <td>2012-03-09</td>\n",
       "      <td>2012-01-09</td>\n",
       "      <td>2012-02-13</td>\n",
       "      <td>GD CD noi bo</td>\n",
       "      <td>7742346</td>\n",
       "      <td>0.032308</td>\n",
       "      <td>...</td>\n",
       "      <td>-0.017241</td>\n",
       "      <td>-0.052632</td>\n",
       "      <td>-0.038136</td>\n",
       "      <td>NaN</td>\n",
       "      <td>NaN</td>\n",
       "      <td>NaN</td>\n",
       "      <td>NaN</td>\n",
       "      <td>NaN</td>\n",
       "      <td>NaN</td>\n",
       "      <td>NaN</td>\n",
       "    </tr>\n",
       "    <tr>\n",
       "      <th>7</th>\n",
       "      <td>PNC</td>\n",
       "      <td>2012-02-03</td>\n",
       "      <td>2012-02-17</td>\n",
       "      <td>2012-02-08</td>\n",
       "      <td>2012-03-08</td>\n",
       "      <td>2012-02-08</td>\n",
       "      <td>2012-02-15</td>\n",
       "      <td>GD CD noi bo</td>\n",
       "      <td>310000</td>\n",
       "      <td>0.031575</td>\n",
       "      <td>...</td>\n",
       "      <td>0.022222</td>\n",
       "      <td>-0.065217</td>\n",
       "      <td>-0.062500</td>\n",
       "      <td>NaN</td>\n",
       "      <td>NaN</td>\n",
       "      <td>NaN</td>\n",
       "      <td>NaN</td>\n",
       "      <td>NaN</td>\n",
       "      <td>NaN</td>\n",
       "      <td>NaN</td>\n",
       "    </tr>\n",
       "    <tr>\n",
       "      <th>8</th>\n",
       "      <td>LSS</td>\n",
       "      <td>2012-02-13</td>\n",
       "      <td>2012-02-17</td>\n",
       "      <td>2012-02-16</td>\n",
       "      <td>2012-02-28</td>\n",
       "      <td>2012-02-16</td>\n",
       "      <td>2012-02-16</td>\n",
       "      <td>GD CD noi bo</td>\n",
       "      <td>23462</td>\n",
       "      <td>0.000469</td>\n",
       "      <td>...</td>\n",
       "      <td>-0.018265</td>\n",
       "      <td>-0.013953</td>\n",
       "      <td>-0.027650</td>\n",
       "      <td>NaN</td>\n",
       "      <td>NaN</td>\n",
       "      <td>NaN</td>\n",
       "      <td>NaN</td>\n",
       "      <td>NaN</td>\n",
       "      <td>NaN</td>\n",
       "      <td>NaN</td>\n",
       "    </tr>\n",
       "    <tr>\n",
       "      <th>9</th>\n",
       "      <td>DDM</td>\n",
       "      <td>2012-02-07</td>\n",
       "      <td>2012-02-20</td>\n",
       "      <td>2012-02-10</td>\n",
       "      <td>2012-03-31</td>\n",
       "      <td>2012-02-10</td>\n",
       "      <td>2012-02-16</td>\n",
       "      <td>GD CD noi bo</td>\n",
       "      <td>0</td>\n",
       "      <td>0.000000</td>\n",
       "      <td>...</td>\n",
       "      <td>0.035714</td>\n",
       "      <td>0.051724</td>\n",
       "      <td>-0.000000</td>\n",
       "      <td>NaN</td>\n",
       "      <td>NaN</td>\n",
       "      <td>NaN</td>\n",
       "      <td>NaN</td>\n",
       "      <td>NaN</td>\n",
       "      <td>NaN</td>\n",
       "      <td>NaN</td>\n",
       "    </tr>\n",
       "    <tr>\n",
       "      <th>...</th>\n",
       "      <td>...</td>\n",
       "      <td>...</td>\n",
       "      <td>...</td>\n",
       "      <td>...</td>\n",
       "      <td>...</td>\n",
       "      <td>...</td>\n",
       "      <td>...</td>\n",
       "      <td>...</td>\n",
       "      <td>...</td>\n",
       "      <td>...</td>\n",
       "      <td>...</td>\n",
       "      <td>...</td>\n",
       "      <td>...</td>\n",
       "      <td>...</td>\n",
       "      <td>...</td>\n",
       "      <td>...</td>\n",
       "      <td>...</td>\n",
       "      <td>...</td>\n",
       "      <td>...</td>\n",
       "      <td>...</td>\n",
       "      <td>...</td>\n",
       "    </tr>\n",
       "    <tr>\n",
       "      <th>11907</th>\n",
       "      <td>TVC</td>\n",
       "      <td>2020-12-11</td>\n",
       "      <td>2020-12-23</td>\n",
       "      <td>2020-12-14</td>\n",
       "      <td>2021-01-08</td>\n",
       "      <td>2020-12-14</td>\n",
       "      <td>2020-12-21</td>\n",
       "      <td>GD cua nguoi lien quan</td>\n",
       "      <td>16104073</td>\n",
       "      <td>0.349739</td>\n",
       "      <td>...</td>\n",
       "      <td>-0.000000</td>\n",
       "      <td>NaN</td>\n",
       "      <td>NaN</td>\n",
       "      <td>NaN</td>\n",
       "      <td>NaN</td>\n",
       "      <td>NaN</td>\n",
       "      <td>NaN</td>\n",
       "      <td>NaN</td>\n",
       "      <td>NaN</td>\n",
       "      <td>NaN</td>\n",
       "    </tr>\n",
       "    <tr>\n",
       "      <th>11910</th>\n",
       "      <td>PGC</td>\n",
       "      <td>2020-11-19</td>\n",
       "      <td>2020-12-24</td>\n",
       "      <td>2020-11-23</td>\n",
       "      <td>2020-12-22</td>\n",
       "      <td>2020-11-23</td>\n",
       "      <td>2020-12-22</td>\n",
       "      <td>GD cua nguoi lien quan</td>\n",
       "      <td>5066456</td>\n",
       "      <td>0.083966</td>\n",
       "      <td>...</td>\n",
       "      <td>0.038793</td>\n",
       "      <td>-0.013453</td>\n",
       "      <td>NaN</td>\n",
       "      <td>NaN</td>\n",
       "      <td>NaN</td>\n",
       "      <td>NaN</td>\n",
       "      <td>NaN</td>\n",
       "      <td>NaN</td>\n",
       "      <td>NaN</td>\n",
       "      <td>NaN</td>\n",
       "    </tr>\n",
       "    <tr>\n",
       "      <th>11911</th>\n",
       "      <td>DTL</td>\n",
       "      <td>2020-12-11</td>\n",
       "      <td>2020-12-24</td>\n",
       "      <td>2020-12-17</td>\n",
       "      <td>2021-01-16</td>\n",
       "      <td>2020-12-23</td>\n",
       "      <td>2020-12-24</td>\n",
       "      <td>GD cua nguoi lien quan</td>\n",
       "      <td>235000</td>\n",
       "      <td>0.003876</td>\n",
       "      <td>...</td>\n",
       "      <td>0.068858</td>\n",
       "      <td>0.068814</td>\n",
       "      <td>-0.139726</td>\n",
       "      <td>-0.138284</td>\n",
       "      <td>NaN</td>\n",
       "      <td>NaN</td>\n",
       "      <td>NaN</td>\n",
       "      <td>NaN</td>\n",
       "      <td>NaN</td>\n",
       "      <td>NaN</td>\n",
       "    </tr>\n",
       "    <tr>\n",
       "      <th>11920</th>\n",
       "      <td>CC4</td>\n",
       "      <td>2020-11-13</td>\n",
       "      <td>2020-12-28</td>\n",
       "      <td>2020-11-17</td>\n",
       "      <td>2020-12-15</td>\n",
       "      <td>2020-11-16</td>\n",
       "      <td>2020-12-15</td>\n",
       "      <td>GD cua nguoi lien quan</td>\n",
       "      <td>2880000</td>\n",
       "      <td>0.180000</td>\n",
       "      <td>...</td>\n",
       "      <td>-0.000000</td>\n",
       "      <td>-0.000000</td>\n",
       "      <td>NaN</td>\n",
       "      <td>NaN</td>\n",
       "      <td>NaN</td>\n",
       "      <td>NaN</td>\n",
       "      <td>NaN</td>\n",
       "      <td>NaN</td>\n",
       "      <td>NaN</td>\n",
       "      <td>NaN</td>\n",
       "    </tr>\n",
       "    <tr>\n",
       "      <th>11931</th>\n",
       "      <td>VDP</td>\n",
       "      <td>2020-12-23</td>\n",
       "      <td>2020-12-29</td>\n",
       "      <td>2020-12-28</td>\n",
       "      <td>2020-12-29</td>\n",
       "      <td>2020-12-28</td>\n",
       "      <td>2020-12-28</td>\n",
       "      <td>GD cua nguoi lien quan</td>\n",
       "      <td>1826264</td>\n",
       "      <td>0.113789</td>\n",
       "      <td>...</td>\n",
       "      <td>-0.003125</td>\n",
       "      <td>-0.028213</td>\n",
       "      <td>-0.000000</td>\n",
       "      <td>NaN</td>\n",
       "      <td>NaN</td>\n",
       "      <td>NaN</td>\n",
       "      <td>NaN</td>\n",
       "      <td>NaN</td>\n",
       "      <td>NaN</td>\n",
       "      <td>NaN</td>\n",
       "    </tr>\n",
       "  </tbody>\n",
       "</table>\n",
       "<p>5286 rows × 44 columns</p>\n",
       "</div>"
      ],
      "text/plain": [
       "      StockCode RegisterDate ResultReportDate DateStartExpected  \\\n",
       "1           DHA   2012-01-05       2012-02-06        2012-01-10   \n",
       "2           REE   2012-01-04       2012-02-13        2012-01-09   \n",
       "7           PNC   2012-02-03       2012-02-17        2012-02-08   \n",
       "8           LSS   2012-02-13       2012-02-17        2012-02-16   \n",
       "9           DDM   2012-02-07       2012-02-20        2012-02-10   \n",
       "...         ...          ...              ...               ...   \n",
       "11907       TVC   2020-12-11       2020-12-23        2020-12-14   \n",
       "11910       PGC   2020-11-19       2020-12-24        2020-11-23   \n",
       "11911       DTL   2020-12-11       2020-12-24        2020-12-17   \n",
       "11920       CC4   2020-11-13       2020-12-28        2020-11-17   \n",
       "11931       VDP   2020-12-23       2020-12-29        2020-12-28   \n",
       "\n",
       "      DateEndExpected DateActionFrom DateActionTo                TypeName  \\\n",
       "1          2012-03-09     2012-01-10   2012-02-03            GD CD noi bo   \n",
       "2          2012-03-09     2012-01-09   2012-02-13            GD CD noi bo   \n",
       "7          2012-03-08     2012-02-08   2012-02-15            GD CD noi bo   \n",
       "8          2012-02-28     2012-02-16   2012-02-16            GD CD noi bo   \n",
       "9          2012-03-31     2012-02-10   2012-02-16            GD CD noi bo   \n",
       "...               ...            ...          ...                     ...   \n",
       "11907      2021-01-08     2020-12-14   2020-12-21  GD cua nguoi lien quan   \n",
       "11910      2020-12-22     2020-11-23   2020-12-22  GD cua nguoi lien quan   \n",
       "11911      2021-01-16     2020-12-23   2020-12-24  GD cua nguoi lien quan   \n",
       "11920      2020-12-15     2020-11-16   2020-12-15  GD cua nguoi lien quan   \n",
       "11931      2020-12-29     2020-12-28   2020-12-28  GD cua nguoi lien quan   \n",
       "\n",
       "       RegisterVolumeBefore  RegisterVolumeBeforePercent  ...   Ri_T1_2  \\\n",
       "1                    275206                     0.018272  ... -0.011765   \n",
       "2                   7742346                     0.032308  ... -0.017241   \n",
       "7                    310000                     0.031575  ...  0.022222   \n",
       "8                     23462                     0.000469  ... -0.018265   \n",
       "9                         0                     0.000000  ...  0.035714   \n",
       "...                     ...                          ...  ...       ...   \n",
       "11907              16104073                     0.349739  ... -0.000000   \n",
       "11910               5066456                     0.083966  ...  0.038793   \n",
       "11911                235000                     0.003876  ...  0.068858   \n",
       "11920               2880000                     0.180000  ... -0.000000   \n",
       "11931               1826264                     0.113789  ... -0.003125   \n",
       "\n",
       "        Ri_T1_3   Ri_T1_4   Ri_T1_5  Ri_T1_6  Ri_T1_7  Ri_T1_8  Ri_T1_9  \\\n",
       "1     -0.071429 -0.017045       NaN      NaN      NaN      NaN      NaN   \n",
       "2     -0.052632 -0.038136       NaN      NaN      NaN      NaN      NaN   \n",
       "7     -0.065217 -0.062500       NaN      NaN      NaN      NaN      NaN   \n",
       "8     -0.013953 -0.027650       NaN      NaN      NaN      NaN      NaN   \n",
       "9      0.051724 -0.000000       NaN      NaN      NaN      NaN      NaN   \n",
       "...         ...       ...       ...      ...      ...      ...      ...   \n",
       "11907       NaN       NaN       NaN      NaN      NaN      NaN      NaN   \n",
       "11910 -0.013453       NaN       NaN      NaN      NaN      NaN      NaN   \n",
       "11911  0.068814 -0.139726 -0.138284      NaN      NaN      NaN      NaN   \n",
       "11920 -0.000000       NaN       NaN      NaN      NaN      NaN      NaN   \n",
       "11931 -0.028213 -0.000000       NaN      NaN      NaN      NaN      NaN   \n",
       "\n",
       "       Ri_T1_10  Ri_T1_11  \n",
       "1           NaN       NaN  \n",
       "2           NaN       NaN  \n",
       "7           NaN       NaN  \n",
       "8           NaN       NaN  \n",
       "9           NaN       NaN  \n",
       "...         ...       ...  \n",
       "11907       NaN       NaN  \n",
       "11910       NaN       NaN  \n",
       "11911       NaN       NaN  \n",
       "11920       NaN       NaN  \n",
       "11931       NaN       NaN  \n",
       "\n",
       "[5286 rows x 44 columns]"
      ]
     },
     "execution_count": 4,
     "metadata": {},
     "output_type": "execute_result"
    }
   ],
   "source": [
    "for i in range(len(df_new_buy)):\n",
    "    k = df_new_buy['Diff_days'].iloc[i]\n",
    "    df_new_buy.iloc[i,32+k] = df_new_buy.iloc[i,32+k]*(-k/2)\n",
    "    df_new_buy.iloc[i,32+k+1] = df_new_buy.iloc[i,32+k+1]*(-k/2)\n",
    "df_new_buy"
   ]
  },
  {
   "cell_type": "code",
   "execution_count": 5,
   "metadata": {},
   "outputs": [
    {
     "data": {
      "text/plain": [
       "array([-0.10023873, -0.08145988, -0.08171081, ..., -0.00200932,\n",
       "        0.12403101, -0.02820337])"
      ]
     },
     "execution_count": 5,
     "metadata": {},
     "output_type": "execute_result"
    }
   ],
   "source": [
    "ret_buy = np.nansum(df_new_buy.iloc[:,32:44],axis=1)\n",
    "ret_buy\n"
   ]
  },
  {
   "cell_type": "code",
   "execution_count": 6,
   "metadata": {},
   "outputs": [
    {
     "data": {
      "text/html": [
       "<div>\n",
       "<style scoped>\n",
       "    .dataframe tbody tr th:only-of-type {\n",
       "        vertical-align: middle;\n",
       "    }\n",
       "\n",
       "    .dataframe tbody tr th {\n",
       "        vertical-align: top;\n",
       "    }\n",
       "\n",
       "    .dataframe thead th {\n",
       "        text-align: right;\n",
       "    }\n",
       "</style>\n",
       "<table border=\"1\" class=\"dataframe\">\n",
       "  <thead>\n",
       "    <tr style=\"text-align: right;\">\n",
       "      <th></th>\n",
       "      <th>StockCode</th>\n",
       "      <th>RegisterDate</th>\n",
       "      <th>ResultReportDate</th>\n",
       "      <th>DateStartExpected</th>\n",
       "      <th>DateEndExpected</th>\n",
       "      <th>DateActionFrom</th>\n",
       "      <th>DateActionTo</th>\n",
       "      <th>TypeName</th>\n",
       "      <th>RegisterVolumeBefore</th>\n",
       "      <th>RegisterVolumeBeforePercent</th>\n",
       "      <th>...</th>\n",
       "      <th>Ri_T1_3</th>\n",
       "      <th>Ri_T1_4</th>\n",
       "      <th>Ri_T1_5</th>\n",
       "      <th>Ri_T1_6</th>\n",
       "      <th>Ri_T1_7</th>\n",
       "      <th>Ri_T1_8</th>\n",
       "      <th>Ri_T1_9</th>\n",
       "      <th>Ri_T1_10</th>\n",
       "      <th>Ri_T1_11</th>\n",
       "      <th>ret_buy</th>\n",
       "    </tr>\n",
       "  </thead>\n",
       "  <tbody>\n",
       "    <tr>\n",
       "      <th>1</th>\n",
       "      <td>DHA</td>\n",
       "      <td>2012-01-05</td>\n",
       "      <td>2012-02-06</td>\n",
       "      <td>2012-01-10</td>\n",
       "      <td>2012-03-09</td>\n",
       "      <td>2012-01-10</td>\n",
       "      <td>2012-02-03</td>\n",
       "      <td>GD CD noi bo</td>\n",
       "      <td>275206</td>\n",
       "      <td>0.018272</td>\n",
       "      <td>...</td>\n",
       "      <td>-0.071429</td>\n",
       "      <td>-0.017045</td>\n",
       "      <td>NaN</td>\n",
       "      <td>NaN</td>\n",
       "      <td>NaN</td>\n",
       "      <td>NaN</td>\n",
       "      <td>NaN</td>\n",
       "      <td>NaN</td>\n",
       "      <td>NaN</td>\n",
       "      <td>-0.100239</td>\n",
       "    </tr>\n",
       "    <tr>\n",
       "      <th>2</th>\n",
       "      <td>REE</td>\n",
       "      <td>2012-01-04</td>\n",
       "      <td>2012-02-13</td>\n",
       "      <td>2012-01-09</td>\n",
       "      <td>2012-03-09</td>\n",
       "      <td>2012-01-09</td>\n",
       "      <td>2012-02-13</td>\n",
       "      <td>GD CD noi bo</td>\n",
       "      <td>7742346</td>\n",
       "      <td>0.032308</td>\n",
       "      <td>...</td>\n",
       "      <td>-0.052632</td>\n",
       "      <td>-0.038136</td>\n",
       "      <td>NaN</td>\n",
       "      <td>NaN</td>\n",
       "      <td>NaN</td>\n",
       "      <td>NaN</td>\n",
       "      <td>NaN</td>\n",
       "      <td>NaN</td>\n",
       "      <td>NaN</td>\n",
       "      <td>-0.081460</td>\n",
       "    </tr>\n",
       "    <tr>\n",
       "      <th>7</th>\n",
       "      <td>PNC</td>\n",
       "      <td>2012-02-03</td>\n",
       "      <td>2012-02-17</td>\n",
       "      <td>2012-02-08</td>\n",
       "      <td>2012-03-08</td>\n",
       "      <td>2012-02-08</td>\n",
       "      <td>2012-02-15</td>\n",
       "      <td>GD CD noi bo</td>\n",
       "      <td>310000</td>\n",
       "      <td>0.031575</td>\n",
       "      <td>...</td>\n",
       "      <td>-0.065217</td>\n",
       "      <td>-0.062500</td>\n",
       "      <td>NaN</td>\n",
       "      <td>NaN</td>\n",
       "      <td>NaN</td>\n",
       "      <td>NaN</td>\n",
       "      <td>NaN</td>\n",
       "      <td>NaN</td>\n",
       "      <td>NaN</td>\n",
       "      <td>-0.081711</td>\n",
       "    </tr>\n",
       "    <tr>\n",
       "      <th>8</th>\n",
       "      <td>LSS</td>\n",
       "      <td>2012-02-13</td>\n",
       "      <td>2012-02-17</td>\n",
       "      <td>2012-02-16</td>\n",
       "      <td>2012-02-28</td>\n",
       "      <td>2012-02-16</td>\n",
       "      <td>2012-02-16</td>\n",
       "      <td>GD CD noi bo</td>\n",
       "      <td>23462</td>\n",
       "      <td>0.000469</td>\n",
       "      <td>...</td>\n",
       "      <td>-0.013953</td>\n",
       "      <td>-0.027650</td>\n",
       "      <td>NaN</td>\n",
       "      <td>NaN</td>\n",
       "      <td>NaN</td>\n",
       "      <td>NaN</td>\n",
       "      <td>NaN</td>\n",
       "      <td>NaN</td>\n",
       "      <td>NaN</td>\n",
       "      <td>-0.050588</td>\n",
       "    </tr>\n",
       "    <tr>\n",
       "      <th>9</th>\n",
       "      <td>DDM</td>\n",
       "      <td>2012-02-07</td>\n",
       "      <td>2012-02-20</td>\n",
       "      <td>2012-02-10</td>\n",
       "      <td>2012-03-31</td>\n",
       "      <td>2012-02-10</td>\n",
       "      <td>2012-02-16</td>\n",
       "      <td>GD CD noi bo</td>\n",
       "      <td>0</td>\n",
       "      <td>0.000000</td>\n",
       "      <td>...</td>\n",
       "      <td>0.051724</td>\n",
       "      <td>-0.000000</td>\n",
       "      <td>NaN</td>\n",
       "      <td>NaN</td>\n",
       "      <td>NaN</td>\n",
       "      <td>NaN</td>\n",
       "      <td>NaN</td>\n",
       "      <td>NaN</td>\n",
       "      <td>NaN</td>\n",
       "      <td>0.124475</td>\n",
       "    </tr>\n",
       "    <tr>\n",
       "      <th>...</th>\n",
       "      <td>...</td>\n",
       "      <td>...</td>\n",
       "      <td>...</td>\n",
       "      <td>...</td>\n",
       "      <td>...</td>\n",
       "      <td>...</td>\n",
       "      <td>...</td>\n",
       "      <td>...</td>\n",
       "      <td>...</td>\n",
       "      <td>...</td>\n",
       "      <td>...</td>\n",
       "      <td>...</td>\n",
       "      <td>...</td>\n",
       "      <td>...</td>\n",
       "      <td>...</td>\n",
       "      <td>...</td>\n",
       "      <td>...</td>\n",
       "      <td>...</td>\n",
       "      <td>...</td>\n",
       "      <td>...</td>\n",
       "      <td>...</td>\n",
       "    </tr>\n",
       "    <tr>\n",
       "      <th>11907</th>\n",
       "      <td>TVC</td>\n",
       "      <td>2020-12-11</td>\n",
       "      <td>2020-12-23</td>\n",
       "      <td>2020-12-14</td>\n",
       "      <td>2021-01-08</td>\n",
       "      <td>2020-12-14</td>\n",
       "      <td>2020-12-21</td>\n",
       "      <td>GD cua nguoi lien quan</td>\n",
       "      <td>16104073</td>\n",
       "      <td>0.349739</td>\n",
       "      <td>...</td>\n",
       "      <td>NaN</td>\n",
       "      <td>NaN</td>\n",
       "      <td>NaN</td>\n",
       "      <td>NaN</td>\n",
       "      <td>NaN</td>\n",
       "      <td>NaN</td>\n",
       "      <td>NaN</td>\n",
       "      <td>NaN</td>\n",
       "      <td>NaN</td>\n",
       "      <td>0.032590</td>\n",
       "    </tr>\n",
       "    <tr>\n",
       "      <th>11910</th>\n",
       "      <td>PGC</td>\n",
       "      <td>2020-11-19</td>\n",
       "      <td>2020-12-24</td>\n",
       "      <td>2020-11-23</td>\n",
       "      <td>2020-12-22</td>\n",
       "      <td>2020-11-23</td>\n",
       "      <td>2020-12-22</td>\n",
       "      <td>GD cua nguoi lien quan</td>\n",
       "      <td>5066456</td>\n",
       "      <td>0.083966</td>\n",
       "      <td>...</td>\n",
       "      <td>-0.013453</td>\n",
       "      <td>NaN</td>\n",
       "      <td>NaN</td>\n",
       "      <td>NaN</td>\n",
       "      <td>NaN</td>\n",
       "      <td>NaN</td>\n",
       "      <td>NaN</td>\n",
       "      <td>NaN</td>\n",
       "      <td>NaN</td>\n",
       "      <td>0.060759</td>\n",
       "    </tr>\n",
       "    <tr>\n",
       "      <th>11911</th>\n",
       "      <td>DTL</td>\n",
       "      <td>2020-12-11</td>\n",
       "      <td>2020-12-24</td>\n",
       "      <td>2020-12-17</td>\n",
       "      <td>2021-01-16</td>\n",
       "      <td>2020-12-23</td>\n",
       "      <td>2020-12-24</td>\n",
       "      <td>GD cua nguoi lien quan</td>\n",
       "      <td>235000</td>\n",
       "      <td>0.003876</td>\n",
       "      <td>...</td>\n",
       "      <td>0.068814</td>\n",
       "      <td>-0.139726</td>\n",
       "      <td>-0.138284</td>\n",
       "      <td>NaN</td>\n",
       "      <td>NaN</td>\n",
       "      <td>NaN</td>\n",
       "      <td>NaN</td>\n",
       "      <td>NaN</td>\n",
       "      <td>NaN</td>\n",
       "      <td>-0.002009</td>\n",
       "    </tr>\n",
       "    <tr>\n",
       "      <th>11920</th>\n",
       "      <td>CC4</td>\n",
       "      <td>2020-11-13</td>\n",
       "      <td>2020-12-28</td>\n",
       "      <td>2020-11-17</td>\n",
       "      <td>2020-12-15</td>\n",
       "      <td>2020-11-16</td>\n",
       "      <td>2020-12-15</td>\n",
       "      <td>GD cua nguoi lien quan</td>\n",
       "      <td>2880000</td>\n",
       "      <td>0.180000</td>\n",
       "      <td>...</td>\n",
       "      <td>-0.000000</td>\n",
       "      <td>NaN</td>\n",
       "      <td>NaN</td>\n",
       "      <td>NaN</td>\n",
       "      <td>NaN</td>\n",
       "      <td>NaN</td>\n",
       "      <td>NaN</td>\n",
       "      <td>NaN</td>\n",
       "      <td>NaN</td>\n",
       "      <td>0.124031</td>\n",
       "    </tr>\n",
       "    <tr>\n",
       "      <th>11931</th>\n",
       "      <td>VDP</td>\n",
       "      <td>2020-12-23</td>\n",
       "      <td>2020-12-29</td>\n",
       "      <td>2020-12-28</td>\n",
       "      <td>2020-12-29</td>\n",
       "      <td>2020-12-28</td>\n",
       "      <td>2020-12-28</td>\n",
       "      <td>GD cua nguoi lien quan</td>\n",
       "      <td>1826264</td>\n",
       "      <td>0.113789</td>\n",
       "      <td>...</td>\n",
       "      <td>-0.028213</td>\n",
       "      <td>-0.000000</td>\n",
       "      <td>NaN</td>\n",
       "      <td>NaN</td>\n",
       "      <td>NaN</td>\n",
       "      <td>NaN</td>\n",
       "      <td>NaN</td>\n",
       "      <td>NaN</td>\n",
       "      <td>NaN</td>\n",
       "      <td>-0.028203</td>\n",
       "    </tr>\n",
       "  </tbody>\n",
       "</table>\n",
       "<p>5286 rows × 45 columns</p>\n",
       "</div>"
      ],
      "text/plain": [
       "      StockCode RegisterDate ResultReportDate DateStartExpected  \\\n",
       "1           DHA   2012-01-05       2012-02-06        2012-01-10   \n",
       "2           REE   2012-01-04       2012-02-13        2012-01-09   \n",
       "7           PNC   2012-02-03       2012-02-17        2012-02-08   \n",
       "8           LSS   2012-02-13       2012-02-17        2012-02-16   \n",
       "9           DDM   2012-02-07       2012-02-20        2012-02-10   \n",
       "...         ...          ...              ...               ...   \n",
       "11907       TVC   2020-12-11       2020-12-23        2020-12-14   \n",
       "11910       PGC   2020-11-19       2020-12-24        2020-11-23   \n",
       "11911       DTL   2020-12-11       2020-12-24        2020-12-17   \n",
       "11920       CC4   2020-11-13       2020-12-28        2020-11-17   \n",
       "11931       VDP   2020-12-23       2020-12-29        2020-12-28   \n",
       "\n",
       "      DateEndExpected DateActionFrom DateActionTo                TypeName  \\\n",
       "1          2012-03-09     2012-01-10   2012-02-03            GD CD noi bo   \n",
       "2          2012-03-09     2012-01-09   2012-02-13            GD CD noi bo   \n",
       "7          2012-03-08     2012-02-08   2012-02-15            GD CD noi bo   \n",
       "8          2012-02-28     2012-02-16   2012-02-16            GD CD noi bo   \n",
       "9          2012-03-31     2012-02-10   2012-02-16            GD CD noi bo   \n",
       "...               ...            ...          ...                     ...   \n",
       "11907      2021-01-08     2020-12-14   2020-12-21  GD cua nguoi lien quan   \n",
       "11910      2020-12-22     2020-11-23   2020-12-22  GD cua nguoi lien quan   \n",
       "11911      2021-01-16     2020-12-23   2020-12-24  GD cua nguoi lien quan   \n",
       "11920      2020-12-15     2020-11-16   2020-12-15  GD cua nguoi lien quan   \n",
       "11931      2020-12-29     2020-12-28   2020-12-28  GD cua nguoi lien quan   \n",
       "\n",
       "       RegisterVolumeBefore  RegisterVolumeBeforePercent  ...   Ri_T1_3  \\\n",
       "1                    275206                     0.018272  ... -0.071429   \n",
       "2                   7742346                     0.032308  ... -0.052632   \n",
       "7                    310000                     0.031575  ... -0.065217   \n",
       "8                     23462                     0.000469  ... -0.013953   \n",
       "9                         0                     0.000000  ...  0.051724   \n",
       "...                     ...                          ...  ...       ...   \n",
       "11907              16104073                     0.349739  ...       NaN   \n",
       "11910               5066456                     0.083966  ... -0.013453   \n",
       "11911                235000                     0.003876  ...  0.068814   \n",
       "11920               2880000                     0.180000  ... -0.000000   \n",
       "11931               1826264                     0.113789  ... -0.028213   \n",
       "\n",
       "        Ri_T1_4   Ri_T1_5  Ri_T1_6  Ri_T1_7  Ri_T1_8  Ri_T1_9  Ri_T1_10  \\\n",
       "1     -0.017045       NaN      NaN      NaN      NaN      NaN       NaN   \n",
       "2     -0.038136       NaN      NaN      NaN      NaN      NaN       NaN   \n",
       "7     -0.062500       NaN      NaN      NaN      NaN      NaN       NaN   \n",
       "8     -0.027650       NaN      NaN      NaN      NaN      NaN       NaN   \n",
       "9     -0.000000       NaN      NaN      NaN      NaN      NaN       NaN   \n",
       "...         ...       ...      ...      ...      ...      ...       ...   \n",
       "11907       NaN       NaN      NaN      NaN      NaN      NaN       NaN   \n",
       "11910       NaN       NaN      NaN      NaN      NaN      NaN       NaN   \n",
       "11911 -0.139726 -0.138284      NaN      NaN      NaN      NaN       NaN   \n",
       "11920       NaN       NaN      NaN      NaN      NaN      NaN       NaN   \n",
       "11931 -0.000000       NaN      NaN      NaN      NaN      NaN       NaN   \n",
       "\n",
       "       Ri_T1_11   ret_buy  \n",
       "1           NaN -0.100239  \n",
       "2           NaN -0.081460  \n",
       "7           NaN -0.081711  \n",
       "8           NaN -0.050588  \n",
       "9           NaN  0.124475  \n",
       "...         ...       ...  \n",
       "11907       NaN  0.032590  \n",
       "11910       NaN  0.060759  \n",
       "11911       NaN -0.002009  \n",
       "11920       NaN  0.124031  \n",
       "11931       NaN -0.028203  \n",
       "\n",
       "[5286 rows x 45 columns]"
      ]
     },
     "execution_count": 6,
     "metadata": {},
     "output_type": "execute_result"
    }
   ],
   "source": [
    "df_new_buy['ret_buy'] = np.array(ret_buy)\n",
    "df_new_buy\n"
   ]
  },
  {
   "cell_type": "code",
   "execution_count": 7,
   "metadata": {},
   "outputs": [
    {
     "name": "stdout",
     "output_type": "stream",
     "text": [
      "Exchange\n",
      "HNX      0.008842\n",
      "HOSE     0.007281\n",
      "UPCOM   -0.000131\n",
      "Name: ret_buy, dtype: float64\n"
     ]
    }
   ],
   "source": [
    "print(df_new_buy.groupby('Exchange')['ret_buy'].mean())"
   ]
  },
  {
   "cell_type": "code",
   "execution_count": 8,
   "metadata": {},
   "outputs": [
    {
     "data": {
      "text/html": [
       "<div>\n",
       "<style scoped>\n",
       "    .dataframe tbody tr th:only-of-type {\n",
       "        vertical-align: middle;\n",
       "    }\n",
       "\n",
       "    .dataframe tbody tr th {\n",
       "        vertical-align: top;\n",
       "    }\n",
       "\n",
       "    .dataframe thead th {\n",
       "        text-align: right;\n",
       "    }\n",
       "</style>\n",
       "<table border=\"1\" class=\"dataframe\">\n",
       "  <thead>\n",
       "    <tr style=\"text-align: right;\">\n",
       "      <th></th>\n",
       "      <th>StockCode</th>\n",
       "      <th>RegisterDate</th>\n",
       "      <th>ResultReportDate</th>\n",
       "      <th>DateStartExpected</th>\n",
       "      <th>DateEndExpected</th>\n",
       "      <th>DateActionFrom</th>\n",
       "      <th>DateActionTo</th>\n",
       "      <th>TypeName</th>\n",
       "      <th>RegisterVolumeBefore</th>\n",
       "      <th>RegisterVolumeBeforePercent</th>\n",
       "      <th>...</th>\n",
       "      <th>Ri_T1_5</th>\n",
       "      <th>Ri_T1_6</th>\n",
       "      <th>Ri_T1_7</th>\n",
       "      <th>Ri_T1_8</th>\n",
       "      <th>Ri_T1_9</th>\n",
       "      <th>Ri_T1_10</th>\n",
       "      <th>Ri_T1_11</th>\n",
       "      <th>ret_buy</th>\n",
       "      <th>year</th>\n",
       "      <th>month</th>\n",
       "    </tr>\n",
       "  </thead>\n",
       "  <tbody>\n",
       "    <tr>\n",
       "      <th>1</th>\n",
       "      <td>DHA</td>\n",
       "      <td>2012-01-05</td>\n",
       "      <td>2012-02-06</td>\n",
       "      <td>2012-01-10</td>\n",
       "      <td>2012-03-09</td>\n",
       "      <td>2012-01-10</td>\n",
       "      <td>2012-02-03</td>\n",
       "      <td>GD CD noi bo</td>\n",
       "      <td>275206</td>\n",
       "      <td>0.018272</td>\n",
       "      <td>...</td>\n",
       "      <td>NaN</td>\n",
       "      <td>NaN</td>\n",
       "      <td>NaN</td>\n",
       "      <td>NaN</td>\n",
       "      <td>NaN</td>\n",
       "      <td>NaN</td>\n",
       "      <td>NaN</td>\n",
       "      <td>-0.100239</td>\n",
       "      <td>2012</td>\n",
       "      <td>1</td>\n",
       "    </tr>\n",
       "    <tr>\n",
       "      <th>2</th>\n",
       "      <td>REE</td>\n",
       "      <td>2012-01-04</td>\n",
       "      <td>2012-02-13</td>\n",
       "      <td>2012-01-09</td>\n",
       "      <td>2012-03-09</td>\n",
       "      <td>2012-01-09</td>\n",
       "      <td>2012-02-13</td>\n",
       "      <td>GD CD noi bo</td>\n",
       "      <td>7742346</td>\n",
       "      <td>0.032308</td>\n",
       "      <td>...</td>\n",
       "      <td>NaN</td>\n",
       "      <td>NaN</td>\n",
       "      <td>NaN</td>\n",
       "      <td>NaN</td>\n",
       "      <td>NaN</td>\n",
       "      <td>NaN</td>\n",
       "      <td>NaN</td>\n",
       "      <td>-0.081460</td>\n",
       "      <td>2012</td>\n",
       "      <td>1</td>\n",
       "    </tr>\n",
       "    <tr>\n",
       "      <th>7</th>\n",
       "      <td>PNC</td>\n",
       "      <td>2012-02-03</td>\n",
       "      <td>2012-02-17</td>\n",
       "      <td>2012-02-08</td>\n",
       "      <td>2012-03-08</td>\n",
       "      <td>2012-02-08</td>\n",
       "      <td>2012-02-15</td>\n",
       "      <td>GD CD noi bo</td>\n",
       "      <td>310000</td>\n",
       "      <td>0.031575</td>\n",
       "      <td>...</td>\n",
       "      <td>NaN</td>\n",
       "      <td>NaN</td>\n",
       "      <td>NaN</td>\n",
       "      <td>NaN</td>\n",
       "      <td>NaN</td>\n",
       "      <td>NaN</td>\n",
       "      <td>NaN</td>\n",
       "      <td>-0.081711</td>\n",
       "      <td>2012</td>\n",
       "      <td>2</td>\n",
       "    </tr>\n",
       "    <tr>\n",
       "      <th>8</th>\n",
       "      <td>LSS</td>\n",
       "      <td>2012-02-13</td>\n",
       "      <td>2012-02-17</td>\n",
       "      <td>2012-02-16</td>\n",
       "      <td>2012-02-28</td>\n",
       "      <td>2012-02-16</td>\n",
       "      <td>2012-02-16</td>\n",
       "      <td>GD CD noi bo</td>\n",
       "      <td>23462</td>\n",
       "      <td>0.000469</td>\n",
       "      <td>...</td>\n",
       "      <td>NaN</td>\n",
       "      <td>NaN</td>\n",
       "      <td>NaN</td>\n",
       "      <td>NaN</td>\n",
       "      <td>NaN</td>\n",
       "      <td>NaN</td>\n",
       "      <td>NaN</td>\n",
       "      <td>-0.050588</td>\n",
       "      <td>2012</td>\n",
       "      <td>2</td>\n",
       "    </tr>\n",
       "    <tr>\n",
       "      <th>9</th>\n",
       "      <td>DDM</td>\n",
       "      <td>2012-02-07</td>\n",
       "      <td>2012-02-20</td>\n",
       "      <td>2012-02-10</td>\n",
       "      <td>2012-03-31</td>\n",
       "      <td>2012-02-10</td>\n",
       "      <td>2012-02-16</td>\n",
       "      <td>GD CD noi bo</td>\n",
       "      <td>0</td>\n",
       "      <td>0.000000</td>\n",
       "      <td>...</td>\n",
       "      <td>NaN</td>\n",
       "      <td>NaN</td>\n",
       "      <td>NaN</td>\n",
       "      <td>NaN</td>\n",
       "      <td>NaN</td>\n",
       "      <td>NaN</td>\n",
       "      <td>NaN</td>\n",
       "      <td>0.124475</td>\n",
       "      <td>2012</td>\n",
       "      <td>2</td>\n",
       "    </tr>\n",
       "    <tr>\n",
       "      <th>...</th>\n",
       "      <td>...</td>\n",
       "      <td>...</td>\n",
       "      <td>...</td>\n",
       "      <td>...</td>\n",
       "      <td>...</td>\n",
       "      <td>...</td>\n",
       "      <td>...</td>\n",
       "      <td>...</td>\n",
       "      <td>...</td>\n",
       "      <td>...</td>\n",
       "      <td>...</td>\n",
       "      <td>...</td>\n",
       "      <td>...</td>\n",
       "      <td>...</td>\n",
       "      <td>...</td>\n",
       "      <td>...</td>\n",
       "      <td>...</td>\n",
       "      <td>...</td>\n",
       "      <td>...</td>\n",
       "      <td>...</td>\n",
       "      <td>...</td>\n",
       "    </tr>\n",
       "    <tr>\n",
       "      <th>11907</th>\n",
       "      <td>TVC</td>\n",
       "      <td>2020-12-11</td>\n",
       "      <td>2020-12-23</td>\n",
       "      <td>2020-12-14</td>\n",
       "      <td>2021-01-08</td>\n",
       "      <td>2020-12-14</td>\n",
       "      <td>2020-12-21</td>\n",
       "      <td>GD cua nguoi lien quan</td>\n",
       "      <td>16104073</td>\n",
       "      <td>0.349739</td>\n",
       "      <td>...</td>\n",
       "      <td>NaN</td>\n",
       "      <td>NaN</td>\n",
       "      <td>NaN</td>\n",
       "      <td>NaN</td>\n",
       "      <td>NaN</td>\n",
       "      <td>NaN</td>\n",
       "      <td>NaN</td>\n",
       "      <td>0.032590</td>\n",
       "      <td>2020</td>\n",
       "      <td>12</td>\n",
       "    </tr>\n",
       "    <tr>\n",
       "      <th>11910</th>\n",
       "      <td>PGC</td>\n",
       "      <td>2020-11-19</td>\n",
       "      <td>2020-12-24</td>\n",
       "      <td>2020-11-23</td>\n",
       "      <td>2020-12-22</td>\n",
       "      <td>2020-11-23</td>\n",
       "      <td>2020-12-22</td>\n",
       "      <td>GD cua nguoi lien quan</td>\n",
       "      <td>5066456</td>\n",
       "      <td>0.083966</td>\n",
       "      <td>...</td>\n",
       "      <td>NaN</td>\n",
       "      <td>NaN</td>\n",
       "      <td>NaN</td>\n",
       "      <td>NaN</td>\n",
       "      <td>NaN</td>\n",
       "      <td>NaN</td>\n",
       "      <td>NaN</td>\n",
       "      <td>0.060759</td>\n",
       "      <td>2020</td>\n",
       "      <td>11</td>\n",
       "    </tr>\n",
       "    <tr>\n",
       "      <th>11911</th>\n",
       "      <td>DTL</td>\n",
       "      <td>2020-12-11</td>\n",
       "      <td>2020-12-24</td>\n",
       "      <td>2020-12-17</td>\n",
       "      <td>2021-01-16</td>\n",
       "      <td>2020-12-23</td>\n",
       "      <td>2020-12-24</td>\n",
       "      <td>GD cua nguoi lien quan</td>\n",
       "      <td>235000</td>\n",
       "      <td>0.003876</td>\n",
       "      <td>...</td>\n",
       "      <td>-0.138284</td>\n",
       "      <td>NaN</td>\n",
       "      <td>NaN</td>\n",
       "      <td>NaN</td>\n",
       "      <td>NaN</td>\n",
       "      <td>NaN</td>\n",
       "      <td>NaN</td>\n",
       "      <td>-0.002009</td>\n",
       "      <td>2020</td>\n",
       "      <td>12</td>\n",
       "    </tr>\n",
       "    <tr>\n",
       "      <th>11920</th>\n",
       "      <td>CC4</td>\n",
       "      <td>2020-11-13</td>\n",
       "      <td>2020-12-28</td>\n",
       "      <td>2020-11-17</td>\n",
       "      <td>2020-12-15</td>\n",
       "      <td>2020-11-16</td>\n",
       "      <td>2020-12-15</td>\n",
       "      <td>GD cua nguoi lien quan</td>\n",
       "      <td>2880000</td>\n",
       "      <td>0.180000</td>\n",
       "      <td>...</td>\n",
       "      <td>NaN</td>\n",
       "      <td>NaN</td>\n",
       "      <td>NaN</td>\n",
       "      <td>NaN</td>\n",
       "      <td>NaN</td>\n",
       "      <td>NaN</td>\n",
       "      <td>NaN</td>\n",
       "      <td>0.124031</td>\n",
       "      <td>2020</td>\n",
       "      <td>11</td>\n",
       "    </tr>\n",
       "    <tr>\n",
       "      <th>11931</th>\n",
       "      <td>VDP</td>\n",
       "      <td>2020-12-23</td>\n",
       "      <td>2020-12-29</td>\n",
       "      <td>2020-12-28</td>\n",
       "      <td>2020-12-29</td>\n",
       "      <td>2020-12-28</td>\n",
       "      <td>2020-12-28</td>\n",
       "      <td>GD cua nguoi lien quan</td>\n",
       "      <td>1826264</td>\n",
       "      <td>0.113789</td>\n",
       "      <td>...</td>\n",
       "      <td>NaN</td>\n",
       "      <td>NaN</td>\n",
       "      <td>NaN</td>\n",
       "      <td>NaN</td>\n",
       "      <td>NaN</td>\n",
       "      <td>NaN</td>\n",
       "      <td>NaN</td>\n",
       "      <td>-0.028203</td>\n",
       "      <td>2020</td>\n",
       "      <td>12</td>\n",
       "    </tr>\n",
       "  </tbody>\n",
       "</table>\n",
       "<p>5286 rows × 47 columns</p>\n",
       "</div>"
      ],
      "text/plain": [
       "      StockCode RegisterDate ResultReportDate DateStartExpected  \\\n",
       "1           DHA   2012-01-05       2012-02-06        2012-01-10   \n",
       "2           REE   2012-01-04       2012-02-13        2012-01-09   \n",
       "7           PNC   2012-02-03       2012-02-17        2012-02-08   \n",
       "8           LSS   2012-02-13       2012-02-17        2012-02-16   \n",
       "9           DDM   2012-02-07       2012-02-20        2012-02-10   \n",
       "...         ...          ...              ...               ...   \n",
       "11907       TVC   2020-12-11       2020-12-23        2020-12-14   \n",
       "11910       PGC   2020-11-19       2020-12-24        2020-11-23   \n",
       "11911       DTL   2020-12-11       2020-12-24        2020-12-17   \n",
       "11920       CC4   2020-11-13       2020-12-28        2020-11-17   \n",
       "11931       VDP   2020-12-23       2020-12-29        2020-12-28   \n",
       "\n",
       "      DateEndExpected DateActionFrom DateActionTo                TypeName  \\\n",
       "1          2012-03-09     2012-01-10   2012-02-03            GD CD noi bo   \n",
       "2          2012-03-09     2012-01-09   2012-02-13            GD CD noi bo   \n",
       "7          2012-03-08     2012-02-08   2012-02-15            GD CD noi bo   \n",
       "8          2012-02-28     2012-02-16   2012-02-16            GD CD noi bo   \n",
       "9          2012-03-31     2012-02-10   2012-02-16            GD CD noi bo   \n",
       "...               ...            ...          ...                     ...   \n",
       "11907      2021-01-08     2020-12-14   2020-12-21  GD cua nguoi lien quan   \n",
       "11910      2020-12-22     2020-11-23   2020-12-22  GD cua nguoi lien quan   \n",
       "11911      2021-01-16     2020-12-23   2020-12-24  GD cua nguoi lien quan   \n",
       "11920      2020-12-15     2020-11-16   2020-12-15  GD cua nguoi lien quan   \n",
       "11931      2020-12-29     2020-12-28   2020-12-28  GD cua nguoi lien quan   \n",
       "\n",
       "       RegisterVolumeBefore  RegisterVolumeBeforePercent  ...   Ri_T1_5  \\\n",
       "1                    275206                     0.018272  ...       NaN   \n",
       "2                   7742346                     0.032308  ...       NaN   \n",
       "7                    310000                     0.031575  ...       NaN   \n",
       "8                     23462                     0.000469  ...       NaN   \n",
       "9                         0                     0.000000  ...       NaN   \n",
       "...                     ...                          ...  ...       ...   \n",
       "11907              16104073                     0.349739  ...       NaN   \n",
       "11910               5066456                     0.083966  ...       NaN   \n",
       "11911                235000                     0.003876  ... -0.138284   \n",
       "11920               2880000                     0.180000  ...       NaN   \n",
       "11931               1826264                     0.113789  ...       NaN   \n",
       "\n",
       "       Ri_T1_6  Ri_T1_7  Ri_T1_8  Ri_T1_9  Ri_T1_10  Ri_T1_11   ret_buy  year  \\\n",
       "1          NaN      NaN      NaN      NaN       NaN       NaN -0.100239  2012   \n",
       "2          NaN      NaN      NaN      NaN       NaN       NaN -0.081460  2012   \n",
       "7          NaN      NaN      NaN      NaN       NaN       NaN -0.081711  2012   \n",
       "8          NaN      NaN      NaN      NaN       NaN       NaN -0.050588  2012   \n",
       "9          NaN      NaN      NaN      NaN       NaN       NaN  0.124475  2012   \n",
       "...        ...      ...      ...      ...       ...       ...       ...   ...   \n",
       "11907      NaN      NaN      NaN      NaN       NaN       NaN  0.032590  2020   \n",
       "11910      NaN      NaN      NaN      NaN       NaN       NaN  0.060759  2020   \n",
       "11911      NaN      NaN      NaN      NaN       NaN       NaN -0.002009  2020   \n",
       "11920      NaN      NaN      NaN      NaN       NaN       NaN  0.124031  2020   \n",
       "11931      NaN      NaN      NaN      NaN       NaN       NaN -0.028203  2020   \n",
       "\n",
       "       month  \n",
       "1          1  \n",
       "2          1  \n",
       "7          2  \n",
       "8          2  \n",
       "9          2  \n",
       "...      ...  \n",
       "11907     12  \n",
       "11910     11  \n",
       "11911     12  \n",
       "11920     11  \n",
       "11931     12  \n",
       "\n",
       "[5286 rows x 47 columns]"
      ]
     },
     "execution_count": 8,
     "metadata": {},
     "output_type": "execute_result"
    }
   ],
   "source": [
    "df_new_buy['year']=df_new_buy['RegisterDate'].dt.year\n",
    "df_new_buy['month']=df_new_buy['RegisterDate'].dt.month\n",
    "\n",
    "df_new_buy"
   ]
  },
  {
   "cell_type": "code",
   "execution_count": 9,
   "metadata": {},
   "outputs": [
    {
     "data": {
      "text/plain": [
       "(6194553.5, 1.411302788760916e-10)"
      ]
     },
     "execution_count": 9,
     "metadata": {},
     "output_type": "execute_result"
    }
   ],
   "source": [
    "import scipy\n",
    "\n",
    "from scipy.stats import wilcoxon\n",
    "\n",
    "w, p = wilcoxon(df_new_buy['ret_buy'], alternative='greater')\n",
    "w, p"
   ]
  },
  {
   "cell_type": "code",
   "execution_count": 10,
   "metadata": {},
   "outputs": [
    {
     "data": {
      "text/plain": [
       "6.414667786387345"
      ]
     },
     "execution_count": 10,
     "metadata": {},
     "output_type": "execute_result"
    }
   ],
   "source": [
    "from scipy import stats\n",
    "stats.norm.isf(p/2)"
   ]
  },
  {
   "cell_type": "code",
   "execution_count": 11,
   "metadata": {},
   "outputs": [],
   "source": [
    "import scipy.integrate \n",
    "from scipy.stats import norm\n",
    "from scipy import stats"
   ]
  },
  {
   "cell_type": "code",
   "execution_count": 12,
   "metadata": {},
   "outputs": [
    {
     "data": {
      "text/plain": [
       "(29715.0, 0.0002925638682572916, -3.4384161417430916, 0.00956666405730712)"
      ]
     },
     "execution_count": 12,
     "metadata": {},
     "output_type": "execute_result"
    }
   ],
   "source": [
    "df_VNI_12 = df_new_buy[(df_new_buy['Exchange']=='HOSE')&(df_new_buy['year']==2012)]\n",
    "\n",
    "w_VNI_12, p_VNI_12 = wilcoxon(df_VNI_12['ret_buy'], alternative='greater')\n",
    "w_VNI_12, p_VNI_12, norm.ppf(p_VNI_12), df_VNI_12['ret_buy'].median()"
   ]
  },
  {
   "cell_type": "code",
   "execution_count": 13,
   "metadata": {},
   "outputs": [
    {
     "data": {
      "text/plain": [
       "(19011.0, 0.02062670203474014, -2.0409740746594354, 0.012845849802371342)"
      ]
     },
     "execution_count": 13,
     "metadata": {},
     "output_type": "execute_result"
    }
   ],
   "source": [
    "df_VNI_13 = df_new_buy[(df_new_buy['Exchange']=='HOSE')&(df_new_buy['year']==2013)]\n",
    "\n",
    "w_VNI_13, p_VNI_13 = wilcoxon(df_VNI_13['ret_buy'], alternative='greater')\n",
    "w_VNI_13, p_VNI_13, norm.ppf(p_VNI_13), df_VNI_13['ret_buy'].median()"
   ]
  },
  {
   "cell_type": "code",
   "execution_count": 14,
   "metadata": {},
   "outputs": [
    {
     "data": {
      "text/plain": [
       "(19244.0, 0.0789039970727779, -1.4124823156535973, 0.0028492275172594668)"
      ]
     },
     "execution_count": 14,
     "metadata": {},
     "output_type": "execute_result"
    }
   ],
   "source": [
    "df_VNI_14 = df_new_buy[(df_new_buy['Exchange']=='HOSE')&(df_new_buy['year']==2014)]\n",
    "\n",
    "w_VNI_14, p_VNI_14 = wilcoxon(df_VNI_14['ret_buy'], alternative='greater')\n",
    "w_VNI_14, p_VNI_14, norm.ppf(p_VNI_14), df_VNI_14['ret_buy'].median()"
   ]
  },
  {
   "cell_type": "code",
   "execution_count": 15,
   "metadata": {},
   "outputs": [
    {
     "data": {
      "text/plain": [
       "(17959.5, 0.2395407192828481, -0.7077807239912438, 0.0037555428022627594)"
      ]
     },
     "execution_count": 15,
     "metadata": {},
     "output_type": "execute_result"
    }
   ],
   "source": [
    "df_VNI_15 = df_new_buy[(df_new_buy['Exchange']=='HOSE')&(df_new_buy['year']==2015)]\n",
    "\n",
    "w_VNI_15, p_VNI_15 = wilcoxon(df_VNI_15['ret_buy'], alternative='greater')\n",
    "w_VNI_15, p_VNI_15, norm.ppf(p_VNI_15), df_VNI_15['ret_buy'].median()"
   ]
  },
  {
   "cell_type": "code",
   "execution_count": 16,
   "metadata": {},
   "outputs": [
    {
     "data": {
      "text/plain": [
       "(27178.0, 0.0016084331322203003, -2.9462170075343743, 0.01084084384544721)"
      ]
     },
     "execution_count": 16,
     "metadata": {},
     "output_type": "execute_result"
    }
   ],
   "source": [
    "df_VNI_16 = df_new_buy[(df_new_buy['Exchange']=='HOSE')&(df_new_buy['year']==2016)]\n",
    "\n",
    "w_VNI_16, p_VNI_16 = wilcoxon(df_VNI_16['ret_buy'], alternative='greater')\n",
    "w_VNI_16, p_VNI_16, norm.ppf(p_VNI_16), df_VNI_16['ret_buy'].median()"
   ]
  },
  {
   "cell_type": "code",
   "execution_count": 17,
   "metadata": {},
   "outputs": [
    {
     "data": {
      "text/plain": [
       "(31915.0, 0.06491924712803458, -1.5147390768885614, 0.0012992725204097888)"
      ]
     },
     "execution_count": 17,
     "metadata": {},
     "output_type": "execute_result"
    }
   ],
   "source": [
    "df_VNI_17 = df_new_buy[(df_new_buy['Exchange']=='HOSE')&(df_new_buy['year']==2017)]\n",
    "\n",
    "w_VNI_17, p_VNI_17 = wilcoxon(df_VNI_17['ret_buy'], alternative='greater')\n",
    "w_VNI_17, p_VNI_17, norm.ppf(p_VNI_17), df_VNI_17['ret_buy'].median()"
   ]
  },
  {
   "cell_type": "code",
   "execution_count": 18,
   "metadata": {},
   "outputs": [
    {
     "data": {
      "text/plain": [
       "(59193.0, 0.11063646617341227, -1.2231503023876318, 0.0030693109961403807)"
      ]
     },
     "execution_count": 18,
     "metadata": {},
     "output_type": "execute_result"
    }
   ],
   "source": [
    "df_VNI_18 = df_new_buy[(df_new_buy['Exchange']=='HOSE')&(df_new_buy['year']==2018)]\n",
    "\n",
    "w_VNI_18, p_VNI_18 = wilcoxon(df_VNI_18['ret_buy'], alternative='greater')\n",
    "w_VNI_18, p_VNI_18, norm.ppf(p_VNI_18), df_VNI_18['ret_buy'].median()"
   ]
  },
  {
   "cell_type": "code",
   "execution_count": 19,
   "metadata": {},
   "outputs": [
    {
     "data": {
      "text/plain": [
       "(66340.5, 0.029326128449541494, -1.8907909413333448, 0.005514705882352922)"
      ]
     },
     "execution_count": 19,
     "metadata": {},
     "output_type": "execute_result"
    }
   ],
   "source": [
    "df_VNI_19 = df_new_buy[(df_new_buy['Exchange']=='HOSE')&(df_new_buy['year']==2019)]\n",
    "\n",
    "w_VNI_19, p_VNI_19 = wilcoxon(df_VNI_19['ret_buy'], alternative='greater')\n",
    "w_VNI_19, p_VNI_19, norm.ppf(p_VNI_19), df_VNI_19['ret_buy'].median()"
   ]
  },
  {
   "cell_type": "code",
   "execution_count": 20,
   "metadata": {},
   "outputs": [
    {
     "data": {
      "text/plain": [
       "(59536.0, 0.2751631501058944, -0.5972712437701705, 0.0020813119791577295)"
      ]
     },
     "execution_count": 20,
     "metadata": {},
     "output_type": "execute_result"
    }
   ],
   "source": [
    "df_VNI_20 = df_new_buy[(df_new_buy['Exchange']=='HOSE')&(df_new_buy['year']==2020)]\n",
    "\n",
    "w_VNI_20, p_VNI_20 = wilcoxon(df_VNI_20['ret_buy'], alternative='greater')\n",
    "w_VNI_20, p_VNI_20, norm.ppf(p_VNI_20), df_VNI_20['ret_buy'].median()"
   ]
  },
  {
   "cell_type": "code",
   "execution_count": 21,
   "metadata": {},
   "outputs": [
    {
     "data": {
      "text/plain": [
       "(398.0, 0.4555544340233111, -0.1116399833447112, 0.0)"
      ]
     },
     "execution_count": 21,
     "metadata": {},
     "output_type": "execute_result"
    }
   ],
   "source": [
    "df_HNX_12 = df_new_buy[(df_new_buy['Exchange']=='HNX')&(df_new_buy['year']==2012)]\n",
    "\n",
    "w_HNX_12, p_HNX_12 = wilcoxon(df_HNX_12['ret_buy'], alternative='greater')\n",
    "w_HNX_12, p_HNX_12, norm.ppf(p_HNX_12), df_HNX_12['ret_buy'].median()"
   ]
  },
  {
   "cell_type": "code",
   "execution_count": 22,
   "metadata": {},
   "outputs": [
    {
     "data": {
      "text/plain": [
       "(1963.0, 0.07718490248250763, -1.4242648968995808, 0.0019762845849798927)"
      ]
     },
     "execution_count": 22,
     "metadata": {},
     "output_type": "execute_result"
    }
   ],
   "source": [
    "df_HNX_13 = df_new_buy[(df_new_buy['Exchange']=='HNX')&(df_new_buy['year']==2013)]\n",
    "\n",
    "w_HNX_13, p_HNX_13 = wilcoxon(df_HNX_13['ret_buy'], alternative='greater')\n",
    "w_HNX_13, p_HNX_13, norm.ppf(p_HNX_13), df_HNX_13['ret_buy'].median()"
   ]
  },
  {
   "cell_type": "code",
   "execution_count": 23,
   "metadata": {},
   "outputs": [
    {
     "data": {
      "text/plain": [
       "(6728.0, 0.006338653079395924, -2.492707978903416, 0.0059007703821699654)"
      ]
     },
     "execution_count": 23,
     "metadata": {},
     "output_type": "execute_result"
    }
   ],
   "source": [
    "df_HNX_14 = df_new_buy[(df_new_buy['Exchange']=='HNX')&(df_new_buy['year']==2014)]\n",
    "\n",
    "w_HNX_14, p_HNX_14 = wilcoxon(df_HNX_14['ret_buy'], alternative='greater')\n",
    "w_HNX_14, p_HNX_14, norm.ppf(p_HNX_14), df_HNX_14['ret_buy'].median()"
   ]
  },
  {
   "cell_type": "code",
   "execution_count": 24,
   "metadata": {},
   "outputs": [
    {
     "data": {
      "text/plain": [
       "(9316.0, 0.0007174817869959375, -3.187524385548697, 0.015384615384615385)"
      ]
     },
     "execution_count": 24,
     "metadata": {},
     "output_type": "execute_result"
    }
   ],
   "source": [
    "df_HNX_15 = df_new_buy[(df_new_buy['Exchange']=='HNX')&(df_new_buy['year']==2015)]\n",
    "\n",
    "w_HNX_15, p_HNX_15 = wilcoxon(df_HNX_15['ret_buy'], alternative='greater')\n",
    "w_HNX_15, p_HNX_15, norm.ppf(p_HNX_15), df_HNX_15['ret_buy'].median()"
   ]
  },
  {
   "cell_type": "code",
   "execution_count": 25,
   "metadata": {},
   "outputs": [
    {
     "data": {
      "text/plain": [
       "(3771.0, 0.8708884886473336, 1.1306011038510215, 0.0)"
      ]
     },
     "execution_count": 25,
     "metadata": {},
     "output_type": "execute_result"
    }
   ],
   "source": [
    "df_HNX_16 = df_new_buy[(df_new_buy['Exchange']=='HNX')&(df_new_buy['year']==2016)]\n",
    "\n",
    "w_HNX_16, p_HNX_16 = wilcoxon(df_HNX_16['ret_buy'], alternative='greater')\n",
    "w_HNX_16, p_HNX_16, norm.ppf(p_HNX_16), df_HNX_16['ret_buy'].median()"
   ]
  },
  {
   "cell_type": "code",
   "execution_count": 26,
   "metadata": {},
   "outputs": [
    {
     "data": {
      "text/plain": [
       "(2577.0, 0.18143065516594936, -0.9099264296378152, 0.0)"
      ]
     },
     "execution_count": 26,
     "metadata": {},
     "output_type": "execute_result"
    }
   ],
   "source": [
    "df_HNX_17 = df_new_buy[(df_new_buy['Exchange']=='HNX')&(df_new_buy['year']==2017)]\n",
    "\n",
    "w_HNX_17, p_HNX_17 = wilcoxon(df_HNX_17['ret_buy'], alternative='greater')\n",
    "w_HNX_17, p_HNX_17, norm.ppf(p_HNX_17), df_HNX_17['ret_buy'].median()"
   ]
  },
  {
   "cell_type": "code",
   "execution_count": 27,
   "metadata": {},
   "outputs": [
    {
     "data": {
      "text/plain": [
       "(1428.0, 0.6455023787874612, 0.37320585016024543, 0.0)"
      ]
     },
     "execution_count": 27,
     "metadata": {},
     "output_type": "execute_result"
    }
   ],
   "source": [
    "df_HNX_18 = df_new_buy[(df_new_buy['Exchange']=='HNX')&(df_new_buy['year']==2018)]\n",
    "\n",
    "w_HNX_18, p_HNX_18 = wilcoxon(df_HNX_18['ret_buy'], alternative='greater')\n",
    "w_HNX_18, p_HNX_18, norm.ppf(p_HNX_18), df_HNX_18['ret_buy'].median()"
   ]
  },
  {
   "cell_type": "code",
   "execution_count": 28,
   "metadata": {},
   "outputs": [
    {
     "data": {
      "text/plain": [
       "(2793.0, 0.04463294718414627, -1.6992828924315828, 0.00018342370385057748)"
      ]
     },
     "execution_count": 28,
     "metadata": {},
     "output_type": "execute_result"
    }
   ],
   "source": [
    "df_HNX_19 = df_new_buy[(df_new_buy['Exchange']=='HNX')&(df_new_buy['year']==2019)]\n",
    "\n",
    "w_HNX_19, p_HNX_19 = wilcoxon(df_HNX_19['ret_buy'], alternative='greater')\n",
    "w_HNX_19, p_HNX_19, norm.ppf(p_HNX_19), df_HNX_19['ret_buy'].median()"
   ]
  },
  {
   "cell_type": "code",
   "execution_count": 29,
   "metadata": {},
   "outputs": [
    {
     "data": {
      "text/plain": [
       "(2353.0, 0.005651615790629005, -2.533181789242572, 0.0026402254725575174)"
      ]
     },
     "execution_count": 29,
     "metadata": {},
     "output_type": "execute_result"
    }
   ],
   "source": [
    "df_HNX_20 = df_new_buy[(df_new_buy['Exchange']=='HNX')&(df_new_buy['year']==2020)]\n",
    "\n",
    "w_HNX_20, p_HNX_20 = wilcoxon(df_HNX_20['ret_buy'], alternative='greater')\n",
    "w_HNX_20, p_HNX_20, norm.ppf(p_HNX_20), df_HNX_20['ret_buy'].median()"
   ]
  },
  {
   "cell_type": "code",
   "execution_count": 30,
   "metadata": {},
   "outputs": [
    {
     "data": {
      "text/plain": [
       "(1717.0, 0.842017874814902, 1.0027857404453375, 0.0)"
      ]
     },
     "execution_count": 30,
     "metadata": {},
     "output_type": "execute_result"
    }
   ],
   "source": [
    "df_UPCOM_16 = df_new_buy[(df_new_buy['Exchange']=='UPCOM')&(df_new_buy['year']==2016)]\n",
    "\n",
    "w_UPCOM_16, p_UPCOM_16 = wilcoxon(df_UPCOM_16['ret_buy'], alternative='greater')\n",
    "w_UPCOM_16, p_UPCOM_16, norm.ppf(p_UPCOM_16), df_UPCOM_16['ret_buy'].median()"
   ]
  },
  {
   "cell_type": "code",
   "execution_count": 31,
   "metadata": {},
   "outputs": [
    {
     "data": {
      "text/plain": [
       "(4177.0, 0.39284647573525494, -0.27190775074108514, 0.0)"
      ]
     },
     "execution_count": 31,
     "metadata": {},
     "output_type": "execute_result"
    }
   ],
   "source": [
    "df_UPCOM_17 = df_new_buy[(df_new_buy['Exchange']=='UPCOM')&(df_new_buy['year']==2017)]\n",
    "\n",
    "w_UPCOM_17, p_UPCOM_17 = wilcoxon(df_UPCOM_17['ret_buy'], alternative='greater')\n",
    "w_UPCOM_17, p_UPCOM_17, norm.ppf(p_UPCOM_17), df_UPCOM_17['ret_buy'].median()"
   ]
  },
  {
   "cell_type": "code",
   "execution_count": 32,
   "metadata": {},
   "outputs": [
    {
     "data": {
      "text/plain": [
       "(3118.0, 0.7756583686054891, 0.7576120524602876, 0.0)"
      ]
     },
     "execution_count": 32,
     "metadata": {},
     "output_type": "execute_result"
    }
   ],
   "source": [
    "df_UPCOM_18 = df_new_buy[(df_new_buy['Exchange']=='UPCOM')&(df_new_buy['year']==2018)]\n",
    "\n",
    "w_UPCOM_18, p_UPCOM_18 = wilcoxon(df_UPCOM_18['ret_buy'], alternative='greater')\n",
    "w_UPCOM_18, p_UPCOM_18, norm.ppf(p_UPCOM_18), df_UPCOM_18['ret_buy'].median()"
   ]
  },
  {
   "cell_type": "code",
   "execution_count": 33,
   "metadata": {},
   "outputs": [
    {
     "data": {
      "text/plain": [
       "(3512.0, 0.05991436158079545, -1.5554929044531878, 0.0)"
      ]
     },
     "execution_count": 33,
     "metadata": {},
     "output_type": "execute_result"
    }
   ],
   "source": [
    "df_UPCOM_19 = df_new_buy[(df_new_buy['Exchange']=='UPCOM')&(df_new_buy['year']==2019)]\n",
    "\n",
    "w_UPCOM_19, p_UPCOM_19 = wilcoxon(df_UPCOM_19['ret_buy'], alternative='greater')\n",
    "w_UPCOM_19, p_UPCOM_19, norm.ppf(p_UPCOM_19), df_UPCOM_19['ret_buy'].median()"
   ]
  },
  {
   "cell_type": "code",
   "execution_count": 34,
   "metadata": {},
   "outputs": [
    {
     "data": {
      "text/plain": [
       "(4050.0, 0.022998336346498553, -1.995423842381571, 0.0)"
      ]
     },
     "execution_count": 34,
     "metadata": {},
     "output_type": "execute_result"
    }
   ],
   "source": [
    "df_UPCOM_20 = df_new_buy[(df_new_buy['Exchange']=='UPCOM')&(df_new_buy['year']==2020)]\n",
    "\n",
    "w_UPCOM_20, p_UPCOM_20 = wilcoxon(df_UPCOM_20['ret_buy'], alternative='greater')\n",
    "w_UPCOM_20, p_UPCOM_20, norm.ppf(p_UPCOM_20), df_UPCOM_20['ret_buy'].median()"
   ]
  },
  {
   "cell_type": "code",
   "execution_count": 35,
   "metadata": {},
   "outputs": [
    {
     "data": {
      "text/plain": [
       "(3.955862399127972,\n",
       " 4.722073179473859e-05,\n",
       " 0.01900179056687967,\n",
       " 0.08498172046685024)"
      ]
     },
     "execution_count": 35,
     "metadata": {},
     "output_type": "execute_result"
    }
   ],
   "source": [
    "tstat_VNI_12, pval_VNI_12 = scipy.stats.ttest_1samp(df_VNI_12['ret_buy'],0, alternative='greater')\n",
    "tstat_VNI_12, pval_VNI_12, df_VNI_12['ret_buy'].mean(), df_VNI_12['ret_buy'].std()"
   ]
  },
  {
   "cell_type": "code",
   "execution_count": 36,
   "metadata": {},
   "outputs": [
    {
     "data": {
      "text/plain": [
       "(1.6792232604061015,\n",
       " 0.047159561597250904,\n",
       " 0.011862815505712108,\n",
       " 0.11369181947356592)"
      ]
     },
     "execution_count": 36,
     "metadata": {},
     "output_type": "execute_result"
    }
   ],
   "source": [
    "tstat_VNI_13, pval_VNI_13 = scipy.stats.ttest_1samp(df_VNI_13['ret_buy'],0, alternative='greater')\n",
    "tstat_VNI_13, pval_VNI_13, df_VNI_13['ret_buy'].mean(), df_VNI_13['ret_buy'].std()"
   ]
  },
  {
   "cell_type": "code",
   "execution_count": 37,
   "metadata": {},
   "outputs": [
    {
     "data": {
      "text/plain": [
       "(1.890018984503674,\n",
       " 0.029923336389425764,\n",
       " 0.010686624369432947,\n",
       " 0.09221789320663276)"
      ]
     },
     "execution_count": 37,
     "metadata": {},
     "output_type": "execute_result"
    }
   ],
   "source": [
    "tstat_VNI_14, pval_VNI_14 = scipy.stats.ttest_1samp(df_VNI_14['ret_buy'],0, alternative='greater')\n",
    "tstat_VNI_14, pval_VNI_14, df_VNI_14['ret_buy'].mean(), df_VNI_14['ret_buy'].std()"
   ]
  },
  {
   "cell_type": "code",
   "execution_count": 38,
   "metadata": {},
   "outputs": [
    {
     "data": {
      "text/plain": [
       "(-0.520403193740559,\n",
       " 0.6983898059502316,\n",
       " -0.0025592180783883508,\n",
       " 0.07990414434324476)"
      ]
     },
     "execution_count": 38,
     "metadata": {},
     "output_type": "execute_result"
    }
   ],
   "source": [
    "tstat_VNI_15, pval_VNI_15 = scipy.stats.ttest_1samp(df_VNI_15['ret_buy'],0, alternative='greater')\n",
    "tstat_VNI_15, pval_VNI_15, df_VNI_15['ret_buy'].mean(), df_VNI_15['ret_buy'].std()"
   ]
  },
  {
   "cell_type": "code",
   "execution_count": 39,
   "metadata": {},
   "outputs": [
    {
     "data": {
      "text/plain": [
       "(2.5364669018106376,\n",
       " 0.005851478391109072,\n",
       " 0.012906782419954197,\n",
       " 0.0884285005151384)"
      ]
     },
     "execution_count": 39,
     "metadata": {},
     "output_type": "execute_result"
    }
   ],
   "source": [
    "tstat_VNI_16, pval_VNI_16 = scipy.stats.ttest_1samp(df_VNI_16['ret_buy'],0, alternative='greater')\n",
    "tstat_VNI_16, pval_VNI_16, df_VNI_16['ret_buy'].mean(), df_VNI_16['ret_buy'].std()"
   ]
  },
  {
   "cell_type": "code",
   "execution_count": 40,
   "metadata": {},
   "outputs": [
    {
     "data": {
      "text/plain": [
       "(1.574174947238428,\n",
       " 0.05818579906912274,\n",
       " 0.007264930561631899,\n",
       " 0.08547232767466773)"
      ]
     },
     "execution_count": 40,
     "metadata": {},
     "output_type": "execute_result"
    }
   ],
   "source": [
    "tstat_VNI_17, pval_VNI_17 = scipy.stats.ttest_1samp(df_VNI_17['ret_buy'],0, alternative='greater')\n",
    "tstat_VNI_17, pval_VNI_17, df_VNI_17['ret_buy'].mean(), df_VNI_17['ret_buy'].std()"
   ]
  },
  {
   "cell_type": "code",
   "execution_count": 41,
   "metadata": {},
   "outputs": [
    {
     "data": {
      "text/plain": [
       "(1.2924927011927092,\n",
       " 0.09840681413595448,\n",
       " 0.004639753643253481,\n",
       " 0.07840179604319188)"
      ]
     },
     "execution_count": 41,
     "metadata": {},
     "output_type": "execute_result"
    }
   ],
   "source": [
    "tstat_VNI_18, pval_VNI_18 = scipy.stats.ttest_1samp(df_VNI_18['ret_buy'],0, alternative='greater')\n",
    "tstat_VNI_18, pval_VNI_18, df_VNI_18['ret_buy'].mean(), df_VNI_18['ret_buy'].std()"
   ]
  },
  {
   "cell_type": "code",
   "execution_count": 42,
   "metadata": {},
   "outputs": [
    {
     "data": {
      "text/plain": [
       "(1.938415655693047,\n",
       " 0.026572078196253256,\n",
       " 0.007245198362986386,\n",
       " 0.0829902038244758)"
      ]
     },
     "execution_count": 42,
     "metadata": {},
     "output_type": "execute_result"
    }
   ],
   "source": [
    "tstat_VNI_19, pval_VNI_19 = scipy.stats.ttest_1samp(df_VNI_19['ret_buy'],0, alternative='greater')\n",
    "tstat_VNI_19, pval_VNI_19, df_VNI_19['ret_buy'].mean(), df_VNI_19['ret_buy'].std()"
   ]
  },
  {
   "cell_type": "code",
   "execution_count": 43,
   "metadata": {},
   "outputs": [
    {
     "data": {
      "text/plain": [
       "(-0.020797529290348792,\n",
       " 0.5082921302088194,\n",
       " -9.810564558845907e-05,\n",
       " 0.10388506711752944)"
      ]
     },
     "execution_count": 43,
     "metadata": {},
     "output_type": "execute_result"
    }
   ],
   "source": [
    "tstat_VNI_20, pval_VNI_20 = scipy.stats.ttest_1samp(df_VNI_20['ret_buy'],0, alternative='greater')\n",
    "tstat_VNI_20, pval_VNI_20, df_VNI_20['ret_buy'].mean(), df_VNI_20['ret_buy'].std()"
   ]
  },
  {
   "cell_type": "code",
   "execution_count": 44,
   "metadata": {},
   "outputs": [
    {
     "data": {
      "text/plain": [
       "(1.1446178127281799,\n",
       " 0.12773560620521007,\n",
       " 0.010954631867936056,\n",
       " 0.09028846939260157)"
      ]
     },
     "execution_count": 44,
     "metadata": {},
     "output_type": "execute_result"
    }
   ],
   "source": [
    "tstat_HNX_13, pval_HNX_13 = scipy.stats.ttest_1samp(df_HNX_13['ret_buy'],0, alternative='greater')\n",
    "tstat_HNX_13, pval_HNX_13, df_HNX_13['ret_buy'].mean(), df_HNX_13['ret_buy'].std()"
   ]
  },
  {
   "cell_type": "code",
   "execution_count": 45,
   "metadata": {},
   "outputs": [
    {
     "data": {
      "text/plain": [
       "(2.9198200433114536,\n",
       " 0.0020107233459180666,\n",
       " 0.028756907840636444,\n",
       " 0.12340590074962524)"
      ]
     },
     "execution_count": 45,
     "metadata": {},
     "output_type": "execute_result"
    }
   ],
   "source": [
    "tstat_HNX_14, pval_HNX_14 = scipy.stats.ttest_1samp(df_HNX_14['ret_buy'],0, alternative='greater')\n",
    "tstat_HNX_14, pval_HNX_14, df_HNX_14['ret_buy'].mean(), df_HNX_14['ret_buy'].std()"
   ]
  },
  {
   "cell_type": "code",
   "execution_count": 46,
   "metadata": {},
   "outputs": [
    {
     "data": {
      "text/plain": [
       "(1.8533001480924673,\n",
       " 0.03268289559886337,\n",
       " 0.01341165246755952,\n",
       " 0.100794630162358)"
      ]
     },
     "execution_count": 46,
     "metadata": {},
     "output_type": "execute_result"
    }
   ],
   "source": [
    "tstat_HNX_15, pval_HNX_15 = scipy.stats.ttest_1samp(df_HNX_15['ret_buy'],0, alternative='greater')\n",
    "tstat_HNX_15, pval_HNX_15, df_HNX_15['ret_buy'].mean(), df_HNX_15['ret_buy'].std()"
   ]
  },
  {
   "cell_type": "code",
   "execution_count": 47,
   "metadata": {},
   "outputs": [
    {
     "data": {
      "text/plain": [
       "(-1.7972992643112249,\n",
       " 0.9628081390777941,\n",
       " -0.02448858199069507,\n",
       " 0.1640692688173281)"
      ]
     },
     "execution_count": 47,
     "metadata": {},
     "output_type": "execute_result"
    }
   ],
   "source": [
    "tstat_HNX_16, pval_HNX_16 = scipy.stats.ttest_1samp(df_HNX_16['ret_buy'],0, alternative='greater')\n",
    "tstat_HNX_16, pval_HNX_16, df_HNX_16['ret_buy'].mean(), df_HNX_16['ret_buy'].std()"
   ]
  },
  {
   "cell_type": "code",
   "execution_count": 48,
   "metadata": {},
   "outputs": [
    {
     "data": {
      "text/plain": [
       "(0.846882589701454,\n",
       " 0.19939475367025639,\n",
       " 0.008254986995732704,\n",
       " 0.10588493940342804)"
      ]
     },
     "execution_count": 48,
     "metadata": {},
     "output_type": "execute_result"
    }
   ],
   "source": [
    "tstat_HNX_17, pval_HNX_17 = scipy.stats.ttest_1samp(df_HNX_17['ret_buy'],0, alternative='greater')\n",
    "tstat_HNX_17, pval_HNX_17, df_HNX_17['ret_buy'].mean(), df_HNX_17['ret_buy'].std()"
   ]
  },
  {
   "cell_type": "code",
   "execution_count": 49,
   "metadata": {},
   "outputs": [
    {
     "data": {
      "text/plain": [
       "(1.6344332589642354,\n",
       " 0.052451252389033524,\n",
       " 0.015348422424728394,\n",
       " 0.10114060495692592)"
      ]
     },
     "execution_count": 49,
     "metadata": {},
     "output_type": "execute_result"
    }
   ],
   "source": [
    "tstat_HNX_19, pval_HNX_19 = scipy.stats.ttest_1samp(df_HNX_19['ret_buy'],0, alternative='greater')\n",
    "tstat_HNX_19, pval_HNX_19, df_HNX_19['ret_buy'].mean(), df_HNX_19['ret_buy'].std()"
   ]
  },
  {
   "cell_type": "code",
   "execution_count": 50,
   "metadata": {},
   "outputs": [
    {
     "data": {
      "text/plain": [
       "(2577.0, 0.18143065516594936, -0.9099264296378152, 0.0)"
      ]
     },
     "execution_count": 50,
     "metadata": {},
     "output_type": "execute_result"
    }
   ],
   "source": [
    "df_HNX_17 = df_new_buy[(df_new_buy['Exchange']=='HNX')&(df_new_buy['year']==2017)]\n",
    "\n",
    "w_HNX_17, p_HNX_17 = wilcoxon(df_HNX_17['ret_buy'], alternative='greater')\n",
    "w_HNX_17, p_HNX_17, norm.ppf(p_HNX_17), df_HNX_17['ret_buy'].median()"
   ]
  },
  {
   "cell_type": "code",
   "execution_count": 51,
   "metadata": {},
   "outputs": [
    {
     "data": {
      "text/plain": [
       "(1428.0, 0.6455023787874612, 0.37320585016024543, 0.0)"
      ]
     },
     "execution_count": 51,
     "metadata": {},
     "output_type": "execute_result"
    }
   ],
   "source": [
    "df_HNX_18 = df_new_buy[(df_new_buy['Exchange']=='HNX')&(df_new_buy['year']==2018)]\n",
    "\n",
    "w_HNX_18, p_HNX_18 = wilcoxon(df_HNX_18['ret_buy'], alternative='greater')\n",
    "w_HNX_18, p_HNX_18, norm.ppf(p_HNX_18), df_HNX_18['ret_buy'].median()"
   ]
  },
  {
   "cell_type": "code",
   "execution_count": 52,
   "metadata": {},
   "outputs": [
    {
     "data": {
      "text/plain": [
       "(2793.0, 0.04463294718414627, -1.6992828924315828, 0.00018342370385057748)"
      ]
     },
     "execution_count": 52,
     "metadata": {},
     "output_type": "execute_result"
    }
   ],
   "source": [
    "df_HNX_19 = df_new_buy[(df_new_buy['Exchange']=='HNX')&(df_new_buy['year']==2019)]\n",
    "\n",
    "w_HNX_19, p_HNX_19 = wilcoxon(df_HNX_19['ret_buy'], alternative='greater')\n",
    "w_HNX_19, p_HNX_19, norm.ppf(p_HNX_19), df_HNX_19['ret_buy'].median()"
   ]
  },
  {
   "cell_type": "code",
   "execution_count": 53,
   "metadata": {},
   "outputs": [
    {
     "data": {
      "text/plain": [
       "(2353.0, 0.005651615790629005, -2.533181789242572, 0.0026402254725575174)"
      ]
     },
     "execution_count": 53,
     "metadata": {},
     "output_type": "execute_result"
    }
   ],
   "source": [
    "df_HNX_20 = df_new_buy[(df_new_buy['Exchange']=='HNX')&(df_new_buy['year']==2020)]\n",
    "\n",
    "w_HNX_20, p_HNX_20 = wilcoxon(df_HNX_20['ret_buy'], alternative='greater')\n",
    "w_HNX_20, p_HNX_20, norm.ppf(p_HNX_20), df_HNX_20['ret_buy'].median()"
   ]
  },
  {
   "cell_type": "code",
   "execution_count": 54,
   "metadata": {},
   "outputs": [
    {
     "data": {
      "text/plain": [
       "(1717.0, 0.842017874814902, 1.0027857404453375, 0.0)"
      ]
     },
     "execution_count": 54,
     "metadata": {},
     "output_type": "execute_result"
    }
   ],
   "source": [
    "df_UPCOM_16 = df_new_buy[(df_new_buy['Exchange']=='UPCOM')&(df_new_buy['year']==2016)]\n",
    "\n",
    "w_UPCOM_16, p_UPCOM_16 = wilcoxon(df_UPCOM_16['ret_buy'], alternative='greater')\n",
    "w_UPCOM_16, p_UPCOM_16, norm.ppf(p_UPCOM_16), df_UPCOM_16['ret_buy'].median()"
   ]
  },
  {
   "cell_type": "code",
   "execution_count": 55,
   "metadata": {},
   "outputs": [
    {
     "data": {
      "text/plain": [
       "(4177.0, 0.39284647573525494, -0.27190775074108514, 0.0)"
      ]
     },
     "execution_count": 55,
     "metadata": {},
     "output_type": "execute_result"
    }
   ],
   "source": [
    "df_UPCOM_17 = df_new_buy[(df_new_buy['Exchange']=='UPCOM')&(df_new_buy['year']==2017)]\n",
    "\n",
    "w_UPCOM_17, p_UPCOM_17 = wilcoxon(df_UPCOM_17['ret_buy'], alternative='greater')\n",
    "w_UPCOM_17, p_UPCOM_17, norm.ppf(p_UPCOM_17), df_UPCOM_17['ret_buy'].median()"
   ]
  },
  {
   "cell_type": "code",
   "execution_count": 56,
   "metadata": {},
   "outputs": [
    {
     "data": {
      "text/plain": [
       "(3118.0, 0.7756583686054891, 0.7576120524602876, 0.0)"
      ]
     },
     "execution_count": 56,
     "metadata": {},
     "output_type": "execute_result"
    }
   ],
   "source": [
    "df_UPCOM_18 = df_new_buy[(df_new_buy['Exchange']=='UPCOM')&(df_new_buy['year']==2018)]\n",
    "\n",
    "w_UPCOM_18, p_UPCOM_18 = wilcoxon(df_UPCOM_18['ret_buy'], alternative='greater')\n",
    "w_UPCOM_18, p_UPCOM_18, norm.ppf(p_UPCOM_18), df_UPCOM_18['ret_buy'].median()"
   ]
  },
  {
   "cell_type": "code",
   "execution_count": 57,
   "metadata": {},
   "outputs": [
    {
     "data": {
      "text/plain": [
       "(3512.0, 0.05991436158079545, -1.5554929044531878, 0.0)"
      ]
     },
     "execution_count": 57,
     "metadata": {},
     "output_type": "execute_result"
    }
   ],
   "source": [
    "df_UPCOM_19 = df_new_buy[(df_new_buy['Exchange']=='UPCOM')&(df_new_buy['year']==2019)]\n",
    "\n",
    "w_UPCOM_19, p_UPCOM_19 = wilcoxon(df_UPCOM_19['ret_buy'], alternative='greater')\n",
    "w_UPCOM_19, p_UPCOM_19, norm.ppf(p_UPCOM_19), df_UPCOM_19['ret_buy'].median()"
   ]
  },
  {
   "cell_type": "code",
   "execution_count": 58,
   "metadata": {},
   "outputs": [
    {
     "data": {
      "text/plain": [
       "(4050.0, 0.022998336346498553, -1.995423842381571, 0.0)"
      ]
     },
     "execution_count": 58,
     "metadata": {},
     "output_type": "execute_result"
    }
   ],
   "source": [
    "df_UPCOM_20 = df_new_buy[(df_new_buy['Exchange']=='UPCOM')&(df_new_buy['year']==2020)]\n",
    "\n",
    "w_UPCOM_20, p_UPCOM_20 = wilcoxon(df_UPCOM_20['ret_buy'], alternative='greater')\n",
    "w_UPCOM_20, p_UPCOM_20, norm.ppf(p_UPCOM_20), df_UPCOM_20['ret_buy'].median()"
   ]
  },
  {
   "cell_type": "code",
   "execution_count": 59,
   "metadata": {},
   "outputs": [
    {
     "data": {
      "text/plain": [
       "(-1.4319595009828125,\n",
       " 0.9226541443124674,\n",
       " -0.022443430611370083,\n",
       " 0.17452970290272846)"
      ]
     },
     "execution_count": 59,
     "metadata": {},
     "output_type": "execute_result"
    }
   ],
   "source": [
    "tstat_UPCOM_16, pval_UPCOM_16 = scipy.stats.ttest_1samp(df_UPCOM_16['ret_buy'],0, alternative='greater')\n",
    "tstat_UPCOM_16, pval_UPCOM_16, df_UPCOM_16['ret_buy'].mean(), df_UPCOM_16['ret_buy'].std()"
   ]
  },
  {
   "cell_type": "code",
   "execution_count": 60,
   "metadata": {},
   "outputs": [
    {
     "data": {
      "text/plain": [
       "(0.7260285264661596,\n",
       " 0.23439011120807557,\n",
       " 0.005986697029361931,\n",
       " 0.11001289578553886)"
      ]
     },
     "execution_count": 60,
     "metadata": {},
     "output_type": "execute_result"
    }
   ],
   "source": [
    "tstat_UPCOM_17, pval_UPCOM_17 = scipy.stats.ttest_1samp(df_UPCOM_17['ret_buy'],0, alternative='greater')\n",
    "tstat_UPCOM_17, pval_UPCOM_17, df_UPCOM_17['ret_buy'].mean(), df_UPCOM_17['ret_buy'].std()"
   ]
  },
  {
   "cell_type": "code",
   "execution_count": 61,
   "metadata": {},
   "outputs": [
    {
     "data": {
      "text/plain": [
       "(-2.2796247774966987,\n",
       " 0.988120477767103,\n",
       " -0.03850239442444114,\n",
       " 0.2315811971058097)"
      ]
     },
     "execution_count": 61,
     "metadata": {},
     "output_type": "execute_result"
    }
   ],
   "source": [
    "tstat_UPCOM_18, pval_UPCOM_18 = scipy.stats.ttest_1samp(df_UPCOM_18['ret_buy'],0, alternative='greater')\n",
    "tstat_UPCOM_18, pval_UPCOM_18, df_UPCOM_18['ret_buy'].mean(), df_UPCOM_18['ret_buy'].std()"
   ]
  },
  {
   "cell_type": "code",
   "execution_count": 62,
   "metadata": {},
   "outputs": [
    {
     "data": {
      "text/plain": [
       "(1.1610316404685352,\n",
       " 0.12357063432400285,\n",
       " 0.014491827145991813,\n",
       " 0.1693121019903723)"
      ]
     },
     "execution_count": 62,
     "metadata": {},
     "output_type": "execute_result"
    }
   ],
   "source": [
    "tstat_UPCOM_19, pval_UPCOM_19 = scipy.stats.ttest_1samp(df_UPCOM_19['ret_buy'],0, alternative='greater')\n",
    "tstat_UPCOM_19, pval_UPCOM_19, df_UPCOM_19['ret_buy'].mean(), df_UPCOM_19['ret_buy'].std()"
   ]
  },
  {
   "cell_type": "code",
   "execution_count": 63,
   "metadata": {},
   "outputs": [
    {
     "data": {
      "text/plain": [
       "(2.062956233140475,\n",
       " 0.020164766532103893,\n",
       " 0.019163881416306955,\n",
       " 0.1358940203695287)"
      ]
     },
     "execution_count": 63,
     "metadata": {},
     "output_type": "execute_result"
    }
   ],
   "source": [
    "tstat_UPCOM_20, pval_UPCOM_20 = scipy.stats.ttest_1samp(df_UPCOM_20['ret_buy'],0, alternative='greater')\n",
    "tstat_UPCOM_20, pval_UPCOM_20, df_UPCOM_20['ret_buy'].mean(), df_UPCOM_20['ret_buy'].std()"
   ]
  },
  {
   "cell_type": "code",
   "execution_count": null,
   "metadata": {},
   "outputs": [],
   "source": []
  },
  {
   "cell_type": "code",
   "execution_count": null,
   "metadata": {},
   "outputs": [],
   "source": []
  },
  {
   "cell_type": "code",
   "execution_count": null,
   "metadata": {},
   "outputs": [],
   "source": []
  }
 ],
 "metadata": {
  "kernelspec": {
   "display_name": "Python 3",
   "language": "python",
   "name": "python3"
  },
  "language_info": {
   "codemirror_mode": {
    "name": "ipython",
    "version": 3
   },
   "file_extension": ".py",
   "mimetype": "text/x-python",
   "name": "python",
   "nbconvert_exporter": "python",
   "pygments_lexer": "ipython3",
   "version": "3.8.5"
  }
 },
 "nbformat": 4,
 "nbformat_minor": 4
}
